{
 "cells": [
  {
   "cell_type": "markdown",
   "metadata": {},
   "source": [
    "# Извлечение именованных сущностей."
   ]
  },
  {
   "cell_type": "markdown",
   "metadata": {},
   "source": [
    "Именованные сущности - общий термин, который используют для обозначения какого-то множества слов (словосочетаний, последовательностей символов), которые представляют какой-то особый инетерес в контексте решаемой практической задачи и которые нужно отделить от остальных слов. Это могут быть какие-то стандартные вещи: имена, фамилии, названия организаций, локации, денежные суммы, даты, номера телефонов, а могут быть и более специфичные: статьи кодексов, белки, симптомы, товары.\n"
   ]
  },
  {
   "cell_type": "markdown",
   "metadata": {},
   "source": [
    "В многих случаях достаточно написать регулярку, чтобы решить задачу на приемлемом уровне (например собрать все номера телефонов совсем несложно). Но когда сущности выражются нестандартным образом, а множество представителей сущности постоянно расширяется - задача становится очень сложной."
   ]
  },
  {
   "cell_type": "markdown",
   "metadata": {},
   "source": [
    "Стандартные сущности ещё можно извлекать с помощью готовых инструментов."
   ]
  },
  {
   "cell_type": "markdown",
   "metadata": {},
   "source": [
    "Для английского удобно использовать [SpaCy](https://spacy.io/). Там сразу извлекаются сущности с хорошим качеством."
   ]
  },
  {
   "cell_type": "markdown",
   "metadata": {},
   "source": [
    "Для русского (если не хочется ничего делать) можно использовать тэги из pymorphy."
   ]
  },
  {
   "cell_type": "code",
   "execution_count": 129,
   "metadata": {},
   "outputs": [],
   "source": [
    "from pymorphy2 import MorphAnalyzer\n",
    "morph = MorphAnalyzer()"
   ]
  },
  {
   "cell_type": "code",
   "execution_count": 130,
   "metadata": {},
   "outputs": [
    {
     "name": "stdout",
     "output_type": "stream",
     "text": [
      "Тэги -  NOUN,anim,masc,Name sing,nomn\n",
      "True\n"
     ]
    }
   ],
   "source": [
    "p = morph.parse('Михаил')[0].tag\n",
    "print('Тэги - ', p)\n",
    "print('Name' in p) #тэг имени"
   ]
  },
  {
   "cell_type": "code",
   "execution_count": 131,
   "metadata": {},
   "outputs": [
    {
     "name": "stdout",
     "output_type": "stream",
     "text": [
      "Тэги -  NOUN,anim,masc,Sgtm,Surn sing,nomn\n",
      "True\n"
     ]
    }
   ],
   "source": [
    "p = morph.parse('Иванов')[0].tag\n",
    "print('Тэги - ', p)\n",
    "print('Surn' in p) #тэг фамилии"
   ]
  },
  {
   "cell_type": "code",
   "execution_count": 132,
   "metadata": {},
   "outputs": [
    {
     "name": "stdout",
     "output_type": "stream",
     "text": [
      "Тэги -  NOUN,anim,masc,Patr sing,nomn\n",
      "True\n"
     ]
    }
   ],
   "source": [
    "p = morph.parse('Петрович')[0].tag\n",
    "print('Тэги - ', p)\n",
    "print('Patr' in p) #тэг отчества"
   ]
  },
  {
   "cell_type": "code",
   "execution_count": 137,
   "metadata": {},
   "outputs": [
    {
     "name": "stdout",
     "output_type": "stream",
     "text": [
      "Тэги -  NOUN,inan,neut,Sgtm,Geox sing,nomn\n",
      "True\n"
     ]
    }
   ],
   "source": [
    "p = morph.parse('Одинцово')[0].tag\n",
    "print('Тэги - ', p)\n",
    "print('Geox' in p) #тэг локация"
   ]
  },
  {
   "cell_type": "code",
   "execution_count": 138,
   "metadata": {},
   "outputs": [
    {
     "name": "stdout",
     "output_type": "stream",
     "text": [
      "Тэги -  NOUN,inan,masc,Orgn sing,nomn\n",
      "True\n"
     ]
    }
   ],
   "source": [
    "p = morph.parse('Яндекс')[0].tag\n",
    "print('Тэги - ', p)\n",
    "print('Orgn' in p) #тэг организация"
   ]
  },
  {
   "cell_type": "code",
   "execution_count": 142,
   "metadata": {},
   "outputs": [
    {
     "name": "stdout",
     "output_type": "stream",
     "text": [
      "Тэги -  NOUN,inan,masc,Sgtm,Fixd,Abbr,Orgn sing,gent\n",
      "True\n"
     ]
    }
   ],
   "source": [
    "p = morph.parse('МГУ')[0].tag\n",
    "print('Тэги - ', p)\n",
    "print('Orgn' in p) #тэг организация"
   ]
  },
  {
   "cell_type": "markdown",
   "metadata": {},
   "source": [
    "## &uarr;&uarr;&uarr;\n",
    "### Попробуйте другие слова для этих типов сущностей, чтобы понять, что работает, а что нет"
   ]
  },
  {
   "cell_type": "markdown",
   "metadata": {},
   "source": [
    "Рядом стоящие слова одного тэга можно склеить в один. Или сначала собрать нграмы и если какое-то одно слово в нграмме принадлежит к какому-то типу сущности, то распространить его на весь нграм."
   ]
  },
  {
   "cell_type": "markdown",
   "metadata": {},
   "source": [
    "Другой инструмент - natasha (https://github.com/natasha/natasha)"
   ]
  },
  {
   "cell_type": "markdown",
   "metadata": {},
   "source": [
    "Она основана на парсере yargy https://github.com/natasha/yargy и представляет собой набор готовых правил для извлечения некоторых сущностей."
   ]
  },
  {
   "cell_type": "code",
   "execution_count": 143,
   "metadata": {},
   "outputs": [],
   "source": [
    "from natasha import (NamesExtractor,\n",
    "                     SimpleNamesExtractor,\n",
    "                     PersonExtractor,\n",
    "                     LocationExtractor,\n",
    "                     AddressExtractor,\n",
    "                     OrganisationExtractor,\n",
    "                     DatesExtractor,\n",
    "                     MoneyExtractor,\n",
    "                     MoneyRateExtractor,\n",
    "                     MoneyRangeExtractor)\n",
    "\n",
    "from natasha.markup import (show_markup_notebook as show_markup,\n",
    "                            format_json)"
   ]
  },
  {
   "cell_type": "code",
   "execution_count": 146,
   "metadata": {},
   "outputs": [
    {
     "data": {
      "text/html": [
       "<style>\n",
       "\n",
       ".markup {\n",
       "    white-space: pre-wrap;\n",
       "}\n",
       "\n",
       ".markup > mark {\n",
       "    padding: 0.15em;\n",
       "    border-radius: 0.25em;\n",
       "    border: 1px solid #fdf07c;\n",
       "    background: #ffffc2;\n",
       "}\n",
       "    </style><div class=\"markup tex2jax_ignore\"><mark>Влад Веселов</mark>. <mark>Андрей Петрович</mark>. <mark>Алиса Викторовна</mark>. Студия <mark>Артемия Лебедева</mark></div>"
      ],
      "text/plain": [
       "<IPython.core.display.HTML object>"
      ]
     },
     "metadata": {},
     "output_type": "display_data"
    }
   ],
   "source": [
    "text = 'Влад Веселов. Андрей Петрович. Алиса Викторовна. Студия Артемия Лебедева'\n",
    "\n",
    "extractor_per = NamesExtractor()\n",
    "matches = extractor_per(text)\n",
    "spans = [_.span for _ in matches]\n",
    "facts = [_.fact.as_json for _ in matches]\n",
    "show_markup(text, spans)\n",
    "# print(format_json(facts))"
   ]
  },
  {
   "cell_type": "code",
   "execution_count": 147,
   "metadata": {},
   "outputs": [
    {
     "data": {
      "text/html": [
       "<style>\n",
       "\n",
       ".markup {\n",
       "    white-space: pre-wrap;\n",
       "}\n",
       "\n",
       ".markup > mark {\n",
       "    padding: 0.15em;\n",
       "    border-radius: 0.25em;\n",
       "    border: 1px solid #fdf07c;\n",
       "    background: #ffffc2;\n",
       "}\n",
       "    </style><div class=\"markup tex2jax_ignore\"><mark>Влад Веселов</mark>. Петрович. Алиса. Студия <mark>Артемия Лебедева</mark></div>"
      ],
      "text/plain": [
       "<IPython.core.display.HTML object>"
      ]
     },
     "metadata": {},
     "output_type": "display_data"
    }
   ],
   "source": [
    "text = 'Влад Веселов. Петрович. Алиса. Студия Артемия Лебедева'\n",
    "\n",
    "extractor_per = PersonExtractor()\n",
    "matches = extractor_per(text)\n",
    "spans = [_.span for _ in matches]\n",
    "facts = [_.fact.as_json for _ in matches]\n",
    "show_markup(text, spans)\n",
    "# print(format_json(facts))"
   ]
  },
  {
   "cell_type": "code",
   "execution_count": 5,
   "metadata": {},
   "outputs": [
    {
     "data": {
      "text/html": [
       "<style>\n",
       "\n",
       ".markup {\n",
       "    white-space: pre-wrap;\n",
       "}\n",
       "\n",
       ".markup > mark {\n",
       "    padding: 0.15em;\n",
       "    border-radius: 0.25em;\n",
       "    border: 1px solid #fdf07c;\n",
       "    background: #ffffc2;\n",
       "}\n",
       "    </style><div class=\"markup tex2jax_ignore\">Более <mark>того</mark> в <mark>Москве</mark>, в районе <mark>Строгино</mark>. На реке <mark>Оке</mark>. В <mark>германии</mark></div>"
      ],
      "text/plain": [
       "<IPython.core.display.HTML object>"
      ]
     },
     "metadata": {},
     "output_type": "display_data"
    }
   ],
   "source": [
    "text = 'Более того в Москве, в районе Строгино. На реке Оке. В германии'\n",
    "\n",
    "extractor_loc = LocationExtractor()\n",
    "matches = extractor_loc(text)\n",
    "spans = [_.span for _ in matches]\n",
    "facts = [_.fact.as_json for _ in matches]\n",
    "show_markup(text, spans)\n",
    "# print(format_json(facts))"
   ]
  },
  {
   "cell_type": "code",
   "execution_count": 157,
   "metadata": {},
   "outputs": [
    {
     "data": {
      "text/html": [
       "<style>\n",
       "\n",
       ".markup {\n",
       "    white-space: pre-wrap;\n",
       "}\n",
       "\n",
       ".markup > mark {\n",
       "    padding: 0.15em;\n",
       "    border-radius: 0.25em;\n",
       "    border: 1px solid #fdf07c;\n",
       "    background: #ffffc2;\n",
       "}\n",
       "    </style><div class=\"markup tex2jax_ignore\"><mark>ФСБ</mark>. <mark>Московский государственный университет</mark>. <mark>Высшая школа</mark> экономики. ВШЭ. Mail.ru <mark>КГБ</mark></div>"
      ],
      "text/plain": [
       "<IPython.core.display.HTML object>"
      ]
     },
     "metadata": {},
     "output_type": "display_data"
    }
   ],
   "source": [
    "text = 'ФСБ. Московский государственный университет. Высшая школа экономики. ВШЭ. Mail.ru '\n",
    "\n",
    "extractor_org = OrganisationExtractor()\n",
    "matches = extractor_org(text)\n",
    "spans = [_.span for _ in matches]\n",
    "facts = [_.fact.as_json for _ in matches]\n",
    "show_markup(text, spans)\n",
    "# print(format_json(facts))"
   ]
  },
  {
   "cell_type": "code",
   "execution_count": 161,
   "metadata": {},
   "outputs": [
    {
     "data": {
      "text/html": [
       "<style>\n",
       "\n",
       ".markup {\n",
       "    white-space: pre-wrap;\n",
       "}\n",
       "\n",
       ".markup > mark {\n",
       "    padding: 0.15em;\n",
       "    border-radius: 0.25em;\n",
       "    border: 1px solid #fdf07c;\n",
       "    background: #ffffc2;\n",
       "}\n",
       "    </style><div class=\"markup tex2jax_ignore\">С <mark>2015 г.</mark> по <mark>2017 год</mark>. <mark>16 апреля 1993 года</mark>. В четверг . <mark>23.04.18</mark></div>"
      ],
      "text/plain": [
       "<IPython.core.display.HTML object>"
      ]
     },
     "metadata": {},
     "output_type": "display_data"
    }
   ],
   "source": [
    "text = 'С 2015 г. по 2017 год. 16 апреля 1993 года. В четверг . 23.04.18'\n",
    "\n",
    "extractor_date = DatesExtractor()\n",
    "matches = extractor_date(text)\n",
    "spans = [_.span for _ in matches]\n",
    "facts = [_.fact.as_json for _ in matches]\n",
    "show_markup(text, spans)\n",
    "# print(format_json(facts))"
   ]
  },
  {
   "cell_type": "code",
   "execution_count": 168,
   "metadata": {},
   "outputs": [
    {
     "data": {
      "text/html": [
       "<style>\n",
       "\n",
       ".markup {\n",
       "    white-space: pre-wrap;\n",
       "}\n",
       "\n",
       ".markup > mark {\n",
       "    padding: 0.15em;\n",
       "    border-radius: 0.25em;\n",
       "    border: 1px solid #fdf07c;\n",
       "    background: #ffffc2;\n",
       "}\n",
       "    </style><div class=\"markup tex2jax_ignore\">Он заплатил ему 3 <mark>000 000 000 рублей</mark>.</div>"
      ],
      "text/plain": [
       "<IPython.core.display.HTML object>"
      ]
     },
     "metadata": {},
     "output_type": "display_data"
    }
   ],
   "source": [
    "text = \"Он заплатил ему 3 000 000 000 рублей.\"\n",
    "\n",
    "extractor_money = MoneyExtractor()\n",
    "matches = extractor_money(text)\n",
    "spans = [_.span for _ in matches]\n",
    "facts = [_.fact.as_json for _ in matches]\n",
    "show_markup(text, spans)\n",
    "# print(format_json(facts))"
   ]
  },
  {
   "cell_type": "markdown",
   "metadata": {},
   "source": [
    "Ещё есть томита-парсер, но с ним очень тяжело работать (никакого развития, скудная документация, закрытый код, никакого сообщества) https://tech.yandex.ru/tomita/"
   ]
  },
  {
   "cell_type": "markdown",
   "metadata": {},
   "source": [
    "Если нужно улучшить выделение стандартныйх типов или научиться извлекать специфичные сущности, нужно писать правила в Yargy. "
   ]
  },
  {
   "cell_type": "markdown",
   "metadata": {},
   "source": [
    "Возьмем тексты объявлений на авито по категории Консоли и попробуем научиться выделять названия приставок Xbox и Playstation."
   ]
  },
  {
   "cell_type": "code",
   "execution_count": 1,
   "metadata": {},
   "outputs": [],
   "source": [
    "import pandas as pd\n",
    "pd.set_option('display.max_colwidth', -1)"
   ]
  },
  {
   "cell_type": "markdown",
   "metadata": {},
   "source": [
    "Посмотрим на данные."
   ]
  },
  {
   "cell_type": "code",
   "execution_count": 2,
   "metadata": {},
   "outputs": [],
   "source": [
    "data = pd.read_csv('pristavki.csv', header=None, names=['text'])"
   ]
  },
  {
   "cell_type": "code",
   "execution_count": 4,
   "metadata": {},
   "outputs": [
    {
     "data": {
      "text/plain": [
       "(9285, 1)"
      ]
     },
     "execution_count": 4,
     "metadata": {},
     "output_type": "execute_result"
    }
   ],
   "source": [
    "data.shape"
   ]
  },
  {
   "cell_type": "markdown",
   "metadata": {},
   "source": [
    "Давайте попробуем сначала полные варианты: Xbox 360, Xbox one, Playstation 1,2,3,4."
   ]
  },
  {
   "cell_type": "code",
   "execution_count": 171,
   "metadata": {},
   "outputs": [],
   "source": [
    "from yargy import Parser, rule, or_\n",
    "from yargy.predicates import in_, in_caseless\n",
    "from yargy.tokenizer import MorphTokenizer\n",
    "from yargy.pipelines import morph_pipeline, caseless_pipeline\n",
    "from yargy.interpretation import fact\n",
    "from IPython.display import display"
   ]
  },
  {
   "cell_type": "markdown",
   "metadata": {},
   "source": [
    "Для начала определим саму сущность, которую будет извлекать. Сущность будет называться Pristavka и неё будет два атрибута: название и версия. Делается это вот так:"
   ]
  },
  {
   "cell_type": "code",
   "execution_count": 175,
   "metadata": {},
   "outputs": [],
   "source": [
    "\n",
    "Pristavka = fact(\n",
    "    'Pristavka',\n",
    "    ['name', 'model']\n",
    ")"
   ]
  },
  {
   "cell_type": "markdown",
   "metadata": {},
   "source": [
    "(Чуть позже станет понятнее зачем так делать)"
   ]
  },
  {
   "cell_type": "markdown",
   "metadata": {},
   "source": [
    "Теперь сделаем правило для иксбокса. Просто напишем несколько вариантов написания Xbox и версий.\n",
    "Такой список называется Газзетир. В Yargy его удобно задавать через morph_pipeline. Туда можно написать слова или последовательности, а он их нормализует, чтобы потом сопоставлять с текстом.\n"
   ]
  },
  {
   "cell_type": "markdown",
   "metadata": {},
   "source": [
    "В итоге у нас два газзетира. Мы оборачиваем их в правило (rule). Работать это будет примерно как регулярка. "
   ]
  },
  {
   "cell_type": "code",
   "execution_count": 176,
   "metadata": {},
   "outputs": [],
   "source": [
    "Xbox = rule(\n",
    "    morph_pipeline(['Xbox', 'X box', \"Иксбокс\"]).interpretation(Pristavka.name), # то, что сматчиться будет в атрибуте name\n",
    "    morph_pipeline(['360', 'one']).interpretation(Pristavka.model)) # то, что сматчиться будет в атрибуте version\n"
   ]
  },
  {
   "cell_type": "markdown",
   "metadata": {},
   "source": [
    "Правило для плейстешена будет аналогичное."
   ]
  },
  {
   "cell_type": "code",
   "execution_count": 177,
   "metadata": {},
   "outputs": [],
   "source": [
    "PS = rule(\n",
    "    morph_pipeline(['Playstation', 'Play station', 'PS']).interpretation(Pristavka.name),\n",
    "    morph_pipeline(['1', '2', '3', '4']).interpretation(Pristavka.model)    \n",
    "    )"
   ]
  },
  {
   "cell_type": "markdown",
   "metadata": {},
   "source": [
    "Теперь сделаем общее правило, которое будет искать плейстешены или иксбоксы и извлекать их как сущность типа Pristavka."
   ]
  },
  {
   "cell_type": "code",
   "execution_count": 178,
   "metadata": {},
   "outputs": [],
   "source": [
    "PRISTAVKA = or_(PS, Xbox).interpretation(Pristavka)\n",
    "\n",
    "parser = Parser(PRISTAVKA) # создаем парсер, которым будем проходить по тексту"
   ]
  },
  {
   "cell_type": "markdown",
   "metadata": {},
   "source": [
    "Попробуем сматчить по текстам."
   ]
  },
  {
   "cell_type": "code",
   "execution_count": 179,
   "metadata": {},
   "outputs": [],
   "source": [
    "matches = []\n",
    "\n",
    "for sent in data.text[:100]:\n",
    "    for match in parser.findall(sent):\n",
    "        matches.append(match.fact)"
   ]
  },
  {
   "cell_type": "code",
   "execution_count": 180,
   "metadata": {},
   "outputs": [
    {
     "name": "stdout",
     "output_type": "stream",
     "text": [
      "PS 3\n",
      "Ps 4\n",
      "PS 1\n",
      "PS 3\n",
      "PlayStation 3\n",
      "PS 3\n",
      "Xbox 360\n",
      "Playstation 3\n",
      "Ps 4\n",
      "ps 2\n",
      "Xbox 360\n",
      "PS 4\n",
      "PS 3\n",
      "PS 4\n",
      "PS 3\n",
      "Xbox 360\n",
      "Xbox One\n",
      "PS 4\n",
      "Xbox 360\n",
      "Xbox One\n",
      "PlayStation 3\n",
      "xbox 360\n",
      "PS 4\n",
      "Xbox 360\n",
      "Playstation 3\n",
      "Playstation 4\n",
      "Xbox 360\n",
      "Xbox One\n",
      "ps 4\n",
      "ps 4\n",
      "Xbox 360\n",
      "PS 3\n",
      "PS 3\n",
      "XBox 360\n",
      "XBox 360\n",
      "Ps 3\n"
     ]
    }
   ],
   "source": [
    "for m in matches:\n",
    "    print(m.name, m.model)"
   ]
  },
  {
   "cell_type": "markdown",
   "metadata": {},
   "source": [
    "У приставок ещё могут быть подификации вроде Slim, X, S и т.д, но не всегда. Чтобы учесть это можно добавить ещё одно правило с .optional() на конце."
   ]
  },
  {
   "cell_type": "code",
   "execution_count": 57,
   "metadata": {},
   "outputs": [],
   "source": []
  },
  {
   "cell_type": "code",
   "execution_count": 184,
   "metadata": {},
   "outputs": [],
   "source": [
    "Pristavka = fact(\n",
    "    'Pristavka',\n",
    "    ['name', 'model','version']\n",
    ")\n",
    "\n",
    "Xbox = rule(\n",
    "    morph_pipeline(['Xbox', 'X box', \"Иксбокс\"]).interpretation(Pristavka.name),\n",
    "    morph_pipeline(['360', 'one']).interpretation(Pristavka.model),\n",
    "    morph_pipeline(['s', 'x', 'e']).interpretation(Pristavka.version).optional()) \n",
    "\n",
    "PS = rule(\n",
    "    morph_pipeline(['Playstation', 'Play station', 'PS']).interpretation(Pristavka.name),\n",
    "    morph_pipeline(['1', '2', '3', '4']).interpretation(Pristavka.model),\n",
    "    morph_pipeline(['Slim', 'SuperSlim', 'слим']).interpretation(Pristavka.version).optional()\n",
    "    )\n",
    "PRISTAVKA = or_(PS, Xbox).interpretation(Pristavka)\n",
    "\n",
    "parser = Parser(PRISTAVKA) # создаем парсер, которым будем проходить по тексту"
   ]
  },
  {
   "cell_type": "code",
   "execution_count": 185,
   "metadata": {},
   "outputs": [],
   "source": [
    "matches = []\n",
    "\n",
    "for sent in data.text[:1000]:\n",
    "    for match in parser.findall(sent):\n",
    "        matches.append(match.fact)"
   ]
  },
  {
   "cell_type": "code",
   "execution_count": 188,
   "metadata": {},
   "outputs": [
    {
     "data": {
      "text/plain": [
       "Pristavka(name='Playstation',\n",
       "          model='3',\n",
       "          version=None)"
      ]
     },
     "execution_count": 188,
     "metadata": {},
     "output_type": "execute_result"
    }
   ],
   "source": [
    "list(parser.findall('Playstation 3 fdf'))[0].fact"
   ]
  },
  {
   "cell_type": "code",
   "execution_count": 186,
   "metadata": {
    "scrolled": true
   },
   "outputs": [
    {
     "name": "stdout",
     "output_type": "stream",
     "text": [
      "PS 3\n",
      "Ps 4\n",
      "PS 1\n",
      "PS 3\n",
      "PlayStation 3\n",
      "PS 3\n",
      "Xbox 360\n",
      "Playstation 3\n",
      "Ps 4\n",
      "ps 2\n",
      "Xbox 360\n",
      "PS 4\n",
      "PS 3\n",
      "PS 4\n",
      "PS 3\n",
      "Xbox 360\n",
      "Xbox One\n",
      "PS 4\n",
      "Xbox 360\n",
      "Xbox One\n",
      "PlayStation 3\n",
      "xbox 360\n",
      "PS 4\n",
      "Xbox 360\n",
      "Playstation 3\n",
      "Playstation 4\n",
      "Xbox 360\n",
      "Xbox One\n",
      "ps 4\n",
      "ps 4\n",
      "Xbox 360\n",
      "PS 3\n",
      "PS 3\n",
      "XBox 360\n",
      "XBox 360\n",
      "Ps 3\n",
      "PS 3\n",
      "PS 3\n",
      "PS 4\n",
      "ps 4\n",
      "PS 4\n",
      "xbox 360\n",
      "X box One\n",
      "xbox 360\n",
      "PS 3\n",
      "XBOX 360\n",
      "XBOX 360\n",
      "Playstation 3\n",
      "PS 2\n",
      "PlayStation 3\n",
      "PlayStation 3\n",
      "PlayStation 3\n",
      "Playstation 3\n",
      "Playstation 4\n",
      "Xbox 360\n",
      "Xbox One\n",
      "XBOX ONE\n",
      "PS 2\n",
      "PS 4\n",
      "Xbox One\n",
      "PS 4\n",
      "PS 4\n",
      "playstation 3\n",
      "PS 3\n",
      "Xbox one\n",
      "PS 4\n",
      "ps 2\n",
      "ps 3\n",
      "PS 4\n",
      "Xbox 360\n",
      "PS 4\n",
      "PlayStation 4\n",
      "PS 4\n",
      "PS 4\n",
      "PlayStation 4\n",
      "PlayStation 4\n",
      "PlayStation 4\n",
      "PS 4\n",
      "Playstation 4\n",
      "PS 4\n",
      "Playstation 4\n",
      "PS 4\n",
      "Playstation 4\n",
      "PS 3\n",
      "Xbox 360\n",
      "playstation 4\n",
      "Xbox 360\n",
      "ps 3\n",
      "Xbox 360\n",
      "Playstation 4\n",
      "Ps 4\n",
      "ps 4\n",
      "ps 4\n",
      "xbox one\n",
      "PS 4\n",
      "PS 2\n",
      "Xbox One\n",
      "Playstation 2\n",
      "PS 4\n",
      "PS 4\n",
      "xbox one\n",
      "PS 4\n",
      "PS 4\n",
      "xbox ONE\n",
      "PS 3\n",
      "Playstation 3\n",
      "Playstation 3\n",
      "xbox 360\n",
      "PS 4\n",
      "playstation 4\n",
      "XBOX 360\n",
      "PlayStation 3\n",
      "Xbox One\n",
      "Play Station 2\n",
      "ps 3\n",
      "PS 3\n",
      "PS 4\n",
      "PS 3\n",
      "XBOX 360\n",
      "PS 2\n",
      "ps 3\n",
      "PS 3\n",
      "PS 4\n",
      "xbox 360\n",
      "Xbox 360\n",
      "Playstation 3\n",
      "Playstation 4\n",
      "Xbox 360\n",
      "Xbox One\n",
      "PlayStation 4\n",
      "PS 3\n",
      "PS 4\n",
      "Playstation 3\n",
      "Xbox One\n",
      "PS 3\n",
      "PS 4\n",
      "xbox 360\n",
      "PS 3\n",
      "ps 3\n",
      "PlayStation 3\n",
      "PS 3\n",
      "PS 4\n",
      "Playstation 3\n",
      "PS 3\n",
      "PS 4\n",
      "Play Station 3\n",
      "PS 4\n",
      "ps 3\n",
      "playstation 3\n",
      "xbox 360\n",
      "xbox 360\n",
      "PS 3\n",
      "ps 3\n",
      "PS 3\n",
      "PS 2\n",
      "PS 3\n",
      "Playstation 3\n",
      "playstation 4\n",
      "PlayStation 3\n",
      "PS 4\n",
      "PS 4\n",
      "xbox 360\n",
      "PS 4\n",
      "Playstation 3\n",
      "Xbox 360\n",
      "PS 3\n",
      "PlayStation 3\n",
      "xbox one\n",
      "PS 3\n",
      "PS 3\n",
      "PS 4\n",
      "PS 3\n",
      "PlayStation 3\n",
      "Xbox one\n",
      "ps 3\n",
      "Xbox One\n",
      "Xbox One\n",
      "PS 4\n",
      "XBox 360\n",
      "PlayStation 4\n",
      "PlayStation 4\n",
      "playstation 4\n",
      "PS 3\n",
      "xbox 360\n",
      "PS 3\n",
      "playstation 3\n",
      "xbox 360\n",
      "PlayStation 3\n",
      "PlayStation 3\n",
      "PS 4\n",
      "Xbox One\n",
      "PS 4\n",
      "PS 3\n",
      "PS 4\n",
      "PS 2\n",
      "PS 3\n",
      "PS 4\n",
      "PlayStation 4\n",
      "Playstation 3\n",
      "PS 3\n",
      "PlayStation 4\n",
      "PS 3\n",
      "Xbox 360\n",
      "PS 3\n",
      "XBOX 360\n",
      "PS 4\n",
      "Ps 3\n",
      "Playstation 3\n",
      "Playstation 4\n",
      "Xbox 360\n",
      "Xbox One\n",
      "PS 3\n",
      "ps 3\n",
      "ps 4\n",
      "Xbox 360\n",
      "Playstation 4\n",
      "PS 4\n",
      "PS 4\n",
      "PlayStation 3\n",
      "PlayStation 3\n",
      "PS 3\n",
      "PS 4\n",
      "PS 4\n",
      "PS 4\n",
      "PlayStation 4\n",
      "Playstation 3\n",
      "Playstation 4\n",
      "Xbox 360\n",
      "Xbox One\n",
      "Xbox one\n",
      "PS 4\n",
      "PS 4\n",
      "Xbox 360\n",
      "ps 4\n",
      "PS 4\n",
      "PS 4\n",
      "PS 3\n",
      "XBOX ONE\n",
      "xbox 360\n",
      "Xbox 360\n",
      "Playstation 4\n",
      "xbox 360\n",
      "PS 4\n",
      "Xbox one\n",
      "Playstation 3\n",
      "PlayStation 4\n",
      "PS 4\n",
      "Ps 3\n",
      "ps 3\n",
      "xbox 360\n",
      "ps 4\n",
      "ps 4\n",
      "Ps 3\n",
      "PS 3\n",
      "Xbox One\n",
      "PS 4\n",
      "Xbox 360\n",
      "Xbox 360\n",
      "PS 4\n",
      "PlayStation 3\n",
      "PS 3\n",
      "Xbox 360\n",
      "Xbox 360\n",
      "playstation 3\n",
      "ps 2\n",
      "PS 3\n",
      "PS 3\n",
      "Xbox 360\n",
      "PS 3\n",
      "Playstation 3\n",
      "xbox 360\n",
      "xbox 360\n",
      "Xbox 360\n",
      "PS 3\n",
      "ps 3\n",
      "PLAYSTATION 3\n",
      "PS 3\n",
      "ps 4\n",
      "Xbox 360\n",
      "Playstation 3\n",
      "Playstation 4\n",
      "Xbox 360\n",
      "Xbox One\n",
      "Play Station 1\n",
      "PS 4\n",
      "XBOX ONE\n",
      "Xbox One\n",
      "Xbox 360\n",
      "xbox 360\n",
      "xbox 360\n",
      "PS 3\n",
      "PS 3\n",
      "PlayStation 3\n",
      "ps 2\n",
      "PlayStation 3\n",
      "Xbox 360\n",
      "Playstation 4\n",
      "PS 4\n",
      "PlayStation 4\n",
      "PlayStation 2\n",
      "Xbox 360\n",
      "Xbox 360\n",
      "ps 4\n",
      "Ps 4\n",
      "Playstation 1\n",
      "PS 1\n",
      "PS 2\n",
      "ps 3\n",
      "XBox One\n",
      "PS 4\n",
      "PS 3\n",
      "XBOX 360\n",
      "XBOX 360\n",
      "PS 2\n",
      "PS 4\n",
      "xbox 360\n",
      "PlayStation 2\n",
      "PlayStation 2\n",
      "PlayStation 2\n",
      "PlayStation 2\n",
      "ps 4\n",
      "PS 2\n",
      "PlayStation 2\n",
      "ps 3\n",
      "Xbox 360\n",
      "PlayStation 4\n",
      "Play station 4\n",
      "PS 3\n",
      "ps 4\n",
      "PlayStation 3\n",
      "PlayStation 3\n",
      "PlayStation 3\n",
      "Xbox 360\n",
      "PlayStation 3\n",
      "PS 3\n",
      "PS 3\n",
      "PS 4\n",
      "PS 4\n",
      "ps 2\n",
      "Play Station 3\n",
      "Playstation 3\n",
      "PlayStation 4\n",
      "PlayStation 4\n",
      "PS 4\n",
      "PS 4\n",
      "PS 4\n",
      "Xbox One\n",
      "xbox 360\n",
      "Playstation 3\n",
      "PS 3\n",
      "иксбокс 360\n",
      "PlayStation 4\n",
      "Xbox 360\n",
      "ps 4\n",
      "Xbox 360\n",
      "Xbox 360\n",
      "PS 3\n",
      "PS 3\n",
      "ps 4\n",
      "PlayStation 4\n",
      "ps 4\n",
      "ps 3\n",
      "Xbox One\n",
      "xbox 360\n",
      "PS 4\n",
      "PS 4\n",
      "Playstation 4\n",
      "PlayStation 3\n",
      "PS 4\n",
      "ps 2\n",
      "PS 4\n",
      "Xbox one\n",
      "PS 4\n",
      "PS 2\n",
      "PS 3\n",
      "PlayStation 2\n",
      "PS 4\n",
      "Playstation 3\n",
      "ps 2\n",
      "PS 3\n",
      "XBOX 360\n"
     ]
    }
   ],
   "source": [
    "for m in matches:\n",
    "    print(m.name, m.model)"
   ]
  },
  {
   "cell_type": "markdown",
   "metadata": {},
   "source": [
    "Все работает как и должно."
   ]
  },
  {
   "cell_type": "markdown",
   "metadata": {},
   "source": [
    "Хорошо бы ещё приводить все варианты названия к нормальному виду. Вот как это можно сделать."
   ]
  },
  {
   "cell_type": "markdown",
   "metadata": {},
   "source": [
    "Если можно заменить весь газзетир на какое-то одно слово, то можно просто добавить в интерпретации значение .сonst('something')"
   ]
  },
  {
   "cell_type": "code",
   "execution_count": 189,
   "metadata": {},
   "outputs": [],
   "source": [
    "Pristavka = fact(\n",
    "    'Pristavka',\n",
    "    ['name', 'model','version']\n",
    ")\n",
    "\n",
    "Xbox = rule(\n",
    "    morph_pipeline(['Xbox', 'X box', \"Иксбокс\"]).interpretation(Pristavka.name.const('Xbox')),\n",
    "    morph_pipeline(['360', 'one']).interpretation(Pristavka.model),\n",
    "    morph_pipeline(['s', 'x', 'e']).interpretation(Pristavka.version).optional()) \n",
    "\n",
    "PS = rule(\n",
    "    morph_pipeline(['Playstation', 'Play station', 'PS']).interpretation(Pristavka.name.const('Playstation')),\n",
    "    morph_pipeline(['1', '2', '3', '4']).interpretation(Pristavka.model),\n",
    "    morph_pipeline(['Slim', 'SuperSlim', 'слим']).interpretation(Pristavka.version).optional()\n",
    "    )\n",
    "PRISTAVKA = or_(PS, Xbox).interpretation(Pristavka)\n",
    "\n",
    "parser = Parser(PRISTAVKA) # создаем парсер, которым будем проходить по тексту"
   ]
  },
  {
   "cell_type": "code",
   "execution_count": 190,
   "metadata": {},
   "outputs": [],
   "source": [
    "matches = []\n",
    "\n",
    "for sent in data.text[:200]:\n",
    "    for match in parser.findall(sent):\n",
    "        matches.append(match.fact)"
   ]
  },
  {
   "cell_type": "code",
   "execution_count": 191,
   "metadata": {
    "scrolled": true
   },
   "outputs": [
    {
     "name": "stdout",
     "output_type": "stream",
     "text": [
      "Playstation 3\n",
      "Playstation 4\n",
      "Playstation 1\n",
      "Playstation 3\n",
      "Playstation 3\n",
      "Playstation 3\n",
      "Xbox 360\n",
      "Playstation 3\n",
      "Playstation 4\n",
      "Playstation 2\n",
      "Xbox 360\n",
      "Playstation 4\n",
      "Playstation 3\n",
      "Playstation 4\n",
      "Playstation 3\n",
      "Xbox 360\n",
      "Xbox One\n",
      "Playstation 4\n",
      "Xbox 360\n",
      "Xbox One\n",
      "Playstation 3\n",
      "Xbox 360\n",
      "Playstation 4\n",
      "Xbox 360\n",
      "Playstation 3\n",
      "Playstation 4\n",
      "Xbox 360\n",
      "Xbox One\n",
      "Playstation 4\n",
      "Playstation 4\n",
      "Xbox 360\n",
      "Playstation 3\n",
      "Playstation 3\n",
      "Xbox 360\n",
      "Xbox 360\n",
      "Playstation 3\n",
      "Playstation 3\n",
      "Playstation 3\n",
      "Playstation 4\n",
      "Playstation 4\n",
      "Playstation 4\n",
      "Xbox 360\n",
      "Xbox One\n",
      "Xbox 360\n",
      "Playstation 3\n",
      "Xbox 360\n",
      "Xbox 360\n",
      "Playstation 3\n",
      "Playstation 2\n",
      "Playstation 3\n",
      "Playstation 3\n",
      "Playstation 3\n",
      "Playstation 3\n",
      "Playstation 4\n",
      "Xbox 360\n",
      "Xbox One\n",
      "Xbox ONE\n",
      "Playstation 2\n",
      "Playstation 4\n",
      "Xbox One\n",
      "Playstation 4\n",
      "Playstation 4\n",
      "Playstation 3\n",
      "Playstation 3\n",
      "Xbox one\n",
      "Playstation 4\n"
     ]
    }
   ],
   "source": [
    "for m in matches:\n",
    "    print(m.name, m.model)"
   ]
  },
  {
   "cell_type": "markdown",
   "metadata": {},
   "source": [
    "В общем случае к нормальной форме приводит .normalized() добавленный к атрибуту в интерпретации. Но он работает через pymorphy2, а он работает с русским языком. Поэтому в нашем случае его можно использовать только для привода к нижнему регистру."
   ]
  },
  {
   "cell_type": "markdown",
   "metadata": {},
   "source": [
    "Когда у каждого и слов в газзетире есть своя нормальная форма, можно сделать газзетир словарём, где ключи это нужные формы, а значения - нормальные формы. А в интерпретации к .normalized() добавить .custom() и через него дергать нужную правильную форму."
   ]
  },
  {
   "cell_type": "code",
   "execution_count": 192,
   "metadata": {},
   "outputs": [],
   "source": [
    "Pristavka = fact(\n",
    "    'Pristavka',\n",
    "    ['name', 'model','version']\n",
    ")\n",
    "\n",
    "VERSIONS = {\n",
    "    'super slim': 'SuperSlim',\n",
    "    'superslim': 'SuperSlim',\n",
    "    'slim': 'Slim',\n",
    "    'fat': 'Fat',\n",
    "    'pro': 'PRO',\n",
    "    'vita': 'VITA'\n",
    "}\n",
    "\n",
    "Xbox = rule(\n",
    "    morph_pipeline(['Xbox', 'X box', \"Иксбокс\"]).interpretation(Pristavka.name.const('Xbox')),\n",
    "    morph_pipeline(['360', 'one']).interpretation(Pristavka.model.normalized()),\n",
    "    in_caseless('sxe').interpretation(Pristavka.version.normalized()).optional()) \n",
    "\n",
    "PS = rule(\n",
    "    morph_pipeline(['Playstation', 'Play station', 'PS']).interpretation(Pristavka.name.const('Playstation')),\n",
    "    # для простоты можно написать вот так\n",
    "    in_('1234').interpretation(Pristavka.model.normalized()),\n",
    "    #изменения вот тут                                                      вот тут дергаем правильную форму\n",
    "    caseless_pipeline(VERSIONS).interpretation(Pristavka.version.normalized().custom(VERSIONS.get)).optional()\n",
    "    )\n",
    "PRISTAVKA = or_(PS, Xbox).interpretation(Pristavka)\n",
    "\n",
    "parser = Parser(PRISTAVKA) # создаем парсер, которым будем проходить по тексту"
   ]
  },
  {
   "cell_type": "code",
   "execution_count": 195,
   "metadata": {},
   "outputs": [
    {
     "data": {
      "text/plain": [
       "Pristavka(name='Playstation',\n",
       "          model='3',\n",
       "          version='Slim')"
      ]
     },
     "execution_count": 195,
     "metadata": {},
     "output_type": "execute_result"
    }
   ],
   "source": [
    "list(parser.findall('PS 3 SlIm'))[0].fact"
   ]
  },
  {
   "cell_type": "code",
   "execution_count": 125,
   "metadata": {},
   "outputs": [
    {
     "data": {
      "text/plain": [
       "Pristavka(name='Xbox',\n",
       "          model='360',\n",
       "          version='x')"
      ]
     },
     "execution_count": 125,
     "metadata": {},
     "output_type": "execute_result"
    }
   ],
   "source": [
    "list(parser.findall('XbOx 360 X'))[0].fact"
   ]
  },
  {
   "cell_type": "code",
   "execution_count": 126,
   "metadata": {},
   "outputs": [],
   "source": [
    "matches = []\n",
    "\n",
    "for sent in data.text[:200]:\n",
    "    for match in parser.findall(sent):\n",
    "        matches.append(match.fact)"
   ]
  },
  {
   "cell_type": "code",
   "execution_count": 127,
   "metadata": {
    "scrolled": true
   },
   "outputs": [
    {
     "name": "stdout",
     "output_type": "stream",
     "text": [
      "Playstation 3\n",
      "Playstation 4\n",
      "Playstation 1\n",
      "Playstation 3\n",
      "Playstation 3\n",
      "Playstation 3\n",
      "Xbox 360\n",
      "Playstation 3\n",
      "Playstation 4\n",
      "Playstation 2\n",
      "Xbox 360\n",
      "Playstation 4\n",
      "Playstation 3\n",
      "Playstation 4\n",
      "Playstation 3\n",
      "Xbox 360\n",
      "Xbox one\n",
      "Playstation 4\n",
      "Xbox 360\n",
      "Xbox one\n",
      "Playstation 3\n",
      "Xbox 360\n",
      "Playstation 4\n",
      "Xbox 360\n",
      "Playstation 3\n",
      "Playstation 4\n",
      "Xbox 360\n",
      "Xbox one\n",
      "Playstation 4\n",
      "Playstation 4\n",
      "Xbox 360\n",
      "Playstation 3\n",
      "Playstation 3\n",
      "Xbox 360\n",
      "Xbox 360\n",
      "Playstation 3\n",
      "Playstation 3\n",
      "Playstation 3\n",
      "Playstation 4\n",
      "Playstation 4\n",
      "Playstation 4\n",
      "Xbox 360\n",
      "Xbox one\n",
      "Xbox 360\n",
      "Playstation 3\n",
      "Xbox 360\n",
      "Xbox 360\n",
      "Playstation 3\n",
      "Playstation 2\n",
      "Playstation 3\n",
      "Playstation 3\n",
      "Playstation 3\n",
      "Playstation 3\n",
      "Playstation 4\n",
      "Xbox 360\n",
      "Xbox one\n",
      "Xbox one\n",
      "Playstation 2\n",
      "Playstation 4\n",
      "Xbox one\n",
      "Playstation 4\n",
      "Playstation 4\n",
      "Playstation 3\n",
      "Playstation 3\n",
      "Xbox one\n",
      "Playstation 4\n"
     ]
    }
   ],
   "source": [
    "for m in matches:\n",
    "    print(m.name, m.model)"
   ]
  },
  {
   "cell_type": "markdown",
   "metadata": {},
   "source": [
    "Улучшения для этого типа сущностей довольно очевидные и простые - нужно расширять газзетиры, можно добавить другие приставки вроде денди и нинтендо."
   ]
  },
  {
   "cell_type": "markdown",
   "metadata": {},
   "source": [
    "Для сущностей, которые нельзя перечислить словарём, нужны контекстные правила. В целом они не сильно сложнее того, что мы сейчас написали. Возможно вам понадобятся другие полезные штуки из Yargy (предикат - and_, учёт грамматической информации - gram('NOUN'), согласование по роду, числу и падежу - gnc).\n",
    "\n",
    "Учить сразу все не имеет смысла. Возьмите практическую задачу, документацию к Yargy (https://yargy.readthedocs.io/ru/latest/index.html) и разбирайте только то, что вам нужно. "
   ]
  }
 ],
 "metadata": {
  "kernelspec": {
   "display_name": "Python 3",
   "language": "python",
   "name": "python3"
  },
  "language_info": {
   "codemirror_mode": {
    "name": "ipython",
    "version": 3
   },
   "file_extension": ".py",
   "mimetype": "text/x-python",
   "name": "python",
   "nbconvert_exporter": "python",
   "pygments_lexer": "ipython3",
   "version": "3.6.3"
  }
 },
 "nbformat": 4,
 "nbformat_minor": 2
}
