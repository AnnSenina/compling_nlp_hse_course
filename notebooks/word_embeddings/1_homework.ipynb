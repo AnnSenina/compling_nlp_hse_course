{
 "cells": [
  {
   "cell_type": "markdown",
   "id": "4440bbb1",
   "metadata": {},
   "source": [
    "#### Важное требование ко всей домашке в целом: в jupyter ноутбуке не должно был лишнего кода (т.е. если вы взяли за основу семинар, не забудьте удалить все лишнее)"
   ]
  },
  {
   "cell_type": "code",
   "execution_count": 1,
   "id": "fa7c8e85",
   "metadata": {},
   "outputs": [],
   "source": [
    "import tensorflow as tf\n",
    "import numpy as np\n",
    "import pandas as pd\n",
    "import pickle\n",
    "import pandas as pd\n",
    "from pymorphy2 import MorphAnalyzer\n",
    "from string import punctuation\n",
    "from sklearn.model_selection import train_test_split\n",
    "from collections import Counter\n",
    "import matplotlib.pyplot as plt\n",
    "from sklearn.feature_extraction.text import CountVectorizer\n",
    "from tqdm import tqdm\n",
    "from sklearn.metrics.pairwise import cosine_distances"
   ]
  },
  {
   "cell_type": "code",
   "execution_count": 153,
   "id": "9c79a8df",
   "metadata": {},
   "outputs": [],
   "source": [
    "# в нашем корпусе 20к текстов\n",
    "# wiki = open('wiki_data.txt', encoding=\"UTF-8\").read().split('\\n')"
   ]
  },
  {
   "cell_type": "markdown",
   "id": "c0ac9c55",
   "metadata": {},
   "source": [
    "# Задание 1 (3 балла)"
   ]
  },
  {
   "cell_type": "markdown",
   "id": "e090d5c2",
   "metadata": {},
   "source": [
    "Обучите word2vec модели с негативным семплированием (cbow и skip-gram) с помощью tensorflow аналогично тому, как это было сделано в семинаре. Вам нужно изменить следующие пункты: \n",
    "1) добавьте лемматизацию в предобработку (любым способом)  \n",
    "2) измените размер окна на 6 для cbow и 12 для skip gram (обратите внимание, что размер окна = #слов слева + #слов справа, в gen_batches в семинаре window не так используется)  \n",
    "3) измените часть с np.random.randint(vocab_size) так, чтобы случайные негативные примеры выбирались обратно пропорционально частотностям слов (частотные должны выбираться реже, а редкие чаще)\n",
    "\n",
    "Выберете несколько не похожих по смыслу слов, и протестируйте полученные эмбединги (найдите ближайшие слова и оцените правильность, как в семинаре)"
   ]
  },
  {
   "cell_type": "code",
   "execution_count": 154,
   "id": "e0908cf7",
   "metadata": {},
   "outputs": [],
   "source": [
    "# !pip install spacy"
   ]
  },
  {
   "cell_type": "code",
   "execution_count": 155,
   "id": "75a6554e",
   "metadata": {},
   "outputs": [],
   "source": [
    "# !spacy download ru_core_news_sm"
   ]
  },
  {
   "cell_type": "code",
   "execution_count": 2,
   "id": "ea98b3a7",
   "metadata": {},
   "outputs": [],
   "source": [
    "morph = MorphAnalyzer()\n",
    "\n",
    "def preprocess(text):\n",
    "    tokens = text.lower().split()\n",
    "    tokens = [token.strip(punctuation) for token in tokens]\n",
    "    return tokens\n",
    "\n",
    "def preprocess_lemm(text):\n",
    "    tokens = text.lower().split()\n",
    "    tokens = [token.strip(punctuation) for token in tokens]\n",
    "    tokens = [morph.parse(word)[0].normal_form for word in tokens if word]\n",
    "    return tokens"
   ]
  },
  {
   "cell_type": "code",
   "execution_count": 3,
   "id": "8abd45bf",
   "metadata": {},
   "outputs": [],
   "source": [
    "vocab = Counter()\n",
    "wiki = open('wiki_data.txt', encoding='utf-8-sig')"
   ]
  },
  {
   "cell_type": "code",
   "execution_count": 6,
   "id": "22024602",
   "metadata": {},
   "outputs": [
    {
     "name": "stderr",
     "output_type": "stream",
     "text": [
      "20002it [01:56, 172.29it/s]\n"
     ]
    }
   ],
   "source": [
    "preprocessed_texts = []\n",
    "\n",
    "for text in tqdm(wiki):\n",
    "    preprocessed_texts.append(preprocess_lemm(text))"
   ]
  },
  {
   "cell_type": "code",
   "execution_count": 7,
   "id": "48a2546f",
   "metadata": {},
   "outputs": [],
   "source": [
    "with open('preprocessed_texts.pickle', 'wb') as f:\n",
    "    pickle.dump(preprocessed_texts, f)"
   ]
  },
  {
   "cell_type": "code",
   "execution_count": 8,
   "id": "00f10086",
   "metadata": {},
   "outputs": [],
   "source": [
    "preprocessed_texts = pd.read_pickle('preprocessed_texts.pickle')"
   ]
  },
  {
   "cell_type": "code",
   "execution_count": 9,
   "id": "d64f239d",
   "metadata": {},
   "outputs": [],
   "source": [
    "for text in preprocessed_texts:\n",
    "    vocab.update(text)"
   ]
  },
  {
   "cell_type": "code",
   "execution_count": 10,
   "id": "28fe308c",
   "metadata": {},
   "outputs": [],
   "source": [
    "filtered_vocab = set()\n",
    "\n",
    "for word in vocab:\n",
    "    if vocab[word] > 30:\n",
    "        filtered_vocab.add(word)"
   ]
  },
  {
   "cell_type": "code",
   "execution_count": 11,
   "id": "67cceeb6",
   "metadata": {},
   "outputs": [
    {
     "data": {
      "text/plain": [
       "12065"
      ]
     },
     "execution_count": 11,
     "metadata": {},
     "output_type": "execute_result"
    }
   ],
   "source": [
    "len(filtered_vocab)"
   ]
  },
  {
   "cell_type": "code",
   "execution_count": 12,
   "id": "a95af9cd",
   "metadata": {},
   "outputs": [],
   "source": [
    "word2id = { 'PAD':0}\n",
    "word2id_copy = { 'PAD':0}\n",
    "\n",
    "for word in filtered_vocab:\n",
    "    word2id[word] = len(word2id)\n",
    "    word2id_copy[word] = len(word2id_copy)"
   ]
  },
  {
   "cell_type": "code",
   "execution_count": 13,
   "id": "b1f3c25c",
   "metadata": {},
   "outputs": [],
   "source": [
    "id2word = {i:word for word, i in word2id.items()}\n",
    "id2word_copy = {i:word for word, i in word2id.items()}"
   ]
  },
  {
   "cell_type": "code",
   "execution_count": 14,
   "id": "16c5d928",
   "metadata": {},
   "outputs": [],
   "source": [
    "vocab_size = len(id2word)"
   ]
  },
  {
   "cell_type": "code",
   "execution_count": 15,
   "id": "89391bcb",
   "metadata": {},
   "outputs": [],
   "source": [
    "sentences = []\n",
    "for text in preprocessed_texts:\n",
    "    ids = [word2id[token] for token in text if token in word2id]\n",
    "    sentences.append(ids)"
   ]
  },
  {
   "cell_type": "code",
   "execution_count": 16,
   "id": "d9db7fcb",
   "metadata": {},
   "outputs": [],
   "source": [
    "sum_occurences = sum(vocab[i] for i in filtered_vocab)\n",
    "word_probs = [vocab[word] / sum_occurences for word in filtered_vocab] # вероятности для выбора негативных примеров"
   ]
  },
  {
   "cell_type": "markdown",
   "id": "3aa2302e",
   "metadata": {},
   "source": [
    "### Необходимые функции\n"
   ]
  },
  {
   "cell_type": "code",
   "execution_count": 17,
   "id": "fc8f6649",
   "metadata": {},
   "outputs": [],
   "source": [
    "def most_similar(word, embeddings):\n",
    "    similar = [id2word[i] for i in \n",
    "               cosine_distances(embeddings[word2id[word]].reshape(1, -1), embeddings).argsort()[0][:10]]\n",
    "    return similar"
   ]
  },
  {
   "cell_type": "code",
   "execution_count": 23,
   "id": "6033652c",
   "metadata": {},
   "outputs": [],
   "source": [
    "# skip gram\n",
    "# измените размер окна на 6 для cbow и 12 для skip gram\n",
    "# (обратите внимание, что размер окна = #слов слева + #слов справа, в gen_batches в семинаре window не так используется)\n",
    "\n",
    "# чтобы получить размер окна = #слов слева + #слов справа = 6 + 6 = 12\n",
    "def gen_batches_sg(sentences, window = 6, batch_size=1000):\n",
    "    while True:\n",
    "        X_target = []\n",
    "        X_context = []\n",
    "        y = []\n",
    "\n",
    "        for sent in sentences:\n",
    "            for i in range(len(sent)-1):\n",
    "                word = sent[i]\n",
    "                context = sent[max(0, i-window):i] + sent[i+1:i+window]\n",
    "                for context_word in context:\n",
    "                    X_target.append(word)\n",
    "                    X_context.append(context_word)\n",
    "                    y.append(1)\n",
    "                    \n",
    "                    X_target.append(word)\n",
    "                    # измените часть с np.random.randint(vocab_size) так,\n",
    "                    # чтобы случайные негативные примеры выбирались обратно пропорционально частотностям слов\n",
    "                    # (частотные должны выбираться реже, а редкие чаще)\n",
    "                    X_context.append(word2id[np.random.choice(list(filtered_vocab), p=word_probs)])\n",
    "                    y.append(0)\n",
    "                    \n",
    "                    if len(X_target) >= batch_size:\n",
    "                        X_target = np.array(X_target)\n",
    "                        X_context = np.array(X_context)\n",
    "                        y = np.array(y)\n",
    "                        yield ((X_target, X_context), y)\n",
    "                        X_target = []\n",
    "                        X_context = []\n",
    "                        y = []"
   ]
  },
  {
   "cell_type": "code",
   "execution_count": 35,
   "id": "d853bedf",
   "metadata": {},
   "outputs": [],
   "source": [
    "# # cbow \n",
    "# измените размер окна на 6 для cbow и 12 для skip gram\n",
    "# (обратите внимание, что размер окна = #слов слева + #слов справа, в gen_batches в семинаре window не так используется)\n",
    "\n",
    "# чтобы получить размер окна = #слов слева + #слов справа = 3 + 3 = 6\n",
    "def gen_batches_cbow(sentences, window = 3, batch_size=1000):\n",
    "    while True:\n",
    "        X_target = []\n",
    "        X_context = []\n",
    "        y = []\n",
    "\n",
    "        for sent in sentences:\n",
    "            for i in range(len(sent)-1):\n",
    "                word = sent[i]\n",
    "                context = sent[max(0, i-window):i] + sent[i+1:i+window]\n",
    "\n",
    "                X_target.append(word)\n",
    "                X_context.append(context)\n",
    "                y.append(1)\n",
    "                \n",
    "                # измените часть с np.random.randint(vocab_size) так,\n",
    "                # чтобы случайные негативные примеры выбирались обратно пропорционально частотностям слов\n",
    "                # (частотные должны выбираться реже, а редкие чаще)\n",
    "                X_target.append(word2id[np.random.choice(list(filtered_vocab), p=word_probs)])\n",
    "                X_context.append(context)\n",
    "                y.append(0)\n",
    "\n",
    "                if len(X_target) == batch_size:\n",
    "                    X_target = np.array(X_target)\n",
    "                    X_context = tf.keras.preprocessing.sequence.pad_sequences(X_context, maxlen=window*2)\n",
    "                    y = np.array(y)\n",
    "                    yield ((X_target, X_context), y)\n",
    "                    X_target = []\n",
    "                    X_context = []\n",
    "                    y = []"
   ]
  },
  {
   "cell_type": "markdown",
   "id": "9dd84b1c",
   "metadata": {},
   "source": [
    "### skip-gram negative sampling"
   ]
  },
  {
   "cell_type": "code",
   "execution_count": 25,
   "id": "9583d77b",
   "metadata": {},
   "outputs": [],
   "source": [
    "inputs_target = tf.keras.layers.Input(shape=(1,))\n",
    "inputs_context = tf.keras.layers.Input(shape=(1,))\n",
    "embeddings_target = tf.keras.layers.Embedding(input_dim=len(word2id), output_dim=100)(inputs_target, )\n",
    "embeddings_context = tf.keras.layers.Embedding(input_dim=len(word2id), output_dim=100)(inputs_context, )\n",
    "target = tf.keras.layers.Flatten()(embeddings_target)\n",
    "context = tf.keras.layers.Flatten()(embeddings_context)\n",
    "dot = tf.keras.layers.Dot(1)([target, context])\n",
    "outputs = tf.keras.layers.Activation(activation='sigmoid')(dot)\n",
    "model_sg = tf.keras.Model(inputs=[inputs_target, inputs_context], \n",
    "                       outputs=outputs)\n",
    "optimizer = tf.keras.optimizers.Adam(learning_rate=0.001)\n",
    "model_sg.compile(optimizer=optimizer,\n",
    "              loss='binary_crossentropy',\n",
    "              metrics=['accuracy'])"
   ]
  },
  {
   "cell_type": "code",
   "execution_count": 27,
   "id": "43da2b7f",
   "metadata": {
    "scrolled": true
   },
   "outputs": [
    {
     "name": "stdout",
     "output_type": "stream",
     "text": [
      "Epoch 1/2\n",
      " 42/100 [===========>..................] - ETA: 1:27 - loss: 0.6928 - accuracy: 0.5240"
     ]
    },
    {
     "ename": "KeyboardInterrupt",
     "evalue": "",
     "output_type": "error",
     "traceback": [
      "\u001b[0;31m---------------------------------------------------------------------------\u001b[0m",
      "\u001b[0;31mKeyboardInterrupt\u001b[0m                         Traceback (most recent call last)",
      "\u001b[0;32m<ipython-input-27-a4df0112351f>\u001b[0m in \u001b[0;36m<module>\u001b[0;34m\u001b[0m\n\u001b[1;32m      4\u001b[0m           \u001b[0msteps_per_epoch\u001b[0m\u001b[0;34m=\u001b[0m\u001b[0;36m100\u001b[0m\u001b[0;34m,\u001b[0m\u001b[0;34m\u001b[0m\u001b[0;34m\u001b[0m\u001b[0m\n\u001b[1;32m      5\u001b[0m           \u001b[0mvalidation_steps\u001b[0m\u001b[0;34m=\u001b[0m\u001b[0;36m30\u001b[0m\u001b[0;34m,\u001b[0m\u001b[0;34m\u001b[0m\u001b[0;34m\u001b[0m\u001b[0m\n\u001b[0;32m----> 6\u001b[0;31m           epochs=2)\n\u001b[0m",
      "\u001b[0;32m~/.pyenv/versions/3.7.2/lib/python3.7/site-packages/tensorflow/python/keras/engine/training.py\u001b[0m in \u001b[0;36mfit\u001b[0;34m(self, x, y, batch_size, epochs, verbose, callbacks, validation_split, validation_data, shuffle, class_weight, sample_weight, initial_epoch, steps_per_epoch, validation_steps, validation_batch_size, validation_freq, max_queue_size, workers, use_multiprocessing)\u001b[0m\n\u001b[1;32m   1098\u001b[0m                 _r=1):\n\u001b[1;32m   1099\u001b[0m               \u001b[0mcallbacks\u001b[0m\u001b[0;34m.\u001b[0m\u001b[0mon_train_batch_begin\u001b[0m\u001b[0;34m(\u001b[0m\u001b[0mstep\u001b[0m\u001b[0;34m)\u001b[0m\u001b[0;34m\u001b[0m\u001b[0;34m\u001b[0m\u001b[0m\n\u001b[0;32m-> 1100\u001b[0;31m               \u001b[0mtmp_logs\u001b[0m \u001b[0;34m=\u001b[0m \u001b[0mself\u001b[0m\u001b[0;34m.\u001b[0m\u001b[0mtrain_function\u001b[0m\u001b[0;34m(\u001b[0m\u001b[0miterator\u001b[0m\u001b[0;34m)\u001b[0m\u001b[0;34m\u001b[0m\u001b[0;34m\u001b[0m\u001b[0m\n\u001b[0m\u001b[1;32m   1101\u001b[0m               \u001b[0;32mif\u001b[0m \u001b[0mdata_handler\u001b[0m\u001b[0;34m.\u001b[0m\u001b[0mshould_sync\u001b[0m\u001b[0;34m:\u001b[0m\u001b[0;34m\u001b[0m\u001b[0;34m\u001b[0m\u001b[0m\n\u001b[1;32m   1102\u001b[0m                 \u001b[0mcontext\u001b[0m\u001b[0;34m.\u001b[0m\u001b[0masync_wait\u001b[0m\u001b[0;34m(\u001b[0m\u001b[0;34m)\u001b[0m\u001b[0;34m\u001b[0m\u001b[0;34m\u001b[0m\u001b[0m\n",
      "\u001b[0;32m~/.pyenv/versions/3.7.2/lib/python3.7/site-packages/tensorflow/python/eager/def_function.py\u001b[0m in \u001b[0;36m__call__\u001b[0;34m(self, *args, **kwds)\u001b[0m\n\u001b[1;32m    826\u001b[0m     \u001b[0mtracing_count\u001b[0m \u001b[0;34m=\u001b[0m \u001b[0mself\u001b[0m\u001b[0;34m.\u001b[0m\u001b[0mexperimental_get_tracing_count\u001b[0m\u001b[0;34m(\u001b[0m\u001b[0;34m)\u001b[0m\u001b[0;34m\u001b[0m\u001b[0;34m\u001b[0m\u001b[0m\n\u001b[1;32m    827\u001b[0m     \u001b[0;32mwith\u001b[0m \u001b[0mtrace\u001b[0m\u001b[0;34m.\u001b[0m\u001b[0mTrace\u001b[0m\u001b[0;34m(\u001b[0m\u001b[0mself\u001b[0m\u001b[0;34m.\u001b[0m\u001b[0m_name\u001b[0m\u001b[0;34m)\u001b[0m \u001b[0;32mas\u001b[0m \u001b[0mtm\u001b[0m\u001b[0;34m:\u001b[0m\u001b[0;34m\u001b[0m\u001b[0;34m\u001b[0m\u001b[0m\n\u001b[0;32m--> 828\u001b[0;31m       \u001b[0mresult\u001b[0m \u001b[0;34m=\u001b[0m \u001b[0mself\u001b[0m\u001b[0;34m.\u001b[0m\u001b[0m_call\u001b[0m\u001b[0;34m(\u001b[0m\u001b[0;34m*\u001b[0m\u001b[0margs\u001b[0m\u001b[0;34m,\u001b[0m \u001b[0;34m**\u001b[0m\u001b[0mkwds\u001b[0m\u001b[0;34m)\u001b[0m\u001b[0;34m\u001b[0m\u001b[0;34m\u001b[0m\u001b[0m\n\u001b[0m\u001b[1;32m    829\u001b[0m       \u001b[0mcompiler\u001b[0m \u001b[0;34m=\u001b[0m \u001b[0;34m\"xla\"\u001b[0m \u001b[0;32mif\u001b[0m \u001b[0mself\u001b[0m\u001b[0;34m.\u001b[0m\u001b[0m_experimental_compile\u001b[0m \u001b[0;32melse\u001b[0m \u001b[0;34m\"nonXla\"\u001b[0m\u001b[0;34m\u001b[0m\u001b[0;34m\u001b[0m\u001b[0m\n\u001b[1;32m    830\u001b[0m       \u001b[0mnew_tracing_count\u001b[0m \u001b[0;34m=\u001b[0m \u001b[0mself\u001b[0m\u001b[0;34m.\u001b[0m\u001b[0mexperimental_get_tracing_count\u001b[0m\u001b[0;34m(\u001b[0m\u001b[0;34m)\u001b[0m\u001b[0;34m\u001b[0m\u001b[0;34m\u001b[0m\u001b[0m\n",
      "\u001b[0;32m~/.pyenv/versions/3.7.2/lib/python3.7/site-packages/tensorflow/python/eager/def_function.py\u001b[0m in \u001b[0;36m_call\u001b[0;34m(self, *args, **kwds)\u001b[0m\n\u001b[1;32m    853\u001b[0m       \u001b[0;31m# In this case we have created variables on the first call, so we run the\u001b[0m\u001b[0;34m\u001b[0m\u001b[0;34m\u001b[0m\u001b[0;34m\u001b[0m\u001b[0m\n\u001b[1;32m    854\u001b[0m       \u001b[0;31m# defunned version which is guaranteed to never create variables.\u001b[0m\u001b[0;34m\u001b[0m\u001b[0;34m\u001b[0m\u001b[0;34m\u001b[0m\u001b[0m\n\u001b[0;32m--> 855\u001b[0;31m       \u001b[0;32mreturn\u001b[0m \u001b[0mself\u001b[0m\u001b[0;34m.\u001b[0m\u001b[0m_stateless_fn\u001b[0m\u001b[0;34m(\u001b[0m\u001b[0;34m*\u001b[0m\u001b[0margs\u001b[0m\u001b[0;34m,\u001b[0m \u001b[0;34m**\u001b[0m\u001b[0mkwds\u001b[0m\u001b[0;34m)\u001b[0m  \u001b[0;31m# pylint: disable=not-callable\u001b[0m\u001b[0;34m\u001b[0m\u001b[0;34m\u001b[0m\u001b[0m\n\u001b[0m\u001b[1;32m    856\u001b[0m     \u001b[0;32melif\u001b[0m \u001b[0mself\u001b[0m\u001b[0;34m.\u001b[0m\u001b[0m_stateful_fn\u001b[0m \u001b[0;32mis\u001b[0m \u001b[0;32mnot\u001b[0m \u001b[0;32mNone\u001b[0m\u001b[0;34m:\u001b[0m\u001b[0;34m\u001b[0m\u001b[0;34m\u001b[0m\u001b[0m\n\u001b[1;32m    857\u001b[0m       \u001b[0;31m# Release the lock early so that multiple threads can perform the call\u001b[0m\u001b[0;34m\u001b[0m\u001b[0;34m\u001b[0m\u001b[0;34m\u001b[0m\u001b[0m\n",
      "\u001b[0;32m~/.pyenv/versions/3.7.2/lib/python3.7/site-packages/tensorflow/python/eager/function.py\u001b[0m in \u001b[0;36m__call__\u001b[0;34m(self, *args, **kwargs)\u001b[0m\n\u001b[1;32m   2941\u001b[0m        filtered_flat_args) = self._maybe_define_function(args, kwargs)\n\u001b[1;32m   2942\u001b[0m     return graph_function._call_flat(\n\u001b[0;32m-> 2943\u001b[0;31m         filtered_flat_args, captured_inputs=graph_function.captured_inputs)  # pylint: disable=protected-access\n\u001b[0m\u001b[1;32m   2944\u001b[0m \u001b[0;34m\u001b[0m\u001b[0m\n\u001b[1;32m   2945\u001b[0m   \u001b[0;34m@\u001b[0m\u001b[0mproperty\u001b[0m\u001b[0;34m\u001b[0m\u001b[0;34m\u001b[0m\u001b[0m\n",
      "\u001b[0;32m~/.pyenv/versions/3.7.2/lib/python3.7/site-packages/tensorflow/python/eager/function.py\u001b[0m in \u001b[0;36m_call_flat\u001b[0;34m(self, args, captured_inputs, cancellation_manager)\u001b[0m\n\u001b[1;32m   1917\u001b[0m       \u001b[0;31m# No tape is watching; skip to running the function.\u001b[0m\u001b[0;34m\u001b[0m\u001b[0;34m\u001b[0m\u001b[0;34m\u001b[0m\u001b[0m\n\u001b[1;32m   1918\u001b[0m       return self._build_call_outputs(self._inference_function.call(\n\u001b[0;32m-> 1919\u001b[0;31m           ctx, args, cancellation_manager=cancellation_manager))\n\u001b[0m\u001b[1;32m   1920\u001b[0m     forward_backward = self._select_forward_and_backward_functions(\n\u001b[1;32m   1921\u001b[0m         \u001b[0margs\u001b[0m\u001b[0;34m,\u001b[0m\u001b[0;34m\u001b[0m\u001b[0;34m\u001b[0m\u001b[0m\n",
      "\u001b[0;32m~/.pyenv/versions/3.7.2/lib/python3.7/site-packages/tensorflow/python/eager/function.py\u001b[0m in \u001b[0;36mcall\u001b[0;34m(self, ctx, args, cancellation_manager)\u001b[0m\n\u001b[1;32m    558\u001b[0m               \u001b[0minputs\u001b[0m\u001b[0;34m=\u001b[0m\u001b[0margs\u001b[0m\u001b[0;34m,\u001b[0m\u001b[0;34m\u001b[0m\u001b[0;34m\u001b[0m\u001b[0m\n\u001b[1;32m    559\u001b[0m               \u001b[0mattrs\u001b[0m\u001b[0;34m=\u001b[0m\u001b[0mattrs\u001b[0m\u001b[0;34m,\u001b[0m\u001b[0;34m\u001b[0m\u001b[0;34m\u001b[0m\u001b[0m\n\u001b[0;32m--> 560\u001b[0;31m               ctx=ctx)\n\u001b[0m\u001b[1;32m    561\u001b[0m         \u001b[0;32melse\u001b[0m\u001b[0;34m:\u001b[0m\u001b[0;34m\u001b[0m\u001b[0;34m\u001b[0m\u001b[0m\n\u001b[1;32m    562\u001b[0m           outputs = execute.execute_with_cancellation(\n",
      "\u001b[0;32m~/.pyenv/versions/3.7.2/lib/python3.7/site-packages/tensorflow/python/eager/execute.py\u001b[0m in \u001b[0;36mquick_execute\u001b[0;34m(op_name, num_outputs, inputs, attrs, ctx, name)\u001b[0m\n\u001b[1;32m     58\u001b[0m     \u001b[0mctx\u001b[0m\u001b[0;34m.\u001b[0m\u001b[0mensure_initialized\u001b[0m\u001b[0;34m(\u001b[0m\u001b[0;34m)\u001b[0m\u001b[0;34m\u001b[0m\u001b[0;34m\u001b[0m\u001b[0m\n\u001b[1;32m     59\u001b[0m     tensors = pywrap_tfe.TFE_Py_Execute(ctx._handle, device_name, op_name,\n\u001b[0;32m---> 60\u001b[0;31m                                         inputs, attrs, num_outputs)\n\u001b[0m\u001b[1;32m     61\u001b[0m   \u001b[0;32mexcept\u001b[0m \u001b[0mcore\u001b[0m\u001b[0;34m.\u001b[0m\u001b[0m_NotOkStatusException\u001b[0m \u001b[0;32mas\u001b[0m \u001b[0me\u001b[0m\u001b[0;34m:\u001b[0m\u001b[0;34m\u001b[0m\u001b[0;34m\u001b[0m\u001b[0m\n\u001b[1;32m     62\u001b[0m     \u001b[0;32mif\u001b[0m \u001b[0mname\u001b[0m \u001b[0;32mis\u001b[0m \u001b[0;32mnot\u001b[0m \u001b[0;32mNone\u001b[0m\u001b[0;34m:\u001b[0m\u001b[0;34m\u001b[0m\u001b[0;34m\u001b[0m\u001b[0m\n",
      "\u001b[0;31mKeyboardInterrupt\u001b[0m: "
     ]
    }
   ],
   "source": [
    "model_sg.fit(gen_batches_sg(sentences[:19000], window=5),\n",
    "          validation_data=gen_batches_sg(sentences[19000:],  window=5),\n",
    "          batch_size=1000,\n",
    "          steps_per_epoch=100,\n",
    "          validation_steps=30,\n",
    "          epochs=2)"
   ]
  },
  {
   "cell_type": "code",
   "execution_count": 28,
   "id": "fc5e5c69",
   "metadata": {},
   "outputs": [],
   "source": [
    "embeddings_sg = model_sg.layers[2].get_weights()[0]"
   ]
  },
  {
   "cell_type": "markdown",
   "id": "61c599a0",
   "metadata": {},
   "source": [
    "### cbow negative sampling"
   ]
  },
  {
   "cell_type": "code",
   "execution_count": 36,
   "id": "807f83ff",
   "metadata": {},
   "outputs": [],
   "source": [
    "inputs_target = tf.keras.layers.Input(shape=(1,))\n",
    "inputs_context = tf.keras.layers.Input(shape=(10,))\n",
    "embeddings_target = tf.keras.layers.Embedding(input_dim=len(word2id), output_dim=100)(inputs_target, )\n",
    "embeddings_context = tf.keras.layers.Embedding(input_dim=len(word2id), output_dim=100)(inputs_context, )\n",
    "target = tf.keras.layers.Flatten()(embeddings_target)\n",
    "context = tf.keras.layers.Lambda(lambda x: tf.keras.backend.sum(x, axis=1))(embeddings_context)\n",
    "dot = tf.keras.layers.Dot(1)([target, context])\n",
    "outputs = tf.keras.layers.Activation(activation='sigmoid')(dot)\n",
    "model_cbow = tf.keras.Model(inputs=[inputs_target, inputs_context], \n",
    "                       outputs=outputs)\n",
    "optimizer = tf.keras.optimizers.Adam(learning_rate=0.001)\n",
    "model_cbow.compile(optimizer=optimizer,\n",
    "              loss='binary_crossentropy',\n",
    "              metrics=['accuracy'])"
   ]
  },
  {
   "cell_type": "code",
   "execution_count": 40,
   "id": "96483ee3",
   "metadata": {},
   "outputs": [],
   "source": [
    "a = gen_batches_sg(sentences[:19000], window=5)"
   ]
  },
  {
   "cell_type": "code",
   "execution_count": 39,
   "id": "51c97a19",
   "metadata": {},
   "outputs": [
    {
     "name": "stdout",
     "output_type": "stream",
     "text": [
      "Epoch 1/2\n",
      "  16/5000 [..............................] - ETA: 2:06:08 - loss: 0.6929 - accuracy: 0.5103"
     ]
    },
    {
     "ename": "KeyboardInterrupt",
     "evalue": "",
     "output_type": "error",
     "traceback": [
      "\u001b[0;31m---------------------------------------------------------------------------\u001b[0m",
      "\u001b[0;31mKeyboardInterrupt\u001b[0m                         Traceback (most recent call last)",
      "\u001b[0;32m<ipython-input-39-f5fd25fbb4c2>\u001b[0m in \u001b[0;36m<module>\u001b[0;34m\u001b[0m\n\u001b[1;32m      4\u001b[0m           \u001b[0msteps_per_epoch\u001b[0m\u001b[0;34m=\u001b[0m\u001b[0;36m5000\u001b[0m\u001b[0;34m,\u001b[0m\u001b[0;34m\u001b[0m\u001b[0;34m\u001b[0m\u001b[0m\n\u001b[1;32m      5\u001b[0m           \u001b[0mvalidation_steps\u001b[0m\u001b[0;34m=\u001b[0m\u001b[0;36m30\u001b[0m\u001b[0;34m,\u001b[0m\u001b[0;34m\u001b[0m\u001b[0;34m\u001b[0m\u001b[0m\n\u001b[0;32m----> 6\u001b[0;31m           epochs=2)\n\u001b[0m",
      "\u001b[0;32m~/.pyenv/versions/3.7.2/lib/python3.7/site-packages/tensorflow/python/keras/engine/training.py\u001b[0m in \u001b[0;36mfit\u001b[0;34m(self, x, y, batch_size, epochs, verbose, callbacks, validation_split, validation_data, shuffle, class_weight, sample_weight, initial_epoch, steps_per_epoch, validation_steps, validation_batch_size, validation_freq, max_queue_size, workers, use_multiprocessing)\u001b[0m\n\u001b[1;32m   1098\u001b[0m                 _r=1):\n\u001b[1;32m   1099\u001b[0m               \u001b[0mcallbacks\u001b[0m\u001b[0;34m.\u001b[0m\u001b[0mon_train_batch_begin\u001b[0m\u001b[0;34m(\u001b[0m\u001b[0mstep\u001b[0m\u001b[0;34m)\u001b[0m\u001b[0;34m\u001b[0m\u001b[0;34m\u001b[0m\u001b[0m\n\u001b[0;32m-> 1100\u001b[0;31m               \u001b[0mtmp_logs\u001b[0m \u001b[0;34m=\u001b[0m \u001b[0mself\u001b[0m\u001b[0;34m.\u001b[0m\u001b[0mtrain_function\u001b[0m\u001b[0;34m(\u001b[0m\u001b[0miterator\u001b[0m\u001b[0;34m)\u001b[0m\u001b[0;34m\u001b[0m\u001b[0;34m\u001b[0m\u001b[0m\n\u001b[0m\u001b[1;32m   1101\u001b[0m               \u001b[0;32mif\u001b[0m \u001b[0mdata_handler\u001b[0m\u001b[0;34m.\u001b[0m\u001b[0mshould_sync\u001b[0m\u001b[0;34m:\u001b[0m\u001b[0;34m\u001b[0m\u001b[0;34m\u001b[0m\u001b[0m\n\u001b[1;32m   1102\u001b[0m                 \u001b[0mcontext\u001b[0m\u001b[0;34m.\u001b[0m\u001b[0masync_wait\u001b[0m\u001b[0;34m(\u001b[0m\u001b[0;34m)\u001b[0m\u001b[0;34m\u001b[0m\u001b[0;34m\u001b[0m\u001b[0m\n",
      "\u001b[0;32m~/.pyenv/versions/3.7.2/lib/python3.7/site-packages/tensorflow/python/eager/def_function.py\u001b[0m in \u001b[0;36m__call__\u001b[0;34m(self, *args, **kwds)\u001b[0m\n\u001b[1;32m    826\u001b[0m     \u001b[0mtracing_count\u001b[0m \u001b[0;34m=\u001b[0m \u001b[0mself\u001b[0m\u001b[0;34m.\u001b[0m\u001b[0mexperimental_get_tracing_count\u001b[0m\u001b[0;34m(\u001b[0m\u001b[0;34m)\u001b[0m\u001b[0;34m\u001b[0m\u001b[0;34m\u001b[0m\u001b[0m\n\u001b[1;32m    827\u001b[0m     \u001b[0;32mwith\u001b[0m \u001b[0mtrace\u001b[0m\u001b[0;34m.\u001b[0m\u001b[0mTrace\u001b[0m\u001b[0;34m(\u001b[0m\u001b[0mself\u001b[0m\u001b[0;34m.\u001b[0m\u001b[0m_name\u001b[0m\u001b[0;34m)\u001b[0m \u001b[0;32mas\u001b[0m \u001b[0mtm\u001b[0m\u001b[0;34m:\u001b[0m\u001b[0;34m\u001b[0m\u001b[0;34m\u001b[0m\u001b[0m\n\u001b[0;32m--> 828\u001b[0;31m       \u001b[0mresult\u001b[0m \u001b[0;34m=\u001b[0m \u001b[0mself\u001b[0m\u001b[0;34m.\u001b[0m\u001b[0m_call\u001b[0m\u001b[0;34m(\u001b[0m\u001b[0;34m*\u001b[0m\u001b[0margs\u001b[0m\u001b[0;34m,\u001b[0m \u001b[0;34m**\u001b[0m\u001b[0mkwds\u001b[0m\u001b[0;34m)\u001b[0m\u001b[0;34m\u001b[0m\u001b[0;34m\u001b[0m\u001b[0m\n\u001b[0m\u001b[1;32m    829\u001b[0m       \u001b[0mcompiler\u001b[0m \u001b[0;34m=\u001b[0m \u001b[0;34m\"xla\"\u001b[0m \u001b[0;32mif\u001b[0m \u001b[0mself\u001b[0m\u001b[0;34m.\u001b[0m\u001b[0m_experimental_compile\u001b[0m \u001b[0;32melse\u001b[0m \u001b[0;34m\"nonXla\"\u001b[0m\u001b[0;34m\u001b[0m\u001b[0;34m\u001b[0m\u001b[0m\n\u001b[1;32m    830\u001b[0m       \u001b[0mnew_tracing_count\u001b[0m \u001b[0;34m=\u001b[0m \u001b[0mself\u001b[0m\u001b[0;34m.\u001b[0m\u001b[0mexperimental_get_tracing_count\u001b[0m\u001b[0;34m(\u001b[0m\u001b[0;34m)\u001b[0m\u001b[0;34m\u001b[0m\u001b[0;34m\u001b[0m\u001b[0m\n",
      "\u001b[0;32m~/.pyenv/versions/3.7.2/lib/python3.7/site-packages/tensorflow/python/eager/def_function.py\u001b[0m in \u001b[0;36m_call\u001b[0;34m(self, *args, **kwds)\u001b[0m\n\u001b[1;32m    853\u001b[0m       \u001b[0;31m# In this case we have created variables on the first call, so we run the\u001b[0m\u001b[0;34m\u001b[0m\u001b[0;34m\u001b[0m\u001b[0;34m\u001b[0m\u001b[0m\n\u001b[1;32m    854\u001b[0m       \u001b[0;31m# defunned version which is guaranteed to never create variables.\u001b[0m\u001b[0;34m\u001b[0m\u001b[0;34m\u001b[0m\u001b[0;34m\u001b[0m\u001b[0m\n\u001b[0;32m--> 855\u001b[0;31m       \u001b[0;32mreturn\u001b[0m \u001b[0mself\u001b[0m\u001b[0;34m.\u001b[0m\u001b[0m_stateless_fn\u001b[0m\u001b[0;34m(\u001b[0m\u001b[0;34m*\u001b[0m\u001b[0margs\u001b[0m\u001b[0;34m,\u001b[0m \u001b[0;34m**\u001b[0m\u001b[0mkwds\u001b[0m\u001b[0;34m)\u001b[0m  \u001b[0;31m# pylint: disable=not-callable\u001b[0m\u001b[0;34m\u001b[0m\u001b[0;34m\u001b[0m\u001b[0m\n\u001b[0m\u001b[1;32m    856\u001b[0m     \u001b[0;32melif\u001b[0m \u001b[0mself\u001b[0m\u001b[0;34m.\u001b[0m\u001b[0m_stateful_fn\u001b[0m \u001b[0;32mis\u001b[0m \u001b[0;32mnot\u001b[0m \u001b[0;32mNone\u001b[0m\u001b[0;34m:\u001b[0m\u001b[0;34m\u001b[0m\u001b[0;34m\u001b[0m\u001b[0m\n\u001b[1;32m    857\u001b[0m       \u001b[0;31m# Release the lock early so that multiple threads can perform the call\u001b[0m\u001b[0;34m\u001b[0m\u001b[0;34m\u001b[0m\u001b[0;34m\u001b[0m\u001b[0m\n",
      "\u001b[0;32m~/.pyenv/versions/3.7.2/lib/python3.7/site-packages/tensorflow/python/eager/function.py\u001b[0m in \u001b[0;36m__call__\u001b[0;34m(self, *args, **kwargs)\u001b[0m\n\u001b[1;32m   2941\u001b[0m        filtered_flat_args) = self._maybe_define_function(args, kwargs)\n\u001b[1;32m   2942\u001b[0m     return graph_function._call_flat(\n\u001b[0;32m-> 2943\u001b[0;31m         filtered_flat_args, captured_inputs=graph_function.captured_inputs)  # pylint: disable=protected-access\n\u001b[0m\u001b[1;32m   2944\u001b[0m \u001b[0;34m\u001b[0m\u001b[0m\n\u001b[1;32m   2945\u001b[0m   \u001b[0;34m@\u001b[0m\u001b[0mproperty\u001b[0m\u001b[0;34m\u001b[0m\u001b[0;34m\u001b[0m\u001b[0m\n",
      "\u001b[0;32m~/.pyenv/versions/3.7.2/lib/python3.7/site-packages/tensorflow/python/eager/function.py\u001b[0m in \u001b[0;36m_call_flat\u001b[0;34m(self, args, captured_inputs, cancellation_manager)\u001b[0m\n\u001b[1;32m   1917\u001b[0m       \u001b[0;31m# No tape is watching; skip to running the function.\u001b[0m\u001b[0;34m\u001b[0m\u001b[0;34m\u001b[0m\u001b[0;34m\u001b[0m\u001b[0m\n\u001b[1;32m   1918\u001b[0m       return self._build_call_outputs(self._inference_function.call(\n\u001b[0;32m-> 1919\u001b[0;31m           ctx, args, cancellation_manager=cancellation_manager))\n\u001b[0m\u001b[1;32m   1920\u001b[0m     forward_backward = self._select_forward_and_backward_functions(\n\u001b[1;32m   1921\u001b[0m         \u001b[0margs\u001b[0m\u001b[0;34m,\u001b[0m\u001b[0;34m\u001b[0m\u001b[0;34m\u001b[0m\u001b[0m\n",
      "\u001b[0;32m~/.pyenv/versions/3.7.2/lib/python3.7/site-packages/tensorflow/python/eager/function.py\u001b[0m in \u001b[0;36mcall\u001b[0;34m(self, ctx, args, cancellation_manager)\u001b[0m\n\u001b[1;32m    558\u001b[0m               \u001b[0minputs\u001b[0m\u001b[0;34m=\u001b[0m\u001b[0margs\u001b[0m\u001b[0;34m,\u001b[0m\u001b[0;34m\u001b[0m\u001b[0;34m\u001b[0m\u001b[0m\n\u001b[1;32m    559\u001b[0m               \u001b[0mattrs\u001b[0m\u001b[0;34m=\u001b[0m\u001b[0mattrs\u001b[0m\u001b[0;34m,\u001b[0m\u001b[0;34m\u001b[0m\u001b[0;34m\u001b[0m\u001b[0m\n\u001b[0;32m--> 560\u001b[0;31m               ctx=ctx)\n\u001b[0m\u001b[1;32m    561\u001b[0m         \u001b[0;32melse\u001b[0m\u001b[0;34m:\u001b[0m\u001b[0;34m\u001b[0m\u001b[0;34m\u001b[0m\u001b[0m\n\u001b[1;32m    562\u001b[0m           outputs = execute.execute_with_cancellation(\n",
      "\u001b[0;32m~/.pyenv/versions/3.7.2/lib/python3.7/site-packages/tensorflow/python/eager/execute.py\u001b[0m in \u001b[0;36mquick_execute\u001b[0;34m(op_name, num_outputs, inputs, attrs, ctx, name)\u001b[0m\n\u001b[1;32m     58\u001b[0m     \u001b[0mctx\u001b[0m\u001b[0;34m.\u001b[0m\u001b[0mensure_initialized\u001b[0m\u001b[0;34m(\u001b[0m\u001b[0;34m)\u001b[0m\u001b[0;34m\u001b[0m\u001b[0;34m\u001b[0m\u001b[0m\n\u001b[1;32m     59\u001b[0m     tensors = pywrap_tfe.TFE_Py_Execute(ctx._handle, device_name, op_name,\n\u001b[0;32m---> 60\u001b[0;31m                                         inputs, attrs, num_outputs)\n\u001b[0m\u001b[1;32m     61\u001b[0m   \u001b[0;32mexcept\u001b[0m \u001b[0mcore\u001b[0m\u001b[0;34m.\u001b[0m\u001b[0m_NotOkStatusException\u001b[0m \u001b[0;32mas\u001b[0m \u001b[0me\u001b[0m\u001b[0;34m:\u001b[0m\u001b[0;34m\u001b[0m\u001b[0;34m\u001b[0m\u001b[0m\n\u001b[1;32m     62\u001b[0m     \u001b[0;32mif\u001b[0m \u001b[0mname\u001b[0m \u001b[0;32mis\u001b[0m \u001b[0;32mnot\u001b[0m \u001b[0;32mNone\u001b[0m\u001b[0;34m:\u001b[0m\u001b[0;34m\u001b[0m\u001b[0;34m\u001b[0m\u001b[0m\n",
      "\u001b[0;31mKeyboardInterrupt\u001b[0m: "
     ]
    }
   ],
   "source": [
    "model_cbow.fit(gen_batches_cbow(sentences[:19000], window=5),\n",
    "          validation_data=gen_batches_cbow(sentences[19000:],  window=5),\n",
    "          batch_size=1000,\n",
    "          steps_per_epoch=5000,\n",
    "          validation_steps=30,\n",
    "          epochs=2)"
   ]
  },
  {
   "cell_type": "code",
   "execution_count": 182,
   "id": "7c968c42",
   "metadata": {},
   "outputs": [],
   "source": [
    "embeddings_cbow = model_cbow.layers[2].get_weights()[0]"
   ]
  },
  {
   "cell_type": "markdown",
   "id": "d900dfd8",
   "metadata": {},
   "source": [
    "#### Сравнение"
   ]
  },
  {
   "cell_type": "code",
   "execution_count": 196,
   "id": "c6c488c9",
   "metadata": {},
   "outputs": [
    {
     "data": {
      "text/plain": [
       "['соревнование',\n",
       " 'мир',\n",
       " 'раунд',\n",
       " 'квалификация',\n",
       " 'чемпион',\n",
       " 'победитель',\n",
       " 'спортсмен',\n",
       " 'чемпионат',\n",
       " 'очко',\n",
       " 'турнир']"
      ]
     },
     "execution_count": 196,
     "metadata": {},
     "output_type": "execute_result"
    }
   ],
   "source": [
    "most_similar('соревнование', embeddings_sg)"
   ]
  },
  {
   "cell_type": "code",
   "execution_count": 192,
   "id": "91d628c0",
   "metadata": {},
   "outputs": [
    {
     "data": {
      "text/plain": [
       "['письмо',\n",
       " 'чей',\n",
       " 'эволюция',\n",
       " 'понравиться',\n",
       " 'сомнение',\n",
       " 'средневековый',\n",
       " 'уделять',\n",
       " 'суровый',\n",
       " 'обстоятельство',\n",
       " 'опасаться']"
      ]
     },
     "execution_count": 192,
     "metadata": {},
     "output_type": "execute_result"
    }
   ],
   "source": [
    "most_similar('письмо', embeddings_sg)"
   ]
  },
  {
   "cell_type": "code",
   "execution_count": 197,
   "id": "ca912463",
   "metadata": {},
   "outputs": [
    {
     "data": {
      "text/plain": [
       "['соревнование',\n",
       " 'турнир',\n",
       " 'чемпионат',\n",
       " 'прыжок',\n",
       " 'гонка',\n",
       " 'спортсмен',\n",
       " 'олимпиада',\n",
       " 'квалификация',\n",
       " 'финал',\n",
       " 'победитель']"
      ]
     },
     "execution_count": 197,
     "metadata": {},
     "output_type": "execute_result"
    }
   ],
   "source": [
    "most_similar('соревнование', embeddings_cbow)"
   ]
  },
  {
   "cell_type": "code",
   "execution_count": 194,
   "id": "72c75ab6",
   "metadata": {},
   "outputs": [
    {
     "data": {
      "text/plain": [
       "['письмо',\n",
       " 'текст',\n",
       " 'акт',\n",
       " 'брак',\n",
       " 'написать',\n",
       " 'представление',\n",
       " 'предложение',\n",
       " 'рассказ',\n",
       " 'статья',\n",
       " 'писать']"
      ]
     },
     "execution_count": 194,
     "metadata": {},
     "output_type": "execute_result"
    }
   ],
   "source": [
    "most_similar('письмо', embeddings_cbow)"
   ]
  },
  {
   "cell_type": "markdown",
   "id": "64898d51",
   "metadata": {},
   "source": [
    "Обе модели выдают действительно похожие слова, но можно заметить, что cbow делает это лучше и имеет показатель больший показатель val_accuracy."
   ]
  },
  {
   "cell_type": "markdown",
   "id": "725fd1a5",
   "metadata": {},
   "source": [
    "# Задание 2 (3 балла)"
   ]
  },
  {
   "cell_type": "markdown",
   "id": "1488dcd0",
   "metadata": {},
   "source": [
    "Обучите 1 word2vec и 1 fastext модель в gensim. В каждой из модели нужно задать все параметры, которые мы разбирали на семинаре. Заданные значения должны отличаться от дефолтных и от тех, что мы использовали на семинаре."
   ]
  },
  {
   "cell_type": "code",
   "execution_count": 42,
   "id": "27ee87e7",
   "metadata": {},
   "outputs": [
    {
     "name": "stderr",
     "output_type": "stream",
     "text": [
      "/Users/mnefedov/.pyenv/versions/3.7.2/lib/python3.7/site-packages/gensim/similarities/__init__.py:15: UserWarning: The gensim.similarities.levenshtein submodule is disabled, because the optional Levenshtein package <https://pypi.org/project/python-Levenshtein/> is unavailable. Install Levenhstein (e.g. `pip install python-Levenshtein`) to suppress this warning.\n",
      "  warnings.warn(msg)\n"
     ]
    }
   ],
   "source": [
    "import gensim"
   ]
  },
  {
   "cell_type": "code",
   "execution_count": 43,
   "id": "fa4980fe",
   "metadata": {},
   "outputs": [
    {
     "name": "stdout",
     "output_type": "stream",
     "text": [
      "CPU times: user 39.3 s, sys: 367 ms, total: 39.7 s\n",
      "Wall time: 14.2 s\n"
     ]
    }
   ],
   "source": [
    "%%time\n",
    "w2v = gensim.models.Word2Vec(preprocessed_texts, \n",
    "                             vector_size=100, \n",
    "                             min_count=20, \n",
    "                             max_vocab_size=12000,\n",
    "                             window=6,\n",
    "                             epochs=10,\n",
    "                             hs=0,\n",
    "                             negative=10,\n",
    "                             sample=1e-4,\n",
    "                             ns_exponent=0.8,\n",
    "                             cbow_mean=1)"
   ]
  },
  {
   "cell_type": "code",
   "execution_count": 44,
   "id": "3e6dcf05",
   "metadata": {},
   "outputs": [
    {
     "data": {
      "text/plain": [
       "[('храм', 0.8131992816925049),\n",
       " ('часовня', 0.8120839595794678),\n",
       " ('пресвятой', 0.7881289720535278),\n",
       " ('богородица', 0.7573246359825134),\n",
       " ('православный', 0.7511273622512817),\n",
       " ('собор', 0.7471047043800354),\n",
       " ('освятить', 0.7413464188575745),\n",
       " ('святитель', 0.7344061136245728),\n",
       " ('церковный', 0.7327033281326294),\n",
       " ('настоятель', 0.7156883478164673)]"
      ]
     },
     "execution_count": 44,
     "metadata": {},
     "output_type": "execute_result"
    }
   ],
   "source": [
    "w2v.wv.most_similar('церковь')"
   ]
  },
  {
   "cell_type": "markdown",
   "id": "9d057dc5",
   "metadata": {},
   "source": [
    "### FastText"
   ]
  },
  {
   "cell_type": "code",
   "execution_count": 45,
   "id": "efe41afe",
   "metadata": {},
   "outputs": [
    {
     "name": "stdout",
     "output_type": "stream",
     "text": [
      "CPU times: user 3min 48s, sys: 744 ms, total: 3min 49s\n",
      "Wall time: 1min 18s\n"
     ]
    }
   ],
   "source": [
    "%%time\n",
    "ft = gensim.models.FastText(preprocessed_texts, \n",
    "                             vector_size=100, \n",
    "                             min_count=20, \n",
    "                             max_vocab_size=12000,\n",
    "                             window=6,\n",
    "                             epochs=10,\n",
    "                             hs=0,\n",
    "                             negative=10,\n",
    "                             sample=1e-4,\n",
    "                             ns_exponent=0.8,\n",
    "                             cbow_mean=1,\n",
    "                             min_n=3,\n",
    "                             max_n=9)"
   ]
  },
  {
   "cell_type": "code",
   "execution_count": 46,
   "id": "1534a6d9",
   "metadata": {},
   "outputs": [
    {
     "data": {
      "text/plain": [
       "[('храм', 0.855476975440979),\n",
       " ('часовня', 0.811062216758728),\n",
       " ('церковный', 0.7794473171234131),\n",
       " ('монастырь', 0.7752026915550232),\n",
       " ('пресвятой', 0.7730910181999207),\n",
       " ('икона', 0.7683797478675842),\n",
       " ('собор', 0.7536484599113464),\n",
       " ('монастырский', 0.7510785460472107),\n",
       " ('святитель', 0.749880313873291),\n",
       " ('богородица', 0.748834490776062)]"
      ]
     },
     "execution_count": 46,
     "metadata": {},
     "output_type": "execute_result"
    }
   ],
   "source": [
    "ft.wv.most_similar('церковь')"
   ]
  },
  {
   "cell_type": "markdown",
   "id": "9f5e27a8",
   "metadata": {},
   "source": [
    "# Задание 3 (4 балла)"
   ]
  },
  {
   "cell_type": "markdown",
   "id": "99f0bf05",
   "metadata": {},
   "source": [
    "Используя датасет для классификации (labeled.csv) и простую нейронную сеть (последняя модель в семинаре), оцените качество полученных эмбедингов в задании 1 и 2 (4 набора эмбедингов), также проверьте 1 любую из предобученных моделей с rus-vectores (но только не tayga_upos_skipgram_300_2_2019). \n",
    "Какая модель показывает наилучший результат?\n",
    "\n",
    "Убедитесь, что для каждой модели вы корректно воспроизводите пайплайн предобработки (в 1 задании у вас лемматизация, не забудьте ее применить к датасету для классификации; у выбранной предобученной модели может быть своя специфичная предобработка - ее нужно воспроизвести)"
   ]
  },
  {
   "cell_type": "markdown",
   "id": "ed70e1ef",
   "metadata": {},
   "source": [
    "Использовалась модель: news_upos_skipgram_300_5_2019"
   ]
  },
  {
   "cell_type": "code",
   "execution_count": 224,
   "id": "ecee356d",
   "metadata": {},
   "outputs": [],
   "source": [
    "# я скачал вот эту tayga_upos_skipgram_300_2_2019 \n",
    "# и распаковал архив в папку taiga_w2v_model\n",
    "import gensim\n",
    "model = gensim.models.KeyedVectors.load_word2vec_format('model.bin', binary=True)"
   ]
  },
  {
   "cell_type": "code",
   "execution_count": 225,
   "id": "826f4042",
   "metadata": {},
   "outputs": [
    {
     "data": {
      "text/plain": [
       "[('март_NOUN', 0.6986004710197449),\n",
       " ('апрель_NOUN', 0.6406055688858032),\n",
       " ('январь_NOUN', 0.6310263276100159),\n",
       " ('гребцов::и::сасим_PROPN', 0.5914050936698914),\n",
       " ('декабрь_NOUN', 0.5900784134864807),\n",
       " ('парламентинский_ADJ', 0.5845531821250916),\n",
       " ('май_NOUN', 0.5792794823646545),\n",
       " ('июль_NOUN', 0.5510830879211426),\n",
       " ('октябрь_NOUN', 0.5452835559844971),\n",
       " ('ноябрь_NOUN', 0.5448249578475952)]"
      ]
     },
     "execution_count": 225,
     "metadata": {},
     "output_type": "execute_result"
    }
   ],
   "source": [
    "model.most_similar('февраль_NOUN')"
   ]
  },
  {
   "cell_type": "code",
   "execution_count": 226,
   "id": "449da2e0",
   "metadata": {},
   "outputs": [],
   "source": [
    "mapping = {}\n",
    "\n",
    "for line in open('ru-rnc.map'):\n",
    "    ms, ud = line.strip('\\n').split()\n",
    "    mapping[ms] = ud"
   ]
  },
  {
   "cell_type": "code",
   "execution_count": 283,
   "id": "08bd1727",
   "metadata": {},
   "outputs": [],
   "source": [
    "from pymystem3 import Mystem\n",
    "m = Mystem()"
   ]
  },
  {
   "cell_type": "code",
   "execution_count": 284,
   "id": "1fa2cfff",
   "metadata": {},
   "outputs": [],
   "source": [
    "def normalize_mystem(text):\n",
    "    tokens = []\n",
    "    norm_words = m.analyze(text)\n",
    "    for norm_word in norm_words:\n",
    "        if 'analysis' not in norm_word:\n",
    "            continue\n",
    "            \n",
    "        if not len(norm_word['analysis']):\n",
    "            lemma = norm_word['text']\n",
    "            pos = 'UNKN'\n",
    "        else:\n",
    "            lemma = norm_word[\"analysis\"][0][\"lex\"].lower().strip()\n",
    "            pos = norm_word[\"analysis\"][0][\"gr\"].split(',')[0]\n",
    "            pos = pos.split('=')[0].strip()\n",
    "        pos = mapping[pos]\n",
    "        tokens.append(lemma+'_'+pos)\n",
    "\n",
    "    return tokens"
   ]
  },
  {
   "cell_type": "code",
   "execution_count": 229,
   "id": "406a455e",
   "metadata": {},
   "outputs": [],
   "source": [
    "data = pd.read_csv('labeled.csv')\n",
    "data['norm_text'] = data.comment.apply(preprocess_lemm)"
   ]
  },
  {
   "cell_type": "code",
   "execution_count": 230,
   "id": "668542df",
   "metadata": {},
   "outputs": [
    {
     "data": {
      "text/html": [
       "<div>\n",
       "<style scoped>\n",
       "    .dataframe tbody tr th:only-of-type {\n",
       "        vertical-align: middle;\n",
       "    }\n",
       "\n",
       "    .dataframe tbody tr th {\n",
       "        vertical-align: top;\n",
       "    }\n",
       "\n",
       "    .dataframe thead th {\n",
       "        text-align: right;\n",
       "    }\n",
       "</style>\n",
       "<table border=\"1\" class=\"dataframe\">\n",
       "  <thead>\n",
       "    <tr style=\"text-align: right;\">\n",
       "      <th></th>\n",
       "      <th>comment</th>\n",
       "      <th>toxic</th>\n",
       "      <th>norm_text</th>\n",
       "    </tr>\n",
       "  </thead>\n",
       "  <tbody>\n",
       "    <tr>\n",
       "      <th>0</th>\n",
       "      <td>Верблюдов-то за что? Дебилы, бл...\\r\\n</td>\n",
       "      <td>1.0</td>\n",
       "      <td>[верблюд-то, за, что, дебил, бл]</td>\n",
       "    </tr>\n",
       "    <tr>\n",
       "      <th>1</th>\n",
       "      <td>Хохлы, это отдушина затюканого россиянина, мол...</td>\n",
       "      <td>1.0</td>\n",
       "      <td>[хохол, это, отдушина, затюканый, россиянин, м...</td>\n",
       "    </tr>\n",
       "    <tr>\n",
       "      <th>2</th>\n",
       "      <td>Собаке - собачья смерть\\r\\n</td>\n",
       "      <td>1.0</td>\n",
       "      <td>[собака, собачий, смерть]</td>\n",
       "    </tr>\n",
       "    <tr>\n",
       "      <th>3</th>\n",
       "      <td>Страницу обнови, дебил. Это тоже не оскорблени...</td>\n",
       "      <td>1.0</td>\n",
       "      <td>[страница, обновить, дебил, это, тоже, не, оск...</td>\n",
       "    </tr>\n",
       "    <tr>\n",
       "      <th>4</th>\n",
       "      <td>тебя не убедил 6-страничный пдф в том, что Скр...</td>\n",
       "      <td>1.0</td>\n",
       "      <td>[ты, не, убедить, 6-страничный, пдф, в, тот, ч...</td>\n",
       "    </tr>\n",
       "  </tbody>\n",
       "</table>\n",
       "</div>"
      ],
      "text/plain": [
       "                                             comment  toxic  \\\n",
       "0             Верблюдов-то за что? Дебилы, бл...\\r\\n    1.0   \n",
       "1  Хохлы, это отдушина затюканого россиянина, мол...    1.0   \n",
       "2                        Собаке - собачья смерть\\r\\n    1.0   \n",
       "3  Страницу обнови, дебил. Это тоже не оскорблени...    1.0   \n",
       "4  тебя не убедил 6-страничный пдф в том, что Скр...    1.0   \n",
       "\n",
       "                                           norm_text  \n",
       "0                   [верблюд-то, за, что, дебил, бл]  \n",
       "1  [хохол, это, отдушина, затюканый, россиянин, м...  \n",
       "2                          [собака, собачий, смерть]  \n",
       "3  [страница, обновить, дебил, это, тоже, не, оск...  \n",
       "4  [ты, не, убедить, 6-страничный, пдф, в, тот, ч...  "
      ]
     },
     "execution_count": 230,
     "metadata": {},
     "output_type": "execute_result"
    }
   ],
   "source": [
    "data.head()"
   ]
  },
  {
   "cell_type": "code",
   "execution_count": 233,
   "id": "0e9d7b1f",
   "metadata": {},
   "outputs": [
    {
     "data": {
      "text/plain": [
       "6308"
      ]
     },
     "execution_count": 233,
     "metadata": {},
     "output_type": "execute_result"
    }
   ],
   "source": [
    "vocab = Counter()\n",
    "\n",
    "for text in data['norm_text']:\n",
    "    vocab.update(text)\n",
    "    \n",
    "filtered_vocab = set()\n",
    "\n",
    "for word in vocab:\n",
    "    if vocab[word] > 5:\n",
    "        filtered_vocab.add(word)\n",
    "\n",
    "len(filtered_vocab)"
   ]
  },
  {
   "cell_type": "code",
   "execution_count": 234,
   "id": "a03cba97",
   "metadata": {},
   "outputs": [],
   "source": [
    "word2id = { 'PAD':0}\n",
    "\n",
    "for word in filtered_vocab:\n",
    "    word2id[word] = len(word2id)\n",
    "id2word = {i:word for word, i in word2id.items()}"
   ]
  },
  {
   "cell_type": "code",
   "execution_count": 235,
   "id": "2ae35a77",
   "metadata": {},
   "outputs": [],
   "source": [
    "X = []\n",
    "\n",
    "for tokens in data['norm_text']:\n",
    "    ids = [word2id[token] for token in tokens if token in word2id]\n",
    "    X.append(ids)"
   ]
  },
  {
   "cell_type": "code",
   "execution_count": 236,
   "id": "b99f4d7d",
   "metadata": {},
   "outputs": [],
   "source": [
    "X = tf.keras.preprocessing.sequence.pad_sequences(X, maxlen=100)\n",
    "y = data.toxic.values"
   ]
  },
  {
   "cell_type": "code",
   "execution_count": 237,
   "id": "67fd2f72",
   "metadata": {},
   "outputs": [],
   "source": [
    "X_train, X_valid, y_train, y_valid = train_test_split(X, y, test_size=0.05)"
   ]
  },
  {
   "cell_type": "markdown",
   "id": "0fd486f1",
   "metadata": {},
   "source": [
    "### Необходимые функции"
   ]
  },
  {
   "cell_type": "code",
   "execution_count": 210,
   "id": "7207d235",
   "metadata": {},
   "outputs": [],
   "source": [
    "def get_matrix(ft):\n",
    "    weights = np.zeros((len(word2id), 100))\n",
    "    for word, i in word2id.items():\n",
    "        # вектор паддинга оставим нулевым\n",
    "        if word == 'PAD':\n",
    "            continue\n",
    "        try:\n",
    "            weights[i] = ft.wv[word]\n",
    "        except KeyError:\n",
    "            # для слов, которых нет в модели тоже возьмем какой-то  рандомный вектор\n",
    "            continue\n",
    "            weights[i] = ft.wv['опрагпллирао']\n",
    "    return weights\n",
    "\n",
    "\n",
    "def get_matrix_tf(ft):\n",
    "    weights = np.zeros((len(word2id), 100))\n",
    "    for word, i in tqdm(word2id.items()):\n",
    "        # вектор паддинга оставим нулевым\n",
    "        if word == 'PAD':\n",
    "            continue\n",
    "        try:\n",
    "            vec = ft.layers[2].get_weights()[0][word2id_copy[word]]\n",
    "            weights[i] = vec\n",
    "#             weights[i] = ft.wv[word]\n",
    "        except KeyError:\n",
    "            # для слов, которых нет в модели тоже возьмем какой-то  рандомный вектор\n",
    "            continue\n",
    "            weights[i] = ft.layers[2].get_weights()[0][word2id_copy['опрагпллирао']]\n",
    "#             weights[i] = ft.wv['опрагпллирао']\n",
    "    return weights"
   ]
  },
  {
   "cell_type": "code",
   "execution_count": 211,
   "id": "d983b687",
   "metadata": {},
   "outputs": [],
   "source": [
    "def init_model(weights):\n",
    "    inputs = tf.keras.layers.Input(shape=(100,))\n",
    "    embeddings = tf.keras.layers.Embedding(input_dim=len(word2id), output_dim=100, \n",
    "                                           trainable=False,\n",
    "                                           weights=[weights])(inputs, )\n",
    "    mean = tf.keras.layers.Lambda(lambda x: tf.keras.backend.mean(x,  axis=1))(embeddings)\n",
    "\n",
    "    outputs = tf.keras.layers.Dense(1, activation='sigmoid')(mean)\n",
    "\n",
    "    model = tf.keras.Model(inputs=inputs, outputs=outputs)\n",
    "    optimizer = tf.keras.optimizers.Adam()\n",
    "    model.compile(optimizer=optimizer,\n",
    "                  loss='binary_crossentropy',\n",
    "                  metrics=['accuracy'])\n",
    "    return model"
   ]
  },
  {
   "cell_type": "markdown",
   "id": "837192f7",
   "metadata": {},
   "source": [
    "### Gensim word2vec"
   ]
  },
  {
   "cell_type": "code",
   "execution_count": 212,
   "id": "2fde9f43",
   "metadata": {},
   "outputs": [
    {
     "name": "stdout",
     "output_type": "stream",
     "text": [
      "Epoch 1/50\n",
      "107/107 [==============================] - 1s 6ms/step - loss: 0.6821 - accuracy: 0.5694 - val_loss: 0.6528 - val_accuracy: 0.6449\n",
      "Epoch 2/50\n",
      "107/107 [==============================] - 0s 4ms/step - loss: 0.6341 - accuracy: 0.6658 - val_loss: 0.6338 - val_accuracy: 0.6449\n",
      "Epoch 3/50\n",
      "107/107 [==============================] - 0s 3ms/step - loss: 0.6185 - accuracy: 0.6660 - val_loss: 0.6254 - val_accuracy: 0.6449\n",
      "Epoch 4/50\n",
      "107/107 [==============================] - 0s 4ms/step - loss: 0.6094 - accuracy: 0.6661 - val_loss: 0.6184 - val_accuracy: 0.6449\n",
      "Epoch 5/50\n",
      "107/107 [==============================] - 0s 3ms/step - loss: 0.6019 - accuracy: 0.6661 - val_loss: 0.6123 - val_accuracy: 0.6449\n",
      "Epoch 6/50\n",
      "107/107 [==============================] - 0s 3ms/step - loss: 0.5954 - accuracy: 0.6662 - val_loss: 0.6065 - val_accuracy: 0.6449\n",
      "Epoch 7/50\n",
      "107/107 [==============================] - 0s 3ms/step - loss: 0.5895 - accuracy: 0.6663 - val_loss: 0.6016 - val_accuracy: 0.6463\n",
      "Epoch 8/50\n",
      "107/107 [==============================] - 0s 3ms/step - loss: 0.5842 - accuracy: 0.6666 - val_loss: 0.5973 - val_accuracy: 0.6477\n",
      "Epoch 9/50\n",
      "107/107 [==============================] - 0s 3ms/step - loss: 0.5795 - accuracy: 0.6670 - val_loss: 0.5931 - val_accuracy: 0.6477\n",
      "Epoch 10/50\n",
      "107/107 [==============================] - 0s 3ms/step - loss: 0.5752 - accuracy: 0.6678 - val_loss: 0.5896 - val_accuracy: 0.6519\n",
      "Epoch 11/50\n",
      "107/107 [==============================] - 0s 3ms/step - loss: 0.5712 - accuracy: 0.6696 - val_loss: 0.5865 - val_accuracy: 0.6533\n",
      "Epoch 12/50\n",
      "107/107 [==============================] - 0s 3ms/step - loss: 0.5676 - accuracy: 0.6719 - val_loss: 0.5834 - val_accuracy: 0.6574\n",
      "Epoch 13/50\n",
      "107/107 [==============================] - 0s 3ms/step - loss: 0.5642 - accuracy: 0.6742 - val_loss: 0.5807 - val_accuracy: 0.6616\n",
      "Epoch 14/50\n",
      "107/107 [==============================] - 0s 3ms/step - loss: 0.5611 - accuracy: 0.6762 - val_loss: 0.5781 - val_accuracy: 0.6574\n",
      "Epoch 15/50\n",
      "107/107 [==============================] - 0s 3ms/step - loss: 0.5582 - accuracy: 0.6801 - val_loss: 0.5759 - val_accuracy: 0.6588\n",
      "Epoch 16/50\n",
      "107/107 [==============================] - 0s 3ms/step - loss: 0.5555 - accuracy: 0.6830 - val_loss: 0.5736 - val_accuracy: 0.6602\n",
      "Epoch 17/50\n",
      "107/107 [==============================] - 0s 3ms/step - loss: 0.5530 - accuracy: 0.6862 - val_loss: 0.5717 - val_accuracy: 0.6644\n",
      "Epoch 18/50\n",
      "107/107 [==============================] - 0s 3ms/step - loss: 0.5507 - accuracy: 0.6896 - val_loss: 0.5699 - val_accuracy: 0.6671\n",
      "Epoch 19/50\n",
      "107/107 [==============================] - 0s 3ms/step - loss: 0.5484 - accuracy: 0.6917 - val_loss: 0.5682 - val_accuracy: 0.6699\n",
      "Epoch 20/50\n",
      "107/107 [==============================] - 0s 3ms/step - loss: 0.5463 - accuracy: 0.6922 - val_loss: 0.5664 - val_accuracy: 0.6727\n",
      "Epoch 21/50\n",
      "107/107 [==============================] - 0s 3ms/step - loss: 0.5443 - accuracy: 0.6954 - val_loss: 0.5650 - val_accuracy: 0.6713\n",
      "Epoch 22/50\n",
      "107/107 [==============================] - 0s 3ms/step - loss: 0.5425 - accuracy: 0.6984 - val_loss: 0.5633 - val_accuracy: 0.6727\n",
      "Epoch 23/50\n",
      "107/107 [==============================] - 0s 3ms/step - loss: 0.5406 - accuracy: 0.6989 - val_loss: 0.5621 - val_accuracy: 0.6755\n",
      "Epoch 24/50\n",
      "107/107 [==============================] - 0s 3ms/step - loss: 0.5390 - accuracy: 0.6999 - val_loss: 0.5608 - val_accuracy: 0.6782\n",
      "Epoch 25/50\n",
      "107/107 [==============================] - 0s 3ms/step - loss: 0.5374 - accuracy: 0.7039 - val_loss: 0.5596 - val_accuracy: 0.6796\n",
      "Epoch 26/50\n",
      "107/107 [==============================] - 0s 3ms/step - loss: 0.5359 - accuracy: 0.7049 - val_loss: 0.5585 - val_accuracy: 0.6810\n",
      "Epoch 27/50\n",
      "107/107 [==============================] - 0s 3ms/step - loss: 0.5345 - accuracy: 0.7091 - val_loss: 0.5575 - val_accuracy: 0.6824\n",
      "Epoch 28/50\n",
      "107/107 [==============================] - 0s 3ms/step - loss: 0.5331 - accuracy: 0.7099 - val_loss: 0.5563 - val_accuracy: 0.6893\n",
      "Epoch 29/50\n",
      "107/107 [==============================] - 0s 3ms/step - loss: 0.5318 - accuracy: 0.7112 - val_loss: 0.5554 - val_accuracy: 0.6893\n",
      "Epoch 30/50\n",
      "107/107 [==============================] - 0s 3ms/step - loss: 0.5305 - accuracy: 0.7121 - val_loss: 0.5544 - val_accuracy: 0.6907\n",
      "Epoch 31/50\n",
      "107/107 [==============================] - 0s 3ms/step - loss: 0.5293 - accuracy: 0.7145 - val_loss: 0.5536 - val_accuracy: 0.6949\n",
      "Epoch 32/50\n",
      "107/107 [==============================] - 0s 3ms/step - loss: 0.5282 - accuracy: 0.7149 - val_loss: 0.5528 - val_accuracy: 0.6963\n",
      "Epoch 33/50\n",
      "107/107 [==============================] - 0s 3ms/step - loss: 0.5272 - accuracy: 0.7159 - val_loss: 0.5521 - val_accuracy: 0.6990\n",
      "Epoch 34/50\n",
      "107/107 [==============================] - 0s 3ms/step - loss: 0.5261 - accuracy: 0.7187 - val_loss: 0.5512 - val_accuracy: 0.6963\n",
      "Epoch 35/50\n",
      "107/107 [==============================] - 0s 3ms/step - loss: 0.5251 - accuracy: 0.7194 - val_loss: 0.5505 - val_accuracy: 0.6949\n",
      "Epoch 36/50\n",
      "107/107 [==============================] - 0s 3ms/step - loss: 0.5241 - accuracy: 0.7209 - val_loss: 0.5497 - val_accuracy: 0.6990\n",
      "Epoch 37/50\n",
      "107/107 [==============================] - 0s 3ms/step - loss: 0.5232 - accuracy: 0.7215 - val_loss: 0.5491 - val_accuracy: 0.7018\n",
      "Epoch 38/50\n",
      "107/107 [==============================] - 0s 3ms/step - loss: 0.5224 - accuracy: 0.7226 - val_loss: 0.5484 - val_accuracy: 0.7032\n",
      "Epoch 39/50\n",
      "107/107 [==============================] - 0s 3ms/step - loss: 0.5215 - accuracy: 0.7242 - val_loss: 0.5478 - val_accuracy: 0.7046\n",
      "Epoch 40/50\n",
      "107/107 [==============================] - 0s 3ms/step - loss: 0.5207 - accuracy: 0.7246 - val_loss: 0.5471 - val_accuracy: 0.7060\n",
      "Epoch 41/50\n",
      "107/107 [==============================] - 0s 3ms/step - loss: 0.5199 - accuracy: 0.7246 - val_loss: 0.5467 - val_accuracy: 0.7032\n",
      "Epoch 42/50\n",
      "107/107 [==============================] - 0s 3ms/step - loss: 0.5193 - accuracy: 0.7262 - val_loss: 0.5462 - val_accuracy: 0.7032\n",
      "Epoch 43/50\n",
      "107/107 [==============================] - 0s 3ms/step - loss: 0.5185 - accuracy: 0.7270 - val_loss: 0.5456 - val_accuracy: 0.7101\n",
      "Epoch 44/50\n",
      "107/107 [==============================] - 0s 3ms/step - loss: 0.5178 - accuracy: 0.7269 - val_loss: 0.5450 - val_accuracy: 0.7143\n",
      "Epoch 45/50\n",
      "107/107 [==============================] - 0s 3ms/step - loss: 0.5172 - accuracy: 0.7281 - val_loss: 0.5445 - val_accuracy: 0.7129\n",
      "Epoch 46/50\n",
      "107/107 [==============================] - 0s 3ms/step - loss: 0.5166 - accuracy: 0.7285 - val_loss: 0.5441 - val_accuracy: 0.7115\n",
      "Epoch 47/50\n",
      "107/107 [==============================] - 0s 3ms/step - loss: 0.5159 - accuracy: 0.7287 - val_loss: 0.5435 - val_accuracy: 0.7143\n",
      "Epoch 48/50\n",
      "107/107 [==============================] - 0s 3ms/step - loss: 0.5153 - accuracy: 0.7301 - val_loss: 0.5433 - val_accuracy: 0.7115\n",
      "Epoch 49/50\n",
      "107/107 [==============================] - 0s 3ms/step - loss: 0.5148 - accuracy: 0.7296 - val_loss: 0.5428 - val_accuracy: 0.7143\n",
      "Epoch 50/50\n",
      "107/107 [==============================] - 0s 3ms/step - loss: 0.5142 - accuracy: 0.7299 - val_loss: 0.5426 - val_accuracy: 0.7115\n"
     ]
    },
    {
     "data": {
      "text/plain": [
       "<keras.callbacks.History at 0x12d98b039e8>"
      ]
     },
     "execution_count": 212,
     "metadata": {},
     "output_type": "execute_result"
    }
   ],
   "source": [
    "model_w2v = init_model(get_matrix(w2v))\n",
    "\n",
    "model_w2v.fit(X_train, y_train, \n",
    "          validation_data=(X_valid, y_valid),\n",
    "          batch_size=128,\n",
    "          epochs=50)"
   ]
  },
  {
   "cell_type": "markdown",
   "id": "30e4e5db",
   "metadata": {},
   "source": [
    "### Gensim fasttext"
   ]
  },
  {
   "cell_type": "code",
   "execution_count": 213,
   "id": "3e8416de",
   "metadata": {},
   "outputs": [
    {
     "name": "stdout",
     "output_type": "stream",
     "text": [
      "Epoch 1/50\n",
      "428/428 [==============================] - 2s 3ms/step - loss: 0.6339 - accuracy: 0.6585 - val_loss: 0.6256 - val_accuracy: 0.6449\n",
      "Epoch 2/50\n",
      "428/428 [==============================] - 1s 2ms/step - loss: 0.6026 - accuracy: 0.6655 - val_loss: 0.6063 - val_accuracy: 0.6449\n",
      "Epoch 3/50\n",
      "428/428 [==============================] - 1s 2ms/step - loss: 0.5854 - accuracy: 0.6667 - val_loss: 0.5938 - val_accuracy: 0.6477\n",
      "Epoch 4/50\n",
      "428/428 [==============================] - 1s 2ms/step - loss: 0.5729 - accuracy: 0.6688 - val_loss: 0.5841 - val_accuracy: 0.6602\n",
      "Epoch 5/50\n",
      "428/428 [==============================] - 1s 2ms/step - loss: 0.5634 - accuracy: 0.6764 - val_loss: 0.5773 - val_accuracy: 0.6588\n",
      "Epoch 6/50\n",
      "428/428 [==============================] - 1s 2ms/step - loss: 0.5559 - accuracy: 0.6851 - val_loss: 0.5722 - val_accuracy: 0.6644\n",
      "Epoch 7/50\n",
      "428/428 [==============================] - 1s 2ms/step - loss: 0.5497 - accuracy: 0.6910 - val_loss: 0.5687 - val_accuracy: 0.6713\n",
      "Epoch 8/50\n",
      "428/428 [==============================] - 1s 2ms/step - loss: 0.5446 - accuracy: 0.6951 - val_loss: 0.5645 - val_accuracy: 0.6727\n",
      "Epoch 9/50\n",
      "428/428 [==============================] - 1s 2ms/step - loss: 0.5401 - accuracy: 0.6994 - val_loss: 0.5610 - val_accuracy: 0.6741\n",
      "Epoch 10/50\n",
      "428/428 [==============================] - 1s 2ms/step - loss: 0.5364 - accuracy: 0.7064 - val_loss: 0.5587 - val_accuracy: 0.6782\n",
      "Epoch 11/50\n",
      "428/428 [==============================] - 1s 2ms/step - loss: 0.5331 - accuracy: 0.7104 - val_loss: 0.5560 - val_accuracy: 0.6879\n",
      "Epoch 12/50\n",
      "428/428 [==============================] - 1s 2ms/step - loss: 0.5302 - accuracy: 0.7147 - val_loss: 0.5541 - val_accuracy: 0.6852\n",
      "Epoch 13/50\n",
      "428/428 [==============================] - 1s 2ms/step - loss: 0.5277 - accuracy: 0.7167 - val_loss: 0.5522 - val_accuracy: 0.6949\n",
      "Epoch 14/50\n",
      "428/428 [==============================] - 1s 2ms/step - loss: 0.5253 - accuracy: 0.7187 - val_loss: 0.5507 - val_accuracy: 0.6949\n",
      "Epoch 15/50\n",
      "428/428 [==============================] - 1s 2ms/step - loss: 0.5233 - accuracy: 0.7227 - val_loss: 0.5490 - val_accuracy: 0.6963\n",
      "Epoch 16/50\n",
      "428/428 [==============================] - 1s 2ms/step - loss: 0.5215 - accuracy: 0.7251 - val_loss: 0.5477 - val_accuracy: 0.7018\n",
      "Epoch 17/50\n",
      "428/428 [==============================] - 1s 2ms/step - loss: 0.5198 - accuracy: 0.7268 - val_loss: 0.5472 - val_accuracy: 0.6990\n",
      "Epoch 18/50\n",
      "428/428 [==============================] - 1s 2ms/step - loss: 0.5182 - accuracy: 0.7290 - val_loss: 0.5454 - val_accuracy: 0.7101\n",
      "Epoch 19/50\n",
      "428/428 [==============================] - 1s 2ms/step - loss: 0.5168 - accuracy: 0.7294 - val_loss: 0.5445 - val_accuracy: 0.7115\n",
      "Epoch 20/50\n",
      "428/428 [==============================] - 1s 2ms/step - loss: 0.5155 - accuracy: 0.7311 - val_loss: 0.5443 - val_accuracy: 0.7018\n",
      "Epoch 21/50\n",
      "428/428 [==============================] - 1s 2ms/step - loss: 0.5144 - accuracy: 0.7316 - val_loss: 0.5430 - val_accuracy: 0.7157\n",
      "Epoch 22/50\n",
      "428/428 [==============================] - 1s 2ms/step - loss: 0.5133 - accuracy: 0.7314 - val_loss: 0.5420 - val_accuracy: 0.7212\n",
      "Epoch 23/50\n",
      "428/428 [==============================] - 1s 2ms/step - loss: 0.5123 - accuracy: 0.7342 - val_loss: 0.5417 - val_accuracy: 0.7143\n",
      "Epoch 24/50\n",
      "428/428 [==============================] - 1s 2ms/step - loss: 0.5113 - accuracy: 0.7340 - val_loss: 0.5405 - val_accuracy: 0.7268\n",
      "Epoch 25/50\n",
      "428/428 [==============================] - 1s 2ms/step - loss: 0.5104 - accuracy: 0.7346 - val_loss: 0.5398 - val_accuracy: 0.7240\n",
      "Epoch 26/50\n",
      "428/428 [==============================] - 1s 2ms/step - loss: 0.5095 - accuracy: 0.7353 - val_loss: 0.5397 - val_accuracy: 0.7226\n",
      "Epoch 27/50\n",
      "428/428 [==============================] - 1s 2ms/step - loss: 0.5088 - accuracy: 0.7357 - val_loss: 0.5389 - val_accuracy: 0.7226\n",
      "Epoch 28/50\n",
      "428/428 [==============================] - 1s 2ms/step - loss: 0.5080 - accuracy: 0.7353 - val_loss: 0.5384 - val_accuracy: 0.7212\n",
      "Epoch 29/50\n",
      "428/428 [==============================] - 1s 2ms/step - loss: 0.5073 - accuracy: 0.7365 - val_loss: 0.5378 - val_accuracy: 0.7226\n",
      "Epoch 30/50\n",
      "428/428 [==============================] - 1s 2ms/step - loss: 0.5066 - accuracy: 0.7373 - val_loss: 0.5378 - val_accuracy: 0.7212\n",
      "Epoch 31/50\n",
      "428/428 [==============================] - 1s 2ms/step - loss: 0.5061 - accuracy: 0.7373 - val_loss: 0.5372 - val_accuracy: 0.7212\n",
      "Epoch 32/50\n",
      "428/428 [==============================] - 1s 2ms/step - loss: 0.5055 - accuracy: 0.7375 - val_loss: 0.5363 - val_accuracy: 0.7254\n",
      "Epoch 33/50\n",
      "428/428 [==============================] - 1s 2ms/step - loss: 0.5049 - accuracy: 0.7394 - val_loss: 0.5357 - val_accuracy: 0.7323\n",
      "Epoch 34/50\n",
      "428/428 [==============================] - 1s 2ms/step - loss: 0.5044 - accuracy: 0.7384 - val_loss: 0.5355 - val_accuracy: 0.7295\n",
      "Epoch 35/50\n",
      "428/428 [==============================] - 1s 2ms/step - loss: 0.5039 - accuracy: 0.7392 - val_loss: 0.5351 - val_accuracy: 0.7309\n",
      "Epoch 36/50\n",
      "428/428 [==============================] - 1s 2ms/step - loss: 0.5034 - accuracy: 0.7397 - val_loss: 0.5350 - val_accuracy: 0.7282\n",
      "Epoch 37/50\n",
      "428/428 [==============================] - 1s 2ms/step - loss: 0.5029 - accuracy: 0.7391 - val_loss: 0.5345 - val_accuracy: 0.7337\n",
      "Epoch 38/50\n",
      "428/428 [==============================] - 1s 2ms/step - loss: 0.5024 - accuracy: 0.7397 - val_loss: 0.5343 - val_accuracy: 0.7323\n",
      "Epoch 39/50\n",
      "428/428 [==============================] - 1s 2ms/step - loss: 0.5020 - accuracy: 0.7406 - val_loss: 0.5337 - val_accuracy: 0.7379\n",
      "Epoch 40/50\n",
      "428/428 [==============================] - 1s 2ms/step - loss: 0.5016 - accuracy: 0.7421 - val_loss: 0.5338 - val_accuracy: 0.7309\n",
      "Epoch 41/50\n",
      "428/428 [==============================] - 1s 2ms/step - loss: 0.5012 - accuracy: 0.7414 - val_loss: 0.5333 - val_accuracy: 0.7323\n",
      "Epoch 42/50\n",
      "428/428 [==============================] - 1s 2ms/step - loss: 0.5008 - accuracy: 0.7422 - val_loss: 0.5327 - val_accuracy: 0.7351\n",
      "Epoch 43/50\n",
      "428/428 [==============================] - 1s 2ms/step - loss: 0.5004 - accuracy: 0.7423 - val_loss: 0.5325 - val_accuracy: 0.7351\n",
      "Epoch 44/50\n",
      "428/428 [==============================] - 1s 1ms/step - loss: 0.5001 - accuracy: 0.7437 - val_loss: 0.5322 - val_accuracy: 0.7351\n",
      "Epoch 45/50\n",
      "428/428 [==============================] - 1s 1ms/step - loss: 0.4998 - accuracy: 0.7435 - val_loss: 0.5320 - val_accuracy: 0.7351\n",
      "Epoch 46/50\n",
      "428/428 [==============================] - 1s 2ms/step - loss: 0.4994 - accuracy: 0.7444 - val_loss: 0.5317 - val_accuracy: 0.7323\n",
      "Epoch 47/50\n",
      "428/428 [==============================] - 1s 2ms/step - loss: 0.4991 - accuracy: 0.7452 - val_loss: 0.5316 - val_accuracy: 0.7351\n",
      "Epoch 48/50\n",
      "428/428 [==============================] - 1s 2ms/step - loss: 0.4988 - accuracy: 0.7440 - val_loss: 0.5315 - val_accuracy: 0.7351\n",
      "Epoch 49/50\n",
      "428/428 [==============================] - 1s 2ms/step - loss: 0.4985 - accuracy: 0.7439 - val_loss: 0.5310 - val_accuracy: 0.7379\n",
      "Epoch 50/50\n",
      "428/428 [==============================] - 1s 2ms/step - loss: 0.4982 - accuracy: 0.7446 - val_loss: 0.5308 - val_accuracy: 0.7365\n"
     ]
    },
    {
     "data": {
      "text/plain": [
       "<keras.callbacks.History at 0x12d955db978>"
      ]
     },
     "execution_count": 213,
     "metadata": {},
     "output_type": "execute_result"
    }
   ],
   "source": [
    "model_ft = init_model(get_matrix(w2v))\n",
    "\n",
    "model_ft.fit(X_train, y_train, \n",
    "          validation_data=(X_valid, y_valid),\n",
    "          batch_size=32,\n",
    "          epochs=50)"
   ]
  },
  {
   "cell_type": "markdown",
   "id": "950b7a5e",
   "metadata": {},
   "source": [
    "### Tensorflow skip-gram"
   ]
  },
  {
   "cell_type": "code",
   "execution_count": 214,
   "id": "c2c6c1cd",
   "metadata": {},
   "outputs": [
    {
     "name": "stderr",
     "output_type": "stream",
     "text": [
      "100%|██████████| 6309/6309 [00:35<00:00, 178.55it/s]\n"
     ]
    },
    {
     "name": "stdout",
     "output_type": "stream",
     "text": [
      "Epoch 1/50\n",
      "428/428 [==============================] - 2s 3ms/step - loss: 0.6513 - accuracy: 0.6571 - val_loss: 0.6341 - val_accuracy: 0.6463\n",
      "Epoch 2/50\n",
      "428/428 [==============================] - 1s 2ms/step - loss: 0.6187 - accuracy: 0.6661 - val_loss: 0.6265 - val_accuracy: 0.6463\n",
      "Epoch 3/50\n",
      "428/428 [==============================] - 1s 2ms/step - loss: 0.6131 - accuracy: 0.6661 - val_loss: 0.6242 - val_accuracy: 0.6463\n",
      "Epoch 4/50\n",
      "428/428 [==============================] - 1s 2ms/step - loss: 0.6106 - accuracy: 0.6661 - val_loss: 0.6217 - val_accuracy: 0.6463\n",
      "Epoch 5/50\n",
      "428/428 [==============================] - 1s 2ms/step - loss: 0.6086 - accuracy: 0.6661 - val_loss: 0.6198 - val_accuracy: 0.6463\n",
      "Epoch 6/50\n",
      "428/428 [==============================] - 1s 2ms/step - loss: 0.6068 - accuracy: 0.6661 - val_loss: 0.6180 - val_accuracy: 0.6463\n",
      "Epoch 7/50\n",
      "428/428 [==============================] - 1s 2ms/step - loss: 0.6052 - accuracy: 0.6661 - val_loss: 0.6161 - val_accuracy: 0.6463\n",
      "Epoch 8/50\n",
      "428/428 [==============================] - 1s 2ms/step - loss: 0.6037 - accuracy: 0.6661 - val_loss: 0.6145 - val_accuracy: 0.6463\n",
      "Epoch 9/50\n",
      "428/428 [==============================] - 1s 2ms/step - loss: 0.6023 - accuracy: 0.6661 - val_loss: 0.6131 - val_accuracy: 0.6463\n",
      "Epoch 10/50\n",
      "428/428 [==============================] - 1s 2ms/step - loss: 0.6011 - accuracy: 0.6661 - val_loss: 0.6118 - val_accuracy: 0.6463\n",
      "Epoch 11/50\n",
      "428/428 [==============================] - 1s 2ms/step - loss: 0.5998 - accuracy: 0.6661 - val_loss: 0.6103 - val_accuracy: 0.6463\n",
      "Epoch 12/50\n",
      "428/428 [==============================] - 1s 2ms/step - loss: 0.5987 - accuracy: 0.6661 - val_loss: 0.6093 - val_accuracy: 0.6463\n",
      "Epoch 13/50\n",
      "428/428 [==============================] - 1s 2ms/step - loss: 0.5976 - accuracy: 0.6661 - val_loss: 0.6080 - val_accuracy: 0.6463\n",
      "Epoch 14/50\n",
      "428/428 [==============================] - 1s 2ms/step - loss: 0.5966 - accuracy: 0.6661 - val_loss: 0.6071 - val_accuracy: 0.6463\n",
      "Epoch 15/50\n",
      "428/428 [==============================] - 1s 2ms/step - loss: 0.5957 - accuracy: 0.6661 - val_loss: 0.6062 - val_accuracy: 0.6463\n",
      "Epoch 16/50\n",
      "428/428 [==============================] - 1s 2ms/step - loss: 0.5947 - accuracy: 0.6661 - val_loss: 0.6054 - val_accuracy: 0.6463\n",
      "Epoch 17/50\n",
      "428/428 [==============================] - 1s 2ms/step - loss: 0.5939 - accuracy: 0.6661 - val_loss: 0.6041 - val_accuracy: 0.6463\n",
      "Epoch 18/50\n",
      "428/428 [==============================] - 1s 2ms/step - loss: 0.5930 - accuracy: 0.6663 - val_loss: 0.6034 - val_accuracy: 0.6463\n",
      "Epoch 19/50\n",
      "428/428 [==============================] - 1s 2ms/step - loss: 0.5921 - accuracy: 0.6666 - val_loss: 0.6028 - val_accuracy: 0.6463\n",
      "Epoch 20/50\n",
      "428/428 [==============================] - 1s 2ms/step - loss: 0.5914 - accuracy: 0.6668 - val_loss: 0.6018 - val_accuracy: 0.6463\n",
      "Epoch 21/50\n",
      "428/428 [==============================] - 1s 2ms/step - loss: 0.5906 - accuracy: 0.6671 - val_loss: 0.6009 - val_accuracy: 0.6463\n",
      "Epoch 22/50\n",
      "428/428 [==============================] - 1s 2ms/step - loss: 0.5899 - accuracy: 0.6671 - val_loss: 0.6002 - val_accuracy: 0.6463\n",
      "Epoch 23/50\n",
      "428/428 [==============================] - 1s 2ms/step - loss: 0.5892 - accuracy: 0.6672 - val_loss: 0.5994 - val_accuracy: 0.6463\n",
      "Epoch 24/50\n",
      "428/428 [==============================] - 1s 2ms/step - loss: 0.5885 - accuracy: 0.6673 - val_loss: 0.5988 - val_accuracy: 0.6463\n",
      "Epoch 25/50\n",
      "428/428 [==============================] - 1s 2ms/step - loss: 0.5879 - accuracy: 0.6674 - val_loss: 0.5981 - val_accuracy: 0.6477\n",
      "Epoch 26/50\n",
      "428/428 [==============================] - 1s 2ms/step - loss: 0.5873 - accuracy: 0.6677 - val_loss: 0.5973 - val_accuracy: 0.6491\n",
      "Epoch 27/50\n",
      "428/428 [==============================] - 1s 2ms/step - loss: 0.5866 - accuracy: 0.6680 - val_loss: 0.5966 - val_accuracy: 0.6519\n",
      "Epoch 28/50\n",
      "428/428 [==============================] - 1s 2ms/step - loss: 0.5861 - accuracy: 0.6685 - val_loss: 0.5962 - val_accuracy: 0.6519\n",
      "Epoch 29/50\n",
      "428/428 [==============================] - 1s 2ms/step - loss: 0.5855 - accuracy: 0.6687 - val_loss: 0.5956 - val_accuracy: 0.6519\n",
      "Epoch 30/50\n",
      "428/428 [==============================] - 1s 2ms/step - loss: 0.5849 - accuracy: 0.6688 - val_loss: 0.5950 - val_accuracy: 0.6519\n",
      "Epoch 31/50\n",
      "428/428 [==============================] - 1s 2ms/step - loss: 0.5844 - accuracy: 0.6693 - val_loss: 0.5943 - val_accuracy: 0.6519\n",
      "Epoch 32/50\n",
      "428/428 [==============================] - 1s 2ms/step - loss: 0.5839 - accuracy: 0.6697 - val_loss: 0.5938 - val_accuracy: 0.6519\n",
      "Epoch 33/50\n",
      "428/428 [==============================] - 1s 2ms/step - loss: 0.5834 - accuracy: 0.6709 - val_loss: 0.5935 - val_accuracy: 0.6519\n",
      "Epoch 34/50\n",
      "428/428 [==============================] - 1s 2ms/step - loss: 0.5829 - accuracy: 0.6707 - val_loss: 0.5929 - val_accuracy: 0.6519\n",
      "Epoch 35/50\n",
      "428/428 [==============================] - 1s 2ms/step - loss: 0.5824 - accuracy: 0.6710 - val_loss: 0.5923 - val_accuracy: 0.6533\n",
      "Epoch 36/50\n",
      "428/428 [==============================] - 1s 2ms/step - loss: 0.5820 - accuracy: 0.6708 - val_loss: 0.5918 - val_accuracy: 0.6546\n",
      "Epoch 37/50\n",
      "428/428 [==============================] - 1s 2ms/step - loss: 0.5815 - accuracy: 0.6712 - val_loss: 0.5915 - val_accuracy: 0.6546\n",
      "Epoch 38/50\n",
      "428/428 [==============================] - 1s 2ms/step - loss: 0.5811 - accuracy: 0.6710 - val_loss: 0.5908 - val_accuracy: 0.6546\n",
      "Epoch 39/50\n",
      "428/428 [==============================] - 1s 2ms/step - loss: 0.5807 - accuracy: 0.6723 - val_loss: 0.5905 - val_accuracy: 0.6546\n",
      "Epoch 40/50\n",
      "428/428 [==============================] - 1s 2ms/step - loss: 0.5803 - accuracy: 0.6723 - val_loss: 0.5902 - val_accuracy: 0.6560\n",
      "Epoch 41/50\n",
      "428/428 [==============================] - 1s 2ms/step - loss: 0.5799 - accuracy: 0.6728 - val_loss: 0.5898 - val_accuracy: 0.6560\n",
      "Epoch 42/50\n",
      "428/428 [==============================] - 1s 2ms/step - loss: 0.5795 - accuracy: 0.6727 - val_loss: 0.5892 - val_accuracy: 0.6574\n",
      "Epoch 43/50\n",
      "428/428 [==============================] - 1s 2ms/step - loss: 0.5791 - accuracy: 0.6739 - val_loss: 0.5889 - val_accuracy: 0.6574\n",
      "Epoch 44/50\n",
      "428/428 [==============================] - 1s 2ms/step - loss: 0.5787 - accuracy: 0.6733 - val_loss: 0.5884 - val_accuracy: 0.6602\n",
      "Epoch 45/50\n",
      "428/428 [==============================] - 1s 2ms/step - loss: 0.5784 - accuracy: 0.6750 - val_loss: 0.5883 - val_accuracy: 0.6588\n",
      "Epoch 46/50\n",
      "428/428 [==============================] - 1s 2ms/step - loss: 0.5780 - accuracy: 0.6748 - val_loss: 0.5878 - val_accuracy: 0.6588\n",
      "Epoch 47/50\n",
      "428/428 [==============================] - 1s 2ms/step - loss: 0.5776 - accuracy: 0.6761 - val_loss: 0.5875 - val_accuracy: 0.6588\n",
      "Epoch 48/50\n",
      "428/428 [==============================] - 1s 2ms/step - loss: 0.5773 - accuracy: 0.6751 - val_loss: 0.5869 - val_accuracy: 0.6574\n",
      "Epoch 49/50\n",
      "428/428 [==============================] - 1s 2ms/step - loss: 0.5770 - accuracy: 0.6764 - val_loss: 0.5865 - val_accuracy: 0.6602\n",
      "Epoch 50/50\n",
      "428/428 [==============================] - 1s 2ms/step - loss: 0.5766 - accuracy: 0.6766 - val_loss: 0.5862 - val_accuracy: 0.6602\n"
     ]
    },
    {
     "data": {
      "text/plain": [
       "<keras.callbacks.History at 0x12d98d069b0>"
      ]
     },
     "execution_count": 214,
     "metadata": {},
     "output_type": "execute_result"
    }
   ],
   "source": [
    "model_tf_sg = init_model(get_matrix_tf(model_sg))\n",
    "\n",
    "model_tf_sg.fit(X_train, y_train,\n",
    "          validation_data=(X_valid, y_valid),\n",
    "          batch_size=32,\n",
    "          epochs=50)"
   ]
  },
  {
   "cell_type": "markdown",
   "id": "c32fd872",
   "metadata": {},
   "source": [
    "### Tensorflow cbow"
   ]
  },
  {
   "cell_type": "code",
   "execution_count": 220,
   "id": "b3b7aade",
   "metadata": {},
   "outputs": [
    {
     "name": "stderr",
     "output_type": "stream",
     "text": [
      "100%|██████████| 6309/6309 [00:34<00:00, 180.30it/s]\n"
     ]
    },
    {
     "name": "stdout",
     "output_type": "stream",
     "text": [
      "Epoch 1/50\n",
      "428/428 [==============================] - 2s 2ms/step - loss: 0.6378 - accuracy: 0.6661 - val_loss: 0.6324 - val_accuracy: 0.6463\n",
      "Epoch 2/50\n",
      "428/428 [==============================] - 1s 3ms/step - loss: 0.6163 - accuracy: 0.6661 - val_loss: 0.6303 - val_accuracy: 0.6463\n",
      "Epoch 3/50\n",
      "428/428 [==============================] - 1s 2ms/step - loss: 0.6132 - accuracy: 0.6661 - val_loss: 0.6277 - val_accuracy: 0.6463\n",
      "Epoch 4/50\n",
      "428/428 [==============================] - 1s 2ms/step - loss: 0.6105 - accuracy: 0.6661 - val_loss: 0.6251 - val_accuracy: 0.6463\n",
      "Epoch 5/50\n",
      "428/428 [==============================] - 1s 2ms/step - loss: 0.6079 - accuracy: 0.6661 - val_loss: 0.6221 - val_accuracy: 0.6463\n",
      "Epoch 6/50\n",
      "428/428 [==============================] - 1s 2ms/step - loss: 0.6053 - accuracy: 0.6660 - val_loss: 0.6198 - val_accuracy: 0.6463\n",
      "Epoch 7/50\n",
      "428/428 [==============================] - 1s 2ms/step - loss: 0.6028 - accuracy: 0.6661 - val_loss: 0.6170 - val_accuracy: 0.6477\n",
      "Epoch 8/50\n",
      "428/428 [==============================] - 1s 2ms/step - loss: 0.6004 - accuracy: 0.6661 - val_loss: 0.6152 - val_accuracy: 0.6477\n",
      "Epoch 9/50\n",
      "428/428 [==============================] - 1s 2ms/step - loss: 0.5981 - accuracy: 0.6661 - val_loss: 0.6124 - val_accuracy: 0.6477\n",
      "Epoch 10/50\n",
      "428/428 [==============================] - 1s 2ms/step - loss: 0.5959 - accuracy: 0.6664 - val_loss: 0.6104 - val_accuracy: 0.6477\n",
      "Epoch 11/50\n",
      "428/428 [==============================] - 1s 1ms/step - loss: 0.5938 - accuracy: 0.6664 - val_loss: 0.6080 - val_accuracy: 0.6477\n",
      "Epoch 12/50\n",
      "428/428 [==============================] - 1s 2ms/step - loss: 0.5917 - accuracy: 0.6664 - val_loss: 0.6066 - val_accuracy: 0.6477\n",
      "Epoch 13/50\n",
      "428/428 [==============================] - 1s 1ms/step - loss: 0.5897 - accuracy: 0.6667 - val_loss: 0.6044 - val_accuracy: 0.6491\n",
      "Epoch 14/50\n",
      "428/428 [==============================] - 1s 2ms/step - loss: 0.5878 - accuracy: 0.6669 - val_loss: 0.6027 - val_accuracy: 0.6477\n",
      "Epoch 15/50\n",
      "428/428 [==============================] - 1s 2ms/step - loss: 0.5859 - accuracy: 0.6669 - val_loss: 0.6003 - val_accuracy: 0.6491\n",
      "Epoch 16/50\n",
      "428/428 [==============================] - 1s 2ms/step - loss: 0.5841 - accuracy: 0.6672 - val_loss: 0.5986 - val_accuracy: 0.6477\n",
      "Epoch 17/50\n",
      "428/428 [==============================] - 1s 2ms/step - loss: 0.5823 - accuracy: 0.6674 - val_loss: 0.5970 - val_accuracy: 0.6491\n",
      "Epoch 18/50\n",
      "428/428 [==============================] - 1s 2ms/step - loss: 0.5807 - accuracy: 0.6676 - val_loss: 0.5954 - val_accuracy: 0.6491\n",
      "Epoch 19/50\n",
      "428/428 [==============================] - 1s 2ms/step - loss: 0.5790 - accuracy: 0.6684 - val_loss: 0.5942 - val_accuracy: 0.6505\n",
      "Epoch 20/50\n",
      "428/428 [==============================] - 1s 2ms/step - loss: 0.5774 - accuracy: 0.6684 - val_loss: 0.5921 - val_accuracy: 0.6505\n",
      "Epoch 21/50\n",
      "428/428 [==============================] - 1s 2ms/step - loss: 0.5759 - accuracy: 0.6695 - val_loss: 0.5912 - val_accuracy: 0.6505\n",
      "Epoch 22/50\n",
      "428/428 [==============================] - 1s 2ms/step - loss: 0.5744 - accuracy: 0.6697 - val_loss: 0.5898 - val_accuracy: 0.6505\n",
      "Epoch 23/50\n",
      "428/428 [==============================] - 1s 2ms/step - loss: 0.5730 - accuracy: 0.6699 - val_loss: 0.5877 - val_accuracy: 0.6505\n",
      "Epoch 24/50\n",
      "428/428 [==============================] - 1s 2ms/step - loss: 0.5716 - accuracy: 0.6707 - val_loss: 0.5864 - val_accuracy: 0.6491\n",
      "Epoch 25/50\n",
      "428/428 [==============================] - 1s 2ms/step - loss: 0.5702 - accuracy: 0.6712 - val_loss: 0.5851 - val_accuracy: 0.6519\n",
      "Epoch 26/50\n",
      "428/428 [==============================] - 1s 2ms/step - loss: 0.5689 - accuracy: 0.6729 - val_loss: 0.5841 - val_accuracy: 0.6505\n",
      "Epoch 27/50\n",
      "428/428 [==============================] - 1s 2ms/step - loss: 0.5676 - accuracy: 0.6729 - val_loss: 0.5827 - val_accuracy: 0.6519\n",
      "Epoch 28/50\n",
      "428/428 [==============================] - 1s 2ms/step - loss: 0.5664 - accuracy: 0.6745 - val_loss: 0.5816 - val_accuracy: 0.6546\n",
      "Epoch 29/50\n",
      "428/428 [==============================] - 1s 2ms/step - loss: 0.5652 - accuracy: 0.6746 - val_loss: 0.5805 - val_accuracy: 0.6546\n",
      "Epoch 30/50\n",
      "428/428 [==============================] - 1s 2ms/step - loss: 0.5640 - accuracy: 0.6748 - val_loss: 0.5790 - val_accuracy: 0.6574\n",
      "Epoch 31/50\n",
      "428/428 [==============================] - 1s 2ms/step - loss: 0.5629 - accuracy: 0.6780 - val_loss: 0.5783 - val_accuracy: 0.6574\n",
      "Epoch 32/50\n",
      "428/428 [==============================] - 1s 2ms/step - loss: 0.5618 - accuracy: 0.6783 - val_loss: 0.5772 - val_accuracy: 0.6588\n",
      "Epoch 33/50\n",
      "428/428 [==============================] - 1s 2ms/step - loss: 0.5607 - accuracy: 0.6810 - val_loss: 0.5764 - val_accuracy: 0.6588\n",
      "Epoch 34/50\n",
      "428/428 [==============================] - 1s 2ms/step - loss: 0.5596 - accuracy: 0.6811 - val_loss: 0.5753 - val_accuracy: 0.6602\n",
      "Epoch 35/50\n",
      "428/428 [==============================] - 1s 2ms/step - loss: 0.5586 - accuracy: 0.6834 - val_loss: 0.5744 - val_accuracy: 0.6644\n",
      "Epoch 36/50\n",
      "428/428 [==============================] - 1s 2ms/step - loss: 0.5575 - accuracy: 0.6821 - val_loss: 0.5728 - val_accuracy: 0.6644\n",
      "Epoch 37/50\n",
      "428/428 [==============================] - 1s 2ms/step - loss: 0.5566 - accuracy: 0.6872 - val_loss: 0.5724 - val_accuracy: 0.6644\n",
      "Epoch 38/50\n",
      "428/428 [==============================] - 1s 2ms/step - loss: 0.5557 - accuracy: 0.6869 - val_loss: 0.5715 - val_accuracy: 0.6644\n",
      "Epoch 39/50\n",
      "428/428 [==============================] - 1s 2ms/step - loss: 0.5548 - accuracy: 0.6879 - val_loss: 0.5703 - val_accuracy: 0.6657\n",
      "Epoch 40/50\n",
      "428/428 [==============================] - 1s 2ms/step - loss: 0.5539 - accuracy: 0.6900 - val_loss: 0.5696 - val_accuracy: 0.6644\n",
      "Epoch 41/50\n",
      "428/428 [==============================] - 1s 2ms/step - loss: 0.5530 - accuracy: 0.6904 - val_loss: 0.5686 - val_accuracy: 0.6644\n",
      "Epoch 42/50\n",
      "428/428 [==============================] - 1s 2ms/step - loss: 0.5521 - accuracy: 0.6923 - val_loss: 0.5679 - val_accuracy: 0.6630\n",
      "Epoch 43/50\n",
      "428/428 [==============================] - 1s 2ms/step - loss: 0.5513 - accuracy: 0.6930 - val_loss: 0.5671 - val_accuracy: 0.6685\n",
      "Epoch 44/50\n",
      "428/428 [==============================] - 1s 2ms/step - loss: 0.5505 - accuracy: 0.6938 - val_loss: 0.5662 - val_accuracy: 0.6755\n",
      "Epoch 45/50\n",
      "428/428 [==============================] - 1s 2ms/step - loss: 0.5497 - accuracy: 0.6949 - val_loss: 0.5654 - val_accuracy: 0.6796\n",
      "Epoch 46/50\n",
      "428/428 [==============================] - 1s 2ms/step - loss: 0.5489 - accuracy: 0.6978 - val_loss: 0.5650 - val_accuracy: 0.6768\n",
      "Epoch 47/50\n",
      "428/428 [==============================] - 1s 2ms/step - loss: 0.5482 - accuracy: 0.6968 - val_loss: 0.5640 - val_accuracy: 0.6810\n",
      "Epoch 48/50\n",
      "428/428 [==============================] - 1s 2ms/step - loss: 0.5475 - accuracy: 0.6987 - val_loss: 0.5633 - val_accuracy: 0.6838\n",
      "Epoch 49/50\n",
      "428/428 [==============================] - 1s 2ms/step - loss: 0.5468 - accuracy: 0.6991 - val_loss: 0.5627 - val_accuracy: 0.6838\n",
      "Epoch 50/50\n",
      "428/428 [==============================] - 1s 2ms/step - loss: 0.5460 - accuracy: 0.7011 - val_loss: 0.5621 - val_accuracy: 0.6838\n"
     ]
    },
    {
     "data": {
      "text/plain": [
       "<keras.callbacks.History at 0x12d98ef1cc0>"
      ]
     },
     "execution_count": 220,
     "metadata": {},
     "output_type": "execute_result"
    }
   ],
   "source": [
    "model_tf_cbow = init_model(get_matrix_tf(model_cbow))\n",
    "\n",
    "model_tf_cbow.fit(X_train, y_train, \n",
    "          validation_data=(X_valid, y_valid),\n",
    "          batch_size=32,\n",
    "          epochs=50)"
   ]
  },
  {
   "cell_type": "markdown",
   "id": "160816ea",
   "metadata": {},
   "source": [
    "### RusVectors"
   ]
  },
  {
   "cell_type": "code",
   "execution_count": 269,
   "id": "ba56a94d",
   "metadata": {},
   "outputs": [],
   "source": [
    "from gensim.models import KeyedVectors\n",
    "\n",
    "model_ = KeyedVectors.load_word2vec_format('model.bin', binary=True)"
   ]
  },
  {
   "cell_type": "code",
   "execution_count": 286,
   "id": "36192c39",
   "metadata": {},
   "outputs": [
    {
     "name": "stderr",
     "output_type": "stream",
     "text": [
      "100%|██████████| 6309/6309 [2:39:11<00:00,  1.51s/it]  \n"
     ]
    }
   ],
   "source": [
    "weights = np.zeros((len(word2id), 300))\n",
    "\n",
    "for word, i in tqdm(word2id.items()):\n",
    "    # вектор паддинга оставим нулевым\n",
    "    if word == 'PAD':\n",
    "        continue\n",
    "    try:\n",
    "        weights[i] = model_[normalize_mystem(word)[0]]\n",
    "#         weights[i] = model_[preprocess_lemm(word)]\n",
    "    except KeyError:\n",
    "        continue\n",
    "        weights[i] = model_.wv['опрагпллирао']\n",
    "    except IndexError:\n",
    "        continue"
   ]
  },
  {
   "cell_type": "code",
   "execution_count": 287,
   "id": "f8b3559f",
   "metadata": {},
   "outputs": [],
   "source": [
    "inputs = tf.keras.layers.Input(shape=(300,))\n",
    "\n",
    "embeddings = tf.keras.layers.Embedding(input_dim=len(word2id), output_dim=300, \n",
    "                                       trainable=False,\n",
    "                                       weights=[weights])(inputs, )\n",
    "mean = tf.keras.layers.Lambda(lambda x: tf.keras.backend.mean(x,  axis=1))(embeddings)\n",
    "\n",
    "outputs = tf.keras.layers.Dense(1, activation='sigmoid')(mean)\n",
    "\n",
    "model = tf.keras.Model(inputs=inputs, outputs=outputs)\n",
    "optimizer = tf.keras.optimizers.Adam()\n",
    "model.compile(optimizer=optimizer,\n",
    "              loss='binary_crossentropy',\n",
    "              metrics=['accuracy'])"
   ]
  },
  {
   "cell_type": "code",
   "execution_count": 288,
   "id": "f656513b",
   "metadata": {},
   "outputs": [],
   "source": [
    "X = tf.keras.preprocessing.sequence.pad_sequences(X, maxlen=300)\n",
    "y = data.toxic.values\n",
    "\n",
    "X_train, X_valid, y_train, y_valid = train_test_split(X, y, test_size=0.05)"
   ]
  },
  {
   "cell_type": "code",
   "execution_count": 289,
   "id": "17779707",
   "metadata": {},
   "outputs": [
    {
     "name": "stdout",
     "output_type": "stream",
     "text": [
      "Epoch 1/50\n",
      "428/428 [==============================] - 3s 5ms/step - loss: 0.6477 - accuracy: 0.6644 - val_loss: 0.6172 - val_accuracy: 0.6796\n",
      "Epoch 2/50\n",
      "428/428 [==============================] - 2s 4ms/step - loss: 0.6176 - accuracy: 0.6644 - val_loss: 0.6036 - val_accuracy: 0.6796\n",
      "Epoch 3/50\n",
      "428/428 [==============================] - 2s 4ms/step - loss: 0.6102 - accuracy: 0.6644 - val_loss: 0.5968 - val_accuracy: 0.6796\n",
      "Epoch 4/50\n",
      "428/428 [==============================] - 2s 4ms/step - loss: 0.6048 - accuracy: 0.6644 - val_loss: 0.5914 - val_accuracy: 0.6796\n",
      "Epoch 5/50\n",
      "428/428 [==============================] - 2s 4ms/step - loss: 0.5999 - accuracy: 0.6644 - val_loss: 0.5867 - val_accuracy: 0.6796\n",
      "Epoch 6/50\n",
      "428/428 [==============================] - 2s 4ms/step - loss: 0.5951 - accuracy: 0.6644 - val_loss: 0.5820 - val_accuracy: 0.6796\n",
      "Epoch 7/50\n",
      "428/428 [==============================] - 2s 4ms/step - loss: 0.5906 - accuracy: 0.6644 - val_loss: 0.5777 - val_accuracy: 0.6796\n",
      "Epoch 8/50\n",
      "428/428 [==============================] - 2s 4ms/step - loss: 0.5862 - accuracy: 0.6644 - val_loss: 0.5732 - val_accuracy: 0.6796\n",
      "Epoch 9/50\n",
      "428/428 [==============================] - 2s 4ms/step - loss: 0.5820 - accuracy: 0.6644 - val_loss: 0.5691 - val_accuracy: 0.6796\n",
      "Epoch 10/50\n",
      "428/428 [==============================] - 2s 4ms/step - loss: 0.5779 - accuracy: 0.6644 - val_loss: 0.5654 - val_accuracy: 0.6810\n",
      "Epoch 11/50\n",
      "428/428 [==============================] - 2s 4ms/step - loss: 0.5739 - accuracy: 0.6648 - val_loss: 0.5614 - val_accuracy: 0.6810\n",
      "Epoch 12/50\n",
      "428/428 [==============================] - 2s 4ms/step - loss: 0.5701 - accuracy: 0.6650 - val_loss: 0.5577 - val_accuracy: 0.6810\n",
      "Epoch 13/50\n",
      "428/428 [==============================] - 2s 4ms/step - loss: 0.5665 - accuracy: 0.6655 - val_loss: 0.5542 - val_accuracy: 0.6824\n",
      "Epoch 14/50\n",
      "428/428 [==============================] - 2s 4ms/step - loss: 0.5630 - accuracy: 0.6672 - val_loss: 0.5507 - val_accuracy: 0.6824\n",
      "Epoch 15/50\n",
      "428/428 [==============================] - 2s 4ms/step - loss: 0.5596 - accuracy: 0.6691 - val_loss: 0.5475 - val_accuracy: 0.6865\n",
      "Epoch 16/50\n",
      "428/428 [==============================] - 2s 4ms/step - loss: 0.5564 - accuracy: 0.6719 - val_loss: 0.5444 - val_accuracy: 0.6879\n",
      "Epoch 17/50\n",
      "428/428 [==============================] - 2s 4ms/step - loss: 0.5532 - accuracy: 0.6744 - val_loss: 0.5413 - val_accuracy: 0.6907\n",
      "Epoch 18/50\n",
      "428/428 [==============================] - 2s 4ms/step - loss: 0.5502 - accuracy: 0.6769 - val_loss: 0.5384 - val_accuracy: 0.6963\n",
      "Epoch 19/50\n",
      "428/428 [==============================] - 2s 4ms/step - loss: 0.5472 - accuracy: 0.6807 - val_loss: 0.5356 - val_accuracy: 0.6990\n",
      "Epoch 20/50\n",
      "428/428 [==============================] - 2s 4ms/step - loss: 0.5444 - accuracy: 0.6843 - val_loss: 0.5327 - val_accuracy: 0.7004\n",
      "Epoch 21/50\n",
      "428/428 [==============================] - 2s 4ms/step - loss: 0.5416 - accuracy: 0.6865 - val_loss: 0.5302 - val_accuracy: 0.7032\n",
      "Epoch 22/50\n",
      "428/428 [==============================] - 2s 4ms/step - loss: 0.5390 - accuracy: 0.6929 - val_loss: 0.5274 - val_accuracy: 0.7032\n",
      "Epoch 23/50\n",
      "428/428 [==============================] - 2s 4ms/step - loss: 0.5364 - accuracy: 0.6954 - val_loss: 0.5250 - val_accuracy: 0.7074\n",
      "Epoch 24/50\n",
      "428/428 [==============================] - 2s 4ms/step - loss: 0.5339 - accuracy: 0.7005 - val_loss: 0.5226 - val_accuracy: 0.7184\n",
      "Epoch 25/50\n",
      "428/428 [==============================] - 2s 4ms/step - loss: 0.5315 - accuracy: 0.7032 - val_loss: 0.5204 - val_accuracy: 0.7268\n",
      "Epoch 26/50\n",
      "428/428 [==============================] - 2s 4ms/step - loss: 0.5292 - accuracy: 0.7105 - val_loss: 0.5178 - val_accuracy: 0.7268\n",
      "Epoch 27/50\n",
      "428/428 [==============================] - 2s 4ms/step - loss: 0.5269 - accuracy: 0.7127 - val_loss: 0.5156 - val_accuracy: 0.7295\n",
      "Epoch 28/50\n",
      "428/428 [==============================] - 2s 4ms/step - loss: 0.5247 - accuracy: 0.7148 - val_loss: 0.5133 - val_accuracy: 0.7309\n",
      "Epoch 29/50\n",
      "428/428 [==============================] - 2s 4ms/step - loss: 0.5226 - accuracy: 0.7162 - val_loss: 0.5114 - val_accuracy: 0.7365\n",
      "Epoch 30/50\n",
      "428/428 [==============================] - 2s 4ms/step - loss: 0.5205 - accuracy: 0.7214 - val_loss: 0.5094 - val_accuracy: 0.7393\n",
      "Epoch 31/50\n",
      "428/428 [==============================] - 2s 4ms/step - loss: 0.5185 - accuracy: 0.7253 - val_loss: 0.5075 - val_accuracy: 0.7420\n",
      "Epoch 32/50\n",
      "428/428 [==============================] - 1s 3ms/step - loss: 0.5166 - accuracy: 0.7286 - val_loss: 0.5056 - val_accuracy: 0.7448\n",
      "Epoch 33/50\n",
      "428/428 [==============================] - 2s 4ms/step - loss: 0.5147 - accuracy: 0.7319 - val_loss: 0.5036 - val_accuracy: 0.7434\n",
      "Epoch 34/50\n",
      "428/428 [==============================] - 2s 4ms/step - loss: 0.5129 - accuracy: 0.7335 - val_loss: 0.5018 - val_accuracy: 0.7476\n",
      "Epoch 35/50\n",
      "428/428 [==============================] - 2s 4ms/step - loss: 0.5112 - accuracy: 0.7358 - val_loss: 0.5001 - val_accuracy: 0.7559\n",
      "Epoch 36/50\n",
      "428/428 [==============================] - 1s 3ms/step - loss: 0.5095 - accuracy: 0.7405 - val_loss: 0.4982 - val_accuracy: 0.7545\n",
      "Epoch 37/50\n",
      "428/428 [==============================] - 2s 4ms/step - loss: 0.5078 - accuracy: 0.7392 - val_loss: 0.4968 - val_accuracy: 0.7614\n",
      "Epoch 38/50\n",
      "428/428 [==============================] - 2s 4ms/step - loss: 0.5062 - accuracy: 0.7439 - val_loss: 0.4952 - val_accuracy: 0.7601\n",
      "Epoch 39/50\n",
      "428/428 [==============================] - 2s 4ms/step - loss: 0.5046 - accuracy: 0.7466 - val_loss: 0.4934 - val_accuracy: 0.7601\n",
      "Epoch 40/50\n",
      "428/428 [==============================] - 2s 4ms/step - loss: 0.5031 - accuracy: 0.7476 - val_loss: 0.4919 - val_accuracy: 0.7642\n",
      "Epoch 41/50\n",
      "428/428 [==============================] - 2s 4ms/step - loss: 0.5016 - accuracy: 0.7499 - val_loss: 0.4905 - val_accuracy: 0.7684\n",
      "Epoch 42/50\n",
      "428/428 [==============================] - 2s 4ms/step - loss: 0.5002 - accuracy: 0.7527 - val_loss: 0.4890 - val_accuracy: 0.7698\n",
      "Epoch 43/50\n",
      "428/428 [==============================] - 2s 4ms/step - loss: 0.4988 - accuracy: 0.7530 - val_loss: 0.4877 - val_accuracy: 0.7767\n",
      "Epoch 44/50\n",
      "428/428 [==============================] - 2s 4ms/step - loss: 0.4974 - accuracy: 0.7549 - val_loss: 0.4864 - val_accuracy: 0.7864\n",
      "Epoch 45/50\n",
      "428/428 [==============================] - 2s 4ms/step - loss: 0.4961 - accuracy: 0.7572 - val_loss: 0.4851 - val_accuracy: 0.7864\n",
      "Epoch 46/50\n",
      "428/428 [==============================] - 2s 4ms/step - loss: 0.4948 - accuracy: 0.7604 - val_loss: 0.4837 - val_accuracy: 0.7878\n",
      "Epoch 47/50\n",
      "428/428 [==============================] - 2s 4ms/step - loss: 0.4935 - accuracy: 0.7636 - val_loss: 0.4822 - val_accuracy: 0.7878\n",
      "Epoch 48/50\n",
      "428/428 [==============================] - 2s 4ms/step - loss: 0.4923 - accuracy: 0.7641 - val_loss: 0.4808 - val_accuracy: 0.7878\n",
      "Epoch 49/50\n",
      "428/428 [==============================] - 2s 4ms/step - loss: 0.4911 - accuracy: 0.7620 - val_loss: 0.4799 - val_accuracy: 0.7961\n",
      "Epoch 50/50\n",
      "428/428 [==============================] - 2s 4ms/step - loss: 0.4899 - accuracy: 0.7652 - val_loss: 0.4787 - val_accuracy: 0.7975\n"
     ]
    },
    {
     "data": {
      "text/plain": [
       "<keras.callbacks.History at 0x12d9310ca58>"
      ]
     },
     "execution_count": 289,
     "metadata": {},
     "output_type": "execute_result"
    }
   ],
   "source": [
    "model.fit(X_train, y_train, \n",
    "          validation_data=(X_valid, y_valid),\n",
    "          batch_size=32,\n",
    "          epochs=50)"
   ]
  },
  {
   "cell_type": "markdown",
   "id": "0dcdadf6",
   "metadata": {},
   "source": [
    "### Результаты:"
   ]
  },
  {
   "cell_type": "code",
   "execution_count": 274,
   "id": "e10c5417",
   "metadata": {},
   "outputs": [],
   "source": [
    "def get_res(model):\n",
    "    plt.plot(model.history.history['accuracy'])\n",
    "    plt.plot(model.history.history['val_accuracy'])\n",
    "    plt.title('model accuracy')\n",
    "    plt.ylabel('accuracy')\n",
    "    plt.xlabel('epoch')\n",
    "    plt.legend(['train', 'val'], loc='upper left')\n",
    "    plt.show() "
   ]
  },
  {
   "cell_type": "markdown",
   "id": "4d9b6bf0",
   "metadata": {},
   "source": [
    "#### Gensim word2vec"
   ]
  },
  {
   "cell_type": "code",
   "execution_count": 275,
   "id": "8080ad45",
   "metadata": {},
   "outputs": [
    {
     "data": {
      "image/png": "[encoded data removed]",
      "text/plain": [
       "<Figure size 432x288 with 1 Axes>"
      ]
     },
     "metadata": {
      "needs_background": "light"
     },
     "output_type": "display_data"
    }
   ],
   "source": [
    "get_res(model_w2v)"
   ]
  },
  {
   "cell_type": "markdown",
   "id": "49c45dbb",
   "metadata": {},
   "source": [
    "#### Gensim fasttext"
   ]
  },
  {
   "cell_type": "code",
   "execution_count": 276,
   "id": "d3ff3136",
   "metadata": {},
   "outputs": [
    {
     "data": {
      "image/png": "[encoded data removed]",
      "text/plain": [
       "<Figure size 432x288 with 1 Axes>"
      ]
     },
     "metadata": {
      "needs_background": "light"
     },
     "output_type": "display_data"
    }
   ],
   "source": [
    "get_res(model_ft)"
   ]
  },
  {
   "cell_type": "markdown",
   "id": "d31b95fc",
   "metadata": {},
   "source": [
    "#### Tensorflow skip-gram"
   ]
  },
  {
   "cell_type": "code",
   "execution_count": 280,
   "id": "901a616e",
   "metadata": {},
   "outputs": [
    {
     "data": {
      "image/png": "[encoded data removed]",
      "text/plain": [
       "<Figure size 432x288 with 1 Axes>"
      ]
     },
     "metadata": {
      "needs_background": "light"
     },
     "output_type": "display_data"
    }
   ],
   "source": [
    "get_res(model_tf_sg)"
   ]
  },
  {
   "cell_type": "markdown",
   "id": "658a6618",
   "metadata": {},
   "source": [
    "#### Tensorflow cbow"
   ]
  },
  {
   "cell_type": "code",
   "execution_count": 279,
   "id": "6702995b",
   "metadata": {},
   "outputs": [
    {
     "data": {
      "image/png": "[encoded data removed]",
      "text/plain": [
       "<Figure size 432x288 with 1 Axes>"
      ]
     },
     "metadata": {
      "needs_background": "light"
     },
     "output_type": "display_data"
    }
   ],
   "source": [
    "get_res(model_tf_cbow)"
   ]
  },
  {
   "cell_type": "markdown",
   "id": "6bbab73e",
   "metadata": {},
   "source": [
    "#### RusVectors"
   ]
  },
  {
   "cell_type": "code",
   "execution_count": 290,
   "id": "b7e85cd4",
   "metadata": {},
   "outputs": [
    {
     "data": {
      "image/png": "[encoded data removed]",
      "text/plain": [
       "<Figure size 432x288 with 1 Axes>"
      ]
     },
     "metadata": {
      "needs_background": "light"
     },
     "output_type": "display_data"
    }
   ],
   "source": [
    "get_res(model)"
   ]
  },
  {
   "cell_type": "markdown",
   "id": "990dfefd",
   "metadata": {},
   "source": [
    "В итоге можно наблюдать, что tensorflow модели показывают наименьший результат, потом идут модели gensim (tensorflow skip-gram ~ tensorflow cbow < w2v ~ fasttext), но лучший результат всё-таки показывает RusVectors (news_upos_skipgram_300_5_2019)"
   ]
  }
 ],
 "metadata": {
  "kernelspec": {
   "display_name": "Python 3",
   "language": "python",
   "name": "python3"
  },
  "language_info": {
   "codemirror_mode": {
    "name": "ipython",
    "version": 3
   },
   "file_extension": ".py",
   "mimetype": "text/x-python",
   "name": "python",
   "nbconvert_exporter": "python",
   "pygments_lexer": "ipython3",
   "version": "3.7.2"
  }
 },
 "nbformat": 4,
 "nbformat_minor": 5
}
