{
  "nbformat": 4,
  "nbformat_minor": 0,
  "metadata": {
    "accelerator": "TPU",
    "colab": {
      "name": "deep_pavlov.ipynb",
      "provenance": [],
      "toc_visible": true
    },
    "kernelspec": {
      "display_name": "Python 3",
      "language": "python",
      "name": "python3"
    },
    "language_info": {
      "codemirror_mode": {
        "name": "ipython",
        "version": 3
      },
      "file_extension": ".py",
      "mimetype": "text/x-python",
      "name": "python",
      "nbconvert_exporter": "python",
      "pygments_lexer": "ipython3",
      "version": "3.6.3"
    }
  },
  "cells": [
    {
      "cell_type": "markdown",
      "metadata": {
        "id": "55gcZUbxSzcp"
      },
      "source": [
        "#  Few-shot распознавание сущностей"
      ]
    },
    {
      "cell_type": "markdown",
      "metadata": {
        "id": "JWi7Nv8zSzcu"
      },
      "source": [
        "Для обучения ner-моделей обычно нужно много данных. Но есть способ сократить требование к объёму данных - использовать предобученные языковые модели вроде Берта. Из-за того, что языковая модель даёт хорошие эмбединги, можно завести ner всего с 10 предложений."
      ]
    },
    {
      "cell_type": "markdown",
      "metadata": {
        "id": "_7Jwl4yOSzcu"
      },
      "source": [
        "Такой подхол называется Few-shot learning. Подробнее с тем, как это работает, мы разберемся, когда будем проходить нейроныые сети. А пока научимся пользоваться готовыми штуками, чтобы решать практические задачи. "
      ]
    },
    {
      "cell_type": "markdown",
      "metadata": {
        "id": "pF0TFmBYSzcv"
      },
      "source": [
        "Берт и возможность тренировать few-shot ner модели есть в deep pavlov (http://docs.deeppavlov.ai/en/master/features/models/ner.html)"
      ]
    },
    {
      "cell_type": "code",
      "metadata": {
        "colab": {
          "base_uri": "https://localhost:8080/",
          "height": 1000
        },
        "id": "B7CKfNAchJ4d",
        "outputId": "20b159f0-91db-4633-cf9e-3e9c329e8c43"
      },
      "source": [
        "!pip install deeppavlov"
      ],
      "execution_count": 1,
      "outputs": [
        {
          "output_type": "stream",
          "text": [
            "Collecting deeppavlov\n",
            "\u001b[?25l  Downloading https://files.pythonhosted.org/packages/d3/08/b0e17b109873563a78c9c06437db1bcc698592f86b5aebe5038004b5969e/deeppavlov-0.14.0-py3-none-any.whl (988kB)\n",
            "\u001b[K     |████████████████████████████████| 993kB 6.6MB/s \n",
            "\u001b[?25hCollecting pydantic==1.3\n",
            "\u001b[?25l  Downloading https://files.pythonhosted.org/packages/4b/56/1f652c3f658d2a9fd495d2e988a2da57eabdb6c4b8f4563c2ccbe6a2a8c5/pydantic-1.3-cp37-cp37m-manylinux2010_x86_64.whl (7.3MB)\n",
            "\u001b[K     |████████████████████████████████| 7.3MB 11.1MB/s \n",
            "\u001b[?25hCollecting ruamel.yaml==0.15.100\n",
            "\u001b[?25l  Downloading https://files.pythonhosted.org/packages/71/fc/12de89822adaa3a60b8cb0139bae75918278999d08e6dff158623abd7cba/ruamel.yaml-0.15.100-cp37-cp37m-manylinux1_x86_64.whl (654kB)\n",
            "\u001b[K     |████████████████████████████████| 655kB 34.8MB/s \n",
            "\u001b[?25hCollecting scikit-learn==0.21.2\n",
            "\u001b[?25l  Downloading https://files.pythonhosted.org/packages/21/a4/a48bd4b0d15395362b561df7e7247de87291105eb736a3b2aaffebf437b9/scikit_learn-0.21.2-cp37-cp37m-manylinux1_x86_64.whl (6.7MB)\n",
            "\u001b[K     |████████████████████████████████| 6.7MB 34.8MB/s \n",
            "\u001b[?25hCollecting numpy==1.18.0\n",
            "\u001b[?25l  Downloading https://files.pythonhosted.org/packages/20/53/127cb49435bcf5d841baf8eafa030931c62a9eac577a641f8c2293d23371/numpy-1.18.0-cp37-cp37m-manylinux1_x86_64.whl (20.1MB)\n",
            "\u001b[K     |████████████████████████████████| 20.1MB 1.4MB/s \n",
            "\u001b[?25hRequirement already satisfied: tqdm==4.41.1 in /usr/local/lib/python3.7/dist-packages (from deeppavlov) (4.41.1)\n",
            "Requirement already satisfied: h5py==2.10.0 in /usr/local/lib/python3.7/dist-packages (from deeppavlov) (2.10.0)\n",
            "Collecting nltk==3.4.5\n",
            "\u001b[?25l  Downloading https://files.pythonhosted.org/packages/f6/1d/d925cfb4f324ede997f6d47bea4d9babba51b49e87a767c170b77005889d/nltk-3.4.5.zip (1.5MB)\n",
            "\u001b[K     |████████████████████████████████| 1.5MB 40.1MB/s \n",
            "\u001b[?25hCollecting pymorphy2-dicts-ru\n",
            "\u001b[?25l  Downloading https://files.pythonhosted.org/packages/3a/79/bea0021eeb7eeefde22ef9e96badf174068a2dd20264b9a378f2be1cdd9e/pymorphy2_dicts_ru-2.4.417127.4579844-py2.py3-none-any.whl (8.2MB)\n",
            "\u001b[K     |████████████████████████████████| 8.2MB 34.2MB/s \n",
            "\u001b[?25hCollecting pyopenssl==19.1.0\n",
            "\u001b[?25l  Downloading https://files.pythonhosted.org/packages/9e/de/f8342b68fa9e981d348039954657bdf681b2ab93de27443be51865ffa310/pyOpenSSL-19.1.0-py2.py3-none-any.whl (53kB)\n",
            "\u001b[K     |████████████████████████████████| 61kB 6.6MB/s \n",
            "\u001b[?25hCollecting pymorphy2==0.8\n",
            "\u001b[?25l  Downloading https://files.pythonhosted.org/packages/a3/33/fff9675c68b5f6c63ec8c6e6ff57827dda28a1fa5b2c2d727dffff92dd47/pymorphy2-0.8-py2.py3-none-any.whl (46kB)\n",
            "\u001b[K     |████████████████████████████████| 51kB 5.4MB/s \n",
            "\u001b[?25hCollecting requests==2.22.0\n",
            "\u001b[?25l  Downloading https://files.pythonhosted.org/packages/51/bd/23c926cd341ea6b7dd0b2a00aba99ae0f828be89d72b2190f27c11d4b7fb/requests-2.22.0-py2.py3-none-any.whl (57kB)\n",
            "\u001b[K     |████████████████████████████████| 61kB 7.0MB/s \n",
            "\u001b[?25hCollecting fastapi==0.47.1\n",
            "\u001b[?25l  Downloading https://files.pythonhosted.org/packages/a3/a7/4804d7abf8a1544d079d50650af872387154ebdac5bd07d54b2e60e2b334/fastapi-0.47.1-py3-none-any.whl (43kB)\n",
            "\u001b[K     |████████████████████████████████| 51kB 5.8MB/s \n",
            "\u001b[?25hRequirement already satisfied: click==7.1.2 in /usr/local/lib/python3.7/dist-packages (from deeppavlov) (7.1.2)\n",
            "Collecting pytelegrambotapi==3.6.7\n",
            "\u001b[?25l  Downloading https://files.pythonhosted.org/packages/62/ab/99c606f69fcda57e35788b913dd34c9d9acb48dd26349141b3855dcf6351/pyTelegramBotAPI-3.6.7.tar.gz (65kB)\n",
            "\u001b[K     |████████████████████████████████| 71kB 7.5MB/s \n",
            "\u001b[?25hCollecting aio-pika==6.4.1\n",
            "\u001b[?25l  Downloading https://files.pythonhosted.org/packages/c8/07/196a4115cbef31fa0c3dabdea146f02dffe5e49998341d20dbe2278953bc/aio_pika-6.4.1-py3-none-any.whl (40kB)\n",
            "\u001b[K     |████████████████████████████████| 51kB 5.3MB/s \n",
            "\u001b[?25hCollecting pandas==0.25.3\n",
            "\u001b[?25l  Downloading https://files.pythonhosted.org/packages/63/e0/a1b39cdcb2c391f087a1538bc8a6d62a82d0439693192aef541d7b123769/pandas-0.25.3-cp37-cp37m-manylinux1_x86_64.whl (10.4MB)\n",
            "\u001b[K     |████████████████████████████████| 10.4MB 39.2MB/s \n",
            "\u001b[?25hCollecting prometheus-client==0.7.1\n",
            "  Downloading https://files.pythonhosted.org/packages/b3/23/41a5a24b502d35a4ad50a5bb7202a5e1d9a0364d0c12f56db3dbf7aca76d/prometheus_client-0.7.1.tar.gz\n",
            "Collecting rusenttokenize==0.0.5\n",
            "  Downloading https://files.pythonhosted.org/packages/25/4c/a2f00be5def774a3df2e5387145f1cb54e324607ec4a7e23f573645946e7/rusenttokenize-0.0.5-py3-none-any.whl\n",
            "Requirement already satisfied: filelock==3.0.12 in /usr/local/lib/python3.7/dist-packages (from deeppavlov) (3.0.12)\n",
            "Requirement already satisfied: scipy==1.4.1 in /usr/local/lib/python3.7/dist-packages (from deeppavlov) (1.4.1)\n",
            "Collecting Cython==0.29.14\n",
            "\u001b[?25l  Downloading https://files.pythonhosted.org/packages/d8/58/2deb24de3c10cc4c0f09639b46f4f4b50059f0fdc785128a57dd9fdce026/Cython-0.29.14-cp37-cp37m-manylinux1_x86_64.whl (2.1MB)\n",
            "\u001b[K     |████████████████████████████████| 2.1MB 41.2MB/s \n",
            "\u001b[?25hCollecting overrides==2.7.0\n",
            "  Downloading https://files.pythonhosted.org/packages/ac/98/2430afd204c48ac0a529d439d7e22df8fa603c668d03456b5947cb59ec36/overrides-2.7.0.tar.gz\n",
            "Collecting uvicorn==0.11.7\n",
            "\u001b[?25l  Downloading https://files.pythonhosted.org/packages/a9/5f/2bc87272f189662e129ddcd4807ad3ef83128b4df3a3482335f5f9790f24/uvicorn-0.11.7-py3-none-any.whl (43kB)\n",
            "\u001b[K     |████████████████████████████████| 51kB 5.7MB/s \n",
            "\u001b[?25hCollecting pytz==2019.1\n",
            "\u001b[?25l  Downloading https://files.pythonhosted.org/packages/3d/73/fe30c2daaaa0713420d0382b16fbb761409f532c56bdcc514bf7b6262bb6/pytz-2019.1-py2.py3-none-any.whl (510kB)\n",
            "\u001b[K     |████████████████████████████████| 512kB 38.1MB/s \n",
            "\u001b[?25hCollecting sacremoses==0.0.35\n",
            "\u001b[?25l  Downloading https://files.pythonhosted.org/packages/1f/8e/ed5364a06a9ba720fddd9820155cc57300d28f5f43a6fd7b7e817177e642/sacremoses-0.0.35.tar.gz (859kB)\n",
            "\u001b[K     |████████████████████████████████| 860kB 43.6MB/s \n",
            "\u001b[?25hRequirement already satisfied: joblib>=0.11 in /usr/local/lib/python3.7/dist-packages (from scikit-learn==0.21.2->deeppavlov) (1.0.1)\n",
            "Requirement already satisfied: six in /usr/local/lib/python3.7/dist-packages (from h5py==2.10.0->deeppavlov) (1.15.0)\n",
            "Collecting cryptography>=2.8\n",
            "\u001b[?25l  Downloading https://files.pythonhosted.org/packages/f8/1f/acde6ff69864c5e78b56488e3afd93c1ccc8c2651186e2a5f93d93f64859/cryptography-3.4.6-cp36-abi3-manylinux2014_x86_64.whl (3.2MB)\n",
            "\u001b[K     |████████████████████████████████| 3.2MB 40.7MB/s \n",
            "\u001b[?25hCollecting pymorphy2-dicts<3.0,>=2.4\n",
            "\u001b[?25l  Downloading https://files.pythonhosted.org/packages/02/51/2465fd4f72328ab50877b54777764d928da8cb15b74e2680fc1bd8cb3173/pymorphy2_dicts-2.4.393442.3710985-py2.py3-none-any.whl (7.1MB)\n",
            "\u001b[K     |████████████████████████████████| 7.1MB 31.8MB/s \n",
            "\u001b[?25hCollecting dawg-python>=0.7\n",
            "  Downloading https://files.pythonhosted.org/packages/6a/84/ff1ce2071d4c650ec85745766c0047ccc3b5036f1d03559fd46bb38b5eeb/DAWG_Python-0.7.2-py2.py3-none-any.whl\n",
            "Requirement already satisfied: docopt>=0.6 in /usr/local/lib/python3.7/dist-packages (from pymorphy2==0.8->deeppavlov) (0.6.2)\n",
            "Requirement already satisfied: certifi>=2017.4.17 in /usr/local/lib/python3.7/dist-packages (from requests==2.22.0->deeppavlov) (2020.12.5)\n",
            "Requirement already satisfied: urllib3!=1.25.0,!=1.25.1,<1.26,>=1.21.1 in /usr/local/lib/python3.7/dist-packages (from requests==2.22.0->deeppavlov) (1.24.3)\n",
            "Collecting idna<2.9,>=2.5\n",
            "\u001b[?25l  Downloading https://files.pythonhosted.org/packages/14/2c/cd551d81dbe15200be1cf41cd03869a46fe7226e7450af7a6545bfc474c9/idna-2.8-py2.py3-none-any.whl (58kB)\n",
            "\u001b[K     |████████████████████████████████| 61kB 6.9MB/s \n",
            "\u001b[?25hRequirement already satisfied: chardet<3.1.0,>=3.0.2 in /usr/local/lib/python3.7/dist-packages (from requests==2.22.0->deeppavlov) (3.0.4)\n",
            "Collecting starlette<=0.12.9,>=0.12.9\n",
            "\u001b[?25l  Downloading https://files.pythonhosted.org/packages/67/95/2220fe5bf287e693a6430d8ee36c681b0157035b7249ec08f8fb36319d16/starlette-0.12.9.tar.gz (46kB)\n",
            "\u001b[K     |████████████████████████████████| 51kB 5.5MB/s \n",
            "\u001b[?25hCollecting aiormq<4,>=3.2.0\n",
            "  Downloading https://files.pythonhosted.org/packages/0b/c4/dc5b9d50c15af2ee187974a5a0c3f20c06cce6559eea4c065d372e846b6a/aiormq-3.3.1-py3-none-any.whl\n",
            "Collecting yarl\n",
            "\u001b[?25l  Downloading https://files.pythonhosted.org/packages/f1/62/046834c5fc998c88ab2ef722f5d42122230a632212c8afa76418324f53ff/yarl-1.6.3-cp37-cp37m-manylinux2014_x86_64.whl (294kB)\n",
            "\u001b[K     |████████████████████████████████| 296kB 56.8MB/s \n",
            "\u001b[?25hRequirement already satisfied: python-dateutil>=2.6.1 in /usr/local/lib/python3.7/dist-packages (from pandas==0.25.3->deeppavlov) (2.8.1)\n",
            "Collecting uvloop>=0.14.0; sys_platform != \"win32\" and sys_platform != \"cygwin\" and platform_python_implementation != \"PyPy\"\n",
            "\u001b[?25l  Downloading https://files.pythonhosted.org/packages/87/05/805df4850d9659efd69d00076269ae6adcb0e151d1922cff822ead2c432a/uvloop-0.15.2-cp37-cp37m-manylinux2010_x86_64.whl (3.8MB)\n",
            "\u001b[K     |████████████████████████████████| 3.8MB 36.8MB/s \n",
            "\u001b[?25hCollecting h11<0.10,>=0.8\n",
            "\u001b[?25l  Downloading https://files.pythonhosted.org/packages/5a/fd/3dad730b0f95e78aeeb742f96fa7bbecbdd56a58e405d3da440d5bfb90c6/h11-0.9.0-py2.py3-none-any.whl (53kB)\n",
            "\u001b[K     |████████████████████████████████| 61kB 6.3MB/s \n",
            "\u001b[?25hCollecting websockets==8.*\n",
            "\u001b[?25l  Downloading https://files.pythonhosted.org/packages/5a/0b/3ebc752392a368af14dd24ee041683416ac6d2463eead94b311b11e41c82/websockets-8.1-cp37-cp37m-manylinux2010_x86_64.whl (79kB)\n",
            "\u001b[K     |████████████████████████████████| 81kB 8.2MB/s \n",
            "\u001b[?25hCollecting httptools==0.1.*; sys_platform != \"win32\" and sys_platform != \"cygwin\" and platform_python_implementation != \"PyPy\"\n",
            "\u001b[?25l  Downloading https://files.pythonhosted.org/packages/44/52/295101ea5a60f9bee805a3ca422863600ba5cac4e2778ac7bd56efab1231/httptools-0.1.1-cp37-cp37m-manylinux1_x86_64.whl (217kB)\n",
            "\u001b[K     |████████████████████████████████| 225kB 47.0MB/s \n",
            "\u001b[?25hRequirement already satisfied: cffi>=1.12 in /usr/local/lib/python3.7/dist-packages (from cryptography>=2.8->pyopenssl==19.1.0->deeppavlov) (1.14.5)\n",
            "Collecting pamqp==2.3.0\n",
            "  Downloading https://files.pythonhosted.org/packages/eb/56/afa06143361e640c9159d828dadc95fc9195c52c95b4a97d136617b0166d/pamqp-2.3.0-py2.py3-none-any.whl\n",
            "Requirement already satisfied: typing-extensions>=3.7.4; python_version < \"3.8\" in /usr/local/lib/python3.7/dist-packages (from yarl->aio-pika==6.4.1->deeppavlov) (3.7.4.3)\n",
            "Collecting multidict>=4.0\n",
            "\u001b[?25l  Downloading https://files.pythonhosted.org/packages/7c/a6/4123b8165acbe773d1a8dc8e3f0d1edea16d29f7de018eda769abb56bd30/multidict-5.1.0-cp37-cp37m-manylinux2014_x86_64.whl (142kB)\n",
            "\u001b[K     |████████████████████████████████| 143kB 46.0MB/s \n",
            "\u001b[?25hRequirement already satisfied: pycparser in /usr/local/lib/python3.7/dist-packages (from cffi>=1.12->cryptography>=2.8->pyopenssl==19.1.0->deeppavlov) (2.20)\n",
            "Building wheels for collected packages: nltk, pytelegrambotapi, prometheus-client, overrides, sacremoses, starlette\n",
            "  Building wheel for nltk (setup.py) ... \u001b[?25l\u001b[?25hdone\n",
            "  Created wheel for nltk: filename=nltk-3.4.5-cp37-none-any.whl size=1449907 sha256=e0fee900273d9030daeef1ab0e68371505b57effb460c214b112e9c1d10be67e\n",
            "  Stored in directory: /root/.cache/pip/wheels/96/86/f6/68ab24c23f207c0077381a5e3904b2815136b879538a24b483\n",
            "  Building wheel for pytelegrambotapi (setup.py) ... \u001b[?25l\u001b[?25hdone\n",
            "  Created wheel for pytelegrambotapi: filename=pyTelegramBotAPI-3.6.7-cp37-none-any.whl size=47177 sha256=8eb68f7aeedcb38a6b39944da96f6ce0d7dc656802c9843507e2e250f79162ea\n",
            "  Stored in directory: /root/.cache/pip/wheels/23/40/18/8a34153f95ef0dc19e3954898e5a5079244b76a8afdd7d0ec5\n",
            "  Building wheel for prometheus-client (setup.py) ... \u001b[?25l\u001b[?25hdone\n",
            "  Created wheel for prometheus-client: filename=prometheus_client-0.7.1-cp37-none-any.whl size=41404 sha256=c0681bb6268a42e903fddff81d373e11428754be6ceca027a5f18aea390c9862\n",
            "  Stored in directory: /root/.cache/pip/wheels/1c/54/34/fd47cd9b308826cc4292b54449c1899a30251ef3b506bc91ea\n",
            "  Building wheel for overrides (setup.py) ... \u001b[?25l\u001b[?25hdone\n",
            "  Created wheel for overrides: filename=overrides-2.7.0-cp37-none-any.whl size=5600 sha256=4986923d667a978e34115f48cc7a95848617b7801d39deb1099435a88d279266\n",
            "  Stored in directory: /root/.cache/pip/wheels/8c/7c/ef/80508418b67d87371c5b3de49e03eb22ee7c1d19affb5099f8\n",
            "  Building wheel for sacremoses (setup.py) ... \u001b[?25l\u001b[?25hdone\n",
            "  Created wheel for sacremoses: filename=sacremoses-0.0.35-cp37-none-any.whl size=883999 sha256=434fda51af4b43dbcf45344b646c48a0e669284b20ae58df5f459b82a1c2a547\n",
            "  Stored in directory: /root/.cache/pip/wheels/63/2a/db/63e2909042c634ef551d0d9ac825b2b0b32dede4a6d87ddc94\n",
            "  Building wheel for starlette (setup.py) ... \u001b[?25l\u001b[?25hdone\n",
            "  Created wheel for starlette: filename=starlette-0.12.9-cp37-none-any.whl size=57244 sha256=88dd857b8d08afc575d7e0c14ef305c93dc8d7dbaa02dd4b2f86723ade4736f1\n",
            "  Stored in directory: /root/.cache/pip/wheels/1c/51/5b/3828d52e185cafad941c4291b6f70894d0794be28c70addae5\n",
            "Successfully built nltk pytelegrambotapi prometheus-client overrides sacremoses starlette\n",
            "\u001b[31mERROR: umap-learn 0.5.1 has requirement scikit-learn>=0.22, but you'll have scikit-learn 0.21.2 which is incompatible.\u001b[0m\n",
            "\u001b[31mERROR: tensorflow 2.4.1 has requirement numpy~=1.19.2, but you'll have numpy 1.18.0 which is incompatible.\u001b[0m\n",
            "\u001b[31mERROR: google-colab 1.0.0 has requirement pandas~=1.1.0; python_version >= \"3.0\", but you'll have pandas 0.25.3 which is incompatible.\u001b[0m\n",
            "\u001b[31mERROR: google-colab 1.0.0 has requirement requests~=2.23.0, but you'll have requests 2.22.0 which is incompatible.\u001b[0m\n",
            "\u001b[31mERROR: fbprophet 0.7.1 has requirement pandas>=1.0.4, but you'll have pandas 0.25.3 which is incompatible.\u001b[0m\n",
            "\u001b[31mERROR: datascience 0.10.6 has requirement folium==0.2.1, but you'll have folium 0.8.3 which is incompatible.\u001b[0m\n",
            "\u001b[31mERROR: albumentations 0.1.12 has requirement imgaug<0.2.7,>=0.2.5, but you'll have imgaug 0.2.9 which is incompatible.\u001b[0m\n",
            "Installing collected packages: pydantic, ruamel.yaml, numpy, scikit-learn, nltk, pymorphy2-dicts-ru, cryptography, pyopenssl, pymorphy2-dicts, dawg-python, pymorphy2, idna, requests, starlette, fastapi, pytelegrambotapi, multidict, yarl, pamqp, aiormq, aio-pika, pytz, pandas, prometheus-client, rusenttokenize, Cython, overrides, uvloop, h11, websockets, httptools, uvicorn, sacremoses, deeppavlov\n",
            "  Found existing installation: numpy 1.19.5\n",
            "    Uninstalling numpy-1.19.5:\n",
            "      Successfully uninstalled numpy-1.19.5\n",
            "  Found existing installation: scikit-learn 0.22.2.post1\n",
            "    Uninstalling scikit-learn-0.22.2.post1:\n",
            "      Successfully uninstalled scikit-learn-0.22.2.post1\n",
            "  Found existing installation: nltk 3.2.5\n",
            "    Uninstalling nltk-3.2.5:\n",
            "      Successfully uninstalled nltk-3.2.5\n",
            "  Found existing installation: idna 2.10\n",
            "    Uninstalling idna-2.10:\n",
            "      Successfully uninstalled idna-2.10\n",
            "  Found existing installation: requests 2.23.0\n",
            "    Uninstalling requests-2.23.0:\n",
            "      Successfully uninstalled requests-2.23.0\n",
            "  Found existing installation: pytz 2018.9\n",
            "    Uninstalling pytz-2018.9:\n",
            "      Successfully uninstalled pytz-2018.9\n",
            "  Found existing installation: pandas 1.1.5\n",
            "    Uninstalling pandas-1.1.5:\n",
            "      Successfully uninstalled pandas-1.1.5\n",
            "  Found existing installation: prometheus-client 0.9.0\n",
            "    Uninstalling prometheus-client-0.9.0:\n",
            "      Successfully uninstalled prometheus-client-0.9.0\n",
            "  Found existing installation: Cython 0.29.22\n",
            "    Uninstalling Cython-0.29.22:\n",
            "      Successfully uninstalled Cython-0.29.22\n",
            "Successfully installed Cython-0.29.14 aio-pika-6.4.1 aiormq-3.3.1 cryptography-3.4.6 dawg-python-0.7.2 deeppavlov-0.14.0 fastapi-0.47.1 h11-0.9.0 httptools-0.1.1 idna-2.8 multidict-5.1.0 nltk-3.4.5 numpy-1.18.0 overrides-2.7.0 pamqp-2.3.0 pandas-0.25.3 prometheus-client-0.7.1 pydantic-1.3 pymorphy2-0.8 pymorphy2-dicts-2.4.393442.3710985 pymorphy2-dicts-ru-2.4.417127.4579844 pyopenssl-19.1.0 pytelegrambotapi-3.6.7 pytz-2019.1 requests-2.22.0 ruamel.yaml-0.15.100 rusenttokenize-0.0.5 sacremoses-0.0.35 scikit-learn-0.21.2 starlette-0.12.9 uvicorn-0.11.7 uvloop-0.15.2 websockets-8.1 yarl-1.6.3\n"
          ],
          "name": "stdout"
        },
        {
          "output_type": "display_data",
          "data": {
            "application/vnd.colab-display-data+json": {
              "pip_warning": {
                "packages": [
                  "numpy",
                  "pandas",
                  "pytz"
                ]
              }
            }
          },
          "metadata": {
            "tags": []
          }
        }
      ]
    },
    {
      "cell_type": "code",
      "metadata": {
        "id": "uw8bhWHJSzcw",
        "outputId": "459b13ea-f200-4a76-8701-50638a8d8ca7",
        "colab": {
          "base_uri": "https://localhost:8080/"
        }
      },
      "source": [
        "!pip install tensorflow==1.15.0"
      ],
      "execution_count": 2,
      "outputs": [
        {
          "output_type": "stream",
          "text": [
            "Collecting tensorflow==1.15.0\n",
            "\u001b[?25l  Downloading https://files.pythonhosted.org/packages/92/2b/e3af15221da9ff323521565fa3324b0d7c7c5b1d7a8ca66984c8d59cb0ce/tensorflow-1.15.0-cp37-cp37m-manylinux2010_x86_64.whl (412.3MB)\n",
            "\u001b[K     |████████████████████████████████| 412.3MB 34kB/s \n",
            "\u001b[?25hRequirement already satisfied: absl-py>=0.7.0 in /usr/local/lib/python3.7/dist-packages (from tensorflow==1.15.0) (0.10.0)\n",
            "Requirement already satisfied: google-pasta>=0.1.6 in /usr/local/lib/python3.7/dist-packages (from tensorflow==1.15.0) (0.2.0)\n",
            "Requirement already satisfied: wrapt>=1.11.1 in /usr/local/lib/python3.7/dist-packages (from tensorflow==1.15.0) (1.12.1)\n",
            "Requirement already satisfied: opt-einsum>=2.3.2 in /usr/local/lib/python3.7/dist-packages (from tensorflow==1.15.0) (3.3.0)\n",
            "Requirement already satisfied: astor>=0.6.0 in /usr/local/lib/python3.7/dist-packages (from tensorflow==1.15.0) (0.8.1)\n",
            "Requirement already satisfied: protobuf>=3.6.1 in /usr/local/lib/python3.7/dist-packages (from tensorflow==1.15.0) (3.12.4)\n",
            "Collecting tensorflow-estimator==1.15.1\n",
            "\u001b[?25l  Downloading https://files.pythonhosted.org/packages/de/62/2ee9cd74c9fa2fa450877847ba560b260f5d0fb70ee0595203082dafcc9d/tensorflow_estimator-1.15.1-py2.py3-none-any.whl (503kB)\n",
            "\u001b[K     |████████████████████████████████| 512kB 42.4MB/s \n",
            "\u001b[?25hCollecting tensorboard<1.16.0,>=1.15.0\n",
            "\u001b[?25l  Downloading https://files.pythonhosted.org/packages/1e/e9/d3d747a97f7188f48aa5eda486907f3b345cd409f0a0850468ba867db246/tensorboard-1.15.0-py3-none-any.whl (3.8MB)\n",
            "\u001b[K     |████████████████████████████████| 3.8MB 40.1MB/s \n",
            "\u001b[?25hCollecting gast==0.2.2\n",
            "  Downloading https://files.pythonhosted.org/packages/4e/35/11749bf99b2d4e3cceb4d55ca22590b0d7c2c62b9de38ac4a4a7f4687421/gast-0.2.2.tar.gz\n",
            "Requirement already satisfied: grpcio>=1.8.6 in /usr/local/lib/python3.7/dist-packages (from tensorflow==1.15.0) (1.32.0)\n",
            "Requirement already satisfied: wheel>=0.26 in /usr/local/lib/python3.7/dist-packages (from tensorflow==1.15.0) (0.36.2)\n",
            "Collecting keras-applications>=1.0.8\n",
            "\u001b[?25l  Downloading https://files.pythonhosted.org/packages/71/e3/19762fdfc62877ae9102edf6342d71b28fbfd9dea3d2f96a882ce099b03f/Keras_Applications-1.0.8-py3-none-any.whl (50kB)\n",
            "\u001b[K     |████████████████████████████████| 51kB 5.5MB/s \n",
            "\u001b[?25hRequirement already satisfied: six>=1.10.0 in /usr/local/lib/python3.7/dist-packages (from tensorflow==1.15.0) (1.15.0)\n",
            "Requirement already satisfied: keras-preprocessing>=1.0.5 in /usr/local/lib/python3.7/dist-packages (from tensorflow==1.15.0) (1.1.2)\n",
            "Requirement already satisfied: termcolor>=1.1.0 in /usr/local/lib/python3.7/dist-packages (from tensorflow==1.15.0) (1.1.0)\n",
            "Requirement already satisfied: numpy<2.0,>=1.16.0 in /usr/local/lib/python3.7/dist-packages (from tensorflow==1.15.0) (1.18.0)\n",
            "Requirement already satisfied: setuptools in /usr/local/lib/python3.7/dist-packages (from protobuf>=3.6.1->tensorflow==1.15.0) (54.0.0)\n",
            "Requirement already satisfied: werkzeug>=0.11.15 in /usr/local/lib/python3.7/dist-packages (from tensorboard<1.16.0,>=1.15.0->tensorflow==1.15.0) (1.0.1)\n",
            "Requirement already satisfied: markdown>=2.6.8 in /usr/local/lib/python3.7/dist-packages (from tensorboard<1.16.0,>=1.15.0->tensorflow==1.15.0) (3.3.4)\n",
            "Requirement already satisfied: h5py in /usr/local/lib/python3.7/dist-packages (from keras-applications>=1.0.8->tensorflow==1.15.0) (2.10.0)\n",
            "Requirement already satisfied: importlib-metadata; python_version < \"3.8\" in /usr/local/lib/python3.7/dist-packages (from markdown>=2.6.8->tensorboard<1.16.0,>=1.15.0->tensorflow==1.15.0) (3.7.0)\n",
            "Requirement already satisfied: typing-extensions>=3.6.4; python_version < \"3.8\" in /usr/local/lib/python3.7/dist-packages (from importlib-metadata; python_version < \"3.8\"->markdown>=2.6.8->tensorboard<1.16.0,>=1.15.0->tensorflow==1.15.0) (3.7.4.3)\n",
            "Requirement already satisfied: zipp>=0.5 in /usr/local/lib/python3.7/dist-packages (from importlib-metadata; python_version < \"3.8\"->markdown>=2.6.8->tensorboard<1.16.0,>=1.15.0->tensorflow==1.15.0) (3.4.1)\n",
            "Building wheels for collected packages: gast\n",
            "  Building wheel for gast (setup.py) ... \u001b[?25l\u001b[?25hdone\n",
            "  Created wheel for gast: filename=gast-0.2.2-cp37-none-any.whl size=7540 sha256=bb6a7abb4255de035049df294f5b2023e058a46dd43e1b4c6fd21ca7d5e44d0b\n",
            "  Stored in directory: /root/.cache/pip/wheels/5c/2e/7e/a1d4d4fcebe6c381f378ce7743a3ced3699feb89bcfbdadadd\n",
            "Successfully built gast\n",
            "\u001b[31mERROR: tensorflow-probability 0.12.1 has requirement gast>=0.3.2, but you'll have gast 0.2.2 which is incompatible.\u001b[0m\n",
            "Installing collected packages: tensorflow-estimator, tensorboard, gast, keras-applications, tensorflow\n",
            "  Found existing installation: tensorflow-estimator 2.4.0\n",
            "    Uninstalling tensorflow-estimator-2.4.0:\n",
            "      Successfully uninstalled tensorflow-estimator-2.4.0\n",
            "  Found existing installation: tensorboard 2.4.1\n",
            "    Uninstalling tensorboard-2.4.1:\n",
            "      Successfully uninstalled tensorboard-2.4.1\n",
            "  Found existing installation: gast 0.3.3\n",
            "    Uninstalling gast-0.3.3:\n",
            "      Successfully uninstalled gast-0.3.3\n",
            "  Found existing installation: tensorflow 2.4.1\n",
            "    Uninstalling tensorflow-2.4.1:\n",
            "      Successfully uninstalled tensorflow-2.4.1\n",
            "Successfully installed gast-0.2.2 keras-applications-1.0.8 tensorboard-1.15.0 tensorflow-1.15.0 tensorflow-estimator-1.15.1\n"
          ],
          "name": "stdout"
        }
      ]
    },
    {
      "cell_type": "code",
      "metadata": {
        "scrolled": true,
        "id": "2LIQqoQmSzcw",
        "outputId": "4f5a8fd2-132a-4616-8b04-50aa5c181661",
        "colab": {
          "base_uri": "https://localhost:8080/"
        }
      },
      "source": [
        "!apt-get --yes install git"
      ],
      "execution_count": 3,
      "outputs": [
        {
          "output_type": "stream",
          "text": [
            "Reading package lists... Done\n",
            "Building dependency tree       \n",
            "Reading state information... Done\n",
            "git is already the newest version (1:2.17.1-1ubuntu0.7).\n",
            "0 upgraded, 0 newly installed, 0 to remove and 29 not upgraded.\n"
          ],
          "name": "stdout"
        }
      ]
    },
    {
      "cell_type": "code",
      "metadata": {
        "colab": {
          "base_uri": "https://localhost:8080/"
        },
        "id": "EOtoNuwklpAG",
        "outputId": "df0b8574-d9b3-40fd-fa04-61f6e6f68cf1"
      },
      "source": [
        "!pip install git+https://github.com/deepmipt/bert.git@feat/multi_gpu"
      ],
      "execution_count": 4,
      "outputs": [
        {
          "output_type": "stream",
          "text": [
            "Collecting git+https://github.com/deepmipt/bert.git@feat/multi_gpu\n",
            "  Cloning https://github.com/deepmipt/bert.git (to revision feat/multi_gpu) to /tmp/pip-req-build-2qakuvkn\n",
            "  Running command git clone -q https://github.com/deepmipt/bert.git /tmp/pip-req-build-2qakuvkn\n",
            "Building wheels for collected packages: bert-dp\n",
            "  Building wheel for bert-dp (setup.py) ... \u001b[?25l\u001b[?25hdone\n",
            "  Created wheel for bert-dp: filename=bert_dp-1.0-cp37-none-any.whl size=23581 sha256=ea18e9976192ae8183d76fa6dac4595744270c5e0c95a7c711d7384d66a4a24a\n",
            "  Stored in directory: /tmp/pip-ephem-wheel-cache-1dh8inff/wheels/1e/41/94/886107eaf932532594886fd8bfc9cb9d4db632e94add49d326\n",
            "Successfully built bert-dp\n",
            "Installing collected packages: bert-dp\n",
            "Successfully installed bert-dp-1.0\n"
          ],
          "name": "stdout"
        }
      ]
    },
    {
      "cell_type": "code",
      "metadata": {
        "id": "gFzJm3CXCy4Y"
      },
      "source": [
        "# загрузка файлов для колаба\n",
        "# from google.colab import files\n",
        "# uploaded = files.upload()"
      ],
      "execution_count": 5,
      "outputs": []
    },
    {
      "cell_type": "code",
      "metadata": {
        "id": "Se1Jo3O8Dh7n"
      },
      "source": [
        "# в колабе файлы не перезаписываются, создается новый с (1,2,3..). \n",
        "# Чтобы удалить старый файл перед загрузкой нового используйте rm file\n",
        "# rm .txt удаляет все txt файлы в текущей папке\n",
        "#!rm *.txt"
      ],
      "execution_count": 6,
      "outputs": []
    },
    {
      "cell_type": "code",
      "metadata": {
        "id": "02ooybWVJeLz"
      },
      "source": [
        "import pandas as pd"
      ],
      "execution_count": 1,
      "outputs": []
    },
    {
      "cell_type": "markdown",
      "metadata": {
        "id": "wzCpxKP6Szcx"
      },
      "source": [
        "Возьмем тексты с авито по категории приставки. "
      ]
    },
    {
      "cell_type": "code",
      "metadata": {
        "id": "_Bf7wBP-Q-v0"
      },
      "source": [
        "data = pd.read_csv('pristavki.csv', header=None, names=['text'])"
      ],
      "execution_count": 2,
      "outputs": []
    },
    {
      "cell_type": "markdown",
      "metadata": {
        "id": "mrg7Bu8kSzcy"
      },
      "source": [
        "Чтобы научиться выделять названия разметим небольшое количество текстов. Для DeepPavlov разметку нужно поделить на три файла: train.txt, valid.txt, test.txt."
      ]
    },
    {
      "cell_type": "code",
      "metadata": {
        "id": "zYpG_cBFSzcy",
        "outputId": "1b7d6a9f-6af7-4239-a832-f26a7577da99",
        "colab": {
          "base_uri": "https://localhost:8080/"
        }
      },
      "source": [
        "!ls *.txt"
      ],
      "execution_count": 3,
      "outputs": [
        {
          "output_type": "stream",
          "text": [
            "test.txt  train.txt  valid.txt\n"
          ],
          "name": "stdout"
        }
      ]
    },
    {
      "cell_type": "markdown",
      "metadata": {
        "id": "zFT6rcUpSzcy"
      },
      "source": [
        "Файлы для обучения, валидации и тестирования в формате IOB. B маркирует начало сущности, а I продолжение. O - обозначает несущность. PRS - это сокращение от PRISTAVKA. Можно было и полностью написать. "
      ]
    },
    {
      "cell_type": "code",
      "metadata": {
        "id": "CaftQr_gSzcy",
        "outputId": "532e8ab3-f999-4ef3-89b7-9b9c2062a740",
        "colab": {
          "base_uri": "https://localhost:8080/"
        }
      },
      "source": [
        "!head train.txt"
      ],
      "execution_count": 4,
      "outputs": [
        {
          "output_type": "stream",
          "text": [
            "Продам O\n",
            "PS3 B-PRS\n",
            ", O\n",
            "2 O\n",
            "беспроводных O\n",
            "джойстика O\n",
            "в O\n",
            "комплекте O\n",
            "\n",
            "Продам O\n"
          ],
          "name": "stdout"
        }
      ]
    },
    {
      "cell_type": "markdown",
      "metadata": {
        "id": "Tp4Mu9igSzcz"
      },
      "source": [
        "Попробуем теперь обучить разметчик сущностей поверх многоязычного берта. Знать, что это такое и как работает не обязательно. Обязательно указать путь к обучающий файлам."
      ]
    },
    {
      "cell_type": "code",
      "metadata": {
        "id": "tsvydQwjbHo2"
      },
      "source": [
        "import json\n",
        "from deeppavlov import configs, build_model, train_model\n",
        "\n",
        "with configs.ner.ner_ontonotes_bert_mult.open(encoding='utf8') as f:\n",
        "    ner_config = json.load(f)\n",
        "\n",
        "ner_config['dataset_reader']['data_path'] = './'  # directory with train.txt, valid.txt and test.txt files\n",
        "ner_config['metadata']['variables']['NER_PATH'] = './'\n",
        "ner_config['metadata']['download'] = [ner_config['metadata']['download'][-1]]  # do not download the pretrained ontonotes model\n",
        "\n"
      ],
      "execution_count": 5,
      "outputs": []
    },
    {
      "cell_type": "markdown",
      "metadata": {
        "id": "SPsgcoayw_iG"
      },
      "source": [
        "!!! Если колаб крашиться из-за памяти, то после перезапуска не запускайте ячейку с train_model и build_model по очереди. Либо запустите только train_model, либо пропустите ее и переходите к build_model ниже"
      ]
    },
    {
      "cell_type": "markdown",
      "metadata": {
        "id": "r65XJVE6w-Gf"
      },
      "source": [
        ""
      ]
    },
    {
      "cell_type": "code",
      "metadata": {
        "id": "hcLZmVPMqchZ"
      },
      "source": [
        "ner_model = train_model(ner_config, download=True)"
      ],
      "execution_count": null,
      "outputs": []
    },
    {
      "cell_type": "markdown",
      "metadata": {
        "id": "v28BGtnlSzcz"
      },
      "source": [
        "Обучается оно около 10 минут. Добавление примеров в обучение увеличит время обучения. "
      ]
    },
    {
      "cell_type": "markdown",
      "metadata": {
        "id": "-QRFtdPbSzcz"
      },
      "source": [
        "Посмотрим как это все размечается."
      ]
    },
    {
      "cell_type": "code",
      "metadata": {
        "id": "LWWCrWlbSzcz",
        "outputId": "806e1f83-7741-4da6-b8aa-72df26f82a18",
        "colab": {
          "base_uri": "https://localhost:8080/"
        }
      },
      "source": [
        "ner_model(['Playstation 4', 'Xbox 360 продам', 'Продам ПС 3'])"
      ],
      "execution_count": 11,
      "outputs": [
        {
          "output_type": "execute_result",
          "data": {
            "text/plain": [
              "[[['Playstation', '4'], ['Xbox', '360', 'продам'], ['Продам', 'ПС', '3']],\n",
              " [['B-PRS', 'I-PRS'], ['B-PRS', 'I-PRS', 'O'], ['O', 'O', 'O']]]"
            ]
          },
          "metadata": {
            "tags": []
          },
          "execution_count": 11
        }
      ]
    },
    {
      "cell_type": "code",
      "metadata": {
        "id": "VKEWNLwhiK-H"
      },
      "source": [
        "marked = []\n",
        "\n",
        "for text in data.text.values[:1000]:\n",
        "    # BERT имеет лимит на длину текста в 512 слов, возьмем даже еще меньше\n",
        "    if len(text.split()) > 100:\n",
        "        continue\n",
        "    pred = ner_model([text])\n",
        "    sent, tags = pred[0][0], pred[1][0]\n",
        "    \n",
        "    # достанем только тексты с сущностями\n",
        "    if len(set(tags[0])) > 1:\n",
        "        marked.append(list(zip(sent,tags)))"
      ],
      "execution_count": 12,
      "outputs": []
    },
    {
      "cell_type": "code",
      "metadata": {
        "colab": {
          "base_uri": "https://localhost:8080/"
        },
        "id": "nbPmC0v1keh1",
        "outputId": "8f2c60cb-db86-4b83-ad28-f033aba858b0"
      },
      "source": [
        "marked"
      ],
      "execution_count": 13,
      "outputs": [
        {
          "output_type": "execute_result",
          "data": {
            "text/plain": [
              "[[('Sony', 'B-PRS'),\n",
              "  ('PS3', 'I-PRS'),\n",
              "  ('в', 'O'),\n",
              "  ('отличном', 'O'),\n",
              "  ('состоянии', 'O'),\n",
              "  (',', 'O'),\n",
              "  ('продаю', 'O'),\n",
              "  ('за', 'O'),\n",
              "  ('ненадобностью', 'O'),\n",
              "  (',', 'O'),\n",
              "  ('память', 'O'),\n",
              "  ('12gb', 'O'),\n",
              "  ('-', 'O'),\n",
              "  ('встроенные', 'O'),\n",
              "  ('+', 'O'),\n",
              "  ('жесткий', 'O'),\n",
              "  ('диск', 'O'),\n",
              "  ('на', 'O'),\n",
              "  ('160gb', 'O'),\n",
              "  (',', 'O'),\n",
              "  ('в', 'O'),\n",
              "  ('комплект', 'O'),\n",
              "  ('входит', 'O'),\n",
              "  ('два', 'O'),\n",
              "  ('джойстика', 'O'),\n",
              "  ('(', 'O'),\n",
              "  ('состояние', 'O'),\n",
              "  ('новых', 'O'),\n",
              "  (',', 'O'),\n",
              "  ('не', 'O'),\n",
              "  ('залипают', 'O'),\n",
              "  (',', 'O'),\n",
              "  ('не', 'O'),\n",
              "  ('тупят', 'O'),\n",
              "  (',', 'O'),\n",
              "  ('играли', 'O'),\n",
              "  ('мало', 'O'),\n",
              "  (')', 'O'),\n",
              "  (',', 'O'),\n",
              "  ('игра', 'O'),\n",
              "  ('FIFA', 'O'),\n",
              "  ('2014', 'O'),\n",
              "  (',', 'O'),\n",
              "  ('кабель', 'O'),\n",
              "  ('hdmi', 'O'),\n",
              "  (',', 'O'),\n",
              "  ('коробка', 'O'),\n",
              "  ('.', 'O')],\n",
              " [('Battlefield', 'B-PRS'),\n",
              "  ('4', 'I-PRS'),\n",
              "  (',', 'O'),\n",
              "  ('Granturismo', 'O'),\n",
              "  ('3', 'I-PRS'),\n",
              "  ('и', 'O'),\n",
              "  ('Звезды', 'O'),\n",
              "  ('Playstation', 'O'),\n",
              "  ('Битва', 'O'),\n",
              "  ('сильнейших', 'O'),\n",
              "  ('.', 'O'),\n",
              "  ('За', 'O'),\n",
              "  ('все', 'O'),\n",
              "  ('1500', 'O'),\n",
              "  ('руб', 'O'),\n",
              "  ('.', 'O')],\n",
              " [('Sony', 'B-PRS'),\n",
              "  ('Playstation', 'I-PRS'),\n",
              "  ('3', 'I-PRS'),\n",
              "  ('Slim', 'I-PRS'),\n",
              "  ('-', 'O'),\n",
              "  ('лицензионная', 'O'),\n",
              "  (',', 'O'),\n",
              "  ('никогда', 'O'),\n",
              "  ('не', 'O'),\n",
              "  ('прошивалась', 'O'),\n",
              "  ('.', 'O'),\n",
              "  ('/', 'O'),\n",
              "  ('\\n', 'O'),\n",
              "  ('Все', 'O'),\n",
              "  ('провода', 'O'),\n",
              "  ('в', 'O'),\n",
              "  ('комплекте', 'O'),\n",
              "  (',', 'O'),\n",
              "  ('hdmi', 'O'),\n",
              "  ('кабель', 'O'),\n",
              "  ('для', 'O'),\n",
              "  ('большого', 'O'),\n",
              "  ('ТВ', 'O'),\n",
              "  (',', 'O'),\n",
              "  ('не', 'O'),\n",
              "  ('тормозит', 'O'),\n",
              "  ('не', 'O'),\n",
              "  ('перегревается', 'O'),\n",
              "  ('.', 'O'),\n",
              "  ('/', 'O'),\n",
              "  ('\\n', 'O'),\n",
              "  ('Купили', 'O'),\n",
              "  ('Пс4', 'O'),\n",
              "  (',', 'O'),\n",
              "  ('в', 'O'),\n",
              "  ('эту', 'O'),\n",
              "  ('не', 'O'),\n",
              "  ('играем', 'O'),\n",
              "  ('почти', 'O'),\n",
              "  ('.', 'O')],\n",
              " [('Xbox', 'B-PRS'),\n",
              "  ('360', 'I-PRS'),\n",
              "  ('прошитый', 'O'),\n",
              "  ('LT', 'O'),\n",
              "  ('2', 'O'),\n",
              "  ('.', 'O'),\n",
              "  ('0', 'O'),\n",
              "  ('+', 'O'),\n",
              "  ('игр', 'O'),\n",
              "  ('к', 'O'),\n",
              "  ('нему', 'O'),\n",
              "  ('больше', 'O'),\n",
              "  ('50', 'O'),\n",
              "  ('шт', 'O'),\n",
              "  ('.', 'O')],\n",
              " [('Xbox', 'B-PRS'),\n",
              "  ('360', 'I-PRS'),\n",
              "  (',', 'O'),\n",
              "  ('250', 'O'),\n",
              "  ('Гб', 'O'),\n",
              "  (',', 'O'),\n",
              "  ('freeboot', 'O'),\n",
              "  ('(', 'O'),\n",
              "  ('не', 'O'),\n",
              "  ('надо', 'O'),\n",
              "  ('покупать', 'O'),\n",
              "  ('игры', 'O'),\n",
              "  (',', 'O'),\n",
              "  ('скачал', 'O'),\n",
              "  (',', 'O'),\n",
              "  ('установил', 'O'),\n",
              "  ('и', 'O'),\n",
              "  ('играй', 'O'),\n",
              "  (')', 'O'),\n",
              "  (',', 'O'),\n",
              "  ('беспроводной', 'O'),\n",
              "  ('джойстик', 'O'),\n",
              "  (',', 'O'),\n",
              "  ('сенсорная', 'O'),\n",
              "  ('панель', 'O')],\n",
              " [('PS', 'B-PRS'),\n",
              "  ('4', 'I-PRS'),\n",
              "  ('-', 'O'),\n",
              "  ('500', 'O'),\n",
              "  ('гб', 'O'),\n",
              "  (',', 'O'),\n",
              "  ('состояние', 'O'),\n",
              "  ('новой', 'O'),\n",
              "  (',', 'O'),\n",
              "  ('в', 'O'),\n",
              "  ('комплекте', 'O'),\n",
              "  ('есть', 'O'),\n",
              "  ('игры', 'O'),\n",
              "  (',', 'O'),\n",
              "  ('2', 'O'),\n",
              "  ('джостика', 'O'),\n",
              "  ('.', 'O'),\n",
              "  ('Могу', 'O'),\n",
              "  ('продать', 'O'),\n",
              "  ('аккаунт', 'O'),\n",
              "  ('не', 'O'),\n",
              "  ('за', 'O'),\n",
              "  ('дорого', 'O'),\n",
              "  ('.', 'O'),\n",
              "  ('На', 'O'),\n",
              "  ('аккаунте', 'O'),\n",
              "  ('до', 'O'),\n",
              "  ('конца', 'O'),\n",
              "  ('года', 'O'),\n",
              "  ('ps', 'O'),\n",
              "  ('+', 'O'),\n",
              "  (',', 'O'),\n",
              "  ('много', 'O'),\n",
              "  ('игр', 'O')],\n",
              " [('Sony', 'B-PRS'),\n",
              "  ('Playstaition', 'I-PRS'),\n",
              "  ('3', 'I-PRS'),\n",
              "  (',', 'O'),\n",
              "  ('обем', 'O'),\n",
              "  ('памяти', 'O'),\n",
              "  (':', 'O'),\n",
              "  ('250гб', 'O'),\n",
              "  ('.', 'O'),\n",
              "  ('/', 'O'),\n",
              "  ('\\n', 'O'),\n",
              "  ('В', 'O'),\n",
              "  ('отличном', 'O'),\n",
              "  ('состоянии', 'O'),\n",
              "  (',', 'O'),\n",
              "  ('провода', 'O'),\n",
              "  (',', 'O'),\n",
              "  ('геймпад', 'O'),\n",
              "  ('2шт', 'O'),\n",
              "  ('.', 'O'),\n",
              "  ('/', 'O'),\n",
              "  ('\\n', 'O'),\n",
              "  ('Не', 'O'),\n",
              "  ('прошивалась', 'O'),\n",
              "  (',', 'O'),\n",
              "  ('имеет', 'O'),\n",
              "  ('доступ', 'O'),\n",
              "  ('к', 'O'),\n",
              "  ('интернету', 'O'),\n",
              "  ('!', 'O'),\n",
              "  ('/', 'O'),\n",
              "  ('\\n', 'O'),\n",
              "  ('Лучшее', 'O'),\n",
              "  ('предложение', 'O'),\n",
              "  ('в', 'O'),\n",
              "  ('соотношении', 'O'),\n",
              "  ('цена', 'O'),\n",
              "  ('-', 'O'),\n",
              "  ('качество', 'O'),\n",
              "  ('.', 'O'),\n",
              "  ('/', 'O'),\n",
              "  ('\\n', 'O'),\n",
              "  ('Игры', 'O'),\n",
              "  (':', 'O'),\n",
              "  ('Mortal', 'O'),\n",
              "  (',', 'O'),\n",
              "  ('Dirt', 'O'),\n",
              "  ('3', 'O'),\n",
              "  (',', 'O'),\n",
              "  ('FIFA', 'O'),\n",
              "  ('13', 'O'),\n",
              "  (',', 'O'),\n",
              "  ('FIFA', 'O'),\n",
              "  ('16', 'O'),\n",
              "  (',', 'O'),\n",
              "  ('Fifa', 'O'),\n",
              "  ('STREET', 'O'),\n",
              "  (',', 'O'),\n",
              "  ('TENNIS', 'O'),\n",
              "  ('2', 'I-PRS'),\n",
              "  (',', 'O'),\n",
              "  ('GTA', 'B-PRS'),\n",
              "  ('5', 'I-PRS'),\n",
              "  (',', 'O'),\n",
              "  ('UFS', 'O'),\n",
              "  ('3', 'O'),\n",
              "  (',', 'O'),\n",
              "  ('Gold', 'O'),\n",
              "  ('of', 'O'),\n",
              "  ('Wars', 'O'),\n",
              "  (',', 'O'),\n",
              "  ('Grand', 'O'),\n",
              "  ('Turismo', 'O'),\n",
              "  ('6', 'O'),\n",
              "  ('.', 'O')],\n",
              " [('NBA', 'B-PRS'),\n",
              "  ('2K15', 'I-PRS'),\n",
              "  ('-', 'O'),\n",
              "  ('800', 'O'),\n",
              "  ('р', 'O'),\n",
              "  ('.', 'O'),\n",
              "  ('/', 'O'),\n",
              "  ('\\n', 'O'),\n",
              "  ('(', 'O'),\n",
              "  ('состояние', 'O'),\n",
              "  ('диска', 'O'),\n",
              "  ('отличное', 'O'),\n",
              "  (',', 'O'),\n",
              "  ('коробки', 'O'),\n",
              "  ('удов', 'O'),\n",
              "  ('.', 'O'),\n",
              "  (')', 'O'),\n",
              "  ('/', 'O'),\n",
              "  ('\\n', 'O'),\n",
              "  ('/', 'O'),\n",
              "  ('\\n', 'O'),\n",
              "  ('Uncharted', 'O'),\n",
              "  ('4', 'O'),\n",
              "  ('A', 'O'),\n",
              "  (\"Thief's\", 'O'),\n",
              "  ('End', 'O'),\n",
              "  ('(', 'O'),\n",
              "  ('PS4', 'B-PRS'),\n",
              "  (')', 'O'),\n",
              "  ('-', 'O'),\n",
              "  ('English', 'O'),\n",
              "  ('version', 'O'),\n",
              "  ('-', 'O'),\n",
              "  ('1500', 'O'),\n",
              "  ('р', 'O'),\n",
              "  ('.', 'O'),\n",
              "  ('/', 'O'),\n",
              "  ('\\n', 'O'),\n",
              "  ('(', 'O'),\n",
              "  ('обратите', 'O'),\n",
              "  ('внимание', 'O'),\n",
              "  ('в', 'O'),\n",
              "  ('игре', 'O'),\n",
              "  ('нет', 'O'),\n",
              "  ('русского', 'O'),\n",
              "  ('языка', 'O'),\n",
              "  (',', 'O'),\n",
              "  ('состояние', 'O'),\n",
              "  ('идеальное', 'O'),\n",
              "  (')', 'O'),\n",
              "  ('/', 'O'),\n",
              "  ('\\n', 'O'),\n",
              "  ('/', 'O'),\n",
              "  ('\\n', 'O'),\n",
              "  ('Продажа', 'O'),\n",
              "  (',', 'O'),\n",
              "  ('возможен', 'O'),\n",
              "  ('обмен', 'O'),\n",
              "  ('(', 'O'),\n",
              "  ('предложения', 'O'),\n",
              "  ('пишите', 'O'),\n",
              "  ('в', 'O'),\n",
              "  ('личку', 'O'),\n",
              "  (')', 'O'),\n",
              "  ('.', 'O')],\n",
              " [('Far', 'B-PRS'),\n",
              "  ('Cry', 'I-PRS'),\n",
              "  ('4', 'I-PRS'),\n",
              "  ('.', 'O'),\n",
              "  ('Специальное', 'O'),\n",
              "  ('издание', 'O'),\n",
              "  ('/', 'O'),\n",
              "  ('\\n', 'O'),\n",
              "  ('Диск', 'O'),\n",
              "  ('в', 'O'),\n",
              "  ('отличном', 'O'),\n",
              "  ('состоянии', 'O'),\n",
              "  ('/', 'O'),\n",
              "  ('\\n', 'O'),\n",
              "  ('Любые', 'O'),\n",
              "  ('проверки', 'O'),\n",
              "  ('/', 'O'),\n",
              "  ('\\n', 'O'),\n",
              "  ('Могу', 'O'),\n",
              "  ('рассмотреть', 'O'),\n",
              "  ('обмен', 'O')],\n",
              " [('PS', 'B-PRS'),\n",
              "  ('Vita', 'I-PRS'),\n",
              "  ('в', 'O'),\n",
              "  ('отличном', 'O'),\n",
              "  ('состоянии', 'O'),\n",
              "  ('/', 'O'),\n",
              "  ('\\n', 'O'),\n",
              "  ('В', 'O'),\n",
              "  ('комплект', 'O'),\n",
              "  ('входит', 'O'),\n",
              "  ('карта', 'O'),\n",
              "  ('памяти', 'O'),\n",
              "  ('на', 'O'),\n",
              "  ('8gb', 'O'),\n",
              "  (',', 'O'),\n",
              "  ('мягкий', 'O'),\n",
              "  ('чехол', 'O'),\n",
              "  (',', 'O'),\n",
              "  ('противоударный', 'O'),\n",
              "  ('корпус', 'O'),\n",
              "  (',', 'O'),\n",
              "  ('зарядное', 'O'),\n",
              "  ('устройство', 'O'),\n",
              "  ('и', 'O'),\n",
              "  ('три', 'O'),\n",
              "  ('картриджа', 'O'),\n",
              "  (':', 'O'),\n",
              "  ('/', 'O'),\n",
              "  ('\\n', 'O'),\n",
              "  ('Borderland', 'O'),\n",
              "  ('2', 'O'),\n",
              "  ('/', 'O'),\n",
              "  ('\\n', 'O'),\n",
              "  ('Ratchet', 'O'),\n",
              "  ('&', 'O'),\n",
              "  ('Clank', 'O'),\n",
              "  ('Trilogy', 'O'),\n",
              "  ('/', 'O'),\n",
              "  ('\\n', 'O'),\n",
              "  ('Call', 'O'),\n",
              "  ('of', 'O'),\n",
              "  ('Duty', 'O'),\n",
              "  (':', 'O'),\n",
              "  ('Black', 'O'),\n",
              "  ('Ops', 'O'),\n",
              "  ('Declassified', 'O')],\n",
              " [('Sony', 'B-PRS'), ('PSP', 'I-PRS'), ('3008', 'I-PRS')],\n",
              " [('PlayStation', 'B-PRS'),\n",
              "  ('3CECH', 'I-PRS'),\n",
              "  ('-', 'O'),\n",
              "  ('3008B', 'O'),\n",
              "  ('320Gb', 'O'),\n",
              "  ('PS', 'B-PRS'),\n",
              "  ('Eye', 'I-PRS'),\n",
              "  ('+', 'O'),\n",
              "  ('PS', 'B-PRS'),\n",
              "  ('Move', 'I-PRS')],\n",
              " [('Mafia', 'B-PRS'),\n",
              "  ('3', 'I-PRS'),\n",
              "  ('PS', 'I-PRS'),\n",
              "  ('4', 'O'),\n",
              "  ('лицензия', 'O'),\n",
              "  (',', 'O'),\n",
              "  ('диск', 'O'),\n",
              "  ('из', 'O'),\n",
              "  ('бруталити', 'O'),\n",
              "  ('4', 'O'),\n",
              "  ('категория', 'O'),\n",
              "  (',', 'O'),\n",
              "  ('брал', 'O'),\n",
              "  ('за', 'O'),\n",
              "  ('3000', 'O'),\n",
              "  (',', 'O'),\n",
              "  ('обмен', 'O'),\n",
              "  ('не', 'O'),\n",
              "  ('интересен', 'O'),\n",
              "  ('.', 'O')],\n",
              " [('PS4', 'B-PRS'),\n",
              "  ('+', 'O'),\n",
              "  ('2', 'O'),\n",
              "  ('джоя', 'O'),\n",
              "  ('+', 'O'),\n",
              "  ('Камера', 'O'),\n",
              "  ('и', 'O'),\n",
              "  ('пару', 'O'),\n",
              "  ('игр', 'O'),\n",
              "  ('на', 'O'),\n",
              "  ('выбор', 'O')],\n",
              " [('Xbox', 'B-PRS'),\n",
              "  ('one', 'I-PRS'),\n",
              "  ('без', 'O'),\n",
              "  ('коробки', 'O'),\n",
              "  ('+', 'O'),\n",
              "  ('второй', 'O'),\n",
              "  ('геймпад', 'O'),\n",
              "  ('.', 'O'),\n",
              "  ('Три', 'O'),\n",
              "  ('игры', 'O'),\n",
              "  ('.', 'O')],\n",
              " [('PlayStation', 'B-PRS'),\n",
              "  ('Eye', 'I-PRS'),\n",
              "  ('камера', 'O'),\n",
              "  ('подходит', 'O'),\n",
              "  ('и', 'O'),\n",
              "  ('для', 'O'),\n",
              "  ('PS3', 'B-PRS'),\n",
              "  ('и', 'O'),\n",
              "  ('для', 'O'),\n",
              "  ('PS4', 'B-PRS'),\n",
              "  ('/', 'O'),\n",
              "  ('\\n', 'O'),\n",
              "  ('Можно', 'O'),\n",
              "  ('использовать', 'O'),\n",
              "  ('как', 'O'),\n",
              "  ('веб', 'O'),\n",
              "  ('-', 'O'),\n",
              "  ('камеру', 'O'),\n",
              "  ('для', 'O'),\n",
              "  ('ПК', 'O'),\n",
              "  ('.', 'O'),\n",
              "  ('/', 'O'),\n",
              "  ('\\n', 'O'),\n",
              "  ('В', 'O'),\n",
              "  ('отличном', 'O'),\n",
              "  ('состоянии', 'O'),\n",
              "  ('.', 'O'),\n",
              "  ('/', 'O'),\n",
              "  ('\\n', 'O'),\n",
              "  ('/', 'O'),\n",
              "  ('\\n', 'O'),\n",
              "  ('Могу', 'O'),\n",
              "  ('почтой', 'O'),\n",
              "  ('отправить', 'O'),\n",
              "  ('.', 'O')],\n",
              " [('PS3', 'B-PRS'),\n",
              "  ('серая', 'O'),\n",
              "  (',', 'O'),\n",
              "  ('2', 'O'),\n",
              "  ('джойстика', 'O'),\n",
              "  (',', 'O'),\n",
              "  ('зарядка', 'O'),\n",
              "  ('на', 'O'),\n",
              "  ('джойстик', 'O'),\n",
              "  (',', 'O'),\n",
              "  ('тюльпаны', 'O'),\n",
              "  ('к', 'O'),\n",
              "  ('телевизору', 'O'),\n",
              "  ('и', 'O'),\n",
              "  ('вилка', 'O'),\n",
              "  ('.', 'O'),\n",
              "  ('/', 'O'),\n",
              "  ('\\n', 'O'),\n",
              "  ('Консоль', 'O'),\n",
              "  ('на', 'O'),\n",
              "  ('5', 'O'),\n",
              "  (',', 'O'),\n",
              "  ('никогда', 'O'),\n",
              "  ('не', 'O'),\n",
              "  ('глючил', 'O'),\n",
              "  (',', 'O'),\n",
              "  ('не', 'O'),\n",
              "  ('зависал', 'O'),\n",
              "  (',', 'O'),\n",
              "  ('отлично', 'O'),\n",
              "  ('работает', 'O'),\n",
              "  ('.', 'O'),\n",
              "  ('/', 'O'),\n",
              "  ('\\n', 'O'),\n",
              "  ('+', 'O'),\n",
              "  ('в', 'O'),\n",
              "  ('подарок', 'O'),\n",
              "  ('6', 'O'),\n",
              "  ('игры', 'O'),\n",
              "  ('.', 'O')],\n",
              " [('PS4', 'B-PRS'),\n",
              "  ('500gb', 'O'),\n",
              "  ('белый', 'O'),\n",
              "  ('ледник', 'O'),\n",
              "  (',', 'O'),\n",
              "  ('новая', 'O'),\n",
              "  (',', 'O'),\n",
              "  ('ни', 'O'),\n",
              "  ('разу', 'O'),\n",
              "  ('не', 'O'),\n",
              "  ('включалась', 'O'),\n",
              "  ('и', 'O'),\n",
              "  ('не', 'O'),\n",
              "  ('доставалась', 'O'),\n",
              "  ('из', 'O'),\n",
              "  ('коробки', 'O'),\n",
              "  (',', 'O'),\n",
              "  ('2джойстика', 'O'),\n",
              "  ('+', 'O'),\n",
              "  ('фифа17', 'O'),\n",
              "  (',', 'O'),\n",
              "  ('торг', 'O')],\n",
              " [('Playstation', 'B-PRS'),\n",
              "  ('4', 'I-PRS'),\n",
              "  ('slim', 'O'),\n",
              "  ('новая', 'O'),\n",
              "  ('.', 'O'),\n",
              "  ('PS4', 'B-PRS'),\n",
              "  ('500gb', 'O'),\n",
              "  ('/', 'O'),\n",
              "  ('\\n', 'O'),\n",
              "  ('/', 'O'),\n",
              "  ('\\n', 'O'),\n",
              "  ('Данная', 'O'),\n",
              "  ('консоль', 'O'),\n",
              "  ('на', 'O'),\n",
              "  ('500гб', 'O'),\n",
              "  ('.', 'O'),\n",
              "  ('/', 'O'),\n",
              "  ('\\n', 'O'),\n",
              "  ('Модель', 'O'),\n",
              "  (':', 'O'),\n",
              "  ('CUH', 'O'),\n",
              "  ('-', 'O'),\n",
              "  ('2015A', 'O'),\n",
              "  ('/', 'O'),\n",
              "  ('\\n', 'O'),\n",
              "  ('Абсолютно', 'O'),\n",
              "  ('новые', 'O'),\n",
              "  ('PS4', 'B-PRS'),\n",
              "  (',', 'O'),\n",
              "  ('привезены', 'O'),\n",
              "  ('из', 'O'),\n",
              "  ('Америки', 'O'),\n",
              "  ('.', 'O'),\n",
              "  ('/', 'O'),\n",
              "  ('\\n', 'O'),\n",
              "  ('Проверены', 'O'),\n",
              "  ('-', 'O'),\n",
              "  ('работают', 'O'),\n",
              "  ('отлично', 'O'),\n",
              "  ('.', 'O'),\n",
              "  ('/', 'O'),\n",
              "  ('\\n', 'O'),\n",
              "  ('/', 'O'),\n",
              "  ('\\n', 'O'),\n",
              "  ('Приставка', 'O'),\n",
              "  ('замечательно', 'O'),\n",
              "  ('работает', 'O'),\n",
              "  ('в', 'O'),\n",
              "  ('России', 'O'),\n",
              "  (',', 'O'),\n",
              "  ('и', 'O'),\n",
              "  ('воспроизводит', 'O'),\n",
              "  ('все', 'O'),\n",
              "  ('игры', 'O'),\n",
              "  ('и', 'O'),\n",
              "  ('русские', 'O'),\n",
              "  ('Blu', 'O'),\n",
              "  ('-', 'O'),\n",
              "  ('ray', 'O'),\n",
              "  ('диски', 'O'),\n",
              "  ('.', 'O'),\n",
              "  ('/', 'O'),\n",
              "  ('\\n', 'O'),\n",
              "  ('/', 'O'),\n",
              "  ('\\n', 'O'),\n",
              "  ('В', 'O'),\n",
              "  ('наличии', 'O'),\n",
              "  ('2е', 'O'),\n",
              "  ('штуки', 'O'),\n",
              "  ('.', 'O')],\n",
              " [('Sony', 'B-PRS'),\n",
              "  ('PlayStation', 'I-PRS'),\n",
              "  ('3', 'I-PRS'),\n",
              "  ('SuperSlim', 'I-PRS'),\n",
              "  ('500', 'O'),\n",
              "  ('ГБ', 'O'),\n",
              "  (',', 'O'),\n",
              "  ('состояние', 'O'),\n",
              "  ('–', 'O'),\n",
              "  ('отличное', 'O'),\n",
              "  ('.', 'O'),\n",
              "  ('/', 'O'),\n",
              "  ('\\n', 'O'),\n",
              "  ('В', 'O'),\n",
              "  ('комплекте', 'O'),\n",
              "  (':', 'O'),\n",
              "  ('диск', 'O'),\n",
              "  ('с', 'O'),\n",
              "  ('игрой', 'O'),\n",
              "  ('Rayman', 'B-PRS'),\n",
              "  ('Legends', 'I-PRS'),\n",
              "  ('+', 'O'),\n",
              "  ('Rayman', 'O'),\n",
              "  ('Origins', 'O'),\n",
              "  (',', 'O'),\n",
              "  ('комплект', 'O'),\n",
              "  ('проводов', 'O'),\n",
              "  (',', 'O'),\n",
              "  ('беспроводной', 'O'),\n",
              "  ('контроллер', 'O'),\n",
              "  ('/', 'O'),\n",
              "  ('\\n', 'O'),\n",
              "  ('СРОЧНО', 'O')],\n",
              " [('PS3', 'B-PRS'),\n",
              "  ('с', 'O'),\n",
              "  ('пятью', 'O'),\n",
              "  ('играми', 'O'),\n",
              "  ('в', 'O'),\n",
              "  ('комплекте', 'O'),\n",
              "  ('.', 'O'),\n",
              "  ('Игры', 'O'),\n",
              "  (':', 'O'),\n",
              "  ('UNCHARTED', 'O'),\n",
              "  ('3', 'O'),\n",
              "  ('иллюзии', 'O'),\n",
              "  ('Дрейка', 'O'),\n",
              "  (',', 'O'),\n",
              "  ('THE', 'O'),\n",
              "  ('LAST', 'O'),\n",
              "  ('OF', 'O'),\n",
              "  ('US', 'O'),\n",
              "  (',', 'O'),\n",
              "  ('GRAN', 'O'),\n",
              "  ('TURISMO', 'O'),\n",
              "  ('5', 'O'),\n",
              "  (',', 'O'),\n",
              "  (\"ASSASSIN'S\", 'O'),\n",
              "  ('CREED', 'O'),\n",
              "  ('IV', 'O'),\n",
              "  ('Чёрный', 'O'),\n",
              "  ('Флаг', 'O'),\n",
              "  ('и', 'O'),\n",
              "  (\"ASSASSIN'S\", 'O'),\n",
              "  ('CREED', 'O'),\n",
              "  ('ИЗГОЙ', 'O'),\n",
              "  ('все', 'O'),\n",
              "  ('игры', 'O'),\n",
              "  ('на', 'O'),\n",
              "  ('РУССКОМ', 'O'),\n",
              "  ('ЯЗЫКЕ', 'O'),\n",
              "  ('.', 'O'),\n",
              "  ('Приставку', 'O'),\n",
              "  ('брал', 'O'),\n",
              "  ('в', 'O'),\n",
              "  ('2015', 'O'),\n",
              "  ('году', 'O'),\n",
              "  ('в', 'O'),\n",
              "  ('феврале', 'O'),\n",
              "  ('.', 'O')],\n",
              " [('Xbox', 'B-PRS'),\n",
              "  ('360', 'I-PRS'),\n",
              "  ('250', 'O'),\n",
              "  ('Gb', 'O'),\n",
              "  ('не', 'O'),\n",
              "  ('шитый', 'O'),\n",
              "  ('/', 'O'),\n",
              "  ('\\n', 'O'),\n",
              "  ('В', 'O'),\n",
              "  ('комплекте', 'O'),\n",
              "  ('коробка', 'O'),\n",
              "  (',', 'O'),\n",
              "  ('приставка', 'O'),\n",
              "  (',', 'O'),\n",
              "  ('кабель', 'O'),\n",
              "  ('питания', 'O'),\n",
              "  (',', 'O'),\n",
              "  ('RCA', 'O'),\n",
              "  ('кабель', 'O'),\n",
              "  (',', 'O'),\n",
              "  ('беспроводной', 'O'),\n",
              "  ('геймпад', 'O'),\n",
              "  (',', 'O'),\n",
              "  ('наушники', 'O'),\n",
              "  ('.', 'O'),\n",
              "  ('/', 'O'),\n",
              "  ('\\n', 'O'),\n",
              "  ('На', 'O'),\n",
              "  ('жестком', 'O'),\n",
              "  ('диске', 'O'),\n",
              "  ('установлен', 'O'),\n",
              "  ('Ведьмак', 'O'),\n",
              "  ('2', 'O'),\n",
              "  ('Убийцы', 'O'),\n",
              "  ('королей', 'O'),\n",
              "  ('.', 'O'),\n",
              "  ('Также', 'O'),\n",
              "  ('на', 'O'),\n",
              "  ('дисках', 'O'),\n",
              "  ('есть', 'O'),\n",
              "  ('GTA', 'B-PRS'),\n",
              "  ('V', 'I-PRS'),\n",
              "  ('и', 'O'),\n",
              "  ('Forza', 'B-PRS'),\n",
              "  ('Motorsport', 'I-PRS'),\n",
              "  ('4', 'I-PRS'),\n",
              "  ('.', 'O')],\n",
              " [('Playstation', 'B-PRS'), ('3', 'I-PRS')],\n",
              " [('Sony', 'B-PRS'),\n",
              "  ('Custom', 'I-PRS'),\n",
              "  ('Faceplate', 'O'),\n",
              "  (',', 'O'),\n",
              "  ('специальная', 'O'),\n",
              "  ('лицевая', 'O'),\n",
              "  ('панель', 'O'),\n",
              "  ('для', 'O'),\n",
              "  ('игровой', 'O'),\n",
              "  ('консоли', 'O'),\n",
              "  ('нового', 'O'),\n",
              "  ('поколения', 'O'),\n",
              "  ('Sony', 'B-PRS'),\n",
              "  ('Playstation', 'I-PRS'),\n",
              "  ('4', 'I-PRS'),\n",
              "  ('.', 'O'),\n",
              "  ('Измените', 'O'),\n",
              "  ('облик', 'O'),\n",
              "  ('вашей', 'O'),\n",
              "  ('PS4', 'B-PRS'),\n",
              "  ('при', 'O'),\n",
              "  ('помощи', 'O'),\n",
              "  ('этой', 'O'),\n",
              "  ('пользовательской', 'O'),\n",
              "  ('лицевой', 'O'),\n",
              "  ('панели', 'O'),\n",
              "  ('.', 'O'),\n",
              "  ('(', 'O'),\n",
              "  ('Новая', 'O'),\n",
              "  ('в', 'O'),\n",
              "  ('оригинальной', 'O'),\n",
              "  ('упаковке', 'O'),\n",
              "  (')', 'O')],\n",
              " [('Final', 'B-PRS'),\n",
              "  ('Fantasy', 'I-PRS'),\n",
              "  ('XIII', 'I-PRS'),\n",
              "  ('-', 'O'),\n",
              "  ('2', 'O'),\n",
              "  ('-', 'O'),\n",
              "  ('600р', 'O'),\n",
              "  ('/', 'O'),\n",
              "  ('\\n', 'O'),\n",
              "  ('Street', 'B-PRS'),\n",
              "  ('Fighter', 'I-PRS'),\n",
              "  ('IV', 'I-PRS'),\n",
              "  ('-', 'O'),\n",
              "  ('600р', 'O'),\n",
              "  ('/', 'O'),\n",
              "  ('\\n', 'O'),\n",
              "  ('Need', 'O'),\n",
              "  ('for', 'O'),\n",
              "  ('Speed', 'O'),\n",
              "  (':', 'O'),\n",
              "  ('Rivals', 'O'),\n",
              "  ('-', 'O'),\n",
              "  ('700р', 'O'),\n",
              "  ('/', 'O'),\n",
              "  ('\\n', 'O'),\n",
              "  ('Возможна', 'O'),\n",
              "  ('покупка', 'O'),\n",
              "  ('дисков', 'O'),\n",
              "  ('по', 'O'),\n",
              "  ('отдельности', 'O'),\n",
              "  ('.', 'O'),\n",
              "  ('/', 'O'),\n",
              "  ('\\n', 'O'),\n",
              "  ('Все', 'O'),\n",
              "  ('диски', 'O'),\n",
              "  ('в', 'O'),\n",
              "  ('идеальном', 'O'),\n",
              "  ('состоянии', 'O'),\n",
              "  (',', 'O'),\n",
              "  ('лицензия', 'O'),\n",
              "  ('.', 'O')],\n",
              " [('Nintendo', 'B-PRS'),\n",
              "  ('2ds', 'I-PRS'),\n",
              "  (',', 'O'),\n",
              "  ('CFW', 'O'),\n",
              "  ('(', 'O'),\n",
              "  ('кастомная', 'O'),\n",
              "  ('прошивка', 'O'),\n",
              "  (')', 'O'),\n",
              "  ('установлена', 'O'),\n",
              "  ('во', 'O'),\n",
              "  ('внутреннюю', 'O'),\n",
              "  ('память', 'O'),\n",
              "  (',', 'O'),\n",
              "  ('100', 'O'),\n",
              "  ('%', 'O'),\n",
              "  ('быстрая', 'O'),\n",
              "  ('загрузка', 'O'),\n",
              "  (',', 'O'),\n",
              "  ('никаких', 'O'),\n",
              "  ('эмунандов', 'O'),\n",
              "  ('.', 'O'),\n",
              "  ('Можно', 'O'),\n",
              "  ('играть', 'O'),\n",
              "  ('в', 'O'),\n",
              "  ('онлайн', 'O'),\n",
              "  ('и', 'O'),\n",
              "  ('устанавливать', 'O'),\n",
              "  ('обновления', 'O'),\n",
              "  ('без', 'O'),\n",
              "  ('риска', 'O'),\n",
              "  (',', 'O'),\n",
              "  ('что', 'O'),\n",
              "  ('прошивка', 'O'),\n",
              "  ('пропадет', 'O'),\n",
              "  ('или', 'O'),\n",
              "  ('что', 'O'),\n",
              "  ('-', 'O'),\n",
              "  ('то', 'O'),\n",
              "  ('сломается', 'O'),\n",
              "  ('.', 'O'),\n",
              "  ('Установлена', 'O'),\n",
              "  ('карта', 'O'),\n",
              "  ('памяти', 'O'),\n",
              "  ('на', 'O'),\n",
              "  ('16гб', 'O'),\n",
              "  (',', 'O'),\n",
              "  ('и', 'O'),\n",
              "  ('несколько', 'O'),\n",
              "  ('игр', 'O'),\n",
              "  (',', 'O'),\n",
              "  ('включая', 'O'),\n",
              "  ('последних', 'O'),\n",
              "  ('покемонов', 'O'),\n",
              "  (',', 'O'),\n",
              "  ('онлайн', 'O'),\n",
              "  ('работает', 'O'),\n",
              "  ('.', 'O'),\n",
              "  ('В', 'O'),\n",
              "  ('комплекте', 'O'),\n",
              "  ('зарядка', 'O'),\n",
              "  (',', 'O'),\n",
              "  ('коробка', 'O'),\n",
              "  (',', 'O'),\n",
              "  ('документация', 'O'),\n",
              "  ('.', 'O'),\n",
              "  ('/', 'O'),\n",
              "  ('\\n', 'O'),\n",
              "  ('Продаю', 'O'),\n",
              "  ('по', 'O'),\n",
              "  ('причине', 'O'),\n",
              "  (',', 'O'),\n",
              "  ('что', 'O'),\n",
              "  ('есть', 'O'),\n",
              "  ('вторая', 'O'),\n",
              "  ('приставка', 'O'),\n",
              "  ('.', 'O'),\n",
              "  ('Одна', 'O'),\n",
              "  ('лежит', 'O'),\n",
              "  ('без', 'O'),\n",
              "  ('дела', 'O'),\n",
              "  ('.', 'O')],\n",
              " [('PS3', 'B-PRS'),\n",
              "  ('фифа', 'O'),\n",
              "  ('17', 'O'),\n",
              "  (',', 'O'),\n",
              "  ('16', 'O'),\n",
              "  ('и', 'O'),\n",
              "  ('другие', 'O'),\n",
              "  ('игры', 'O'),\n",
              "  ('.', 'O'),\n",
              "  ('Приставка', 'O'),\n",
              "  ('в', 'O'),\n",
              "  ('хорошем', 'O'),\n",
              "  ('состоянии', 'O'),\n",
              "  ('.', 'O'),\n",
              "  ('Возможен', 'O'),\n",
              "  ('торг', 'O'),\n",
              "  ('.', 'O'),\n",
              "  ('В', 'O'),\n",
              "  ('комплект', 'O'),\n",
              "  ('входит', 'O'),\n",
              "  ('2', 'O'),\n",
              "  ('джойстика', 'O'),\n",
              "  (',', 'O'),\n",
              "  ('фифа17', 'O'),\n",
              "  (',', 'O'),\n",
              "  ('16', 'O'),\n",
              "  ('gran', 'O'),\n",
              "  ('turismo', 'O'),\n",
              "  ('5', 'O'),\n",
              "  ('(', 'O'),\n",
              "  ('гонки', 'O'),\n",
              "  (')', 'O'),\n",
              "  ('и', 'O'),\n",
              "  ('праздник', 'O'),\n",
              "  ('спорта', 'O'),\n",
              "  ('2', 'O'),\n",
              "  ('.', 'O'),\n",
              "  ('Камера', 'O'),\n",
              "  ('для', 'O'),\n",
              "  ('праздника', 'O'),\n",
              "  ('спорта', 'O'),\n",
              "  ('и', 'O'),\n",
              "  ('2', 'O'),\n",
              "  ('джойстика', 'O'),\n",
              "  ('для', 'O'),\n",
              "  ('праздника', 'O'),\n",
              "  ('спорта', 'O'),\n",
              "  ('.', 'O'),\n",
              "  ('Причина', 'O'),\n",
              "  ('продажи', 'O'),\n",
              "  (':', 'O'),\n",
              "  ('появилась', 'O'),\n",
              "  ('другая', 'O'),\n",
              "  ('приставка', 'O'),\n",
              "  ('ps4', 'O'),\n",
              "  ('.', 'O')],\n",
              " [('PS4', 'B-PRS'),\n",
              "  ('500GB', 'O'),\n",
              "  ('rev', 'O'),\n",
              "  ('.', 'O'),\n",
              "  ('1108', 'O'),\n",
              "  (',', 'O'),\n",
              "  ('GamePad', 'O'),\n",
              "  ('новый', 'O'),\n",
              "  (',', 'O'),\n",
              "  ('PS', 'O'),\n",
              "  ('Camera', 'O'),\n",
              "  (',', 'O'),\n",
              "  ('игры', 'O'),\n",
              "  ('BattleField', 'O'),\n",
              "  ('1', 'O'),\n",
              "  (',', 'O'),\n",
              "  ('Dragon', 'O'),\n",
              "  ('Age', 'O'),\n",
              "  ('Inquisition', 'O'),\n",
              "  (',', 'O'),\n",
              "  ('Evil', 'O'),\n",
              "  ('Within', 'O'),\n",
              "  ('на', 'O'),\n",
              "  ('профиле', 'O'),\n",
              "  ('бонусом', 'O')],\n",
              " [('Sony', 'B-PRS'),\n",
              "  ('Play', 'I-PRS'),\n",
              "  ('Station', 'I-PRS'),\n",
              "  ('3', 'I-PRS'),\n",
              "  ('Super', 'I-PRS'),\n",
              "  ('Slim', 'I-PRS'),\n",
              "  ('250gb', 'O'),\n",
              "  ('/', 'O'),\n",
              "  ('\\n', 'O'),\n",
              "  ('В', 'O'),\n",
              "  ('комплекте', 'O'),\n",
              "  ('1', 'O'),\n",
              "  ('Беспроводной', 'O'),\n",
              "  ('джойстик', 'O'),\n",
              "  ('/', 'O'),\n",
              "  ('\\n', 'O'),\n",
              "  ('2', 'O'),\n",
              "  ('Диска', 'O'),\n",
              "  (':', 'O'),\n",
              "  ('Red', 'O'),\n",
              "  ('Dead', 'O'),\n",
              "  ('Detemption', 'O'),\n",
              "  ('и', 'O'),\n",
              "  ('Watch', 'O'),\n",
              "  ('Dogs', 'O')],\n",
              " [('Playstation', 'B-PRS'),\n",
              "  ('3', 'I-PRS'),\n",
              "  ('на', 'O'),\n",
              "  ('300', 'O'),\n",
              "  ('gb', 'O'),\n",
              "  ('памяти', 'O'),\n",
              "  ('не', 'O'),\n",
              "  ('чипованная', 'O'),\n",
              "  (',', 'O'),\n",
              "  ('рабочая', 'O'),\n",
              "  ('.', 'O'),\n",
              "  ('4', 'O'),\n",
              "  ('игры', 'O'),\n",
              "  (':', 'O'),\n",
              "  ('crysis', 'O'),\n",
              "  ('2', 'O'),\n",
              "  (';', 'O'),\n",
              "  ('gta', 'O'),\n",
              "  ('4', 'O'),\n",
              "  (';', 'O'),\n",
              "  ('gta', 'O'),\n",
              "  ('5', 'O'),\n",
              "  (';', 'O'),\n",
              "  ('farcry', 'O'),\n",
              "  ('3', 'O'),\n",
              "  ('.', 'O')],\n",
              " [('Xbox', 'B-PRS'),\n",
              "  ('360', 'I-PRS'),\n",
              "  ('slim', 'O'),\n",
              "  ('250gb', 'O'),\n",
              "  ('.', 'O'),\n",
              "  ('Состояние', 'O'),\n",
              "  ('хорошее', 'O'),\n",
              "  (',', 'O'),\n",
              "  ('прошитая', 'O'),\n",
              "  ('lt', 'O'),\n",
              "  ('3', 'O'),\n",
              "  ('.', 'O'),\n",
              "  ('0', 'O'),\n",
              "  (',', 'O'),\n",
              "  ('xbox', 'O'),\n",
              "  ('live', 'O'),\n",
              "  ('не', 'O'),\n",
              "  ('забанен', 'O'),\n",
              "  (',', 'O'),\n",
              "  ('игры', 'O'),\n",
              "  ('в', 'O'),\n",
              "  ('комплекте', 'O'),\n",
              "  ('.', 'O')]]"
            ]
          },
          "metadata": {
            "tags": []
          },
          "execution_count": 13
        }
      ]
    },
    {
      "cell_type": "markdown",
      "metadata": {
        "id": "dSnKIrC9Szc0"
      },
      "source": [
        "Приставки конечно размечаются, но ещё и другие слова на английском начали захватываться. Можно попробовать добавить в данные примеры с ними, или сделать даже ещё пару типов сущностей, чтобы модель научилась их разделять."
      ]
    },
    {
      "cell_type": "markdown",
      "metadata": {
        "id": "EFVZxoawSzc0"
      },
      "source": [
        "В этой же моделе есть несколько стандартных сущностей."
      ]
    },
    {
      "cell_type": "markdown",
      "metadata": {
        "id": "vHLkr5KMxg8Z"
      },
      "source": [
        "!!! Если колаб крашиться из-за памяти, то после перезапуска не запускайте ячейку с train_model и build_model по очереди. Либо запустите только train_model, либо пропустите ее и переходите к build_model"
      ]
    },
    {
      "cell_type": "code",
      "metadata": {
        "id": "QFYNsz-cSzc0",
        "outputId": "b101efb7-ee31-4849-d405-4033a57f1402",
        "colab": {
          "base_uri": "https://localhost:8080/"
        }
      },
      "source": [
        "ner_model = build_model(configs.ner.ner_ontonotes_bert_mult, download=True)"
      ],
      "execution_count": 6,
      "outputs": [
        {
          "output_type": "stream",
          "text": [
            "2021-03-11 09:42:02.924 INFO in 'deeppavlov.core.data.utils'['utils'] at line 94: Downloading from http://files.deeppavlov.ai/deeppavlov_data/bert/multi_cased_L-12_H-768_A-12.zip to /root/.deeppavlov/downloads/multi_cased_L-12_H-768_A-12.zip\n",
            "100%|██████████| 663M/663M [03:21<00:00, 3.28MB/s]\n",
            "2021-03-11 09:45:25.808 INFO in 'deeppavlov.core.data.utils'['utils'] at line 268: Extracting /root/.deeppavlov/downloads/multi_cased_L-12_H-768_A-12.zip archive into /root/.deeppavlov/downloads/bert_models\n",
            "2021-03-11 09:45:34.96 INFO in 'deeppavlov.core.data.utils'['utils'] at line 94: Downloading from http://files.deeppavlov.ai/deeppavlov_data/ner_ontonotes_bert_mult_v1.tar.gz to /root/.deeppavlov/ner_ontonotes_bert_mult_v1.tar.gz\n",
            "100%|██████████| 1.32G/1.32G [05:11<00:00, 4.24MB/s]\n",
            "2021-03-11 09:50:46.121 INFO in 'deeppavlov.core.data.utils'['utils'] at line 268: Extracting /root/.deeppavlov/ner_ontonotes_bert_mult_v1.tar.gz archive into /root/.deeppavlov/models\n",
            "[nltk_data] Downloading package punkt to /root/nltk_data...\n",
            "[nltk_data]   Unzipping tokenizers/punkt.zip.\n",
            "[nltk_data] Downloading package stopwords to /root/nltk_data...\n",
            "[nltk_data]   Unzipping corpora/stopwords.zip.\n",
            "[nltk_data] Downloading package perluniprops to /root/nltk_data...\n",
            "[nltk_data]   Unzipping misc/perluniprops.zip.\n",
            "[nltk_data] Downloading package nonbreaking_prefixes to\n",
            "[nltk_data]     /root/nltk_data...\n",
            "[nltk_data]   Unzipping corpora/nonbreaking_prefixes.zip.\n"
          ],
          "name": "stderr"
        },
        {
          "output_type": "stream",
          "text": [
            "WARNING:tensorflow:From /usr/local/lib/python3.7/dist-packages/bert_dp/tokenization.py:125: The name tf.gfile.GFile is deprecated. Please use tf.io.gfile.GFile instead.\n",
            "\n"
          ],
          "name": "stdout"
        },
        {
          "output_type": "stream",
          "text": [
            "2021-03-11 09:51:07.723 INFO in 'deeppavlov.core.data.simple_vocab'['simple_vocab'] at line 115: [loading vocabulary from /root/.deeppavlov/models/ner_ontonotes_bert_mult/tag.dict]\n"
          ],
          "name": "stderr"
        },
        {
          "output_type": "stream",
          "text": [
            "WARNING:tensorflow:From /usr/local/lib/python3.7/dist-packages/deeppavlov/core/models/tf_model.py:37: The name tf.Session is deprecated. Please use tf.compat.v1.Session instead.\n",
            "\n",
            "WARNING:tensorflow:From /usr/local/lib/python3.7/dist-packages/deeppavlov/core/models/tf_model.py:222: The name tf.placeholder is deprecated. Please use tf.compat.v1.placeholder instead.\n",
            "\n",
            "WARNING:tensorflow:From /usr/local/lib/python3.7/dist-packages/deeppavlov/core/models/tf_model.py:222: The name tf.train.Optimizer is deprecated. Please use tf.compat.v1.train.Optimizer instead.\n",
            "\n",
            "WARNING:tensorflow:From /usr/local/lib/python3.7/dist-packages/deeppavlov/core/models/tf_model.py:193: The name tf.train.AdamOptimizer is deprecated. Please use tf.compat.v1.train.AdamOptimizer instead.\n",
            "\n",
            "WARNING:tensorflow:From /usr/local/lib/python3.7/dist-packages/deeppavlov/models/bert/bert_sequence_tagger.py:236: The name tf.ConfigProto is deprecated. Please use tf.compat.v1.ConfigProto instead.\n",
            "\n",
            "WARNING:tensorflow:From /usr/local/lib/python3.7/dist-packages/deeppavlov/models/bert/bert_sequence_tagger.py:314: The name tf.placeholder_with_default is deprecated. Please use tf.compat.v1.placeholder_with_default instead.\n",
            "\n",
            "WARNING:tensorflow:From /usr/local/lib/python3.7/dist-packages/bert_dp/modeling.py:178: The name tf.variable_scope is deprecated. Please use tf.compat.v1.variable_scope instead.\n",
            "\n",
            "WARNING:tensorflow:From /usr/local/lib/python3.7/dist-packages/bert_dp/modeling.py:418: The name tf.get_variable is deprecated. Please use tf.compat.v1.get_variable instead.\n",
            "\n",
            "WARNING:tensorflow:From /usr/local/lib/python3.7/dist-packages/bert_dp/modeling.py:499: The name tf.assert_less_equal is deprecated. Please use tf.compat.v1.assert_less_equal instead.\n",
            "\n",
            "WARNING:tensorflow:\n",
            "The TensorFlow contrib module will not be included in TensorFlow 2.0.\n",
            "For more information, please see:\n",
            "  * https://github.com/tensorflow/community/blob/master/rfcs/20180907-contrib-sunset.md\n",
            "  * https://github.com/tensorflow/addons\n",
            "  * https://github.com/tensorflow/io (for I/O related ops)\n",
            "If you depend on functionality not listed there, please file an issue.\n",
            "\n",
            "WARNING:tensorflow:From /usr/local/lib/python3.7/dist-packages/bert_dp/modeling.py:366: calling dropout (from tensorflow.python.ops.nn_ops) with keep_prob is deprecated and will be removed in a future version.\n",
            "Instructions for updating:\n",
            "Please use `rate` instead of `keep_prob`. Rate should be set to `rate = 1 - keep_prob`.\n",
            "WARNING:tensorflow:From /usr/local/lib/python3.7/dist-packages/bert_dp/modeling.py:680: dense (from tensorflow.python.layers.core) is deprecated and will be removed in a future version.\n",
            "Instructions for updating:\n",
            "Use keras.layers.Dense instead.\n",
            "WARNING:tensorflow:From /usr/local/lib/python3.7/dist-packages/tensorflow_core/python/layers/core.py:187: Layer.apply (from tensorflow.python.keras.engine.base_layer) is deprecated and will be removed in a future version.\n",
            "Instructions for updating:\n",
            "Please use `layer.__call__` method instead.\n",
            "WARNING:tensorflow:From /usr/local/lib/python3.7/dist-packages/bert_dp/modeling.py:283: The name tf.erf is deprecated. Please use tf.math.erf instead.\n",
            "\n",
            "WARNING:tensorflow:Variable *= will be deprecated. Use `var.assign(var * other)` if you want assignment to the variable value or `x = x * y` if you want a new python Tensor object.\n",
            "WARNING:tensorflow:From /usr/local/lib/python3.7/dist-packages/deeppavlov/models/bert/bert_sequence_tagger.py:75: where (from tensorflow.python.ops.array_ops) is deprecated and will be removed in a future version.\n",
            "Instructions for updating:\n",
            "Use tf.where in 2.0, which has the same broadcast rule as np.where\n",
            "WARNING:tensorflow:From /usr/local/lib/python3.7/dist-packages/tensorflow_core/contrib/crf/python/ops/crf.py:213: dynamic_rnn (from tensorflow.python.ops.rnn) is deprecated and will be removed in a future version.\n",
            "Instructions for updating:\n",
            "Please use `keras.layers.RNN(cell)`, which is equivalent to this API\n",
            "WARNING:tensorflow:From /usr/local/lib/python3.7/dist-packages/deeppavlov/core/models/tf_model.py:234: The name tf.train.AdadeltaOptimizer is deprecated. Please use tf.compat.v1.train.AdadeltaOptimizer instead.\n",
            "\n",
            "WARNING:tensorflow:From /usr/local/lib/python3.7/dist-packages/deeppavlov/core/models/tf_model.py:131: The name tf.get_collection is deprecated. Please use tf.compat.v1.get_collection instead.\n",
            "\n",
            "WARNING:tensorflow:From /usr/local/lib/python3.7/dist-packages/deeppavlov/core/models/tf_model.py:131: The name tf.GraphKeys is deprecated. Please use tf.compat.v1.GraphKeys instead.\n",
            "\n",
            "WARNING:tensorflow:From /usr/local/lib/python3.7/dist-packages/deeppavlov/core/models/tf_model.py:94: The name tf.global_variables is deprecated. Please use tf.compat.v1.global_variables instead.\n",
            "\n",
            "WARNING:tensorflow:From /usr/local/lib/python3.7/dist-packages/tensorflow_core/python/training/moving_averages.py:433: Variable.initialized_value (from tensorflow.python.ops.variables) is deprecated and will be removed in a future version.\n",
            "Instructions for updating:\n",
            "Use Variable.read_value. Variables in 2.X are initialized automatically both in eager and graph (inside tf.defun) contexts.\n",
            "WARNING:tensorflow:From /usr/local/lib/python3.7/dist-packages/deeppavlov/models/bert/bert_sequence_tagger.py:671: The name tf.assign is deprecated. Please use tf.compat.v1.assign instead.\n",
            "\n",
            "WARNING:tensorflow:From /usr/local/lib/python3.7/dist-packages/deeppavlov/models/bert/bert_sequence_tagger.py:244: The name tf.global_variables_initializer is deprecated. Please use tf.compat.v1.global_variables_initializer instead.\n",
            "\n",
            "WARNING:tensorflow:From /usr/local/lib/python3.7/dist-packages/deeppavlov/models/bert/bert_sequence_tagger.py:249: checkpoint_exists (from tensorflow.python.training.checkpoint_management) is deprecated and will be removed in a future version.\n",
            "Instructions for updating:\n",
            "Use standard file APIs to check for files with this prefix.\n"
          ],
          "name": "stdout"
        },
        {
          "output_type": "stream",
          "text": [
            "2021-03-11 09:51:41.867 INFO in 'deeppavlov.core.models.tf_model'['tf_model'] at line 51: [loading model from /root/.deeppavlov/models/ner_ontonotes_bert_mult/model]\n"
          ],
          "name": "stderr"
        },
        {
          "output_type": "stream",
          "text": [
            "WARNING:tensorflow:From /usr/local/lib/python3.7/dist-packages/deeppavlov/core/models/tf_model.py:54: The name tf.train.Saver is deprecated. Please use tf.compat.v1.train.Saver instead.\n",
            "\n",
            "INFO:tensorflow:Restoring parameters from /root/.deeppavlov/models/ner_ontonotes_bert_mult/model\n"
          ],
          "name": "stdout"
        }
      ]
    },
    {
      "cell_type": "code",
      "metadata": {
        "id": "sevGFcAfSzc0",
        "outputId": "5b524b54-941c-4344-9061-13ac565ba036",
        "colab": {
          "base_uri": "https://localhost:8080/"
        }
      },
      "source": [
        "ner_model(['Передай привет Михаилу Нефедову'])"
      ],
      "execution_count": 7,
      "outputs": [
        {
          "output_type": "execute_result",
          "data": {
            "text/plain": [
              "[[['Передай', 'привет', 'Михаилу', 'Нефедову']],\n",
              " [['O', 'O', 'B-PERSON', 'I-PERSON']]]"
            ]
          },
          "metadata": {
            "tags": []
          },
          "execution_count": 7
        }
      ]
    },
    {
      "cell_type": "code",
      "metadata": {
        "id": "Y7a9PXTbSzc1",
        "outputId": "ad834619-28ca-42ad-bfe3-eef85538cae6",
        "colab": {
          "base_uri": "https://localhost:8080/"
        }
      },
      "source": [
        "ner_model(['Поезжай в Москву'])"
      ],
      "execution_count": 8,
      "outputs": [
        {
          "output_type": "execute_result",
          "data": {
            "text/plain": [
              "[[['Поезжай', 'в', 'Москву']], [['O', 'O', 'B-GPE']]]"
            ]
          },
          "metadata": {
            "tags": []
          },
          "execution_count": 8
        }
      ]
    },
    {
      "cell_type": "code",
      "metadata": {
        "id": "ap0G1DB_Szc1",
        "outputId": "a5200975-b90a-4694-c347-99e827ee76b1",
        "colab": {
          "base_uri": "https://localhost:8080/"
        }
      },
      "source": [
        "ner_model(['Поезжай в Альпы'])"
      ],
      "execution_count": 9,
      "outputs": [
        {
          "output_type": "execute_result",
          "data": {
            "text/plain": [
              "[[['Поезжай', 'в', 'Альпы']], [['O', 'O', 'B-LOC']]]"
            ]
          },
          "metadata": {
            "tags": []
          },
          "execution_count": 9
        }
      ]
    },
    {
      "cell_type": "code",
      "metadata": {
        "id": "vRuAzbdESzc1",
        "outputId": "af423f4c-3a19-49e1-8537-d2212f7871d7",
        "colab": {
          "base_uri": "https://localhost:8080/"
        }
      },
      "source": [
        "ner_model(['Я говорю на русском и английском языках'])"
      ],
      "execution_count": 10,
      "outputs": [
        {
          "output_type": "execute_result",
          "data": {
            "text/plain": [
              "[[['Я', 'говорю', 'на', 'русском', 'и', 'английском', 'языках']],\n",
              " [['O', 'O', 'O', 'B-LANGUAGE', 'O', 'B-LANGUAGE', 'O']]]"
            ]
          },
          "metadata": {
            "tags": []
          },
          "execution_count": 10
        }
      ]
    },
    {
      "cell_type": "code",
      "metadata": {
        "id": "GWwM4IZXSzc1",
        "outputId": "4f9acac3-32f7-4a21-f3a6-ccb5804a6dd5",
        "colab": {
          "base_uri": "https://localhost:8080/"
        }
      },
      "source": [
        "ner_model(['Бутылка воды стоит 50 рублей'])"
      ],
      "execution_count": 11,
      "outputs": [
        {
          "output_type": "execute_result",
          "data": {
            "text/plain": [
              "[[['Бутылка', 'воды', 'стоит', '50', 'рублей']],\n",
              " [['O', 'O', 'O', 'B-MONEY', 'I-MONEY']]]"
            ]
          },
          "metadata": {
            "tags": []
          },
          "execution_count": 11
        }
      ]
    },
    {
      "cell_type": "markdown",
      "metadata": {
        "id": "WTwHbyz7Szc1"
      },
      "source": [
        "Но он конечно не идеальный."
      ]
    },
    {
      "cell_type": "code",
      "metadata": {
        "id": "msWwrHe8Szc1",
        "outputId": "42fe8d33-83fa-4002-fc27-6b766288ff21",
        "colab": {
          "base_uri": "https://localhost:8080/"
        }
      },
      "source": [
        "ner_model(['ле Биг мак'])"
      ],
      "execution_count": 12,
      "outputs": [
        {
          "output_type": "execute_result",
          "data": {
            "text/plain": [
              "[[['ле', 'Биг', 'мак']], [['B-PERSON', 'I-PERSON', 'I-PERSON']]]"
            ]
          },
          "metadata": {
            "tags": []
          },
          "execution_count": 12
        }
      ]
    },
    {
      "cell_type": "code",
      "metadata": {
        "id": "siQ96XDydHPj"
      },
      "source": [
        ""
      ],
      "execution_count": null,
      "outputs": []
    }
  ]
}