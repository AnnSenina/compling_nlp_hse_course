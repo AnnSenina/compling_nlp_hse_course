{
 "cells": [
  {
   "cell_type": "markdown",
   "id": "e0850987",
   "metadata": {},
   "source": [
    "## Задание 1\n",
    "\n",
    "Лемматизируйте вот этот текст майстемом и пайморфи. В форму запишите слова, лемматизация которых отличается. "
   ]
  },
  {
   "cell_type": "code",
   "execution_count": 23,
   "id": "9a753320",
   "metadata": {},
   "outputs": [],
   "source": [
    "import pymorphy2\n",
    "from pymystem3 import Mystem"
   ]
  },
  {
   "cell_type": "code",
   "execution_count": 43,
   "id": "b7ef15a0",
   "metadata": {},
   "outputs": [],
   "source": [
    "text = \"Зонды будут запущены в космос в 2029 году и отправятся ко второй точке Лагранжа в системе Солнце\""
   ]
  },
  {
   "cell_type": "code",
   "execution_count": 44,
   "id": "31020d7e",
   "metadata": {},
   "outputs": [],
   "source": [
    "## ваш код\n",
    "...\n"
   ]
  },
  {
   "cell_type": "code",
   "execution_count": null,
   "id": "bc977721",
   "metadata": {},
   "outputs": [],
   "source": []
  },
  {
   "cell_type": "markdown",
   "id": "9c3c1753",
   "metadata": {},
   "source": [
    "## Задание 2"
   ]
  },
  {
   "cell_type": "markdown",
   "id": "0dd62383",
   "metadata": {},
   "source": [
    "На данных предложениях обучите тфидф векторайзер из sklearn (с дефолтными параметрами). Найдите слово с минимальным значением idf и слово с максимальным значением idfю. Вставьте их в форму."
   ]
  },
  {
   "cell_type": "code",
   "execution_count": 54,
   "id": "0b04a4ec",
   "metadata": {},
   "outputs": [],
   "source": [
    "import requests\n",
    "r = requests.get(\n",
    "    'https://raw.githubusercontent.com/mannefedov/compling_nlp_hse_course/master/data/anna_karenina.txt'\n",
    ")\n",
    "sentences = r.text.split('\\n')"
   ]
  },
  {
   "cell_type": "code",
   "execution_count": null,
   "id": "8a46468f",
   "metadata": {},
   "outputs": [],
   "source": [
    "# ваш код\n",
    "..."
   ]
  },
  {
   "cell_type": "code",
   "execution_count": null,
   "id": "cfaba908",
   "metadata": {},
   "outputs": [],
   "source": []
  },
  {
   "cell_type": "code",
   "execution_count": null,
   "id": "80ede476",
   "metadata": {},
   "outputs": [],
   "source": []
  },
  {
   "cell_type": "markdown",
   "id": "33678ef5",
   "metadata": {},
   "source": [
    "## Задание 3"
   ]
  },
  {
   "cell_type": "markdown",
   "id": "aaba7ea1",
   "metadata": {},
   "source": [
    "Токенизируйте текст Анны Карениной с помощью библиотеки раздел, привидите все к нижнему регистру. Обучите Word2Vec модель на токенизированных данных со следующими параметрами: метод - skipgram, размера вектора - 200, размер окна - 10, количество итераций - 15. Найдите ближайшее слово к слову \"война\" и вставьте его в форму."
   ]
  },
  {
   "cell_type": "code",
   "execution_count": 84,
   "id": "9ea01720",
   "metadata": {},
   "outputs": [],
   "source": [
    "import razdel\n",
    "import gensim"
   ]
  },
  {
   "cell_type": "code",
   "execution_count": 129,
   "id": "99960b69",
   "metadata": {},
   "outputs": [],
   "source": [
    "# работайте с этими предложениями\n",
    "sentences = [sent for sent in sentences if len(sent) > 10]"
   ]
  },
  {
   "cell_type": "code",
   "execution_count": 130,
   "id": "e4c0e4e4",
   "metadata": {},
   "outputs": [],
   "source": [
    "# ваш кад\n",
    "..."
   ]
  },
  {
   "cell_type": "code",
   "execution_count": null,
   "id": "348d9aee",
   "metadata": {},
   "outputs": [],
   "source": []
  },
  {
   "cell_type": "markdown",
   "id": "313d96e9",
   "metadata": {},
   "source": [
    "## Задание 4"
   ]
  },
  {
   "cell_type": "markdown",
   "id": "e8e68874",
   "metadata": {},
   "source": [
    "Расчитайте ненормализованное растояние Дамерау-Левенштейна между этими словами (каждое с каждым, и между одинаковыми тоже), заполните массив и скопируйте список расстояний в форму (без скобочек)."
   ]
  },
  {
   "cell_type": "code",
   "execution_count": 7,
   "id": "79cabc98",
   "metadata": {},
   "outputs": [],
   "source": [
    "import numpy as np"
   ]
  },
  {
   "cell_type": "code",
   "execution_count": 6,
   "id": "48142b09",
   "metadata": {},
   "outputs": [],
   "source": [
    "words = [\"подготовка\", \"к\", 'экзамену']"
   ]
  },
  {
   "cell_type": "code",
   "execution_count": 60,
   "id": "bf0875f3",
   "metadata": {},
   "outputs": [],
   "source": [
    "dists = np.zeros((3, 3))\n",
    "\n",
    "# ваш код"
   ]
  },
  {
   "cell_type": "code",
   "execution_count": null,
   "id": "2752e9c8",
   "metadata": {},
   "outputs": [],
   "source": []
  },
  {
   "cell_type": "code",
   "execution_count": 53,
   "id": "4a3d7c80",
   "metadata": {},
   "outputs": [
    {
     "data": {
      "text/plain": [
       "array([[ 0.,  9., 10.],\n",
       "       [ 9.,  0.,  7.],\n",
       "       [10.,  7.,  0.]])"
      ]
     },
     "execution_count": 53,
     "metadata": {},
     "output_type": "execute_result"
    }
   ],
   "source": [
    "# тут должны появится значения \n",
    "dists"
   ]
  },
  {
   "cell_type": "code",
   "execution_count": 54,
   "id": "1f45854f",
   "metadata": {},
   "outputs": [
    {
     "data": {
      "text/plain": [
       "[0, 9, 10, 9, 0, 7, 10, 7, 0]"
      ]
     },
     "execution_count": 54,
     "metadata": {},
     "output_type": "execute_result"
    }
   ],
   "source": [
    "# запустите, скопируйте результат и вставьте в форму\n",
    "dists.flatten().astype(int).tolist()"
   ]
  },
  {
   "cell_type": "code",
   "execution_count": null,
   "id": "32f83ca1",
   "metadata": {},
   "outputs": [],
   "source": []
  },
  {
   "cell_type": "markdown",
   "id": "641f483d",
   "metadata": {},
   "source": [
    "## Задание 5\n",
    "\n",
    "Загрузите токенизатор и модель distilbert-base-uncased из huggingface. Пропустите данный текст через модель и извлеките векторное представление, которое соответствует слову 'smaller'. В форму вставьте первое значение в этом векторе, округленное до 2 знака"
   ]
  },
  {
   "cell_type": "code",
   "execution_count": 18,
   "id": "13930aff",
   "metadata": {},
   "outputs": [],
   "source": [
    "# ваш код"
   ]
  },
  {
   "cell_type": "code",
   "execution_count": 58,
   "id": "981aa4cb",
   "metadata": {
    "scrolled": true
   },
   "outputs": [],
   "source": [
    "vec = ... # ваш код"
   ]
  },
  {
   "cell_type": "code",
   "execution_count": 59,
   "id": "e5bb325d",
   "metadata": {},
   "outputs": [],
   "source": [
    "# запустите и скопируйте результат в форму\n",
    "round(vec[0], 2)"
   ]
  },
  {
   "cell_type": "code",
   "execution_count": null,
   "id": "e7a39f9c",
   "metadata": {},
   "outputs": [],
   "source": []
  }
 ],
 "metadata": {
  "kernelspec": {
   "display_name": "Python 3 (ipykernel)",
   "language": "python",
   "name": "python3"
  },
  "language_info": {
   "codemirror_mode": {
    "name": "ipython",
    "version": 3
   },
   "file_extension": ".py",
   "mimetype": "text/x-python",
   "name": "python",
   "nbconvert_exporter": "python",
   "pygments_lexer": "ipython3",
   "version": "3.8.12"
  }
 },
 "nbformat": 4,
 "nbformat_minor": 5
}
