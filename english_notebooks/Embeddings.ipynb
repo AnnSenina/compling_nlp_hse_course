{
 "cells": [
  {
   "cell_type": "markdown",
   "metadata": {},
   "source": [
    "# Embeddings"
   ]
  },
  {
   "cell_type": "markdown",
   "metadata": {},
   "source": [
    "Watch this video to get the understanding of what word embeddings are - https://www.youtube.com/watch?v=5PL0TmQhItY"
   ]
  },
  {
   "cell_type": "markdown",
   "metadata": {},
   "source": [
    "Word embeddings are dense vector representations of words. The main advantage of word embeddings compared to one-hot representations is that similar words have similar embeddings (one hot vectors are orthogonal and you can't compute similarity between them).\n",
    "\n",
    "Until about 2013 were usually computed using different matrix factorization algorithms. In 2013 Mikolov et. al proposed a much more efficient approach (Word2vec). Word2vec can be trained on much larger datasets which positivly affects the quality of the embeddings. \n",
    "\n",
    "Today Word2Vec and its later introduced improvement Fastext are not state-of-the-art aproaches. Contextual embeddings from ELMO and BERT are better. However, Word2Vec\\Fastext are still widely used because they are much faster and easier to train than the contextual embeddings.\n",
    "\n",
    "In this notebook you will learn how to compute embeddings usig matrix factorizations and Wor2Vec\\FastText. "
   ]
  },
  {
   "cell_type": "code",
   "execution_count": 1,
   "metadata": {},
   "outputs": [
    {
     "name": "stderr",
     "output_type": "stream",
     "text": [
      "/Users/mnefedov/.pyenv/versions/3.6.5/lib/python3.6/site-packages/sklearn/ensemble/weight_boosting.py:29: DeprecationWarning: numpy.core.umath_tests is an internal NumPy module and should not be imported. It will be removed in a future NumPy release.\n",
      "  from numpy.core.umath_tests import inner1d\n"
     ]
    }
   ],
   "source": [
    "import pandas as pd\n",
    "from lxml import html\n",
    "import numpy as np\n",
    "from tqdm import tqdm\n",
    "from matplotlib import pyplot as plt\n",
    "from sklearn.decomposition import TruncatedSVD, NMF, PCA\n",
    "from sklearn.manifold import TSNE\n",
    "from sklearn.feature_extraction.text import TfidfVectorizer, CountVectorizer\n",
    "from sklearn.metrics.pairwise import cosine_distances\n",
    "from sklearn.ensemble import RandomForestClassifier\n",
    "import gensim\n",
    "import numpy as np\n",
    "from sklearn.cluster import MiniBatchKMeans\n",
    "from sklearn.linear_model import LogisticRegression\n",
    "from sklearn.model_selection import train_test_split\n",
    "from sklearn.metrics import classification_report\n",
    "from collections import Counter,defaultdict\n",
    "from string import punctuation\n",
    "import os\n",
    "from nltk.corpus import stopwords\n",
    "%matplotlib inline"
   ]
  },
  {
   "cell_type": "markdown",
   "metadata": {},
   "source": [
    "Word embeddings are trained using unlabeled textual data. We'll use news texts from Reuters corpus to train our models."
   ]
  },
  {
   "cell_type": "code",
   "execution_count": 81,
   "metadata": {},
   "outputs": [
    {
     "name": "stdout",
     "output_type": "stream",
     "text": [
      "[nltk_data] Downloading package reuters to\n",
      "[nltk_data]     /Users/mnefedov/nltk_data...\n"
     ]
    },
    {
     "data": {
      "text/plain": [
       "True"
      ]
     },
     "execution_count": 81,
     "metadata": {},
     "output_type": "execute_result"
    }
   ],
   "source": [
    "import nltk\n",
    "nltk.download('reuters')"
   ]
  },
  {
   "cell_type": "code",
   "execution_count": 82,
   "metadata": {},
   "outputs": [],
   "source": [
    "from nltk.corpus import reuters"
   ]
  },
  {
   "cell_type": "code",
   "execution_count": 172,
   "metadata": {},
   "outputs": [],
   "source": [
    "docs = list(reuters.paras())\n",
    "\n",
    "news = []\n",
    "\n",
    "for doc in docs:\n",
    "    text = ' '.join([' '.join(paragraph) for paragraph in doc])\n",
    "    news.append(text)"
   ]
  },
  {
   "cell_type": "code",
   "execution_count": 176,
   "metadata": {},
   "outputs": [
    {
     "data": {
      "text/plain": [
       "['ASIAN EXPORTERS FEAR DAMAGE FROM U . S .- JAPAN RIFT Mounting trade friction between the U . S . And Japan has raised fears among many of Asia \\' s exporting nations that the row could inflict far - reaching economic damage , businessmen and officials said . They told Reuter correspondents in Asian capitals a U . S . Move against Japan might boost protectionist sentiment in the U . S . And lead to curbs on American imports of their products . But some exporters said that while the conflict would hurt them in the long - run , in the short - term Tokyo \\' s loss might be their gain . The U . S . Has said it will impose 300 mln dlrs of tariffs on imports of Japanese electronics goods on April 17 , in retaliation for Japan \\' s alleged failure to stick to a pact not to sell semiconductors on world markets at below cost . Unofficial Japanese estimates put the impact of the tariffs at 10 billion dlrs and spokesmen for major electronics firms said they would virtually halt exports of products hit by the new taxes . \" We wouldn \\' t be able to do business ,\" said a spokesman for leading Japanese electronics firm Matsushita Electric Industrial Co Ltd & lt ; MC . T >. \" If the tariffs remain in place for any length of time beyond a few months it will mean the complete erosion of exports ( of goods subject to tariffs ) to the U . S .,\" said Tom Murtha , a stock analyst at the Tokyo office of broker & lt ; James Capel and Co >. In Taiwan , businessmen and officials are also worried . \" We are aware of the seriousness of the U . S . Threat against Japan because it serves as a warning to us ,\" said a senior Taiwanese trade official who asked not to be named . Taiwan had a trade trade surplus of 15 . 6 billion dlrs last year , 95 pct of it with the U . S . The surplus helped swell Taiwan \\' s foreign exchange reserves to 53 billion dlrs , among the world \\' s largest . \" We must quickly open our markets , remove trade barriers and cut import tariffs to allow imports of U . S . Products , if we want to defuse problems from possible U . S . Retaliation ,\" said Paul Sheen , chairman of textile exporters & lt ; Taiwan Safe Group >. A senior official of South Korea \\' s trade promotion association said the trade dispute between the U . S . And Japan might also lead to pressure on South Korea , whose chief exports are similar to those of Japan . Last year South Korea had a trade surplus of 7 . 1 billion dlrs with the U . S ., Up from 4 . 9 billion dlrs in 1985 . In Malaysia , trade officers and businessmen said tough curbs against Japan might allow hard - hit producers of semiconductors in third countries to expand their sales to the U . S . In Hong Kong , where newspapers have alleged Japan has been selling below - cost semiconductors , some electronics manufacturers share that view . But other businessmen said such a short - term commercial advantage would be outweighed by further U . S . Pressure to block imports . \" That is a very short - term view ,\" said Lawrence Mills , director - general of the Federation of Hong Kong Industry . \" If the whole purpose is to prevent imports , one day it will be extended to other sources . Much more serious for Hong Kong is the disadvantage of action restraining trade ,\" he said . The U . S . Last year was Hong Kong \\' s biggest export market , accounting for over 30 pct of domestically produced exports . The Australian government is awaiting the outcome of trade talks between the U . S . And Japan with interest and concern , Industry Minister John Button said in Canberra last Friday . \" This kind of deterioration in trade relations between two countries which are major trading partners of ours is a very serious matter ,\" Button said . He said Australia \\' s concerns centred on coal and beef , Australia \\' s two largest exports to Japan and also significant U . S . Exports to that country . Meanwhile U . S .- Japanese diplomatic manoeuvres to solve the trade stand - off continue . Japan \\' s ruling Liberal Democratic Party yesterday outlined a package of economic measures to boost the Japanese economy . The measures proposed include a large supplementary budget and record public works spending in the first half of the financial year . They also call for stepped - up spending as an emergency measure to stimulate the economy despite Prime Minister Yasuhiro Nakasone \\' s avowed fiscal reform program . Deputy U . S . Trade Representative Michael Smith and Makoto Kuroda , Japan \\' s deputy minister of International Trade and Industry ( MITI ), are due to meet in Washington this week in an effort to end the dispute .']"
      ]
     },
     "execution_count": 176,
     "metadata": {},
     "output_type": "execute_result"
    }
   ],
   "source": [
    "news[:1]"
   ]
  },
  {
   "cell_type": "code",
   "execution_count": 177,
   "metadata": {},
   "outputs": [
    {
     "data": {
      "text/plain": [
       "11887"
      ]
     },
     "execution_count": 177,
     "metadata": {},
     "output_type": "execute_result"
    }
   ],
   "source": [
    "len(news)"
   ]
  },
  {
   "cell_type": "code",
   "execution_count": 30,
   "metadata": {},
   "outputs": [],
   "source": [
    "train_ = pd.read_csv('msr_paraphrase_train.txt', sep='\\t', engine='python', quoting=3)"
   ]
  },
  {
   "cell_type": "markdown",
   "metadata": {},
   "source": [
    "## Matrix factorizations"
   ]
  },
  {
   "cell_type": "markdown",
   "metadata": {},
   "source": [
    "In SVD and in NMF one of the resulting matrices has a shape of (number of words, number of components) so we can interpret each row in it as a word embedding."
   ]
  },
  {
   "cell_type": "markdown",
   "metadata": {},
   "source": [
    "We will factorize a documents-words matrix returned by CountVectorizer from sklearn."
   ]
  },
  {
   "cell_type": "code",
   "execution_count": 178,
   "metadata": {},
   "outputs": [],
   "source": [
    "cv = CountVectorizer(min_df=10, max_features=5000)\n",
    "X = cv.fit_transform(news)"
   ]
  },
  {
   "cell_type": "code",
   "execution_count": 179,
   "metadata": {},
   "outputs": [
    {
     "data": {
      "text/plain": [
       "(11887, 5000)"
      ]
     },
     "execution_count": 179,
     "metadata": {},
     "output_type": "execute_result"
    }
   ],
   "source": [
    "X.shape"
   ]
  },
  {
   "cell_type": "markdown",
   "metadata": {},
   "source": [
    "Let's try 2 components to be able to visualize our vectors."
   ]
  },
  {
   "cell_type": "code",
   "execution_count": 180,
   "metadata": {},
   "outputs": [
    {
     "data": {
      "text/plain": [
       "NMF(alpha=0.0, beta_loss='frobenius', init=None, l1_ratio=0.0, max_iter=200,\n",
       "  n_components=2, random_state=None, shuffle=False, solver='cd',\n",
       "  tol=0.0001, verbose=0)"
      ]
     },
     "execution_count": 180,
     "metadata": {},
     "output_type": "execute_result"
    }
   ],
   "source": [
    "svd = NMF(2)\n",
    "svd.fit(X)"
   ]
  },
  {
   "cell_type": "code",
   "execution_count": 181,
   "metadata": {},
   "outputs": [
    {
     "data": {
      "text/plain": [
       "(5000, 2)"
      ]
     },
     "execution_count": 181,
     "metadata": {},
     "output_type": "execute_result"
    }
   ],
   "source": [
    "# embedding matrix\n",
    "svd.components_.T.shape"
   ]
  },
  {
   "cell_type": "code",
   "execution_count": 182,
   "metadata": {},
   "outputs": [],
   "source": [
    "# or we can use a larger number of components\n",
    "# but pass the resulting matrix through TSNE (another factorization algo that is good for visualization)\n",
    "# svd = TruncatedSVD(200)\n",
    "# svd.fit(X)\n",
    "# tsne = TSNE(2).fit_transform(svd.components_.T)"
   ]
  },
  {
   "cell_type": "code",
   "execution_count": 183,
   "metadata": {},
   "outputs": [],
   "source": [
    "id2word = {i:w for i,w in enumerate(cv.get_feature_names())}\n",
    "word2id = {w:i for i,w in id2word.items()}"
   ]
  },
  {
   "cell_type": "markdown",
   "metadata": {},
   "source": [
    "We can't plot all the words, so we'll take a small subset. "
   ]
  },
  {
   "cell_type": "code",
   "execution_count": 184,
   "metadata": {},
   "outputs": [
    {
     "data": {
      "image/png": "[encoded data removed]",
      "text/plain": [
       "<Figure size 936x936 with 1 Axes>"
      ]
     },
     "metadata": {
      "needs_background": "light"
     },
     "output_type": "display_data"
    }
   ],
   "source": [
    "random_inds = np.random.choice(range(len(id2word)), 30, replace=False) \n",
    "res = svd.components_.T[random_inds] # comment this line for TSNE\n",
    "# res = tsne[random_inds] # uncomment this line for TSNE\n",
    "\n",
    "plt.figure(figsize=(13,13))\n",
    "plt.scatter(res[:,0], res[:,1])\n",
    "for i, coor in enumerate(random_inds):\n",
    "    x, y = res[i, 0], res[i, 1]\n",
    "    plt.scatter(x, y)\n",
    "    \n",
    "    plt.annotate(id2word[coor], xy=(x, y), xytext=(x*1.01, y*1.01), textcoords='data',\n",
    "                   ha='left', va='bottom', fontsize=15)"
   ]
  },
  {
   "cell_type": "markdown",
   "metadata": {},
   "source": [
    "We should see similar words close to each other. But unfortunately we don't."
   ]
  },
  {
   "cell_type": "markdown",
   "metadata": {},
   "source": [
    "Visualization is usually a bad choice for interpreting or evaluation embeddings."
   ]
  },
  {
   "cell_type": "markdown",
   "metadata": {},
   "source": [
    "Let's try increasing the number of components (=dimension of our embeddings) and try to find similar words using cosine distance."
   ]
  },
  {
   "cell_type": "code",
   "execution_count": 185,
   "metadata": {},
   "outputs": [
    {
     "data": {
      "text/plain": [
       "NMF(alpha=0.0, beta_loss='frobenius', init=None, l1_ratio=0.0, max_iter=200,\n",
       "  n_components=100, random_state=None, shuffle=False, solver='cd',\n",
       "  tol=0.0001, verbose=0)"
      ]
     },
     "execution_count": 185,
     "metadata": {},
     "output_type": "execute_result"
    }
   ],
   "source": [
    "nmf = NMF(100)\n",
    "nmf.fit(X)"
   ]
  },
  {
   "cell_type": "code",
   "execution_count": 186,
   "metadata": {},
   "outputs": [
    {
     "data": {
      "text/plain": [
       "TruncatedSVD(algorithm='randomized', n_components=100, n_iter=5,\n",
       "       random_state=None, tol=0.0)"
      ]
     },
     "execution_count": 186,
     "metadata": {},
     "output_type": "execute_result"
    }
   ],
   "source": [
    "svd = TruncatedSVD(100)\n",
    "svd.fit(X)"
   ]
  },
  {
   "cell_type": "code",
   "execution_count": 187,
   "metadata": {},
   "outputs": [],
   "source": [
    "id2word = {i:w for i,w in enumerate(cv.get_feature_names())}\n",
    "word2id = {w:i for i,w in id2word.items()}"
   ]
  },
  {
   "cell_type": "code",
   "execution_count": 188,
   "metadata": {},
   "outputs": [],
   "source": [
    "id2vec_svd = nmf.components_.T"
   ]
  },
  {
   "cell_type": "code",
   "execution_count": 189,
   "metadata": {},
   "outputs": [],
   "source": [
    "id2vec_nmf = svd.components_.T"
   ]
  },
  {
   "cell_type": "code",
   "execution_count": 190,
   "metadata": {},
   "outputs": [],
   "source": [
    "# a fuction to find a top 10 similar words in the embeding space\n",
    "def most_similar(word, id2vec):\n",
    "    similar = [id2word[i] for i in cosine_distances(id2vec[word2id[word]].reshape(1, -1), id2vec).argsort()[0][:10]]\n",
    "    return similar"
   ]
  },
  {
   "cell_type": "code",
   "execution_count": 191,
   "metadata": {},
   "outputs": [
    {
     "data": {
      "text/plain": [
       "['bank',\n",
       " 'cds',\n",
       " 'colonial',\n",
       " 'irving',\n",
       " 'banco',\n",
       " 'liberty',\n",
       " 'branch',\n",
       " 'citizens',\n",
       " 'governor',\n",
       " 'central']"
      ]
     },
     "execution_count": 191,
     "metadata": {},
     "output_type": "execute_result"
    }
   ],
   "source": [
    "most_similar('bank', id2vec_svd)\n",
    "# try other words"
   ]
  },
  {
   "cell_type": "code",
   "execution_count": 192,
   "metadata": {},
   "outputs": [
    {
     "data": {
      "text/plain": [
       "['policy',\n",
       " 'aggregates',\n",
       " 'monetary',\n",
       " 'reserve',\n",
       " 'suggest',\n",
       " 'economists',\n",
       " 'pressures',\n",
       " 'fed',\n",
       " 'ease',\n",
       " 'window']"
      ]
     },
     "execution_count": 192,
     "metadata": {},
     "output_type": "execute_result"
    }
   ],
   "source": [
    "most_similar(\"policy\", id2vec_nmf)"
   ]
  },
  {
   "cell_type": "markdown",
   "metadata": {},
   "source": [
    "We get some actually similar words, but results are still not ideal. Inspecting our model word by word is hard, so we can try to cluster all the words in our dictionary and inspect the cluster instead."
   ]
  },
  {
   "cell_type": "markdown",
   "metadata": {},
   "source": [
    "We'll use MiniBatchKmeans."
   ]
  },
  {
   "cell_type": "code",
   "execution_count": 198,
   "metadata": {},
   "outputs": [
    {
     "name": "stderr",
     "output_type": "stream",
     "text": [
      "/Users/mnefedov/.pyenv/versions/3.6.5/lib/python3.6/site-packages/sklearn/cluster/k_means_.py:1418: RuntimeWarning: init_size=300 should be larger than k=500. Setting it to 3*k\n",
      "  init_size=init_size)\n"
     ]
    },
    {
     "data": {
      "text/plain": [
       "MiniBatchKMeans(batch_size=100, compute_labels=True, init='k-means++',\n",
       "        init_size=None, max_iter=100, max_no_improvement=100,\n",
       "        n_clusters=500, n_init=2, random_state=None,\n",
       "        reassignment_ratio=0.4, tol=0.0, verbose=0)"
      ]
     },
     "execution_count": 198,
     "metadata": {},
     "output_type": "execute_result"
    }
   ],
   "source": [
    "cluster = MiniBatchKMeans(500, n_init=2, verbose=0, max_no_improvement=100, reassignment_ratio=0.4)\n",
    "cluster.fit(nmf.components_.T)"
   ]
  },
  {
   "cell_type": "markdown",
   "metadata": {},
   "source": [
    "We can save all clusters to a textfile"
   ]
  },
  {
   "cell_type": "code",
   "execution_count": 199,
   "metadata": {},
   "outputs": [],
   "source": [
    "\n",
    "cls = defaultdict(list)\n",
    "\n",
    "for i, cl in enumerate(cluster.labels_):\n",
    "    cls[cl].append(id2word[i])\n",
    "# open the file in any text editor\n",
    "f = open('cluster_nmf.txt', 'w')\n",
    "for cl in cls:\n",
    "    f.write('### '+ str(cl) + ' ###\\n')\n",
    "    f.write('\\n'.join(cls[cl]))\n",
    "    f.write('\\n\\n')\n",
    "f.close()"
   ]
  },
  {
   "cell_type": "markdown",
   "metadata": {},
   "source": [
    "Or print clusters separately"
   ]
  },
  {
   "cell_type": "code",
   "execution_count": 209,
   "metadata": {},
   "outputs": [
    {
     "data": {
      "text/plain": [
       "['adoption',\n",
       " 'importer',\n",
       " 'intervenes',\n",
       " 'juice',\n",
       " 'necessarily',\n",
       " 'prepare',\n",
       " 'promotion',\n",
       " 'removal',\n",
       " 'self',\n",
       " 'strict']"
      ]
     },
     "execution_count": 209,
     "metadata": {},
     "output_type": "execute_result"
    }
   ],
   "source": [
    "cls[2]"
   ]
  },
  {
   "cell_type": "code",
   "execution_count": 210,
   "metadata": {},
   "outputs": [
    {
     "data": {
      "text/plain": [
       "['associate',\n",
       " 'former',\n",
       " 'intention',\n",
       " 'listed',\n",
       " 'manila',\n",
       " 'newspaper',\n",
       " 'planters']"
      ]
     },
     "execution_count": 210,
     "metadata": {},
     "output_type": "execute_result"
    }
   ],
   "source": [
    "cls[3]"
   ]
  },
  {
   "cell_type": "markdown",
   "metadata": {},
   "source": [
    "## Word2Vec and Fasttext"
   ]
  },
  {
   "cell_type": "markdown",
   "metadata": {},
   "source": [
    "Let's do the same thing for Word2Vec and Fastext. "
   ]
  },
  {
   "cell_type": "markdown",
   "metadata": {},
   "source": [
    "There's implementations of both Word2vec and Fastext in gensim. The interface is similar to LDA except you don't need to build a dictionary."
   ]
  },
  {
   "cell_type": "code",
   "execution_count": 211,
   "metadata": {},
   "outputs": [],
   "source": [
    "fast_text = gensim.models.FastText([text.split() for text in news], size=50, \n",
    "                                   min_n=4, max_n=8) \n",
    "w2v = gensim.models.Word2Vec([text.split() for text in news], size=50, sg=1)\n"
   ]
  },
  {
   "cell_type": "code",
   "execution_count": 215,
   "metadata": {},
   "outputs": [
    {
     "name": "stderr",
     "output_type": "stream",
     "text": [
      "/Users/mnefedov/.pyenv/versions/3.6.5/lib/python3.6/site-packages/ipykernel_launcher.py:4: DeprecationWarning: Call to deprecated `__getitem__` (Method will be removed in 4.0.0, use self.wv.__getitem__() instead).\n",
      "  after removing the cwd from sys.path.\n"
     ]
    },
    {
     "data": {
      "image/png": "[encoded data removed]",
      "text/plain": [
       "<Figure size 936x936 with 1 Axes>"
      ]
     },
     "metadata": {
      "needs_background": "light"
     },
     "output_type": "display_data"
    }
   ],
   "source": [
    "# we'll use TSNE to visualize w2v and fastext embeddings\n",
    "\n",
    "random_words = np.random.choice(w2v.wv.index2word, 50, replace=False)\n",
    "res = w2v[random_words]\n",
    "res = TSNE(2).fit_transform(res)\n",
    "\n",
    "plt.figure(figsize=(13,13))\n",
    "plt.scatter(res[:,0], res[:,1])\n",
    "for i, coor in enumerate(res):\n",
    "    x, y = coor\n",
    "    plt.scatter(x, y)\n",
    "    \n",
    "    plt.annotate(random_words[i], xy=(x, y), xytext=(x*1.01, y*1.01), textcoords='data',\n",
    "                   ha='left', va='bottom', fontsize=15)"
   ]
  },
  {
   "cell_type": "markdown",
   "metadata": {},
   "source": [
    "And again we don't get anything good from ploting the vectors"
   ]
  },
  {
   "cell_type": "markdown",
   "metadata": {},
   "source": [
    "Let's try to query the model for similar words."
   ]
  },
  {
   "cell_type": "code",
   "execution_count": 219,
   "metadata": {},
   "outputs": [
    {
     "data": {
      "text/plain": [
       "[('ban', 0.9308816194534302),\n",
       " ('bankrupt', 0.9028896689414978),\n",
       " ('rank', 0.9004161357879639),\n",
       " ('banker', 0.8959032297134399),\n",
       " ('Citibank', 0.8958672881126404),\n",
       " ('sank', 0.8924193382263184),\n",
       " ('tank', 0.8733210563659668),\n",
       " ('Rank', 0.8614694476127625),\n",
       " ('banks', 0.8576824069023132),\n",
       " ('bans', 0.8505907654762268)]"
      ]
     },
     "execution_count": 219,
     "metadata": {},
     "output_type": "execute_result"
    }
   ],
   "source": [
    "#there's a built in fuction for that in gensim\n",
    "fast_text.wv.most_similar('bank')"
   ]
  },
  {
   "cell_type": "code",
   "execution_count": 220,
   "metadata": {},
   "outputs": [
    {
     "data": {
      "text/plain": [
       "[('central', 0.8494355082511902),\n",
       " ('bankers', 0.7750338912010193),\n",
       " ('banks', 0.7695252895355225),\n",
       " ('treasury', 0.746964693069458),\n",
       " ('outright', 0.7432740926742554),\n",
       " ('borrowings', 0.7421083450317383),\n",
       " ('Bundesbank', 0.7397869229316711),\n",
       " ('Bank', 0.7377081513404846),\n",
       " ('liquidity', 0.7343224883079529),\n",
       " ('governors', 0.711853563785553)]"
      ]
     },
     "execution_count": 220,
     "metadata": {},
     "output_type": "execute_result"
    }
   ],
   "source": [
    "w2v.wv.most_similar('bank')"
   ]
  },
  {
   "cell_type": "markdown",
   "metadata": {},
   "source": [
    "This comparison makes the difference between Word2Vec and Fastext very clear. Fastext uses subword pieces for inferring a word vector, so in fastext model we get not only semantically similar words but also words that are similar in spelling. \n",
    "\n",
    "Fastext can also predict a vector for an unseen word if it consists of known (to the model) subword pieces. It can be particularly usefull when there are typos in the texts."
   ]
  },
  {
   "cell_type": "code",
   "execution_count": 225,
   "metadata": {},
   "outputs": [
    {
     "data": {
      "text/plain": [
       "[('ban', 0.9829722046852112),\n",
       " ('bank', 0.956213116645813),\n",
       " ('banks', 0.9399883151054382),\n",
       " ('bankrupt', 0.9339519739151001),\n",
       " ('bans', 0.9136940240859985),\n",
       " ('banker', 0.9088605642318726),\n",
       " ('bands', 0.9044435024261475),\n",
       " ('bankers', 0.8417877554893494),\n",
       " ('bankruptcy', 0.8345280289649963),\n",
       " ('band', 0.8317418694496155)]"
      ]
     },
     "execution_count": 225,
     "metadata": {},
     "output_type": "execute_result"
    }
   ],
   "source": [
    "fast_text.wv.most_similar('banl')"
   ]
  },
  {
   "cell_type": "markdown",
   "metadata": {},
   "source": [
    "Let's cluster these embbedings too."
   ]
  },
  {
   "cell_type": "code",
   "execution_count": 227,
   "metadata": {},
   "outputs": [],
   "source": [
    "vocab = fast_text.wv.index2word\n",
    "matrix = np.zeros((len(vocab), 50))\n",
    "\n",
    "for i, word in enumerate(vocab):\n",
    "    if word in vocab:\n",
    "        matrix[i] = fast_text.wv[word]"
   ]
  },
  {
   "cell_type": "code",
   "execution_count": 229,
   "metadata": {},
   "outputs": [],
   "source": [
    "cluster = MiniBatchKMeans(1000, n_init=2, verbose=0, max_no_improvement=300, reassignment_ratio=0.4)\n",
    "cluster.fit(matrix)\n",
    "cls = defaultdict(list)\n",
    "\n",
    "for i, cl in enumerate(cluster.labels_):\n",
    "    cls[cl].append(vocab[i])\n",
    "\n",
    "f = open('cluster_ft.txt', 'w')\n",
    "for cl in cls:\n",
    "    f.write('### '+ str(cl) + ' ###\\n')\n",
    "    f.write('\\n'.join(cls[cl]))\n",
    "    f.write('\\n\\n')\n",
    "f.close()"
   ]
  },
  {
   "cell_type": "code",
   "execution_count": 233,
   "metadata": {},
   "outputs": [
    {
     "data": {
      "text/plain": [
       "['1', '2', '3', '5', '4', '7', '6', '8', '0', '9']"
      ]
     },
     "execution_count": 233,
     "metadata": {},
     "output_type": "execute_result"
    }
   ],
   "source": [
    "cls[3]"
   ]
  },
  {
   "cell_type": "code",
   "execution_count": 234,
   "metadata": {},
   "outputs": [
    {
     "data": {
      "text/plain": [
       "['agencies',\n",
       " 'lawmakers',\n",
       " 'membership',\n",
       " 'retailers',\n",
       " 'auditors',\n",
       " 'lawyers',\n",
       " 'underwriters',\n",
       " 'elevators',\n",
       " 'chipmakers',\n",
       " 'steelmakers',\n",
       " 'senators',\n",
       " 'destroyers',\n",
       " 'inspectors',\n",
       " 'legislators',\n",
       " 'Negotiators',\n",
       " 'Factors',\n",
       " 'pacemakers',\n",
       " 'insurers',\n",
       " 'Advisers',\n",
       " 'suitors',\n",
       " 'investigators']"
      ]
     },
     "execution_count": 234,
     "metadata": {},
     "output_type": "execute_result"
    }
   ],
   "source": [
    "cls[5]"
   ]
  },
  {
   "cell_type": "markdown",
   "metadata": {},
   "source": [
    "### Embeddings for classification"
   ]
  },
  {
   "cell_type": "markdown",
   "metadata": {},
   "source": [
    "So far we only used intrinsic characteristic of a model to evaluate its quality. However, the right way to evaluate a word embedding model is using it in an underlying task with well-defined metric. \n",
    "\n",
    "Let's use Microsoft Paraphrasing dataset for that. The task is to predict whether two sentences are paraphrases."
   ]
  },
  {
   "cell_type": "code",
   "execution_count": 277,
   "metadata": {},
   "outputs": [],
   "source": [
    "train = pd.read_csv('msr_paraphrase_train.txt', sep='\\t', engine='python', quoting=3)\n",
    "train.dropna(inplace=True)\n",
    "# test = pd.read_csv('msr_paraphrase_test.txt', sep='\\t', engine='python', quoting=3)"
   ]
  },
  {
   "cell_type": "code",
   "execution_count": 252,
   "metadata": {},
   "outputs": [
    {
     "data": {
      "text/plain": [
       "Index(['Quality', '#1 ID', '#2 ID', '#1 String', '#2 String'], dtype='object')"
      ]
     },
     "execution_count": 252,
     "metadata": {},
     "output_type": "execute_result"
    }
   ],
   "source": [
    "train.columns"
   ]
  },
  {
   "cell_type": "markdown",
   "metadata": {},
   "source": [
    "We have 4076 pairs in the training set and 1725 in the validation set."
   ]
  },
  {
   "cell_type": "code",
   "execution_count": 249,
   "metadata": {},
   "outputs": [
    {
     "data": {
      "text/plain": [
       "(4076, 5)"
      ]
     },
     "execution_count": 249,
     "metadata": {},
     "output_type": "execute_result"
    }
   ],
   "source": [
    "train.shape"
   ]
  },
  {
   "cell_type": "code",
   "execution_count": 250,
   "metadata": {},
   "outputs": [
    {
     "data": {
      "text/plain": [
       "1    2753\n",
       "0    1323\n",
       "Name: Quality, dtype: int64"
      ]
     },
     "execution_count": 250,
     "metadata": {},
     "output_type": "execute_result"
    }
   ],
   "source": [
    "train.Quality.value_counts()"
   ]
  },
  {
   "cell_type": "code",
   "execution_count": 251,
   "metadata": {},
   "outputs": [
    {
     "data": {
      "text/plain": [
       "(1725, 1)"
      ]
     },
     "execution_count": 251,
     "metadata": {},
     "output_type": "execute_result"
    }
   ],
   "source": [
    "test.shape"
   ]
  },
  {
   "cell_type": "markdown",
   "metadata": {},
   "source": [
    "Let's walk through the methods we tried and test them on that task."
   ]
  },
  {
   "cell_type": "markdown",
   "metadata": {},
   "source": [
    "Для решения задачи преобразуем каждый текст и конкатенируем их векторы."
   ]
  },
  {
   "cell_type": "code",
   "execution_count": 254,
   "metadata": {},
   "outputs": [
    {
     "data": {
      "text/plain": [
       "TfidfVectorizer(analyzer='word', binary=False, decode_error='strict',\n",
       "        dtype=<class 'numpy.int64'>, encoding='utf-8', input='content',\n",
       "        lowercase=True, max_df=0.4, max_features=1000, min_df=3,\n",
       "        ngram_range=(1, 1), norm='l2', preprocessor=None, smooth_idf=True,\n",
       "        stop_words=None, strip_accents=None, sublinear_tf=False,\n",
       "        token_pattern='(?u)\\\\b\\\\w\\\\w+\\\\b', tokenizer=None, use_idf=True,\n",
       "        vocabulary=None)"
      ]
     },
     "execution_count": 254,
     "metadata": {},
     "output_type": "execute_result"
    }
   ],
   "source": [
    "tfidf = TfidfVectorizer(min_df=3, max_df=0.4, max_features=1000)\n",
    "tfidf.fit(pd.concat([train['#1 String'], train['#2 String']]))"
   ]
  },
  {
   "cell_type": "markdown",
   "metadata": {},
   "source": [
    "### SVD"
   ]
  },
  {
   "cell_type": "code",
   "execution_count": 264,
   "metadata": {},
   "outputs": [],
   "source": [
    "svd = TruncatedSVD(200)\n",
    "\n",
    "\n",
    "# we build two models \n",
    "# one for the first sentence and the other is for the second \n",
    "# you can use one model if you want\n",
    "X_text_1 = svd.fit_transform(tfidf.transform(train['#1 String']))\n",
    "X_text_2 = svd.fit_transform(tfidf.transform(train['#2 String']))\n",
    "\n",
    "X_text = np.concatenate([X_text_1, X_text_2], axis=1)"
   ]
  },
  {
   "cell_type": "code",
   "execution_count": 265,
   "metadata": {},
   "outputs": [
    {
     "data": {
      "text/plain": [
       "(4076, 400)"
      ]
     },
     "execution_count": 265,
     "metadata": {},
     "output_type": "execute_result"
    }
   ],
   "source": [
    "X_text.shape"
   ]
  },
  {
   "cell_type": "code",
   "execution_count": 266,
   "metadata": {},
   "outputs": [
    {
     "name": "stdout",
     "output_type": "stream",
     "text": [
      "(4076,)\n"
     ]
    }
   ],
   "source": [
    "y = train['Quality'].values\n",
    "print(y.shape)"
   ]
  },
  {
   "cell_type": "markdown",
   "metadata": {},
   "source": [
    "We'll use simple train-test simple for validation"
   ]
  },
  {
   "cell_type": "code",
   "execution_count": 267,
   "metadata": {},
   "outputs": [
    {
     "name": "stdout",
     "output_type": "stream",
     "text": [
      "             precision    recall  f1-score   support\n",
      "\n",
      "          0       0.41      0.53      0.46       336\n",
      "          1       0.73      0.63      0.67       683\n",
      "\n",
      "avg / total       0.63      0.59      0.60      1019\n",
      "\n"
     ]
    }
   ],
   "source": [
    "train_X, valid_X, train_y, valid_y = train_test_split(X_text, y, random_state=1)\n",
    "clf = LogisticRegression(C=1000, class_weight='balanced')\n",
    "clf.fit(train_X, train_y)\n",
    "preds = clf.predict(valid_X)\n",
    "print(classification_report(valid_y, preds))\n"
   ]
  },
  {
   "cell_type": "code",
   "execution_count": 268,
   "metadata": {},
   "outputs": [
    {
     "name": "stdout",
     "output_type": "stream",
     "text": [
      "             precision    recall  f1-score   support\n",
      "\n",
      "          0       0.57      0.23      0.33       336\n",
      "          1       0.71      0.92      0.80       683\n",
      "\n",
      "avg / total       0.66      0.69      0.64      1019\n",
      "\n"
     ]
    }
   ],
   "source": [
    "train_X, valid_X, train_y, valid_y = train_test_split(X_text, y, random_state=1)\n",
    "clf = RandomForestClassifier(n_estimators=100, max_depth=10, min_samples_leaf=10,\n",
    "                             class_weight='balanced')\n",
    "clf.fit(train_X, train_y)\n",
    "preds = clf.predict(valid_X)\n",
    "print(classification_report(valid_y, preds))\n"
   ]
  },
  {
   "cell_type": "markdown",
   "metadata": {},
   "source": [
    "### NMF"
   ]
  },
  {
   "cell_type": "markdown",
   "metadata": {},
   "source": [
    "Let's use one NMF model for both sentences"
   ]
  },
  {
   "cell_type": "code",
   "execution_count": 270,
   "metadata": {},
   "outputs": [],
   "source": [
    "nmf = NMF(100)\n",
    "nmf.fit(tfidf.transform(pd.concat([train['#1 String'], train['#2 String']])))\n",
    "\n",
    "X_text_1_nmf = nmf.transform(tfidf.transform(train['#1 String']))\n",
    "X_text_2_nmf = nmf.transform(tfidf.transform(train['#2 String']))\n",
    "\n",
    "X_text_nmf = np.concatenate([X_text_1_nmf, X_text_2_nmf], axis=1)"
   ]
  },
  {
   "cell_type": "code",
   "execution_count": 271,
   "metadata": {},
   "outputs": [
    {
     "name": "stdout",
     "output_type": "stream",
     "text": [
      "             precision    recall  f1-score   support\n",
      "\n",
      "          0       0.41      0.53      0.47       336\n",
      "          1       0.73      0.63      0.68       683\n",
      "\n",
      "avg / total       0.63      0.60      0.61      1019\n",
      "\n"
     ]
    }
   ],
   "source": [
    "train_X, valid_X, train_y, valid_y = train_test_split(X_text_nmf, y,random_state=1)\n",
    "clf = LogisticRegression(C=10000, class_weight='balanced')\n",
    "clf.fit(train_X, train_y)\n",
    "preds = clf.predict(valid_X)\n",
    "print(classification_report(valid_y, preds))\n"
   ]
  },
  {
   "cell_type": "code",
   "execution_count": 272,
   "metadata": {},
   "outputs": [
    {
     "name": "stdout",
     "output_type": "stream",
     "text": [
      "             precision    recall  f1-score   support\n",
      "\n",
      "          0       0.45      0.42      0.43       336\n",
      "          1       0.72      0.75      0.73       683\n",
      "\n",
      "avg / total       0.63      0.64      0.63      1019\n",
      "\n"
     ]
    }
   ],
   "source": [
    "train_X, valid_X, train_y, valid_y = train_test_split(X_text_nmf, y,random_state=1)\n",
    "clf = RandomForestClassifier(n_estimators=100, max_depth=7, min_samples_leaf=15,\n",
    "                             class_weight='balanced')\n",
    "clf.fit(train_X, train_y)\n",
    "preds = clf.predict(valid_X)\n",
    "print(classification_report(valid_y, preds))\n"
   ]
  },
  {
   "cell_type": "markdown",
   "metadata": {},
   "source": [
    "### Word2Vec и Fastext"
   ]
  },
  {
   "cell_type": "markdown",
   "metadata": {},
   "source": [
    "NMF and SVD in sklearn return document embeddings by default, but for word2vec and fastext building a document representation is not that easy. There are different methods to do so, the most popular one is just averaging the individual word vectors in the document."
   ]
  },
  {
   "cell_type": "code",
   "execution_count": 280,
   "metadata": {},
   "outputs": [],
   "source": [
    "punct = punctuation+'«»—…“”*№–'\n",
    "stops = set(stopwords.words('english'))\n",
    "\n",
    "def normalize(text):\n",
    "    \n",
    "    words = [word.strip(punct) for word in text.lower().split()]\n",
    "    words = [word for word in words if word and word not in stops]\n",
    "\n",
    "    return ' '.join(words)\n",
    "\n",
    "def get_embedding(text, model, dim):\n",
    "    text = normalize(text)\n",
    "    \n",
    "    # a little optimization \n",
    "    # let's only use an embedding for each unique word once\n",
    "    # and multiply it with the frequency\n",
    "    words = Counter(text)\n",
    "    total = len(text)\n",
    "    vectors = np.zeros((len(words), dim))\n",
    "    \n",
    "    for i,word in enumerate(words):\n",
    "        try:\n",
    "            v = model.wv[word]\n",
    "            vectors[i] = v*(words[word]/total)\n",
    "        except (KeyError, ValueError):\n",
    "            continue\n",
    "    \n",
    "    if vectors.any():\n",
    "        vector = np.average(vectors, axis=0)\n",
    "    else:\n",
    "        vector = np.zeros((dim))\n",
    "    \n",
    "    return vector\n",
    "        "
   ]
  },
  {
   "cell_type": "code",
   "execution_count": 288,
   "metadata": {},
   "outputs": [],
   "source": [
    "dim = 50\n",
    "\n",
    "fast_text = gensim.models.FastText([text.split() for text in news], size=dim, \n",
    "                                   min_n=4, max_n=8) \n",
    "w2v = gensim.models.Word2Vec([text.split() for text in news], size=dim, sg=1)\n"
   ]
  },
  {
   "cell_type": "code",
   "execution_count": 283,
   "metadata": {},
   "outputs": [],
   "source": [
    "\n",
    "X_text_1_w2v = np.zeros((train.shape[0], dim))\n",
    "X_text_2_w2v = np.zeros((train.shape[0], dim))\n",
    "\n",
    "for i, text in enumerate(train['#1 String'].values):\n",
    "    X_text_1_w2v[i] = get_embedding(text, w2v, dim)\n",
    "    \n",
    "for i, text in enumerate(train['#2 String'].values):\n",
    "    X_text_2_w2v[i] = get_embedding(text, w2v, dim)"
   ]
  },
  {
   "cell_type": "code",
   "execution_count": 284,
   "metadata": {},
   "outputs": [],
   "source": [
    "X_text_w2v = np.concatenate([X_text_1_w2v, X_text_2_w2v], axis=1)"
   ]
  },
  {
   "cell_type": "code",
   "execution_count": 285,
   "metadata": {},
   "outputs": [
    {
     "name": "stdout",
     "output_type": "stream",
     "text": [
      "             precision    recall  f1-score   support\n",
      "\n",
      "          0       0.49      0.38      0.42       336\n",
      "          1       0.72      0.81      0.76       683\n",
      "\n",
      "avg / total       0.65      0.66      0.65      1019\n",
      "\n"
     ]
    }
   ],
   "source": [
    "train_X, valid_X, train_y, valid_y = train_test_split(X_text_w2v, y,random_state=1)\n",
    "clf = RandomForestClassifier(n_estimators=100, max_depth=7, min_samples_leaf=15,\n",
    "                             class_weight='balanced')\n",
    "clf.fit(train_X, train_y)\n",
    "preds = clf.predict(valid_X)\n",
    "print(classification_report(valid_y, preds))\n"
   ]
  },
  {
   "cell_type": "code",
   "execution_count": 287,
   "metadata": {},
   "outputs": [
    {
     "name": "stdout",
     "output_type": "stream",
     "text": [
      "             precision    recall  f1-score   support\n",
      "\n",
      "          0       0.63      0.13      0.22       336\n",
      "          1       0.69      0.96      0.81       683\n",
      "\n",
      "avg / total       0.67      0.69      0.61      1019\n",
      "\n"
     ]
    }
   ],
   "source": [
    "train_X, valid_X, train_y, valid_y = train_test_split(X_text_w2v, y,random_state=1)\n",
    "clf = LogisticRegression(C=1000)\n",
    "clf.fit(train_X, train_y)\n",
    "preds = clf.predict(valid_X)\n",
    "print(classification_report(valid_y, preds))\n"
   ]
  },
  {
   "cell_type": "code",
   "execution_count": 289,
   "metadata": {},
   "outputs": [],
   "source": [
    "dim = 50\n",
    "\n",
    "X_text_1_ft = np.zeros((train.shape[0], dim))\n",
    "X_text_2_ft = np.zeros((train.shape[0], dim))\n",
    "\n",
    "for i, text in enumerate(train['#1 String'].values):\n",
    "    X_text_1_ft[i] = get_embedding(text, fast_text, dim)\n",
    "    \n",
    "for i, text in enumerate(train['#2 String'].values):\n",
    "    X_text_2_ft[i] = get_embedding(text, fast_text, dim)"
   ]
  },
  {
   "cell_type": "code",
   "execution_count": 290,
   "metadata": {},
   "outputs": [],
   "source": [
    "X_text_ft = np.concatenate([X_text_1_ft, X_text_2_ft], axis=1)"
   ]
  },
  {
   "cell_type": "code",
   "execution_count": 291,
   "metadata": {},
   "outputs": [
    {
     "name": "stdout",
     "output_type": "stream",
     "text": [
      "             precision    recall  f1-score   support\n",
      "\n",
      "          0       0.53      0.38      0.44       336\n",
      "          1       0.73      0.84      0.78       683\n",
      "\n",
      "avg / total       0.66      0.68      0.67      1019\n",
      "\n"
     ]
    }
   ],
   "source": [
    "train_X, valid_X, train_y, valid_y = train_test_split(X_text_ft, y,random_state=1)\n",
    "clf = RandomForestClassifier(n_estimators=100, max_depth=7, min_samples_leaf=15,\n",
    "                             class_weight='balanced')\n",
    "clf.fit(train_X, train_y)\n",
    "preds = clf.predict(valid_X)\n",
    "print(classification_report(valid_y, preds))\n"
   ]
  },
  {
   "cell_type": "markdown",
   "metadata": {},
   "source": [
    "## Homework"
   ]
  },
  {
   "cell_type": "markdown",
   "metadata": {},
   "source": [
    "You need to build a paraphraser classifier using all of the mentioned embeddings methods (NMF, SVD, W2V, Fastext) together in one model.\n",
    "\n",
    "Instead of raw embeddings use cosine similarities between sentences as features."
   ]
  },
  {
   "cell_type": "code",
   "execution_count": 303,
   "metadata": {},
   "outputs": [],
   "source": [
    "# you need to fill this matrix with cosine distances \n",
    "# and use it to train a classifier\n",
    "X = np.zeros((train.shape[0], 4))  #4 is for 4 methods \n",
    "y = train['Quality'].values"
   ]
  },
  {
   "cell_type": "code",
   "execution_count": 304,
   "metadata": {},
   "outputs": [],
   "source": [
    "# here's how you compute cosine distance between a pair of sentences \n",
    "# embedded with NMF\n",
    "nmf = NMF(100)\n",
    "nmf.fit(tfidf.transform(pd.concat([train['#1 String'], train['#2 String']])))\n",
    "\n",
    "X_text_1_nmf = nmf.transform(tfidf.transform(train['#1 String']))\n",
    "X_text_2_nmf = nmf.transform(tfidf.transform(train['#2 String']))"
   ]
  },
  {
   "cell_type": "code",
   "execution_count": 305,
   "metadata": {},
   "outputs": [],
   "source": [
    "# go by row and replace the zero in the original matrix with cosine distance\n",
    "for i in range(train.shape[0]):\n",
    "    X[i][0] = cosine_distances(X_text_1_nmf[i].reshape(1,-1), \n",
    "                               X_text_2_nmf[i].reshape(1, -1))[0][0]"
   ]
  },
  {
   "cell_type": "markdown",
   "metadata": {},
   "source": [
    "You need to add three more methods (SVD, W2V, Fastext) so all the columns are non-zeros (now only the first one is filled with values)"
   ]
  },
  {
   "cell_type": "code",
   "execution_count": 308,
   "metadata": {},
   "outputs": [
    {
     "data": {
      "text/plain": [
       "array([[0.33172122, 0.        , 0.        , 0.        ],\n",
       "       [0.42532288, 0.        , 0.        , 0.        ],\n",
       "       [0.07186025, 0.        , 0.        , 0.        ],\n",
       "       ...,\n",
       "       [0.18655291, 0.        , 0.        , 0.        ],\n",
       "       [0.27922108, 0.        , 0.        , 0.        ],\n",
       "       [0.04760544, 0.        , 0.        , 0.        ]])"
      ]
     },
     "execution_count": 308,
     "metadata": {},
     "output_type": "execute_result"
    }
   ],
   "source": [
    "X"
   ]
  },
  {
   "cell_type": "markdown",
   "metadata": {},
   "source": [
    "After you have filled the matrix, built a classifier and evaluate"
   ]
  },
  {
   "cell_type": "code",
   "execution_count": 309,
   "metadata": {},
   "outputs": [
    {
     "name": "stdout",
     "output_type": "stream",
     "text": [
      "             precision    recall  f1-score   support\n",
      "\n",
      "          0       0.55      0.11      0.18       336\n",
      "          1       0.69      0.96      0.80       683\n",
      "\n",
      "avg / total       0.64      0.68      0.59      1019\n",
      "\n"
     ]
    }
   ],
   "source": [
    "train_X, valid_X, train_y, valid_y = train_test_split(X, y,random_state=1)\n",
    "clf = LogisticRegression(C=1000)\n",
    "clf.fit(train_X, train_y)\n",
    "preds = clf.predict(valid_X)\n",
    "print(classification_report(valid_y, preds))\n"
   ]
  },
  {
   "cell_type": "markdown",
   "metadata": {},
   "source": [
    "### You must use different parameters when building the embedding models\n",
    "\n",
    "Change the number of components in NMF and SVD, vectorization parameters, dim in w2v and fastext and optionally other parameters as well"
   ]
  }
 ],
 "metadata": {
  "kernelspec": {
   "display_name": "Python 3",
   "language": "python",
   "name": "python3"
  },
  "language_info": {
   "codemirror_mode": {
    "name": "ipython",
    "version": 3
   },
   "file_extension": ".py",
   "mimetype": "text/x-python",
   "name": "python",
   "nbconvert_exporter": "python",
   "pygments_lexer": "ipython3",
   "version": "3.6.5"
  }
 },
 "nbformat": 4,
 "nbformat_minor": 2
}
