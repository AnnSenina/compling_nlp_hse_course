{
 "cells": [
  {
   "cell_type": "markdown",
   "metadata": {},
   "source": [
    "В этой тетрадке очень коротко разобраны основы регулярных выражений. \n",
    "\n",
    "Подробнее можно почитать в документации питона - https://docs.python.org/3/howto/regex.html"
   ]
  },
  {
   "cell_type": "code",
   "execution_count": 1,
   "metadata": {},
   "outputs": [],
   "source": [
    "# встроенная питоновская библиотека для работы с регулярными выражениями\n",
    "import re"
   ]
  },
  {
   "cell_type": "markdown",
   "metadata": {},
   "source": [
    "У re несколько основных функций:  \n",
    "    **re.findall** (возвращает все совпадения списком),   \n",
    "    **re.match** (сравнивает паттерн с началом строки),  \n",
    "    **re.search** (ищет во всей строке совпадения с паттерном),  \n",
    "    **re.sub** (заменяет совпадения с паттерном на что-то еще),  \n",
    "    **re.split** (делит строку по совпадению с паттерном)\n",
    "    \n",
    "Паттерн - это само регулярное выражение. В нем описывается то, что мы хотим найти в строке. Понятнее будет на примерах."
   ]
  },
  {
   "cell_type": "code",
   "execution_count": 69,
   "metadata": {},
   "outputs": [],
   "source": [
    "# возьмем любой текст (обычно он будет большой и глазами нельзя просмотреть)\n",
    "text = \"Отличается от предыдущей возможностью отслеживания 100 000 посещений, 50 страниц.\""
   ]
  },
  {
   "cell_type": "markdown",
   "metadata": {},
   "source": [
    "Самый простой паттерн - подстрока, которую мы хотим найти."
   ]
  },
  {
   "cell_type": "code",
   "execution_count": 5,
   "metadata": {},
   "outputs": [
    {
     "data": {
      "text/plain": [
       "['О']"
      ]
     },
     "execution_count": 5,
     "metadata": {},
     "output_type": "execute_result"
    }
   ],
   "source": [
    "# например \"О\" (регистр важен!)\n",
    "re.findall('О', text)"
   ]
  },
  {
   "cell_type": "code",
   "execution_count": 7,
   "metadata": {},
   "outputs": [
    {
     "data": {
      "text/plain": [
       "['о', 'о', 'о', 'о', 'о', 'о']"
      ]
     },
     "execution_count": 7,
     "metadata": {},
     "output_type": "execute_result"
    }
   ],
   "source": [
    "# а теперь \"о\" (регистр важен!)\n",
    "re.findall('о', text)"
   ]
  },
  {
   "cell_type": "code",
   "execution_count": 8,
   "metadata": {},
   "outputs": [
    {
     "data": {
      "text/plain": [
       "'Отличается ат предыдущей вазмажнастью атслеживания 100 000 пасещений, 50 страниц.'"
      ]
     },
     "execution_count": 8,
     "metadata": {},
     "output_type": "execute_result"
    }
   ],
   "source": [
    "# заменим все о на а\n",
    "re.sub('о', 'а', text)"
   ]
  },
  {
   "cell_type": "code",
   "execution_count": 70,
   "metadata": {},
   "outputs": [
    {
     "data": {
      "text/plain": [
       "['Отличается',\n",
       " 'от',\n",
       " 'предыдущей',\n",
       " 'возможностью',\n",
       " 'отслеживания',\n",
       " '100',\n",
       " '000',\n",
       " 'посещений,',\n",
       " '50',\n",
       " 'страниц.']"
      ]
     },
     "execution_count": 70,
     "metadata": {},
     "output_type": "execute_result"
    }
   ],
   "source": [
    "# заменим все о на а\n",
    "re.split(' ', text)"
   ]
  },
  {
   "cell_type": "code",
   "execution_count": 9,
   "metadata": {},
   "outputs": [
    {
     "data": {
      "text/plain": [
       "<_sre.SRE_Match object; span=(25, 37), match='возможностью'>"
      ]
     },
     "execution_count": 9,
     "metadata": {},
     "output_type": "execute_result"
    }
   ],
   "source": [
    "# подстрока подлинее\n",
    "re.search('возможностью', text)"
   ]
  },
  {
   "cell_type": "code",
   "execution_count": 11,
   "metadata": {},
   "outputs": [],
   "source": [
    "# подстрока которой нет (вернется None)\n",
    "re.search('возможности', text)"
   ]
  },
  {
   "cell_type": "code",
   "execution_count": 14,
   "metadata": {},
   "outputs": [
    {
     "data": {
      "text/plain": [
       "['посещений', 'страниц']"
      ]
     },
     "execution_count": 14,
     "metadata": {},
     "output_type": "execute_result"
    }
   ],
   "source": [
    "# если вариантов несколько, то можно сопоставить их через | - это значит или\n",
    "re.findall('посещений|страниц', text)"
   ]
  },
  {
   "cell_type": "markdown",
   "metadata": {},
   "source": [
    "Но регулярные выражения полезны, когда перечислять все подстроки слишком сложно или даже невозможно. Для таких случаев есть операторы, которые позволяют описывать все варианты подстроки."
   ]
  },
  {
   "cell_type": "code",
   "execution_count": 17,
   "metadata": {
    "scrolled": true
   },
   "outputs": [
    {
     "data": {
      "text/plain": [
       "'       ,  .'"
      ]
     },
     "execution_count": 17,
     "metadata": {},
     "output_type": "execute_result"
    }
   ],
   "source": [
    "# \\w - матчит любую букву или цифру (если заменить останутся только пробелы и знаки препинания)\n",
    "re.sub('\\w', '', text)"
   ]
  },
  {
   "cell_type": "code",
   "execution_count": 160,
   "metadata": {},
   "outputs": [
    {
     "data": {
      "text/plain": [
       "'Отличаетсяотпредыдущейвозможностьюотслеживания10000000000посещений50страниц'"
      ]
     },
     "execution_count": 160,
     "metadata": {},
     "output_type": "execute_result"
    }
   ],
   "source": [
    "# \\W - матчит любую не букву и не цифру (если заменить останутся только буквы и цифры)\n",
    "re.sub('\\W', '', text)"
   ]
  },
  {
   "cell_type": "code",
   "execution_count": 161,
   "metadata": {},
   "outputs": [
    {
     "data": {
      "text/plain": [
       "['1', '0', '0', '0', '0', '0', '0', '0', '0', '0', '0', '5', '0']"
      ]
     },
     "execution_count": 161,
     "metadata": {},
     "output_type": "execute_result"
    }
   ],
   "source": [
    "# \\d - матчит любую цифру \n",
    "re.findall('\\d', text)"
   ]
  },
  {
   "cell_type": "code",
   "execution_count": 165,
   "metadata": {
    "scrolled": true
   },
   "outputs": [
    {
     "data": {
      "text/plain": [
       "'___________________________________________________100_000_00_000____________50_________'"
      ]
     },
     "execution_count": 165,
     "metadata": {},
     "output_type": "execute_result"
    }
   ],
   "source": [
    "# \\D - матчит любую не цифру \n",
    "re.sub('\\D', '_', text)"
   ]
  },
  {
   "cell_type": "code",
   "execution_count": 26,
   "metadata": {},
   "outputs": [
    {
     "data": {
      "text/plain": [
       "'Отличаетсяотпредыдущейвозможностьюотслеживания100000посещений,50страниц.'"
      ]
     },
     "execution_count": 26,
     "metadata": {},
     "output_type": "execute_result"
    }
   ],
   "source": [
    "# \\s - матчит любой пробельный символ\n",
    "re.sub(\"\\s\",'', text)"
   ]
  },
  {
   "cell_type": "code",
   "execution_count": 27,
   "metadata": {},
   "outputs": [
    {
     "data": {
      "text/plain": [
       "''"
      ]
     },
     "execution_count": 27,
     "metadata": {},
     "output_type": "execute_result"
    }
   ],
   "source": [
    "# . - матчит любой символ\n",
    "re.sub(\".\", '', text)"
   ]
  },
  {
   "cell_type": "code",
   "execution_count": 19,
   "metadata": {},
   "outputs": [
    {
     "data": {
      "text/plain": [
       "['О', 'о', 'о', 'о', 'о', 'о', 'о']"
      ]
     },
     "execution_count": 19,
     "metadata": {},
     "output_type": "execute_result"
    }
   ],
   "source": [
    "# [] в квадратных скобках перечисляются варианты отдельных символов\n",
    "re.findall(\"[Оо]\", text) # матчим и большую и маленькую"
   ]
  },
  {
   "cell_type": "code",
   "execution_count": 21,
   "metadata": {
    "scrolled": true
   },
   "outputs": [
    {
     "data": {
      "text/plain": [
       "'О     100 000 , 50 .'"
      ]
     },
     "execution_count": 21,
     "metadata": {},
     "output_type": "execute_result"
    }
   ],
   "source": [
    "# [а-я] если нужно много букв, например весь алфавит, то можно указать интервал\n",
    "# Основные интервалы:\n",
    "# [а-яА-ЯЁё] - все русские буквы (заглавные и маленькие)\n",
    "# [a-zА-Z] - все английские буквы (заглавные и маленькие)\n",
    "# [0-9] все цифры\n",
    "\n",
    "# !!! [A-я] (от английского A до русского я) - лучше никогда не писать, ошибки не будет, \n",
    "# но в интервал попадет много лишнего, т.к интервалы считаются по таблице юникода https://unicode-table.com/ru/\n",
    "# и между английскими буквами и русскими есть еще другие символы\n",
    "\n",
    "re.sub(\"[а-я]\", '', text) # остались заглавные, пробелы и цифры"
   ]
  },
  {
   "cell_type": "code",
   "execution_count": 24,
   "metadata": {
    "scrolled": true
   },
   "outputs": [
    {
     "data": {
      "text/plain": [
       "['О',\n",
       " ' ',\n",
       " ' ',\n",
       " ' ',\n",
       " ' ',\n",
       " ' ',\n",
       " '1',\n",
       " '0',\n",
       " '0',\n",
       " ' ',\n",
       " '0',\n",
       " '0',\n",
       " '0',\n",
       " ' ',\n",
       " ',',\n",
       " ' ',\n",
       " '5',\n",
       " '0',\n",
       " ' ',\n",
       " '.']"
      ]
     },
     "execution_count": 24,
     "metadata": {},
     "output_type": "execute_result"
    }
   ],
   "source": [
    "# [^а-я] - символ ^ внутри скобок означает отрицание\n",
    "re.findall('[^а-я]', text) # матчим все кроме маленьких русских букв"
   ]
  },
  {
   "cell_type": "markdown",
   "metadata": {},
   "source": [
    "Чтобы повторить один и тот же символ можно поставить после него + (1 и больше повторений) или \\* (0 и больше повторений)."
   ]
  },
  {
   "cell_type": "code",
   "execution_count": 29,
   "metadata": {},
   "outputs": [
    {
     "data": {
      "text/plain": [
       "['Отличается',\n",
       " 'от',\n",
       " 'предыдущей',\n",
       " 'возможностью',\n",
       " 'отслеживания',\n",
       " '100',\n",
       " '000',\n",
       " 'посещений',\n",
       " '50',\n",
       " 'страниц']"
      ]
     },
     "execution_count": 29,
     "metadata": {},
     "output_type": "execute_result"
    }
   ],
   "source": [
    "re.findall('\\w+', text) # все последовательности букв и цифр"
   ]
  },
  {
   "cell_type": "code",
   "execution_count": 31,
   "metadata": {},
   "outputs": [
    {
     "data": {
      "text/plain": [
       "['Отличается',\n",
       " '',\n",
       " 'от',\n",
       " '',\n",
       " 'предыдущей',\n",
       " '',\n",
       " 'возможностью',\n",
       " '',\n",
       " 'отслеживания',\n",
       " '',\n",
       " '100',\n",
       " '',\n",
       " '000',\n",
       " '',\n",
       " 'посещений',\n",
       " '',\n",
       " '',\n",
       " '50',\n",
       " '',\n",
       " 'страниц',\n",
       " '',\n",
       " '']"
      ]
     },
     "execution_count": 31,
     "metadata": {},
     "output_type": "execute_result"
    }
   ],
   "source": [
    "re.findall('\\w*', text) # все последовательности букв и цифр (и пустое место тк \\w не обязательный с *)"
   ]
  },
  {
   "cell_type": "markdown",
   "metadata": {},
   "source": [
    "Если символ не обязательный, то можно поставить знак вопроса."
   ]
  },
  {
   "cell_type": "code",
   "execution_count": 34,
   "metadata": {},
   "outputs": [
    {
     "data": {
      "text/plain": [
       "['посещений,']"
      ]
     },
     "execution_count": 34,
     "metadata": {},
     "output_type": "execute_result"
    }
   ],
   "source": [
    "# запятая обязательна\n",
    "re.findall('\\w+,', text)"
   ]
  },
  {
   "cell_type": "code",
   "execution_count": 35,
   "metadata": {},
   "outputs": [
    {
     "data": {
      "text/plain": [
       "['Отличается',\n",
       " 'от',\n",
       " 'предыдущей',\n",
       " 'возможностью',\n",
       " 'отслеживания',\n",
       " '100',\n",
       " '000',\n",
       " 'посещений,',\n",
       " '50',\n",
       " 'страниц']"
      ]
     },
     "execution_count": 35,
     "metadata": {},
     "output_type": "execute_result"
    }
   ],
   "source": [
    "# необязательна\n",
    "re.findall('\\w+,?', text)"
   ]
  },
  {
   "cell_type": "markdown",
   "metadata": {},
   "source": [
    "Вопрос можно совместить с +, чтобы сматчить минимально возможный паттерн."
   ]
  },
  {
   "cell_type": "code",
   "execution_count": 39,
   "metadata": {},
   "outputs": [],
   "source": [
    "# возьмем другой текст\n",
    "text = \"<Отличается> <от предыдущей возможностью> <отслеживания 100 000 посещений, 50 страниц.>\""
   ]
  },
  {
   "cell_type": "code",
   "execution_count": 40,
   "metadata": {},
   "outputs": [
    {
     "data": {
      "text/plain": [
       "['<Отличается> <от предыдущей возможностью> <отслеживания 100 000 посещений, 50 страниц.>']"
      ]
     },
     "execution_count": 40,
     "metadata": {},
     "output_type": "execute_result"
    }
   ],
   "source": [
    "re.findall('<.+>', text) # матчит все от первой < до последней >"
   ]
  },
  {
   "cell_type": "code",
   "execution_count": 41,
   "metadata": {},
   "outputs": [
    {
     "data": {
      "text/plain": [
       "['<Отличается>',\n",
       " '<от предыдущей возможностью>',\n",
       " '<отслеживания 100 000 посещений, 50 страниц.>']"
      ]
     },
     "execution_count": 41,
     "metadata": {},
     "output_type": "execute_result"
    }
   ],
   "source": [
    "re.findall('<.+?>', text) # матчит до первого >"
   ]
  },
  {
   "cell_type": "markdown",
   "metadata": {},
   "source": [
    "Если нужно указать точное число повторений, можно указать его в фигурных скобках {min, max}"
   ]
  },
  {
   "cell_type": "code",
   "execution_count": 93,
   "metadata": {},
   "outputs": [],
   "source": [
    "# возьмем другой текст\n",
    "text = \"+79121231232 +79991238899 +7923111112222211\""
   ]
  },
  {
   "cell_type": "code",
   "execution_count": 98,
   "metadata": {},
   "outputs": [
    {
     "data": {
      "text/plain": [
       "['+79121231232 ', '+79991238899 ']"
      ]
     },
     "execution_count": 98,
     "metadata": {},
     "output_type": "execute_result"
    }
   ],
   "source": [
    "re.findall('\\+79\\d{1,9}[^\\d]', text) # [^\\d] нужно чтобы последний номер не матчился совсем"
   ]
  },
  {
   "cell_type": "markdown",
   "metadata": {},
   "source": [
    "Если нужно выбрать только часть из паттерна, то эту часть можно заключить в скобки"
   ]
  },
  {
   "cell_type": "code",
   "execution_count": 99,
   "metadata": {},
   "outputs": [],
   "source": [
    "text = \"<Отличается> <от предыдущей возможностью> <отслеживания 100 000 посещений, 50 страниц.>\""
   ]
  },
  {
   "cell_type": "code",
   "execution_count": 100,
   "metadata": {},
   "outputs": [
    {
     "data": {
      "text/plain": [
       "['Отличается',\n",
       " 'от предыдущей возможностью',\n",
       " 'отслеживания 100 000 посещений, 50 страниц.']"
      ]
     },
     "execution_count": 100,
     "metadata": {},
     "output_type": "execute_result"
    }
   ],
   "source": [
    "re.findall('<(.+?)>', text) # матчится по тэгам, но выбирается только то, что внутри тэга"
   ]
  },
  {
   "cell_type": "code",
   "execution_count": 85,
   "metadata": {},
   "outputs": [
    {
     "data": {
      "text/plain": [
       "'Отличается> <от предыдущей возможностью> <отслеживания 100 000 посещений, 50 страниц.'"
      ]
     },
     "execution_count": 85,
     "metadata": {},
     "output_type": "execute_result"
    }
   ],
   "source": [
    "m = re.search('<(.+)>', text) # в search вот так можно достать то что попало в скобки\n",
    "m.group(1)"
   ]
  },
  {
   "cell_type": "markdown",
   "metadata": {},
   "source": [
    "Иногда эти скобки могут пригодится для того, чтобы объединить последвательность в паттерне. Если поставить в начале скобочек ?: то они не будут влиять на выбор части из паттерна. Сравните:"
   ]
  },
  {
   "cell_type": "code",
   "execution_count": 49,
   "metadata": {},
   "outputs": [
    {
     "data": {
      "text/plain": [
       "['личается', '', 'слеживания']"
      ]
     },
     "execution_count": 49,
     "metadata": {},
     "output_type": "execute_result"
    }
   ],
   "source": [
    "re.findall('[Оо]т(личается|слеживания)?', text) # выбирается то что в скобках"
   ]
  },
  {
   "cell_type": "code",
   "execution_count": 50,
   "metadata": {},
   "outputs": [
    {
     "data": {
      "text/plain": [
       "['Отличается', 'от', 'отслеживания']"
      ]
     },
     "execution_count": 50,
     "metadata": {},
     "output_type": "execute_result"
    }
   ],
   "source": [
    "re.findall('[Оо]т(?:личается|слеживания)?', text) # выбирается все"
   ]
  },
  {
   "cell_type": "markdown",
   "metadata": {},
   "source": [
    "Регулярные выражения матчат по строкам (до символа \\n). Поэтому .+ не сматчит все строчки текста целиком. Нужно либо указать \\n как вариант, либо использовать флаг re.DOTALL"
   ]
  },
  {
   "cell_type": "code",
   "execution_count": 71,
   "metadata": {},
   "outputs": [],
   "source": [
    "# возьмем другой текст\n",
    "text = \"Первая строка\\n\\\n",
    "        Вторая строка\""
   ]
  },
  {
   "cell_type": "code",
   "execution_count": 72,
   "metadata": {},
   "outputs": [
    {
     "data": {
      "text/plain": [
       "['Первая строка', '        Вторая строка']"
      ]
     },
     "execution_count": 72,
     "metadata": {},
     "output_type": "execute_result"
    }
   ],
   "source": [
    "re.findall('.+', text) # выбирается все"
   ]
  },
  {
   "cell_type": "code",
   "execution_count": 73,
   "metadata": {},
   "outputs": [
    {
     "data": {
      "text/plain": [
       "['Первая строка\\n        Вторая строка']"
      ]
     },
     "execution_count": 73,
     "metadata": {},
     "output_type": "execute_result"
    }
   ],
   "source": [
    "re.findall('[\\w\\d\\s\\n]+', text) # . не работает внутри фигурных"
   ]
  },
  {
   "cell_type": "code",
   "execution_count": 74,
   "metadata": {},
   "outputs": [
    {
     "data": {
      "text/plain": [
       "['Первая строка\\n        Вторая строка']"
      ]
     },
     "execution_count": 74,
     "metadata": {},
     "output_type": "execute_result"
    }
   ],
   "source": [
    "re.findall('.+', text, re.DOTALL) # выбирается все"
   ]
  },
  {
   "cell_type": "markdown",
   "metadata": {},
   "source": [
    "Все вышеперечисленное можно комбинировать!"
   ]
  },
  {
   "cell_type": "code",
   "execution_count": 149,
   "metadata": {},
   "outputs": [],
   "source": [
    "text = \"Отличается от предыдущей возможностью отслеживания 100 000 00 000 посещений, 50 страниц.\""
   ]
  },
  {
   "cell_type": "code",
   "execution_count": 156,
   "metadata": {},
   "outputs": [
    {
     "data": {
      "text/plain": [
       "['Отличается', 'отслеживания']"
      ]
     },
     "execution_count": 156,
     "metadata": {},
     "output_type": "execute_result"
    }
   ],
   "source": [
    "re.findall('[Оо](?:т|тс)л[еи][^\\d\\s]+', text) # матчим слова Отличается и отслеживания"
   ]
  },
  {
   "cell_type": "code",
   "execution_count": 157,
   "metadata": {},
   "outputs": [
    {
     "data": {
      "text/plain": [
       "['100 000 00 000', '50']"
      ]
     },
     "execution_count": 157,
     "metadata": {},
     "output_type": "execute_result"
    }
   ],
   "source": [
    "re.findall('[0-9]+(?:\\s[0-9]+)*', text) # матчим все последовательности цифр даже через пробел"
   ]
  },
  {
   "cell_type": "code",
   "execution_count": null,
   "metadata": {},
   "outputs": [],
   "source": []
  }
 ],
 "metadata": {
  "kernelspec": {
   "display_name": "Python 3",
   "language": "python",
   "name": "python3"
  },
  "language_info": {
   "codemirror_mode": {
    "name": "ipython",
    "version": 3
   },
   "file_extension": ".py",
   "mimetype": "text/x-python",
   "name": "python",
   "nbconvert_exporter": "python",
   "pygments_lexer": "ipython3",
   "version": "3.6.5"
  }
 },
 "nbformat": 4,
 "nbformat_minor": 4
}
