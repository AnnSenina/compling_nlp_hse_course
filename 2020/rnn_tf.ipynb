{
 "cells": [
  {
   "cell_type": "markdown",
   "metadata": {},
   "source": [
    "# Дисклеймер\n",
    "Эту тетрадку нужно запускать в колабе или в vast.ai. Не мучатесь с установкой библиотек и с обучением на cpu."
   ]
  },
  {
   "cell_type": "code",
   "execution_count": 132,
   "metadata": {},
   "outputs": [
    {
     "name": "stdout",
     "output_type": "stream",
     "text": [
      "Archive:  data.zip\n",
      "  inflating: lenta_sample.csv        \n",
      "  inflating: __MACOSX/._lenta_sample.csv  \n"
     ]
    }
   ],
   "source": [
    "!unzip data.zip"
   ]
  },
  {
   "cell_type": "code",
   "execution_count": 133,
   "metadata": {
    "scrolled": true
   },
   "outputs": [
    {
     "name": "stdout",
     "output_type": "stream",
     "text": [
      "Requirement already satisfied: pandas in /usr/local/lib/python3.6/dist-packages (1.1.5)\n",
      "Requirement already satisfied: scikit-learn in /usr/local/lib/python3.6/dist-packages (0.24.1)\n",
      "Requirement already satisfied: matplotlib in /usr/local/lib/python3.6/dist-packages (3.3.4)\n",
      "Requirement already satisfied: numpy>=1.15.4 in /usr/local/lib/python3.6/dist-packages (from pandas) (1.19.5)\n",
      "Requirement already satisfied: pytz>=2017.2 in /usr/local/lib/python3.6/dist-packages (from pandas) (2021.1)\n",
      "Requirement already satisfied: python-dateutil>=2.7.3 in /usr/local/lib/python3.6/dist-packages (from pandas) (2.8.1)\n",
      "Requirement already satisfied: threadpoolctl>=2.0.0 in /usr/local/lib/python3.6/dist-packages (from scikit-learn) (2.1.0)\n",
      "Requirement already satisfied: scipy>=0.19.1 in /usr/local/lib/python3.6/dist-packages (from scikit-learn) (1.5.4)\n",
      "Requirement already satisfied: joblib>=0.11 in /usr/local/lib/python3.6/dist-packages (from scikit-learn) (1.0.1)\n",
      "Requirement already satisfied: pyparsing!=2.0.4,!=2.1.2,!=2.1.6,>=2.0.3 in /usr/local/lib/python3.6/dist-packages (from matplotlib) (2.4.7)\n",
      "Requirement already satisfied: kiwisolver>=1.0.1 in /usr/local/lib/python3.6/dist-packages (from matplotlib) (1.3.1)\n",
      "Requirement already satisfied: pillow>=6.2.0 in /usr/local/lib/python3.6/dist-packages (from matplotlib) (8.2.0)\n",
      "Requirement already satisfied: cycler>=0.10 in /usr/local/lib/python3.6/dist-packages (from matplotlib) (0.10.0)\n",
      "Requirement already satisfied: six>=1.5 in /usr/local/lib/python3.6/dist-packages (from python-dateutil>=2.7.3->pandas) (1.15.0)\n",
      "\u001b[33mWARNING: You are using pip version 20.2.4; however, version 21.1.1 is available.\n",
      "You should consider upgrading via the '/usr/bin/python3 -m pip install --upgrade pip' command.\u001b[0m\n"
     ]
    }
   ],
   "source": [
    "!pip install pandas scikit-learn matplotlib"
   ]
  },
  {
   "cell_type": "markdown",
   "metadata": {},
   "source": [
    "## Рекуррентные нейронные сети"
   ]
  },
  {
   "cell_type": "markdown",
   "metadata": {},
   "source": [
    "Рекуррентные нейронные сети (RNN) предназначены для работы с последовательностями (в том числе текстом). По устройству они похожи на цикл, где каждый шаг связан с предудущим. Работают RNN сильно дольше сверток, так как сверточные слои применяются независимо и можно параллельно вычислить все трансформации, а в RNN вычислять шаг можно только после того, как вычеслен предыдущий. Неэффективность, как правило, компенсируется точностью, поэтому RNN являются стандартным инструментом при работе с текстами."
   ]
  },
  {
   "cell_type": "markdown",
   "metadata": {},
   "source": [
    "## Классификация текста с помощью RNN"
   ]
  },
  {
   "cell_type": "markdown",
   "metadata": {},
   "source": [
    "Давайте посмотрим, как в тензорфлоу использовать рекуррентные слои и как их соединять с Embedding и Dense слоями."
   ]
  },
  {
   "cell_type": "markdown",
   "metadata": {},
   "source": [
    "Используем данные, что и в двух предыдущих занятиях."
   ]
  },
  {
   "cell_type": "markdown",
   "metadata": {},
   "source": [
    "## Код с прошлых занятий"
   ]
  },
  {
   "cell_type": "code",
   "execution_count": 3,
   "metadata": {},
   "outputs": [],
   "source": [
    "import tensorflow as tf"
   ]
  },
  {
   "cell_type": "code",
   "execution_count": 4,
   "metadata": {},
   "outputs": [],
   "source": [
    "import pandas as pd\n",
    "import numpy as np\n",
    "from string import punctuation\n",
    "from sklearn.model_selection import train_test_split\n",
    "from collections import Counter\n",
    "from IPython.display import Image\n",
    "from IPython.core.display import HTML \n",
    "import matplotlib.pyplot as plt\n",
    "%matplotlib inline"
   ]
  },
  {
   "cell_type": "code",
   "execution_count": 5,
   "metadata": {},
   "outputs": [],
   "source": [
    "data = pd.read_csv('lenta_sample.csv')"
   ]
  },
  {
   "cell_type": "markdown",
   "metadata": {},
   "source": [
    "Предобработка нам тут особо не важна."
   ]
  },
  {
   "cell_type": "code",
   "execution_count": 6,
   "metadata": {},
   "outputs": [],
   "source": [
    "def preprocess(text):\n",
    "    tokens = text.lower().split()\n",
    "    tokens = [token.strip(punctuation) for token in tokens]\n",
    "    return tokens"
   ]
  },
  {
   "cell_type": "markdown",
   "metadata": {},
   "source": [
    "В предыдущей домашке не хватало фмеры. Ее нет в керасе, но можно взять вот такую функцию (взятую со стаковерфлоу)"
   ]
  },
  {
   "cell_type": "code",
   "execution_count": 7,
   "metadata": {},
   "outputs": [],
   "source": [
    "from tensorflow.keras import backend as K\n",
    "def f1(y_true, y_pred):\n",
    "    def recall(y_true, y_pred):\n",
    "        \"\"\"Recall metric.\n",
    "\n",
    "        Only computes a batch-wise average of recall.\n",
    "\n",
    "        Computes the recall, a metric for multi-label classification of\n",
    "        how many relevant items are selected.\n",
    "        \"\"\"\n",
    "        true_positives = K.sum(K.round(K.clip(y_true * y_pred, 0, 1)))\n",
    "        possible_positives = K.sum(K.round(K.clip(y_true, 0, 1)))\n",
    "        recall = true_positives / (possible_positives + K.epsilon())\n",
    "        return recall\n",
    "\n",
    "    def precision(y_true, y_pred):\n",
    "        \"\"\"Precision metric.\n",
    "\n",
    "        Only computes a batch-wise average of precision.\n",
    "\n",
    "        Computes the precision, a metric for multi-label classification of\n",
    "        how many selected items are relevant.\n",
    "        \"\"\"\n",
    "        true_positives = K.sum(K.round(K.clip(y_true * y_pred, 0, 1)))\n",
    "        predicted_positives = K.sum(K.round(K.clip(y_pred, 0, 1)))\n",
    "        precision = true_positives / (predicted_positives + K.epsilon())\n",
    "        return precision\n",
    "    precision = precision(y_true, y_pred)\n",
    "    recall = recall(y_true, y_pred)\n",
    "    return 2*((precision*recall)/(precision+recall+K.epsilon()))"
   ]
  },
  {
   "cell_type": "markdown",
   "metadata": {},
   "source": [
    "Предобработка точно такая же"
   ]
  },
  {
   "cell_type": "code",
   "execution_count": 8,
   "metadata": {},
   "outputs": [],
   "source": [
    "# словарь\n",
    "vocab = Counter()\n",
    "\n",
    "for text in data.text:\n",
    "    vocab.update(preprocess(text))"
   ]
  },
  {
   "cell_type": "code",
   "execution_count": 9,
   "metadata": {},
   "outputs": [
    {
     "data": {
      "text/plain": [
       "670782"
      ]
     },
     "execution_count": 9,
     "metadata": {},
     "output_type": "execute_result"
    }
   ],
   "source": [
    "len(vocab)"
   ]
  },
  {
   "cell_type": "code",
   "execution_count": 10,
   "metadata": {},
   "outputs": [],
   "source": [
    "# отфильтрованный словарь\n",
    "filtered_vocab = set()\n",
    "\n",
    "for word in vocab:\n",
    "    if vocab[word] > 30:\n",
    "        filtered_vocab.add(word)"
   ]
  },
  {
   "cell_type": "code",
   "execution_count": 11,
   "metadata": {},
   "outputs": [
    {
     "data": {
      "text/plain": [
       "55293"
      ]
     },
     "execution_count": 11,
     "metadata": {},
     "output_type": "execute_result"
    }
   ],
   "source": [
    "len(filtered_vocab)"
   ]
  },
  {
   "cell_type": "code",
   "execution_count": 12,
   "metadata": {},
   "outputs": [],
   "source": [
    "# индексируем слова\n",
    "word2id = {'PAD':0}\n",
    "\n",
    "for word in filtered_vocab:\n",
    "    word2id[word] = len(word2id)"
   ]
  },
  {
   "cell_type": "code",
   "execution_count": 13,
   "metadata": {},
   "outputs": [],
   "source": [
    "id2word = {i:word for word, i in word2id.items()}"
   ]
  },
  {
   "cell_type": "code",
   "execution_count": 14,
   "metadata": {},
   "outputs": [],
   "source": [
    "# переводим тексты в последовательности индексов\n",
    "X = []\n",
    "\n",
    "for text in data.text:\n",
    "    tokens = preprocess(text)\n",
    "    ids = [word2id.get(token, 1) for token in tokens]\n",
    "    X.append(ids)"
   ]
  },
  {
   "cell_type": "code",
   "execution_count": 15,
   "metadata": {},
   "outputs": [],
   "source": [
    "MAX_LEN = max(len(x) for x in X)"
   ]
  },
  {
   "cell_type": "markdown",
   "metadata": {},
   "source": [
    "Можно посчитать среднюю или медианную длину, если максимальная кажется слишком большой."
   ]
  },
  {
   "cell_type": "code",
   "execution_count": 16,
   "metadata": {},
   "outputs": [],
   "source": [
    "MEAN_LEN = np.median([len(x) for x in X])"
   ]
  },
  {
   "cell_type": "code",
   "execution_count": 17,
   "metadata": {},
   "outputs": [
    {
     "data": {
      "text/plain": [
       "(3578, 170.0)"
      ]
     },
     "execution_count": 17,
     "metadata": {},
     "output_type": "execute_result"
    }
   ],
   "source": [
    "MAX_LEN, MEAN_LEN"
   ]
  },
  {
   "cell_type": "code",
   "execution_count": 18,
   "metadata": {},
   "outputs": [],
   "source": [
    "MAX_LEN = int(MEAN_LEN + 30)"
   ]
  },
  {
   "cell_type": "code",
   "execution_count": 19,
   "metadata": {},
   "outputs": [],
   "source": [
    "# паддинг\n",
    "X = tf.keras.preprocessing.sequence.pad_sequences(X, maxlen=MAX_LEN)"
   ]
  },
  {
   "cell_type": "code",
   "execution_count": 20,
   "metadata": {},
   "outputs": [
    {
     "data": {
      "text/plain": [
       "(147852, 200)"
      ]
     },
     "execution_count": 20,
     "metadata": {},
     "output_type": "execute_result"
    }
   ],
   "source": [
    "X.shape"
   ]
  },
  {
   "cell_type": "code",
   "execution_count": 21,
   "metadata": {},
   "outputs": [],
   "source": [
    "id2label = {i:label for i, label in enumerate(set(data.topic.values))}\n",
    "label2id = {l:i for i, l in id2label.items()}"
   ]
  },
  {
   "cell_type": "code",
   "execution_count": 22,
   "metadata": {},
   "outputs": [],
   "source": [
    "y = tf.keras.utils.to_categorical([label2id[label] for label in data.topic.values])"
   ]
  },
  {
   "cell_type": "code",
   "execution_count": 23,
   "metadata": {},
   "outputs": [
    {
     "data": {
      "text/plain": [
       "19"
      ]
     },
     "execution_count": 23,
     "metadata": {},
     "output_type": "execute_result"
    }
   ],
   "source": [
    "len(label2id)"
   ]
  },
  {
   "cell_type": "markdown",
   "metadata": {},
   "source": [
    "В этот раз добавим стратификацию, т.к. в данных у нас дисбаланс классов."
   ]
  },
  {
   "cell_type": "code",
   "execution_count": 24,
   "metadata": {},
   "outputs": [],
   "source": [
    "X_train, X_valid, y_train, y_valid = train_test_split(X, y, test_size=0.05)"
   ]
  },
  {
   "cell_type": "markdown",
   "metadata": {},
   "source": [
    "## Конец кода с прошлых занятий"
   ]
  },
  {
   "cell_type": "markdown",
   "metadata": {},
   "source": [
    "Есть несколько разновидностей рекуррентных слоев - RNN (vanila rnn), GRU, LSTM. "
   ]
  },
  {
   "cell_type": "markdown",
   "metadata": {},
   "source": [
    "Первый - самый простой рекуррентный слой, где на каждом шаге используется предыдущее состояние и текущий вектор, оба они умножаются на соответствующую матрицу весов и получившиеся вектора складываются в один, который передается на следующий шаг. Проблема с обычными RNN в том, что информация о предыдущих состояних очень быстро затирается и учитывать нелокальные зависимости не получается. \n"
   ]
  },
  {
   "cell_type": "markdown",
   "metadata": {},
   "source": [
    "\n",
    "LSTM и GRU частично решают это проблему добавление дополнительных матриц весов и активаций, которые будут отвечать за то, чтобы нужная информация сохранялась на протяжении всей последовательности. GRU немного проще и поэтому немного быстрее, но это не всегда значит, что LSTM лучше по качеству. \n"
   ]
  },
  {
   "cell_type": "code",
   "execution_count": 135,
   "metadata": {},
   "outputs": [
    {
     "data": {
      "text/html": [
       "<img src=\"https://habrastorage.org/webt/xt/_q/nj/xt_qnjgfjengqoqd4gizkq4j_wk.png\" width=\"1000\" height=\"1000\"/>"
      ],
      "text/plain": [
       "<IPython.core.display.Image object>"
      ]
     },
     "execution_count": 135,
     "metadata": {},
     "output_type": "execute_result"
    }
   ],
   "source": [
    "# lstm cell\n",
    "Image(url=\"https://habrastorage.org/webt/xt/_q/nj/xt_qnjgfjengqoqd4gizkq4j_wk.png\",\n",
    "     width=1000, height=1000)"
   ]
  },
  {
   "cell_type": "markdown",
   "metadata": {},
   "source": [
    "Ссылки, чтобы разобраться подробнее:  \n",
    "    http://karpathy.github.io/2015/05/21/rnn-effectiveness/  \n",
    "    https://towardsdatascience.com/illustrated-guide-to-lstms-and-gru-s-a-step-by-step-explanation-44e9eb85bf21  \n",
    "    https://colah.github.io/posts/2015-08-Understanding-LSTMs/  \n",
    "    \n",
    "    \n",
    "    \n",
    "    "
   ]
  },
  {
   "cell_type": "markdown",
   "metadata": {},
   "source": [
    "Использовать RNN слой в tf проще, чем понять, как он устроен. Нужно просто поставить его после другого слоя, который возвращает последовательность.\n",
    "\n",
    "При return_sequences=False в следующий слой будет передаваться только последнее состояние - 1 вектор, т.е. не нужно конкатенировать"
   ]
  },
  {
   "cell_type": "code",
   "execution_count": 25,
   "metadata": {},
   "outputs": [],
   "source": [
    "inputs = tf.keras.layers.Input(shape=(MAX_LEN,))\n",
    "embeddings = tf.keras.layers.Embedding(input_dim=len(word2id), output_dim=30)(inputs, )\n",
    "\n",
    "\n",
    "rnn = tf.keras.layers.SimpleRNN(128, return_sequences=False)(embeddings)\n",
    "# lstm = tf.keras.layers.LSTM(128, return_sequences=False)(embeddings)\n",
    "# lstm = tf.keras.layers.GRU(128, return_sequences=False)(embeddings)\n",
    "\n",
    "dense = tf.keras.layers.Dense(64, activation='relu')(rnn)\n",
    "outputs = tf.keras.layers.Dense(len(label2id), activation='softmax')(dense)\n",
    "\n",
    "model = tf.keras.Model(inputs=inputs, outputs=outputs)\n",
    "optimizer = tf.keras.optimizers.Adam(learning_rate=0.001)\n",
    "model.compile(optimizer=optimizer,\n",
    "              loss='categorical_crossentropy',\n",
    "              metrics=[f1, tf.keras.metrics.RecallAtPrecision(0.8, name='rec@prec')])\n"
   ]
  },
  {
   "cell_type": "code",
   "execution_count": 26,
   "metadata": {},
   "outputs": [
    {
     "name": "stdout",
     "output_type": "stream",
     "text": [
      "Model: \"model\"\n",
      "_________________________________________________________________\n",
      "Layer (type)                 Output Shape              Param #   \n",
      "=================================================================\n",
      "input_1 (InputLayer)         [(None, 200)]             0         \n",
      "_________________________________________________________________\n",
      "embedding (Embedding)        (None, 200, 30)           1658820   \n",
      "_________________________________________________________________\n",
      "simple_rnn (SimpleRNN)       (None, 128)               20352     \n",
      "_________________________________________________________________\n",
      "dense (Dense)                (None, 64)                8256      \n",
      "_________________________________________________________________\n",
      "dense_1 (Dense)              (None, 19)                1235      \n",
      "=================================================================\n",
      "Total params: 1,688,663\n",
      "Trainable params: 1,688,663\n",
      "Non-trainable params: 0\n",
      "_________________________________________________________________\n"
     ]
    }
   ],
   "source": [
    "model.summary()"
   ]
  },
  {
   "cell_type": "code",
   "execution_count": 27,
   "metadata": {
    "scrolled": true
   },
   "outputs": [
    {
     "name": "stdout",
     "output_type": "stream",
     "text": [
      "Epoch 1/10\n",
      "141/141 [==============================] - 38s 252ms/step - loss: 2.4573 - f1: 0.0000e+00 - rec@prec: 0.0000e+00 - val_loss: 2.3023 - val_f1: 0.0000e+00 - val_rec@prec: 1.3526e-04\n",
      "Epoch 2/10\n",
      "141/141 [==============================] - 34s 244ms/step - loss: 2.2937 - f1: 7.1608e-04 - rec@prec: 3.0274e-05 - val_loss: 2.2270 - val_f1: 0.0000e+00 - val_rec@prec: 0.0000e+00\n",
      "Epoch 3/10\n",
      "141/141 [==============================] - 34s 244ms/step - loss: 2.1441 - f1: 0.0257 - rec@prec: 0.0051 - val_loss: 2.6422 - val_f1: 0.1091 - val_rec@prec: 0.0022\n",
      "Epoch 4/10\n",
      "141/141 [==============================] - 35s 245ms/step - loss: 1.9770 - f1: 0.1697 - rec@prec: 0.0511 - val_loss: 1.7452 - val_f1: 0.3120 - val_rec@prec: 0.0902\n",
      "Epoch 5/10\n",
      "141/141 [==============================] - 34s 244ms/step - loss: 1.5627 - f1: 0.3903 - rec@prec: 0.1884 - val_loss: 1.9638 - val_f1: 0.1955 - val_rec@prec: 0.0667\n",
      "Epoch 6/10\n",
      "141/141 [==============================] - 34s 241ms/step - loss: 1.5304 - f1: 0.3883 - rec@prec: 0.2079 - val_loss: 1.5904 - val_f1: 0.4212 - val_rec@prec: 0.1588\n",
      "Epoch 7/10\n",
      "141/141 [==============================] - 34s 242ms/step - loss: 1.3027 - f1: 0.5341 - rec@prec: 0.3567 - val_loss: 1.7920 - val_f1: 0.4118 - val_rec@prec: 0.0897\n",
      "Epoch 8/10\n",
      "141/141 [==============================] - 34s 242ms/step - loss: 1.3465 - f1: 0.5174 - rec@prec: 0.3339 - val_loss: 1.6881 - val_f1: 0.4502 - val_rec@prec: 0.1679\n",
      "Epoch 9/10\n",
      "141/141 [==============================] - 34s 242ms/step - loss: 1.1131 - f1: 0.6202 - rec@prec: 0.4912 - val_loss: 1.6145 - val_f1: 0.4605 - val_rec@prec: 0.1665\n",
      "Epoch 10/10\n",
      "141/141 [==============================] - 34s 241ms/step - loss: 1.0263 - f1: 0.6558 - rec@prec: 0.5582 - val_loss: 1.8288 - val_f1: 0.4100 - val_rec@prec: 0.1408\n"
     ]
    },
    {
     "data": {
      "text/plain": [
       "<tensorflow.python.keras.callbacks.History at 0x7f059b021390>"
      ]
     },
     "execution_count": 27,
     "metadata": {},
     "output_type": "execute_result"
    }
   ],
   "source": [
    "model.fit(X_train, y_train, \n",
    "          validation_data=(X_valid, y_valid),\n",
    "          batch_size=1000,\n",
    "         epochs=10)"
   ]
  },
  {
   "cell_type": "code",
   "execution_count": 29,
   "metadata": {},
   "outputs": [
    {
     "name": "stdout",
     "output_type": "stream",
     "text": [
      "dict_keys(['loss', 'f1', 'rec@prec', 'val_loss', 'val_f1', 'val_rec@prec'])\n"
     ]
    },
    {
     "data": {
      "image/png": "[encoded data removed]",
      "text/plain": [
       "<Figure size 432x288 with 1 Axes>"
      ]
     },
     "metadata": {
      "needs_background": "light"
     },
     "output_type": "display_data"
    }
   ],
   "source": [
    "print(model.history.history.keys())\n",
    "# summarize history for accuracy\n",
    "plt.plot(model.history.history['rec@prec'])\n",
    "plt.plot(model.history.history['val_rec@prec'])\n",
    "plt.title('model f1')\n",
    "plt.ylabel('f1')\n",
    "plt.xlabel('epoch')\n",
    "plt.legend(['train', 'val'], loc='upper left')\n",
    "plt.show()"
   ]
  },
  {
   "cell_type": "markdown",
   "metadata": {},
   "source": [
    "Рекуррентные слои можно накладывать друг на друга. Нужно только указать параметр return_sequences=True, т.к. слой ожидает на вход последовательность. Длина последовательности не изменяется, поэтому можно совмещать сколько угодно слоев."
   ]
  },
  {
   "cell_type": "markdown",
   "metadata": {},
   "source": [
    "Основной параметр в LSTM/GRU слое - units. Чем он больше, тем больше весов будет в модели. Он будет соответствовать размеру вектора состояния. Он может быть любой даже при накладывании слоев друг на друга (они могут быть одинаковые как тут, первый может быть больше, второй может быть больше)."
   ]
  },
  {
   "cell_type": "code",
   "execution_count": 31,
   "metadata": {},
   "outputs": [],
   "source": [
    "inputs = tf.keras.layers.Input(shape=(MAX_LEN,))\n",
    "embeddings = tf.keras.layers.Embedding(input_dim=len(word2id), output_dim=30)(inputs, )\n",
    "\n",
    "lstm_1 = tf.keras.layers.LSTM(128, return_sequences=True)(embeddings)\n",
    "lstm_2 = tf.keras.layers.GRU(128, return_sequences=False)(lstm_1)\n",
    "\n",
    "dense = tf.keras.layers.Dense(64, activation='relu')(lstm_2)\n",
    "outputs = tf.keras.layers.Dense(len(label2id), activation='softmax')(dense)\n",
    "\n",
    "model = tf.keras.Model(inputs=inputs, outputs=outputs)\n",
    "optimizer = tf.keras.optimizers.Adam(learning_rate=0.001)\n",
    "model.compile(optimizer=optimizer,\n",
    "              loss='categorical_crossentropy',\n",
    "              metrics=[f1, tf.keras.metrics.RecallAtPrecision(0.8, name='rec@prec')])\n"
   ]
  },
  {
   "cell_type": "code",
   "execution_count": 32,
   "metadata": {},
   "outputs": [
    {
     "name": "stdout",
     "output_type": "stream",
     "text": [
      "Model: \"model_2\"\n",
      "_________________________________________________________________\n",
      "Layer (type)                 Output Shape              Param #   \n",
      "=================================================================\n",
      "input_3 (InputLayer)         [(None, 200)]             0         \n",
      "_________________________________________________________________\n",
      "embedding_2 (Embedding)      (None, 200, 30)           1658820   \n",
      "_________________________________________________________________\n",
      "lstm_2 (LSTM)                (None, 200, 128)          81408     \n",
      "_________________________________________________________________\n",
      "gru (GRU)                    (None, 128)               99072     \n",
      "_________________________________________________________________\n",
      "dense_4 (Dense)              (None, 64)                8256      \n",
      "_________________________________________________________________\n",
      "dense_5 (Dense)              (None, 19)                1235      \n",
      "=================================================================\n",
      "Total params: 1,848,791\n",
      "Trainable params: 1,848,791\n",
      "Non-trainable params: 0\n",
      "_________________________________________________________________\n"
     ]
    }
   ],
   "source": [
    "model.summary()"
   ]
  },
  {
   "cell_type": "code",
   "execution_count": 33,
   "metadata": {
    "scrolled": true
   },
   "outputs": [
    {
     "name": "stdout",
     "output_type": "stream",
     "text": [
      "Epoch 1/15\n",
      "71/71 [==============================] - 30s 320ms/step - loss: 2.5652 - f1: 0.0000e+00 - rec@prec: 0.0000e+00 - val_loss: 2.2032 - val_f1: 0.0000e+00 - val_rec@prec: 0.0011\n",
      "Epoch 2/15\n",
      "71/71 [==============================] - 24s 334ms/step - loss: 1.9684 - f1: 0.0148 - rec@prec: 0.0052 - val_loss: 1.5591 - val_f1: 0.2131 - val_rec@prec: 0.1422\n",
      "Epoch 3/15\n",
      "71/71 [==============================] - 24s 337ms/step - loss: 1.4062 - f1: 0.3636 - rec@prec: 0.2047 - val_loss: 1.1990 - val_f1: 0.6084 - val_rec@prec: 0.4412\n",
      "Epoch 4/15\n",
      "71/71 [==============================] - 25s 346ms/step - loss: 0.9777 - f1: 0.6867 - rec@prec: 0.5991 - val_loss: 0.9950 - val_f1: 0.6969 - val_rec@prec: 0.6153\n",
      "Epoch 5/15\n",
      "71/71 [==============================] - 25s 351ms/step - loss: 0.7373 - f1: 0.7769 - rec@prec: 0.7690 - val_loss: 0.9576 - val_f1: 0.7157 - val_rec@prec: 0.6409\n",
      "Epoch 6/15\n",
      "71/71 [==============================] - 23s 331ms/step - loss: 0.5919 - f1: 0.8290 - rec@prec: 0.8484 - val_loss: 0.9851 - val_f1: 0.7182 - val_rec@prec: 0.6437\n",
      "Epoch 7/15\n",
      "71/71 [==============================] - 24s 341ms/step - loss: 0.4997 - f1: 0.8590 - rec@prec: 0.8887 - val_loss: 1.0169 - val_f1: 0.7264 - val_rec@prec: 0.6574\n",
      "Epoch 8/15\n",
      "71/71 [==============================] - 24s 342ms/step - loss: 0.4309 - f1: 0.8812 - rec@prec: 0.9161 - val_loss: 1.0747 - val_f1: 0.7207 - val_rec@prec: 0.6470\n",
      "Epoch 9/15\n",
      "71/71 [==============================] - 25s 349ms/step - loss: 0.3640 - f1: 0.9014 - rec@prec: 0.9379 - val_loss: 1.1829 - val_f1: 0.7117 - val_rec@prec: 0.6240\n",
      "Epoch 10/15\n",
      "71/71 [==============================] - 25s 352ms/step - loss: 0.3233 - f1: 0.9148 - rec@prec: 0.9497 - val_loss: 1.2205 - val_f1: 0.7196 - val_rec@prec: 0.6367\n",
      "Epoch 11/15\n",
      "71/71 [==============================] - 25s 356ms/step - loss: 0.2822 - f1: 0.9255 - rec@prec: 0.9597 - val_loss: 1.2973 - val_f1: 0.7168 - val_rec@prec: 0.6282\n",
      "Epoch 12/15\n",
      "71/71 [==============================] - 25s 353ms/step - loss: 0.2634 - f1: 0.9306 - rec@prec: 0.9643 - val_loss: 1.2995 - val_f1: 0.7136 - val_rec@prec: 0.6351\n",
      "Epoch 13/15\n",
      "71/71 [==============================] - 25s 355ms/step - loss: 0.2186 - f1: 0.9451 - rec@prec: 0.9737 - val_loss: 1.3885 - val_f1: 0.7157 - val_rec@prec: 0.6352\n",
      "Epoch 14/15\n",
      "71/71 [==============================] - 25s 355ms/step - loss: 0.1961 - f1: 0.9510 - rec@prec: 0.9785 - val_loss: 1.4397 - val_f1: 0.7165 - val_rec@prec: 0.6399\n",
      "Epoch 15/15\n",
      "71/71 [==============================] - 25s 353ms/step - loss: 0.1840 - f1: 0.9533 - rec@prec: 0.9811 - val_loss: 1.4885 - val_f1: 0.7131 - val_rec@prec: 0.6219\n"
     ]
    },
    {
     "data": {
      "text/plain": [
       "<tensorflow.python.keras.callbacks.History at 0x7f0598edbcf8>"
      ]
     },
     "execution_count": 33,
     "metadata": {},
     "output_type": "execute_result"
    }
   ],
   "source": [
    "model.fit(X_train, y_train, \n",
    "          validation_data=(X_valid, y_valid),\n",
    "          batch_size=2000,\n",
    "          epochs=15)"
   ]
  },
  {
   "cell_type": "code",
   "execution_count": 34,
   "metadata": {},
   "outputs": [
    {
     "name": "stdout",
     "output_type": "stream",
     "text": [
      "dict_keys(['loss', 'f1', 'rec@prec', 'val_loss', 'val_f1', 'val_rec@prec'])\n"
     ]
    },
    {
     "data": {
      "image/png": "[encoded data removed]",
      "text/plain": [
       "<Figure size 432x288 with 1 Axes>"
      ]
     },
     "metadata": {
      "needs_background": "light"
     },
     "output_type": "display_data"
    }
   ],
   "source": [
    "print(model.history.history.keys())\n",
    "# summarize history for accuracy\n",
    "plt.plot(model.history.history['f1'])\n",
    "plt.plot(model.history.history['val_f1'])\n",
    "plt.title('model f1')\n",
    "plt.ylabel('f1')\n",
    "plt.xlabel('epoch')\n",
    "plt.legend(['train', 'val'], loc='upper left')\n",
    "plt.show()"
   ]
  },
  {
   "cell_type": "markdown",
   "metadata": {},
   "source": [
    "Рекурретную сеть можно применить в прямом и обратном порядке и объединить состояния в одно (половина вектора будет про инфу до, половина про инфу после). Это назвается Bidirectional и делается в tf очень просто. "
   ]
  },
  {
   "cell_type": "code",
   "execution_count": 36,
   "metadata": {},
   "outputs": [],
   "source": [
    "inputs = tf.keras.layers.Input(shape=(MAX_LEN,))\n",
    "embeddings = tf.keras.layers.Embedding(input_dim=len(word2id), output_dim=30)(inputs, )\n",
    "\n",
    "lstm_1 = tf.keras.layers.Bidirectional(tf.keras.layers.LSTM(128, return_sequences=True))(embeddings)\n",
    "lstm_2 = tf.keras.layers.LSTM(32, return_sequences=False)(lstm_1)\n",
    "\n",
    "outputs = tf.keras.layers.Dense(len(label2id), activation='softmax')(lstm_2)\n",
    "\n",
    "model = tf.keras.Model(inputs=inputs, outputs=outputs)\n",
    "optimizer = tf.keras.optimizers.Adam(learning_rate=0.001)\n",
    "model.compile(optimizer=optimizer,\n",
    "              loss='categorical_crossentropy',\n",
    "              metrics=[f1, tf.keras.metrics.RecallAtPrecision(0.8, name='rec@prec')])\n"
   ]
  },
  {
   "cell_type": "code",
   "execution_count": 37,
   "metadata": {},
   "outputs": [
    {
     "name": "stdout",
     "output_type": "stream",
     "text": [
      "Model: \"model_4\"\n",
      "_________________________________________________________________\n",
      "Layer (type)                 Output Shape              Param #   \n",
      "=================================================================\n",
      "input_5 (InputLayer)         [(None, 200)]             0         \n",
      "_________________________________________________________________\n",
      "embedding_4 (Embedding)      (None, 200, 30)           1658820   \n",
      "_________________________________________________________________\n",
      "bidirectional_1 (Bidirection (None, 200, 256)          162816    \n",
      "_________________________________________________________________\n",
      "lstm_6 (LSTM)                (None, 32)                36992     \n",
      "_________________________________________________________________\n",
      "dense_8 (Dense)              (None, 19)                627       \n",
      "=================================================================\n",
      "Total params: 1,859,255\n",
      "Trainable params: 1,859,255\n",
      "Non-trainable params: 0\n",
      "_________________________________________________________________\n"
     ]
    }
   ],
   "source": [
    "model.summary()\n",
    "# обратите внимание на размер output в biderectional\n",
    "# он равен units * 2"
   ]
  },
  {
   "cell_type": "code",
   "execution_count": 38,
   "metadata": {
    "scrolled": true
   },
   "outputs": [
    {
     "name": "stdout",
     "output_type": "stream",
     "text": [
      "Epoch 1/5\n",
      "71/71 [==============================] - 34s 413ms/step - loss: 2.6258 - f1: 0.0000e+00 - rec@prec: 0.0000e+00 - val_loss: 2.3365 - val_f1: 0.0000e+00 - val_rec@prec: 0.0000e+00\n",
      "Epoch 2/5\n",
      "71/71 [==============================] - 28s 396ms/step - loss: 2.3072 - f1: 0.0000e+00 - rec@prec: 1.1900e-05 - val_loss: 2.0172 - val_f1: 0.0000e+00 - val_rec@prec: 0.0000e+00\n",
      "Epoch 3/5\n",
      "71/71 [==============================] - 28s 396ms/step - loss: 1.9744 - f1: 0.0681 - rec@prec: 0.0036 - val_loss: 1.7839 - val_f1: 0.3001 - val_rec@prec: 0.0073\n",
      "Epoch 4/5\n",
      "71/71 [==============================] - 28s 393ms/step - loss: 1.7706 - f1: 0.3044 - rec@prec: 0.1013 - val_loss: 1.6943 - val_f1: 0.2924 - val_rec@prec: 0.1316\n",
      "Epoch 5/5\n",
      "71/71 [==============================] - 28s 397ms/step - loss: 1.5975 - f1: 0.3459 - rec@prec: 0.2302 - val_loss: 1.7022 - val_f1: 0.2606 - val_rec@prec: 0.2602\n"
     ]
    },
    {
     "data": {
      "text/plain": [
       "<tensorflow.python.keras.callbacks.History at 0x7f04636825f8>"
      ]
     },
     "execution_count": 38,
     "metadata": {},
     "output_type": "execute_result"
    }
   ],
   "source": [
    "model.fit(X_train, y_train, \n",
    "          validation_data=(X_valid, y_valid),\n",
    "          batch_size=2000,\n",
    "         epochs=10)"
   ]
  },
  {
   "cell_type": "code",
   "execution_count": 39,
   "metadata": {},
   "outputs": [
    {
     "name": "stdout",
     "output_type": "stream",
     "text": [
      "dict_keys(['loss', 'f1', 'rec@prec', 'val_loss', 'val_f1', 'val_rec@prec'])\n"
     ]
    },
    {
     "data": {
      "image/png": "[encoded data removed]",
      "text/plain": [
       "<Figure size 432x288 with 1 Axes>"
      ]
     },
     "metadata": {
      "needs_background": "light"
     },
     "output_type": "display_data"
    }
   ],
   "source": [
    "print(model.history.history.keys())\n",
    "# summarize history for accuracy\n",
    "plt.plot(model.history.history['f1'])\n",
    "plt.plot(model.history.history['val_f1'])\n",
    "plt.title('model f1')\n",
    "plt.ylabel('f1')\n",
    "plt.xlabel('epoch')\n",
    "plt.legend(['train', 'val'], loc='upper left')\n",
    "plt.show()"
   ]
  },
  {
   "cell_type": "markdown",
   "metadata": {},
   "source": [
    "Для простой классификации (когда мы используем только последний стейт) Bidirectional в таком виде не очень-то помогает (т.к. на последнем стейте у нас будет только первый стейт с обратного прохода). \n",
    "\n",
    "Можно отдельно прогнать RNN туда и обратно и последние стейты объединить (получится стейт, соответствующий последнему слову текста из прямого прохода и стейт, соответствующий первому слову в тексте из обратного прохода).\n"
   ]
  },
  {
   "cell_type": "markdown",
   "metadata": {},
   "source": [
    "NB: когда мы оборачиваем LSTM в Bidirectional, то этот слой применяется и напрямую и обратно. Кажется, что логичнее иметь один слой для прямого прогона и один для обратного.\n",
    "В Bidirectional можно также указать отдельный backward_layer, чтобы использовался новый слой."
   ]
  },
  {
   "cell_type": "code",
   "execution_count": 54,
   "metadata": {},
   "outputs": [],
   "source": [
    "inputs = tf.keras.layers.Input(shape=(MAX_LEN,))\n",
    "embeddings = tf.keras.layers.Embedding(input_dim=len(word2id), output_dim=30)(inputs, )\n",
    "\n",
    "# 1 слой на 2 прогона\n",
    "# lstm = tf.keras.layers.LSTM(128, return_sequences=False)\n",
    "# lstm_forward = lstm(embeddings)\n",
    "# lstm_backward = lstm(embeddings[::-1])\n",
    "\n",
    "# 2 слоя\n",
    "lstm_forward =  tf.keras.layers.LSTM(128, return_sequences=False)(embeddings)\n",
    "lstm_backward =  tf.keras.layers.LSTM(128, return_sequences=False, go_backwards=True)(embeddings)\n",
    "\n",
    "hidden = tf.keras.layers.concatenate([lstm_forward, lstm_backward])\n",
    "\n",
    "outputs = tf.keras.layers.Dense(len(label2id), activation='softmax')(hidden)\n",
    "\n",
    "model = tf.keras.Model(inputs=inputs, outputs=outputs)\n",
    "\n",
    "model.compile(optimizer='rmsprop',\n",
    "              loss='categorical_crossentropy',\n",
    "              metrics=[f1, tf.keras.metrics.RecallAtPrecision(0.8, name='rec@prec')])\n"
   ]
  },
  {
   "cell_type": "code",
   "execution_count": 55,
   "metadata": {},
   "outputs": [
    {
     "name": "stdout",
     "output_type": "stream",
     "text": [
      "Model: \"model_10\"\n",
      "__________________________________________________________________________________________________\n",
      "Layer (type)                    Output Shape         Param #     Connected to                     \n",
      "==================================================================================================\n",
      "input_12 (InputLayer)           [(None, 200)]        0                                            \n",
      "__________________________________________________________________________________________________\n",
      "embedding_11 (Embedding)        (None, 200, 30)      1658820     input_12[0][0]                   \n",
      "__________________________________________________________________________________________________\n",
      "lstm_18 (LSTM)                  (None, 128)          81408       embedding_11[0][0]               \n",
      "__________________________________________________________________________________________________\n",
      "lstm_19 (LSTM)                  (None, 128)          81408       embedding_11[0][0]               \n",
      "__________________________________________________________________________________________________\n",
      "concatenate_6 (Concatenate)     (None, 256)          0           lstm_18[0][0]                    \n",
      "                                                                 lstm_19[0][0]                    \n",
      "__________________________________________________________________________________________________\n",
      "dense_14 (Dense)                (None, 19)           4883        concatenate_6[0][0]              \n",
      "==================================================================================================\n",
      "Total params: 1,826,519\n",
      "Trainable params: 1,826,519\n",
      "Non-trainable params: 0\n",
      "__________________________________________________________________________________________________\n"
     ]
    }
   ],
   "source": [
    "model.summary()\n",
    "# обратите внимание на размер output в biderectional\n",
    "# он равен units * 2"
   ]
  },
  {
   "cell_type": "code",
   "execution_count": 58,
   "metadata": {
    "scrolled": true
   },
   "outputs": [
    {
     "name": "stdout",
     "output_type": "stream",
     "text": [
      "Epoch 1/10\n",
      "71/71 [==============================] - 23s 325ms/step - loss: 0.8136 - f1: 0.7534 - rec@prec: 0.7316 - val_loss: 1.2024 - val_f1: 0.6229 - val_rec@prec: 0.4902\n",
      "Epoch 2/10\n",
      "71/71 [==============================] - 23s 328ms/step - loss: 0.7640 - f1: 0.7643 - rec@prec: 0.7521 - val_loss: 1.0785 - val_f1: 0.7033 - val_rec@prec: 0.6068\n",
      "Epoch 3/10\n",
      "71/71 [==============================] - 23s 330ms/step - loss: 0.7098 - f1: 0.7887 - rec@prec: 0.7948 - val_loss: 1.0352 - val_f1: 0.7057 - val_rec@prec: 0.6196\n",
      "Epoch 4/10\n",
      "71/71 [==============================] - 23s 328ms/step - loss: 0.6751 - f1: 0.7991 - rec@prec: 0.8115 - val_loss: 0.9687 - val_f1: 0.7220 - val_rec@prec: 0.6633\n",
      "Epoch 5/10\n",
      "71/71 [==============================] - 24s 337ms/step - loss: 0.6204 - f1: 0.8168 - rec@prec: 0.8382 - val_loss: 1.0775 - val_f1: 0.7007 - val_rec@prec: 0.5880\n",
      "Epoch 6/10\n",
      "71/71 [==============================] - 24s 333ms/step - loss: 0.5726 - f1: 0.8324 - rec@prec: 0.8612 - val_loss: 1.0126 - val_f1: 0.7189 - val_rec@prec: 0.6424\n",
      "Epoch 7/10\n",
      "71/71 [==============================] - 24s 332ms/step - loss: 0.5217 - f1: 0.8474 - rec@prec: 0.8827 - val_loss: 0.9797 - val_f1: 0.7285 - val_rec@prec: 0.6608\n",
      "Epoch 8/10\n",
      "71/71 [==============================] - 24s 332ms/step - loss: 0.4836 - f1: 0.8608 - rec@prec: 0.8985 - val_loss: 0.9572 - val_f1: 0.7376 - val_rec@prec: 0.6736\n",
      "Epoch 9/10\n",
      "71/71 [==============================] - 23s 331ms/step - loss: 0.4493 - f1: 0.8715 - rec@prec: 0.9121 - val_loss: 0.8916 - val_f1: 0.7650 - val_rec@prec: 0.7343\n",
      "Epoch 10/10\n",
      "71/71 [==============================] - 24s 331ms/step - loss: 0.4108 - f1: 0.8822 - rec@prec: 0.9257 - val_loss: 1.0496 - val_f1: 0.7430 - val_rec@prec: 0.6758\n"
     ]
    },
    {
     "data": {
      "text/plain": [
       "<tensorflow.python.keras.callbacks.History at 0x7f02bc6b24a8>"
      ]
     },
     "execution_count": 58,
     "metadata": {},
     "output_type": "execute_result"
    }
   ],
   "source": [
    "model.fit(X_train, y_train, \n",
    "          validation_data=(X_valid, y_valid),\n",
    "          batch_size=2000,\n",
    "         epochs=10)"
   ]
  },
  {
   "cell_type": "code",
   "execution_count": 59,
   "metadata": {},
   "outputs": [
    {
     "name": "stdout",
     "output_type": "stream",
     "text": [
      "dict_keys(['loss', 'f1', 'rec@prec', 'val_loss', 'val_f1', 'val_rec@prec'])\n"
     ]
    },
    {
     "data": {
      "image/png": "[encoded data removed]",
      "text/plain": [
       "<Figure size 432x288 with 1 Axes>"
      ]
     },
     "metadata": {
      "needs_background": "light"
     },
     "output_type": "display_data"
    }
   ],
   "source": [
    "print(model.history.history.keys())\n",
    "# summarize history for accuracy\n",
    "plt.plot(model.history.history['f1'])\n",
    "plt.plot(model.history.history['val_f1'])\n",
    "plt.title('model f1')\n",
    "plt.ylabel('f1')\n",
    "plt.xlabel('epoch')\n",
    "plt.legend(['train', 'val'], loc='upper left')\n",
    "plt.show()"
   ]
  },
  {
   "cell_type": "markdown",
   "metadata": {},
   "source": [
    "# Sequence labelling"
   ]
  },
  {
   "cell_type": "markdown",
   "metadata": {},
   "source": [
    "На выходе из рекурректной сети мы получается по вектору на каждый элемент последовательности (состояние или hidden state). Мы можем использовать только последний, если нам нужно просто классифицировать весь текст (на последнем состоянии по идее должна была накопиться информация о все последовательности).\n",
    "\n",
    "Кроме этого, мы можем классифицировать каждый элемент последовательности. Это называется sequence labelling (разметка последовательности). Под этот паттерн попадает предсказание части речи, определение именованных сущностей, определение опечаток и т.п.\n",
    "\n",
    "Давайте попробуем предсказывать части речи."
   ]
  },
  {
   "cell_type": "markdown",
   "metadata": {},
   "source": [
    "Возьмем данные opencorpora"
   ]
  },
  {
   "cell_type": "code",
   "execution_count": 60,
   "metadata": {
    "colab": {
     "base_uri": "https://localhost:8080/",
     "height": 224
    },
    "colab_type": "code",
    "id": "M0V-1lxg50NF",
    "outputId": "90e5c19e-d7d4-40bf-fb51-285d80faea9a"
   },
   "outputs": [
    {
     "name": "stdout",
     "output_type": "stream",
     "text": [
      "  % Total    % Received % Xferd  Average Speed   Time    Time     Time  Current\n",
      "                                 Dload  Upload   Total   Spent    Left  Speed\n",
      "100 6972k  100 6972k    0     0  13.1M      0 --:--:-- --:--:-- --:--:-- 13.1M\n"
     ]
    }
   ],
   "source": [
    "!curl http://opencorpora.org/files/export/annot/annot.opcorpora.no_ambig.nonmod.xml.zip --output corpus.xml"
   ]
  },
  {
   "cell_type": "code",
   "execution_count": 61,
   "metadata": {},
   "outputs": [],
   "source": [
    "# http://opencorpora.org/files/export/annot/annot.opcorpora.xml.zip\n"
   ]
  },
  {
   "cell_type": "code",
   "execution_count": 62,
   "metadata": {
    "colab": {
     "base_uri": "https://localhost:8080/",
     "height": 51
    },
    "colab_type": "code",
    "id": "JHLr7nmv-F3c",
    "outputId": "8ea35612-0630-47d9-b28e-fa77a532c558"
   },
   "outputs": [
    {
     "name": "stdout",
     "output_type": "stream",
     "text": [
      "Archive:  corpus.xml\n",
      "  inflating: annot.opcorpora.no_ambig.nonmod.xml  \n"
     ]
    }
   ],
   "source": [
    "!unzip corpus.xml"
   ]
  },
  {
   "cell_type": "code",
   "execution_count": 63,
   "metadata": {},
   "outputs": [
    {
     "name": "stdout",
     "output_type": "stream",
     "text": [
      "Collecting lxml\n",
      "  Downloading lxml-4.6.3-cp36-cp36m-manylinux2014_x86_64.whl (6.3 MB)\n",
      "\u001b[K     |████████████████████████████████| 6.3 MB 9.3 MB/s eta 0:00:01     |█████████▌                      | 1.9 MB 9.3 MB/s eta 0:00:01\n",
      "\u001b[?25hInstalling collected packages: lxml\n",
      "Successfully installed lxml-4.6.3\n",
      "\u001b[33mWARNING: You are using pip version 20.2.4; however, version 21.1.1 is available.\n",
      "You should consider upgrading via the '/usr/bin/python3 -m pip install --upgrade pip' command.\u001b[0m\n"
     ]
    }
   ],
   "source": [
    "!pip install lxml"
   ]
  },
  {
   "cell_type": "code",
   "execution_count": 65,
   "metadata": {
    "colab": {},
    "colab_type": "code",
    "id": "dh8OpwE5-F6h"
   },
   "outputs": [],
   "source": [
    "from lxml import etree\n",
    "from collections import defaultdict"
   ]
  },
  {
   "cell_type": "code",
   "execution_count": 66,
   "metadata": {
    "colab": {},
    "colab_type": "code",
    "id": "GCuVu_w9-bC2"
   },
   "outputs": [],
   "source": [
    "open_corpora = etree.fromstring(open('annot.opcorpora.no_ambig.nonmod.xml', 'rb').read())"
   ]
  },
  {
   "cell_type": "markdown",
   "metadata": {
    "colab_type": "text",
    "id": "KAi-Sq0A9num"
   },
   "source": [
    "Преобразуем в более удобный формат."
   ]
  },
  {
   "cell_type": "code",
   "execution_count": 67,
   "metadata": {
    "colab": {},
    "colab_type": "code",
    "id": "PWp7bYeD-bEg"
   },
   "outputs": [],
   "source": [
    "sents = []\n",
    "labels = []\n",
    "\n",
    "\n",
    "for sentence in open_corpora.xpath('//tokens'):\n",
    "    length = len(sentence.xpath('token'))\n",
    "    ended = False\n",
    "    sent = []\n",
    "    label = []\n",
    "    for i,token in enumerate(sentence.xpath('token')):\n",
    "        word = token.xpath('@text')\n",
    "        gram_info = token.xpath('tfr/v/l/g/@v')\n",
    "        \n",
    "        if (i+1)==length and gram_info[0] == 'PNCT':\n",
    "            gram_info = ['SENT']\n",
    "            ended = True\n",
    "        \n",
    "            \n",
    "        sent.append(word[0])\n",
    "        label.append(gram_info[0])\n",
    "    sents.append(sent)\n",
    "    labels.append(label)\n",
    "\n",
    "        "
   ]
  },
  {
   "cell_type": "markdown",
   "metadata": {},
   "source": [
    "Пример данных"
   ]
  },
  {
   "cell_type": "code",
   "execution_count": 68,
   "metadata": {},
   "outputs": [
    {
     "data": {
      "text/plain": [
       "[('«', 'PNCT'),\n",
       " ('Школа', 'NOUN'),\n",
       " ('злословия', 'NOUN'),\n",
       " ('»', 'PNCT'),\n",
       " ('учит', 'VERB'),\n",
       " ('прикусить', 'INFN'),\n",
       " ('язык', 'NOUN')]"
      ]
     },
     "execution_count": 68,
     "metadata": {},
     "output_type": "execute_result"
    }
   ],
   "source": [
    "list(zip(sents[0], labels[0]))"
   ]
  },
  {
   "cell_type": "code",
   "execution_count": 69,
   "metadata": {},
   "outputs": [],
   "source": [
    "# словарь\n",
    "vocab = Counter()\n",
    "\n",
    "for sent in sents:\n",
    "    vocab.update([x.lower() for x in sent])"
   ]
  },
  {
   "cell_type": "code",
   "execution_count": 70,
   "metadata": {
    "scrolled": true
   },
   "outputs": [
    {
     "data": {
      "text/plain": [
       "54634"
      ]
     },
     "execution_count": 70,
     "metadata": {},
     "output_type": "execute_result"
    }
   ],
   "source": [
    "# тут словарь не очень большой и тут нужно предсказывать нужно часть речи для всего\n",
    "# поэтому не будем фильтровать словарь\n",
    "len(vocab)"
   ]
  },
  {
   "cell_type": "code",
   "execution_count": 71,
   "metadata": {},
   "outputs": [],
   "source": [
    "# индексируем слова\n",
    "word2id = {'PAD':0}\n",
    "\n",
    "for word in vocab:\n",
    "    word2id[word] = len(word2id)"
   ]
  },
  {
   "cell_type": "code",
   "execution_count": 72,
   "metadata": {},
   "outputs": [],
   "source": [
    "id2word = {i:word for word, i in word2id.items()}"
   ]
  },
  {
   "cell_type": "code",
   "execution_count": 73,
   "metadata": {},
   "outputs": [],
   "source": [
    "# переводим тексты в последовательности индексов\n",
    "X = []\n",
    "\n",
    "for sent in sents:\n",
    "    tokens = [w.lower() for w in sent]\n",
    "    ids = [word2id.get(token, 1) for token in tokens]\n",
    "    X.append(ids)"
   ]
  },
  {
   "cell_type": "code",
   "execution_count": 74,
   "metadata": {},
   "outputs": [],
   "source": [
    "MAX_LEN = max(len(x) for x in X)\n",
    "\n",
    "# паддинг\n",
    "X = tf.keras.preprocessing.sequence.pad_sequences(X, maxlen=MAX_LEN, padding='post')"
   ]
  },
  {
   "cell_type": "code",
   "execution_count": null,
   "metadata": {},
   "outputs": [],
   "source": []
  },
  {
   "cell_type": "markdown",
   "metadata": {},
   "source": [
    "Для частей речей нужно сделать то же самое."
   ]
  },
  {
   "cell_type": "code",
   "execution_count": 102,
   "metadata": {},
   "outputs": [],
   "source": [
    "\n",
    "\n",
    "tags = set()\n",
    "for seq in labels:\n",
    "    tags.update(seq)\n",
    "\n",
    "label2id = {'PAD':0}\n",
    "for tag in tags:\n",
    "    label2id[tag] = len(label2id)\n",
    "\n",
    "    \n",
    "id2label = {i:l for l, i in label2id.items()}\n",
    "tags = [id2label[i] for i in range(len(label2id))]"
   ]
  },
  {
   "cell_type": "code",
   "execution_count": 103,
   "metadata": {},
   "outputs": [],
   "source": [
    "y = []\n",
    "\n",
    "for seq in labels:\n",
    "    \n",
    "    ids = [label2id[label] for label in seq]\n",
    "    y.append(ids)\n",
    "    \n",
    "y = tf.keras.preprocessing.sequence.pad_sequences(y, maxlen=MAX_LEN,  padding='post')"
   ]
  },
  {
   "cell_type": "code",
   "execution_count": 104,
   "metadata": {},
   "outputs": [],
   "source": [
    "X_train, X_valid, y_train, y_valid = train_test_split(X, tf.keras.utils.to_categorical(y), test_size=0.05)"
   ]
  },
  {
   "cell_type": "markdown",
   "metadata": {},
   "source": [
    "Еще y нужно пронать через ohe "
   ]
  },
  {
   "cell_type": "code",
   "execution_count": 105,
   "metadata": {},
   "outputs": [
    {
     "data": {
      "text/plain": [
       "((24704, 230), (24704, 230, 30))"
      ]
     },
     "execution_count": 105,
     "metadata": {},
     "output_type": "execute_result"
    }
   ],
   "source": [
    "X_train.shape, y_train.shape"
   ]
  },
  {
   "cell_type": "code",
   "execution_count": 107,
   "metadata": {},
   "outputs": [],
   "source": [
    "inputs = tf.keras.layers.Input(shape=(MAX_LEN,))\n",
    "embeddings = tf.keras.layers.Embedding(input_dim=len(word2id), output_dim=30)(inputs, )\n",
    "\n",
    "lstm_1 = tf.keras.layers.Bidirectional(tf.keras.layers.LSTM(128, return_sequences=True))(embeddings)\n",
    "\n",
    "# чтобы классификация применялась к каждому стейту оборачиваем в TimeDistributed\n",
    "# это как написать цикл и к каждому шагу применить Dense\n",
    "outputs = tf.keras.layers.TimeDistributed(tf.keras.layers.Dense(len(label2id), activation='softmax'))(lstm_1)\n",
    "\n",
    "model = tf.keras.Model(inputs=inputs, outputs=outputs)\n",
    "model.compile(optimizer='rmsprop',\n",
    "              loss='categorical_crossentropy')\n"
   ]
  },
  {
   "cell_type": "code",
   "execution_count": 108,
   "metadata": {},
   "outputs": [
    {
     "name": "stdout",
     "output_type": "stream",
     "text": [
      "Epoch 1/5\n",
      "193/193 [==============================] - 20s 88ms/step - loss: 0.4062 - val_loss: 0.0945\n",
      "Epoch 2/5\n",
      "193/193 [==============================] - 16s 82ms/step - loss: 0.0845 - val_loss: 0.0460\n",
      "Epoch 3/5\n",
      "193/193 [==============================] - 16s 83ms/step - loss: 0.0383 - val_loss: 0.0264\n",
      "Epoch 4/5\n",
      "193/193 [==============================] - 16s 83ms/step - loss: 0.0209 - val_loss: 0.0193\n",
      "Epoch 5/5\n",
      "193/193 [==============================] - 16s 82ms/step - loss: 0.0130 - val_loss: 0.0170\n"
     ]
    },
    {
     "data": {
      "text/plain": [
       "<tensorflow.python.keras.callbacks.History at 0x7f059be39518>"
      ]
     },
     "execution_count": 108,
     "metadata": {},
     "output_type": "execute_result"
    }
   ],
   "source": [
    "model.fit(X_train, y_train, \n",
    "          validation_data=(X_valid, y_valid),\n",
    "          batch_size=128,\n",
    "         epochs=5)"
   ]
  },
  {
   "cell_type": "markdown",
   "metadata": {},
   "source": [
    "Оценивать предсказания последовательностей нужно отдельно. Лучше конечно еще оценивать правильность всей последовательности, но пока сделаем только поэлементную оценку."
   ]
  },
  {
   "cell_type": "code",
   "execution_count": 112,
   "metadata": {},
   "outputs": [],
   "source": [
    "from sklearn.metrics import classification_report"
   ]
  },
  {
   "cell_type": "code",
   "execution_count": 113,
   "metadata": {},
   "outputs": [],
   "source": [
    "pred = model.predict(X_valid).argmax(2)"
   ]
  },
  {
   "cell_type": "code",
   "execution_count": 114,
   "metadata": {},
   "outputs": [
    {
     "data": {
      "text/plain": [
       "array([[23, 21, 25, ...,  0,  0,  0],\n",
       "       [25, 23, 20, ...,  0,  0,  0],\n",
       "       [25, 25,  0, ...,  0,  0,  0],\n",
       "       ...,\n",
       "       [25, 27, 17, ...,  0,  0,  0],\n",
       "       [ 7, 25, 25, ...,  0,  0,  0],\n",
       "       [25,  7,  5, ...,  0,  0,  0]])"
      ]
     },
     "execution_count": 114,
     "metadata": {},
     "output_type": "execute_result"
    }
   ],
   "source": [
    "pred"
   ]
  },
  {
   "cell_type": "code",
   "execution_count": 124,
   "metadata": {},
   "outputs": [
    {
     "name": "stdout",
     "output_type": "stream",
     "text": [
      "              precision    recall  f1-score   support\n",
      "\n",
      "         PAD       1.00      1.00      1.00    286638\n",
      "        HANI       0.00      0.00      0.00         3\n",
      "        ADVB       0.83      0.85      0.84       261\n",
      "        ADJF       0.82      0.81      0.81      1171\n",
      "        PRTF       0.27      0.28      0.27        65\n",
      "        NPRO       0.97      0.95      0.96       299\n",
      "        GREK       0.00      0.00      0.00         7\n",
      "        PREP       1.00      0.99      1.00      1201\n",
      "        Prnt       0.00      0.00      0.00         0\n",
      "        PRTS       0.88      0.45      0.60        77\n",
      "        PRCL       0.94      0.94      0.94       207\n",
      "        GRND       0.33      0.03      0.05        35\n",
      "        DATE       0.00      0.00      0.00         1\n",
      "        INFN       0.61      0.65      0.63       205\n",
      "        TIME       0.00      0.00      0.00         1\n",
      "        COMP       1.00      0.19      0.32        26\n",
      "        ROMN       1.00      0.50      0.67        12\n",
      "        SENT       1.00      1.00      1.00      1120\n",
      "        ADJS       1.00      0.19      0.32        68\n",
      "        SYMB       1.00      0.67      0.80        27\n",
      "        UNKN       0.30      0.39      0.34       324\n",
      "        VERB       0.76      0.84      0.80       978\n",
      "        CONJ       0.98      0.95      0.96       489\n",
      "        PNCT       1.00      1.00      1.00      1476\n",
      "        PRED       0.93      0.96      0.95        27\n",
      "        NOUN       0.88      0.92      0.90      3841\n",
      "        INTJ       1.00      0.40      0.57        20\n",
      "        NUMB       0.94      0.83      0.88       328\n",
      "        LATN       0.84      0.54      0.66       292\n",
      "        NUMR       0.92      0.39      0.55        31\n",
      "\n",
      "   micro avg       0.99      0.99      0.99    299230\n",
      "   macro avg       0.71      0.56      0.59    299230\n",
      "weighted avg       1.00      0.99      0.99    299230\n",
      "\n"
     ]
    }
   ],
   "source": [
    "print(classification_report(y_valid.argmax(2).reshape(-1), pred.reshape(-1), labels=list(range(30)),\n",
    "                                                                             target_names=tags,\n",
    "                                                                             zero_division=0))"
   ]
  },
  {
   "cell_type": "markdown",
   "metadata": {},
   "source": [
    "# Предсказание/Inference"
   ]
  },
  {
   "cell_type": "markdown",
   "metadata": {},
   "source": [
    "После оценки часто хочется посмотреть как будет работать модель на каких-то отдельных примерах. Для этого нужно воспрозвести весь пайплайн и прогонять через него нужный текст."
   ]
  },
  {
   "cell_type": "code",
   "execution_count": 129,
   "metadata": {},
   "outputs": [],
   "source": [
    "import re\n",
    "\n",
    "def tokenize(text, word2id):\n",
    "    # токенизирует и переводит в индексы\n",
    "    tokens = re.findall('\\w+|[^\\w\\s]+', text)\n",
    "    ids = [word2id.get(token.lower(), 0) for token in tokens]\n",
    "    return tokens, ids\n",
    "\n",
    "def pred2tags(pred, id2label, length):\n",
    "    # декодирует индексы в части речи\n",
    "    # length нужно чтобы откидывать паддинги или некорректные предсказания\n",
    "    pred = pred.argmax(2)[0, :length]\n",
    "    labels = [id2label[l] for l in pred]\n",
    "    return labels\n",
    "\n",
    "def label_seq(text, word2id, id2label, max_len, model):\n",
    "    tokens, ids = tokenize(text, word2id)\n",
    "    pred = model.predict(tf.keras.preprocessing.sequence.pad_sequences([ids], \n",
    "                                                                       maxlen=max_len, \n",
    "                                                                       padding='post'))\n",
    "    labels = pred2tags(pred, id2label, len(ids))\n",
    "    \n",
    "    return list(zip(tokens, labels))"
   ]
  },
  {
   "cell_type": "code",
   "execution_count": 130,
   "metadata": {},
   "outputs": [
    {
     "data": {
      "text/plain": [
       "[('Какой', 'ADJF'),\n",
       " ('-', 'PNCT'),\n",
       " ('то', 'CONJ'),\n",
       " ('новый', 'ADJF'),\n",
       " ('текст', 'NOUN'),\n",
       " ('для', 'PREP'),\n",
       " ('проверки', 'NOUN'),\n",
       " ('работы', 'NOUN'),\n",
       " ('.', 'SENT')]"
      ]
     },
     "execution_count": 130,
     "metadata": {},
     "output_type": "execute_result"
    }
   ],
   "source": [
    "label_seq('Какой-то новый текст для проверки работы.', word2id, id2label, MAX_LEN, model)"
   ]
  },
  {
   "cell_type": "code",
   "execution_count": null,
   "metadata": {},
   "outputs": [],
   "source": []
  }
 ],
 "metadata": {
  "kernelspec": {
   "display_name": "Python 3",
   "language": "python",
   "name": "python3"
  },
  "language_info": {
   "codemirror_mode": {
    "name": "ipython",
    "version": 3
   },
   "file_extension": ".py",
   "mimetype": "text/x-python",
   "name": "python",
   "nbconvert_exporter": "python",
   "pygments_lexer": "ipython3",
   "version": "3.6.9"
  }
 },
 "nbformat": 4,
 "nbformat_minor": 4
}
